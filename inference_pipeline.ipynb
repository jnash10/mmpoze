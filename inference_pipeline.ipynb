{
 "cells": [
  {
   "cell_type": "code",
   "execution_count": 1,
   "metadata": {},
   "outputs": [],
   "source": [
    "import cv2\n",
    "from mmpose.apis import MMPoseInferencer\n",
    "import pandas as pd\n",
    "import matplotlib.pyplot as plt\n",
    "import numpy as np\n",
    "import plotly.graph_objects as go"
   ]
  },
  {
   "cell_type": "code",
   "execution_count": 2,
   "metadata": {},
   "outputs": [
    {
     "name": "stdout",
     "output_type": "stream",
     "text": [
      "Loads checkpoint by http backend from path: https://download.openmmlab.com/mmpose/v1/body_3d_keypoint/pose_lift/h36m/motionbert_ft_h36m-d80af323_20230531.pth\n",
      "01/09 18:03:24 - mmengine - \u001b[5m\u001b[4m\u001b[33mWARNING\u001b[0m - Failed to search registry with scope \"mmpose\" in the \"function\" registry tree. As a workaround, the current \"function\" registry in \"mmengine\" is used to build instance. This may cause unexpected failure when running the built modules. Please check whether \"mmpose\" is a correct scope, or whether the registry is initialized.\n",
      "Loads checkpoint by http backend from path: https://download.openmmlab.com/mmpose/v1/projects/rtmposev1/rtmpose-m_simcc-body7_pt-body7_420e-256x192-e48f03d0_20230504.pth\n",
      "Loads checkpoint by http backend from path: https://download.openmmlab.com/mmpose/v1/projects/rtmposev1/rtmdet_m_8xb32-100e_coco-obj365-person-235e8209.pth\n",
      "01/09 18:03:25 - mmengine - \u001b[5m\u001b[4m\u001b[33mWARNING\u001b[0m - Failed to search registry with scope \"mmdet\" in the \"function\" registry tree. As a workaround, the current \"function\" registry in \"mmengine\" is used to build instance. This may cause unexpected failure when running the built modules. Please check whether \"mmdet\" is a correct scope, or whether the registry is initialized.\n"
     ]
    },
    {
     "name": "stderr",
     "output_type": "stream",
     "text": [
      "/home/shaunthesheep/anaconda3/envs/mmpose/lib/python3.10/site-packages/torch/functional.py:504: UserWarning: torch.meshgrid: in an upcoming release, it will be required to pass the indexing argument. (Triggered internally at /opt/conda/conda-bld/pytorch_1702400200538/work/aten/src/ATen/native/TensorShape.cpp:3526.)\n",
      "  return _VF.meshgrid(tensors, **kwargs)  # type: ignore[attr-defined]\n"
     ]
    },
    {
     "name": "stdout",
     "output_type": "stream",
     "text": [
      "01/09 18:03:25 - mmengine - \u001b[4m\u001b[97mINFO\u001b[0m - the output image has been saved at predictions/visualizations/steve.jpg\n"
     ]
    }
   ],
   "source": [
    "# build the inferencer with 3d model alias\n",
    "inferencer = MMPoseInferencer(pose3d=\"human3d\")\n",
    "\n",
    "img_path = \"steve.jpg\"\n",
    "\n",
    "result_generator = inferencer(img_path, out_dir=\"predictions\")\n",
    "result = next(result_generator)\n",
    "\n"
   ]
  },
  {
   "cell_type": "code",
   "execution_count": 3,
   "metadata": {},
   "outputs": [],
   "source": [
    "points = np.array(result['predictions'][0][0]['keypoints'])"
   ]
  },
  {
   "cell_type": "code",
   "execution_count": 42,
   "metadata": {},
   "outputs": [
    {
     "data": {
      "text/plain": [
       "[[-0.0, 0.0, 0.5945200324058533],\n",
       " [-0.09653881937265396, -0.10489518940448761, 0.6183314323425293],\n",
       " [-0.28601977229118347, 0.2887641489505768, 0.34015199542045593],\n",
       " [0.012841308489441872, -0.018466230481863022, 0.0],\n",
       " [0.09614648669958115, 0.10300170630216599, 0.5683420300483704],\n",
       " [-0.010804443620145321, 0.48717013001441956, 0.398555189371109],\n",
       " [0.06678662449121475, 0.4773820638656616, 0.0431172251701355],\n",
       " [0.17250806093215942, -0.060421861708164215, 0.8122292757034302],\n",
       " [0.347349613904953, -0.1685224324464798, 1.0317211151123047],\n",
       " [0.2839680314064026, -0.10248693823814392, 1.2149009704589844],\n",
       " [0.30861353874206543, -0.22477194666862488, 1.2453720569610596],\n",
       " [0.4995904564857483, -0.041900575160980225, 1.0127899646759033],\n",
       " [0.3580944836139679, 0.18112318217754364, 1.174966812133789],\n",
       " [0.24327197670936584, 0.04366384819149971, 1.3300856351852417],\n",
       " [0.1752617210149765, -0.21062736213207245, 1.0487459897994995],\n",
       " [-0.0390009768307209, 0.010913022793829441, 1.0431119203567505],\n",
       " [0.0569755844771862, 0.06442003697156906, 1.2705779075622559]]"
      ]
     },
     "execution_count": 42,
     "metadata": {},
     "output_type": "execute_result"
    }
   ],
   "source": [
    "for ix, point in result['predictions'][0][0]['keypoints']:\n",
    "    "
   ]
  },
  {
   "cell_type": "code",
   "execution_count": 4,
   "metadata": {},
   "outputs": [
    {
     "data": {
      "text/plain": [
       "(17, 3)"
      ]
     },
     "execution_count": 4,
     "metadata": {},
     "output_type": "execute_result"
    }
   ],
   "source": [
    "points.shape"
   ]
  },
  {
   "cell_type": "code",
   "execution_count": 44,
   "metadata": {},
   "outputs": [
    {
     "data": {
      "application/vnd.plotly.v1+json": {
       "config": {
        "plotlyServerURL": "https://plot.ly"
       },
       "data": [
        {
         "mode": "markers",
         "type": "scatter3d",
         "x": [
          0,
          -0.09653881937265396,
          -0.28601977229118347,
          0.012841308489441872,
          0.09614648669958115,
          -0.010804443620145321,
          0.06678662449121475,
          0.17250806093215942,
          0.347349613904953,
          0.2839680314064026,
          0.30861353874206543,
          0.4995904564857483,
          0.3580944836139679,
          0.24327197670936584,
          0.1752617210149765,
          -0.0390009768307209,
          0.0569755844771862
         ],
         "y": [
          0,
          -0.10489518940448761,
          0.2887641489505768,
          -0.018466230481863022,
          0.10300170630216599,
          0.48717013001441956,
          0.4773820638656616,
          -0.060421861708164215,
          -0.1685224324464798,
          -0.10248693823814392,
          -0.22477194666862488,
          -0.041900575160980225,
          0.18112318217754364,
          0.04366384819149971,
          -0.21062736213207245,
          0.010913022793829441,
          0.06442003697156906
         ],
         "z": [
          0.5945200324058533,
          0.6183314323425293,
          0.34015199542045593,
          0,
          0.5683420300483704,
          0.398555189371109,
          0.0431172251701355,
          0.8122292757034302,
          1.0317211151123047,
          1.2149009704589844,
          1.2453720569610596,
          1.0127899646759033,
          1.174966812133789,
          1.3300856351852417,
          1.0487459897994995,
          1.0431119203567505,
          1.2705779075622559
         ]
        }
       ],
       "layout": {
        "template": {
         "data": {
          "bar": [
           {
            "error_x": {
             "color": "#2a3f5f"
            },
            "error_y": {
             "color": "#2a3f5f"
            },
            "marker": {
             "line": {
              "color": "#E5ECF6",
              "width": 0.5
             },
             "pattern": {
              "fillmode": "overlay",
              "size": 10,
              "solidity": 0.2
             }
            },
            "type": "bar"
           }
          ],
          "barpolar": [
           {
            "marker": {
             "line": {
              "color": "#E5ECF6",
              "width": 0.5
             },
             "pattern": {
              "fillmode": "overlay",
              "size": 10,
              "solidity": 0.2
             }
            },
            "type": "barpolar"
           }
          ],
          "carpet": [
           {
            "aaxis": {
             "endlinecolor": "#2a3f5f",
             "gridcolor": "white",
             "linecolor": "white",
             "minorgridcolor": "white",
             "startlinecolor": "#2a3f5f"
            },
            "baxis": {
             "endlinecolor": "#2a3f5f",
             "gridcolor": "white",
             "linecolor": "white",
             "minorgridcolor": "white",
             "startlinecolor": "#2a3f5f"
            },
            "type": "carpet"
           }
          ],
          "choropleth": [
           {
            "colorbar": {
             "outlinewidth": 0,
             "ticks": ""
            },
            "type": "choropleth"
           }
          ],
          "contour": [
           {
            "colorbar": {
             "outlinewidth": 0,
             "ticks": ""
            },
            "colorscale": [
             [
              0,
              "#0d0887"
             ],
             [
              0.1111111111111111,
              "#46039f"
             ],
             [
              0.2222222222222222,
              "#7201a8"
             ],
             [
              0.3333333333333333,
              "#9c179e"
             ],
             [
              0.4444444444444444,
              "#bd3786"
             ],
             [
              0.5555555555555556,
              "#d8576b"
             ],
             [
              0.6666666666666666,
              "#ed7953"
             ],
             [
              0.7777777777777778,
              "#fb9f3a"
             ],
             [
              0.8888888888888888,
              "#fdca26"
             ],
             [
              1,
              "#f0f921"
             ]
            ],
            "type": "contour"
           }
          ],
          "contourcarpet": [
           {
            "colorbar": {
             "outlinewidth": 0,
             "ticks": ""
            },
            "type": "contourcarpet"
           }
          ],
          "heatmap": [
           {
            "colorbar": {
             "outlinewidth": 0,
             "ticks": ""
            },
            "colorscale": [
             [
              0,
              "#0d0887"
             ],
             [
              0.1111111111111111,
              "#46039f"
             ],
             [
              0.2222222222222222,
              "#7201a8"
             ],
             [
              0.3333333333333333,
              "#9c179e"
             ],
             [
              0.4444444444444444,
              "#bd3786"
             ],
             [
              0.5555555555555556,
              "#d8576b"
             ],
             [
              0.6666666666666666,
              "#ed7953"
             ],
             [
              0.7777777777777778,
              "#fb9f3a"
             ],
             [
              0.8888888888888888,
              "#fdca26"
             ],
             [
              1,
              "#f0f921"
             ]
            ],
            "type": "heatmap"
           }
          ],
          "heatmapgl": [
           {
            "colorbar": {
             "outlinewidth": 0,
             "ticks": ""
            },
            "colorscale": [
             [
              0,
              "#0d0887"
             ],
             [
              0.1111111111111111,
              "#46039f"
             ],
             [
              0.2222222222222222,
              "#7201a8"
             ],
             [
              0.3333333333333333,
              "#9c179e"
             ],
             [
              0.4444444444444444,
              "#bd3786"
             ],
             [
              0.5555555555555556,
              "#d8576b"
             ],
             [
              0.6666666666666666,
              "#ed7953"
             ],
             [
              0.7777777777777778,
              "#fb9f3a"
             ],
             [
              0.8888888888888888,
              "#fdca26"
             ],
             [
              1,
              "#f0f921"
             ]
            ],
            "type": "heatmapgl"
           }
          ],
          "histogram": [
           {
            "marker": {
             "pattern": {
              "fillmode": "overlay",
              "size": 10,
              "solidity": 0.2
             }
            },
            "type": "histogram"
           }
          ],
          "histogram2d": [
           {
            "colorbar": {
             "outlinewidth": 0,
             "ticks": ""
            },
            "colorscale": [
             [
              0,
              "#0d0887"
             ],
             [
              0.1111111111111111,
              "#46039f"
             ],
             [
              0.2222222222222222,
              "#7201a8"
             ],
             [
              0.3333333333333333,
              "#9c179e"
             ],
             [
              0.4444444444444444,
              "#bd3786"
             ],
             [
              0.5555555555555556,
              "#d8576b"
             ],
             [
              0.6666666666666666,
              "#ed7953"
             ],
             [
              0.7777777777777778,
              "#fb9f3a"
             ],
             [
              0.8888888888888888,
              "#fdca26"
             ],
             [
              1,
              "#f0f921"
             ]
            ],
            "type": "histogram2d"
           }
          ],
          "histogram2dcontour": [
           {
            "colorbar": {
             "outlinewidth": 0,
             "ticks": ""
            },
            "colorscale": [
             [
              0,
              "#0d0887"
             ],
             [
              0.1111111111111111,
              "#46039f"
             ],
             [
              0.2222222222222222,
              "#7201a8"
             ],
             [
              0.3333333333333333,
              "#9c179e"
             ],
             [
              0.4444444444444444,
              "#bd3786"
             ],
             [
              0.5555555555555556,
              "#d8576b"
             ],
             [
              0.6666666666666666,
              "#ed7953"
             ],
             [
              0.7777777777777778,
              "#fb9f3a"
             ],
             [
              0.8888888888888888,
              "#fdca26"
             ],
             [
              1,
              "#f0f921"
             ]
            ],
            "type": "histogram2dcontour"
           }
          ],
          "mesh3d": [
           {
            "colorbar": {
             "outlinewidth": 0,
             "ticks": ""
            },
            "type": "mesh3d"
           }
          ],
          "parcoords": [
           {
            "line": {
             "colorbar": {
              "outlinewidth": 0,
              "ticks": ""
             }
            },
            "type": "parcoords"
           }
          ],
          "pie": [
           {
            "automargin": true,
            "type": "pie"
           }
          ],
          "scatter": [
           {
            "fillpattern": {
             "fillmode": "overlay",
             "size": 10,
             "solidity": 0.2
            },
            "type": "scatter"
           }
          ],
          "scatter3d": [
           {
            "line": {
             "colorbar": {
              "outlinewidth": 0,
              "ticks": ""
             }
            },
            "marker": {
             "colorbar": {
              "outlinewidth": 0,
              "ticks": ""
             }
            },
            "type": "scatter3d"
           }
          ],
          "scattercarpet": [
           {
            "marker": {
             "colorbar": {
              "outlinewidth": 0,
              "ticks": ""
             }
            },
            "type": "scattercarpet"
           }
          ],
          "scattergeo": [
           {
            "marker": {
             "colorbar": {
              "outlinewidth": 0,
              "ticks": ""
             }
            },
            "type": "scattergeo"
           }
          ],
          "scattergl": [
           {
            "marker": {
             "colorbar": {
              "outlinewidth": 0,
              "ticks": ""
             }
            },
            "type": "scattergl"
           }
          ],
          "scattermapbox": [
           {
            "marker": {
             "colorbar": {
              "outlinewidth": 0,
              "ticks": ""
             }
            },
            "type": "scattermapbox"
           }
          ],
          "scatterpolar": [
           {
            "marker": {
             "colorbar": {
              "outlinewidth": 0,
              "ticks": ""
             }
            },
            "type": "scatterpolar"
           }
          ],
          "scatterpolargl": [
           {
            "marker": {
             "colorbar": {
              "outlinewidth": 0,
              "ticks": ""
             }
            },
            "type": "scatterpolargl"
           }
          ],
          "scatterternary": [
           {
            "marker": {
             "colorbar": {
              "outlinewidth": 0,
              "ticks": ""
             }
            },
            "type": "scatterternary"
           }
          ],
          "surface": [
           {
            "colorbar": {
             "outlinewidth": 0,
             "ticks": ""
            },
            "colorscale": [
             [
              0,
              "#0d0887"
             ],
             [
              0.1111111111111111,
              "#46039f"
             ],
             [
              0.2222222222222222,
              "#7201a8"
             ],
             [
              0.3333333333333333,
              "#9c179e"
             ],
             [
              0.4444444444444444,
              "#bd3786"
             ],
             [
              0.5555555555555556,
              "#d8576b"
             ],
             [
              0.6666666666666666,
              "#ed7953"
             ],
             [
              0.7777777777777778,
              "#fb9f3a"
             ],
             [
              0.8888888888888888,
              "#fdca26"
             ],
             [
              1,
              "#f0f921"
             ]
            ],
            "type": "surface"
           }
          ],
          "table": [
           {
            "cells": {
             "fill": {
              "color": "#EBF0F8"
             },
             "line": {
              "color": "white"
             }
            },
            "header": {
             "fill": {
              "color": "#C8D4E3"
             },
             "line": {
              "color": "white"
             }
            },
            "type": "table"
           }
          ]
         },
         "layout": {
          "annotationdefaults": {
           "arrowcolor": "#2a3f5f",
           "arrowhead": 0,
           "arrowwidth": 1
          },
          "autotypenumbers": "strict",
          "coloraxis": {
           "colorbar": {
            "outlinewidth": 0,
            "ticks": ""
           }
          },
          "colorscale": {
           "diverging": [
            [
             0,
             "#8e0152"
            ],
            [
             0.1,
             "#c51b7d"
            ],
            [
             0.2,
             "#de77ae"
            ],
            [
             0.3,
             "#f1b6da"
            ],
            [
             0.4,
             "#fde0ef"
            ],
            [
             0.5,
             "#f7f7f7"
            ],
            [
             0.6,
             "#e6f5d0"
            ],
            [
             0.7,
             "#b8e186"
            ],
            [
             0.8,
             "#7fbc41"
            ],
            [
             0.9,
             "#4d9221"
            ],
            [
             1,
             "#276419"
            ]
           ],
           "sequential": [
            [
             0,
             "#0d0887"
            ],
            [
             0.1111111111111111,
             "#46039f"
            ],
            [
             0.2222222222222222,
             "#7201a8"
            ],
            [
             0.3333333333333333,
             "#9c179e"
            ],
            [
             0.4444444444444444,
             "#bd3786"
            ],
            [
             0.5555555555555556,
             "#d8576b"
            ],
            [
             0.6666666666666666,
             "#ed7953"
            ],
            [
             0.7777777777777778,
             "#fb9f3a"
            ],
            [
             0.8888888888888888,
             "#fdca26"
            ],
            [
             1,
             "#f0f921"
            ]
           ],
           "sequentialminus": [
            [
             0,
             "#0d0887"
            ],
            [
             0.1111111111111111,
             "#46039f"
            ],
            [
             0.2222222222222222,
             "#7201a8"
            ],
            [
             0.3333333333333333,
             "#9c179e"
            ],
            [
             0.4444444444444444,
             "#bd3786"
            ],
            [
             0.5555555555555556,
             "#d8576b"
            ],
            [
             0.6666666666666666,
             "#ed7953"
            ],
            [
             0.7777777777777778,
             "#fb9f3a"
            ],
            [
             0.8888888888888888,
             "#fdca26"
            ],
            [
             1,
             "#f0f921"
            ]
           ]
          },
          "colorway": [
           "#636efa",
           "#EF553B",
           "#00cc96",
           "#ab63fa",
           "#FFA15A",
           "#19d3f3",
           "#FF6692",
           "#B6E880",
           "#FF97FF",
           "#FECB52"
          ],
          "font": {
           "color": "#2a3f5f"
          },
          "geo": {
           "bgcolor": "white",
           "lakecolor": "white",
           "landcolor": "#E5ECF6",
           "showlakes": true,
           "showland": true,
           "subunitcolor": "white"
          },
          "hoverlabel": {
           "align": "left"
          },
          "hovermode": "closest",
          "mapbox": {
           "style": "light"
          },
          "paper_bgcolor": "white",
          "plot_bgcolor": "#E5ECF6",
          "polar": {
           "angularaxis": {
            "gridcolor": "white",
            "linecolor": "white",
            "ticks": ""
           },
           "bgcolor": "#E5ECF6",
           "radialaxis": {
            "gridcolor": "white",
            "linecolor": "white",
            "ticks": ""
           }
          },
          "scene": {
           "xaxis": {
            "backgroundcolor": "#E5ECF6",
            "gridcolor": "white",
            "gridwidth": 2,
            "linecolor": "white",
            "showbackground": true,
            "ticks": "",
            "zerolinecolor": "white"
           },
           "yaxis": {
            "backgroundcolor": "#E5ECF6",
            "gridcolor": "white",
            "gridwidth": 2,
            "linecolor": "white",
            "showbackground": true,
            "ticks": "",
            "zerolinecolor": "white"
           },
           "zaxis": {
            "backgroundcolor": "#E5ECF6",
            "gridcolor": "white",
            "gridwidth": 2,
            "linecolor": "white",
            "showbackground": true,
            "ticks": "",
            "zerolinecolor": "white"
           }
          },
          "shapedefaults": {
           "line": {
            "color": "#2a3f5f"
           }
          },
          "ternary": {
           "aaxis": {
            "gridcolor": "white",
            "linecolor": "white",
            "ticks": ""
           },
           "baxis": {
            "gridcolor": "white",
            "linecolor": "white",
            "ticks": ""
           },
           "bgcolor": "#E5ECF6",
           "caxis": {
            "gridcolor": "white",
            "linecolor": "white",
            "ticks": ""
           }
          },
          "title": {
           "x": 0.05
          },
          "xaxis": {
           "automargin": true,
           "gridcolor": "white",
           "linecolor": "white",
           "ticks": "",
           "title": {
            "standoff": 15
           },
           "zerolinecolor": "white",
           "zerolinewidth": 2
          },
          "yaxis": {
           "automargin": true,
           "gridcolor": "white",
           "linecolor": "white",
           "ticks": "",
           "title": {
            "standoff": 15
           },
           "zerolinecolor": "white",
           "zerolinewidth": 2
          }
         }
        }
       }
      }
     },
     "metadata": {},
     "output_type": "display_data"
    }
   ],
   "source": [
    "#make a 3d point plot from given x,y,z coordinates\n",
    "\n",
    "\n",
    "# Define the coordinates\n",
    "x = points[:,0]\n",
    "y = points[:,1]\n",
    "z = points[:,2]\n",
    "\n",
    "# Create a 3D scatter plot\n",
    "fig = go.Figure(data=[go.Scatter3d(x=x, y=y, z=z, mode='markers')])\n",
    "\n",
    "# Display the plot\n",
    "fig.show()\n"
   ]
  },
  {
   "cell_type": "code",
   "execution_count": 7,
   "metadata": {},
   "outputs": [],
   "source": [
    "from mmpose.datasets import wholebody3d"
   ]
  },
  {
   "cell_type": "code",
   "execution_count": 13,
   "metadata": {},
   "outputs": [],
   "source": [
    "from configs._base_.datasets.h36m import dataset_info"
   ]
  },
  {
   "cell_type": "code",
   "execution_count": 45,
   "metadata": {},
   "outputs": [
    {
     "data": {
      "text/plain": [
       "{0: {'link': ('root', 'left_hip'), 'id': 0, 'color': [0, 255, 0]},\n",
       " 1: {'link': ('left_hip', 'left_knee'), 'id': 1, 'color': [0, 255, 0]},\n",
       " 2: {'link': ('left_knee', 'left_foot'), 'id': 2, 'color': [0, 255, 0]},\n",
       " 3: {'link': ('root', 'right_hip'), 'id': 3, 'color': [255, 128, 0]},\n",
       " 4: {'link': ('right_hip', 'right_knee'), 'id': 4, 'color': [255, 128, 0]},\n",
       " 5: {'link': ('right_knee', 'right_foot'), 'id': 5, 'color': [255, 128, 0]},\n",
       " 6: {'link': ('root', 'spine'), 'id': 6, 'color': [51, 153, 255]},\n",
       " 7: {'link': ('spine', 'thorax'), 'id': 7, 'color': [51, 153, 255]},\n",
       " 8: {'link': ('thorax', 'neck_base'), 'id': 8, 'color': [51, 153, 255]},\n",
       " 9: {'link': ('neck_base', 'head'), 'id': 9, 'color': [51, 153, 255]},\n",
       " 10: {'link': ('thorax', 'left_shoulder'), 'id': 10, 'color': [0, 255, 0]},\n",
       " 11: {'link': ('left_shoulder', 'left_elbow'), 'id': 11, 'color': [0, 255, 0]},\n",
       " 12: {'link': ('left_elbow', 'left_wrist'), 'id': 12, 'color': [0, 255, 0]},\n",
       " 13: {'link': ('thorax', 'right_shoulder'), 'id': 13, 'color': [255, 128, 0]},\n",
       " 14: {'link': ('right_shoulder', 'right_elbow'),\n",
       "  'id': 14,\n",
       "  'color': [255, 128, 0]},\n",
       " 15: {'link': ('right_elbow', 'right_wrist'),\n",
       "  'id': 15,\n",
       "  'color': [255, 128, 0]}}"
      ]
     },
     "execution_count": 45,
     "metadata": {},
     "output_type": "execute_result"
    }
   ],
   "source": [
    "dataset_info['skeleton_info']"
   ]
  },
  {
   "cell_type": "code",
   "execution_count": 19,
   "metadata": {},
   "outputs": [],
   "source": [
    "keypoint_info = dataset_info['keypoint_info']\n",
    "\n",
    "skeleton_info = dataset_info['skeleton_info']\n",
    "\n"
   ]
  },
  {
   "cell_type": "code",
   "execution_count": 20,
   "metadata": {},
   "outputs": [],
   "source": [
    "from pydantic import BaseModel\n",
    "from typing import List, Tuple\n",
    "\n",
    "class Keypoint(BaseModel):\n",
    "    name: str\n",
    "    id: int\n",
    "    color: List[int]\n",
    "    type: str\n",
    "    swap: str\n",
    "\n",
    "class Skeleton(BaseModel):\n",
    "    link: Tuple[str, str]\n",
    "    id: int\n",
    "    color: List[int]\n",
    "\n",
    "# Convert the dictionaries to Pydantic models\n",
    "keypoint_models = {k: Keypoint(**v) for k, v in keypoint_info.items()}\n",
    "skeleton_models = {k: Skeleton(**v) for k, v in skeleton_info.items()}"
   ]
  },
  {
   "cell_type": "code",
   "execution_count": 26,
   "metadata": {},
   "outputs": [
    {
     "data": {
      "text/plain": [
       "{0: Skeleton(link=('root', 'left_hip'), id=0, color=[0, 255, 0]),\n",
       " 1: Skeleton(link=('left_hip', 'left_knee'), id=1, color=[0, 255, 0]),\n",
       " 2: Skeleton(link=('left_knee', 'left_foot'), id=2, color=[0, 255, 0]),\n",
       " 3: Skeleton(link=('root', 'right_hip'), id=3, color=[255, 128, 0]),\n",
       " 4: Skeleton(link=('right_hip', 'right_knee'), id=4, color=[255, 128, 0]),\n",
       " 5: Skeleton(link=('right_knee', 'right_foot'), id=5, color=[255, 128, 0]),\n",
       " 6: Skeleton(link=('root', 'spine'), id=6, color=[51, 153, 255]),\n",
       " 7: Skeleton(link=('spine', 'thorax'), id=7, color=[51, 153, 255]),\n",
       " 8: Skeleton(link=('thorax', 'neck_base'), id=8, color=[51, 153, 255]),\n",
       " 9: Skeleton(link=('neck_base', 'head'), id=9, color=[51, 153, 255]),\n",
       " 10: Skeleton(link=('thorax', 'left_shoulder'), id=10, color=[0, 255, 0]),\n",
       " 11: Skeleton(link=('left_shoulder', 'left_elbow'), id=11, color=[0, 255, 0]),\n",
       " 12: Skeleton(link=('left_elbow', 'left_wrist'), id=12, color=[0, 255, 0]),\n",
       " 13: Skeleton(link=('thorax', 'right_shoulder'), id=13, color=[255, 128, 0]),\n",
       " 14: Skeleton(link=('right_shoulder', 'right_elbow'), id=14, color=[255, 128, 0]),\n",
       " 15: Skeleton(link=('right_elbow', 'right_wrist'), id=15, color=[255, 128, 0])}"
      ]
     },
     "execution_count": 26,
     "metadata": {},
     "output_type": "execute_result"
    }
   ],
   "source": [
    "skeleton_models"
   ]
  },
  {
   "cell_type": "code",
   "execution_count": 52,
   "metadata": {},
   "outputs": [
    {
     "data": {
      "text/plain": [
       "'root'"
      ]
     },
     "execution_count": 52,
     "metadata": {},
     "output_type": "execute_result"
    }
   ],
   "source": [
    "keypoint_models[0].name"
   ]
  },
  {
   "cell_type": "code",
   "execution_count": 53,
   "metadata": {},
   "outputs": [
    {
     "data": {
      "text/plain": [
       "{'root': 0,\n",
       " 'right_hip': 1,\n",
       " 'right_knee': 2,\n",
       " 'right_foot': 3,\n",
       " 'left_hip': 4,\n",
       " 'left_knee': 5,\n",
       " 'left_foot': 6,\n",
       " 'spine': 7,\n",
       " 'thorax': 8,\n",
       " 'neck_base': 9,\n",
       " 'head': 10,\n",
       " 'left_shoulder': 11,\n",
       " 'left_elbow': 12,\n",
       " 'left_wrist': 13,\n",
       " 'right_shoulder': 14,\n",
       " 'right_elbow': 15,\n",
       " 'right_wrist': 16}"
      ]
     },
     "execution_count": 53,
     "metadata": {},
     "output_type": "execute_result"
    }
   ],
   "source": [
    "name2id = {}\n",
    "\n",
    "for kpt in keypoint_models:\n",
    "    kpt = keypoint_models[kpt]\n",
    "    name2id[kpt.name] = kpt.id\n",
    "    \n",
    "name2id"
   ]
  },
  {
   "cell_type": "code",
   "execution_count": 48,
   "metadata": {},
   "outputs": [
    {
     "data": {
      "text/plain": [
       "'root'"
      ]
     },
     "execution_count": 48,
     "metadata": {},
     "output_type": "execute_result"
    }
   ],
   "source": [
    "skeleton_models[0].link[0]"
   ]
  },
  {
   "cell_type": "code",
   "execution_count": 46,
   "metadata": {},
   "outputs": [],
   "source": [
    "connections = []"
   ]
  },
  {
   "cell_type": "code",
   "execution_count": 57,
   "metadata": {},
   "outputs": [],
   "source": [
    "for link in skeleton_models:\n",
    "    link = skeleton_models[link]\n",
    "    connection = [name2id[link.link[0]], name2id[link.link[1]]]\n",
    "    connections.append(connection)"
   ]
  },
  {
   "cell_type": "code",
   "execution_count": 58,
   "metadata": {},
   "outputs": [
    {
     "data": {
      "text/plain": [
       "[[0, 4],\n",
       " [4, 5],\n",
       " [5, 6],\n",
       " [0, 1],\n",
       " [1, 2],\n",
       " [2, 3],\n",
       " [0, 7],\n",
       " [7, 8],\n",
       " [8, 9],\n",
       " [9, 10],\n",
       " [8, 11],\n",
       " [11, 12],\n",
       " [12, 13],\n",
       " [8, 14],\n",
       " [14, 15],\n",
       " [15, 16]]"
      ]
     },
     "execution_count": 58,
     "metadata": {},
     "output_type": "execute_result"
    }
   ],
   "source": [
    "connections"
   ]
  },
  {
   "cell_type": "code",
   "execution_count": 60,
   "metadata": {},
   "outputs": [
    {
     "data": {
      "application/vnd.plotly.v1+json": {
       "config": {
        "plotlyServerURL": "https://plot.ly"
       },
       "data": [
        {
         "mode": "markers",
         "type": "scatter3d",
         "x": [
          0,
          -0.09653881937265396,
          -0.28601977229118347,
          0.012841308489441872,
          0.09614648669958115,
          -0.010804443620145321,
          0.06678662449121475,
          0.17250806093215942,
          0.347349613904953,
          0.2839680314064026,
          0.30861353874206543,
          0.4995904564857483,
          0.3580944836139679,
          0.24327197670936584,
          0.1752617210149765,
          -0.0390009768307209,
          0.0569755844771862
         ],
         "y": [
          0,
          -0.10489518940448761,
          0.2887641489505768,
          -0.018466230481863022,
          0.10300170630216599,
          0.48717013001441956,
          0.4773820638656616,
          -0.060421861708164215,
          -0.1685224324464798,
          -0.10248693823814392,
          -0.22477194666862488,
          -0.041900575160980225,
          0.18112318217754364,
          0.04366384819149971,
          -0.21062736213207245,
          0.010913022793829441,
          0.06442003697156906
         ],
         "z": [
          0.5945200324058533,
          0.6183314323425293,
          0.34015199542045593,
          0,
          0.5683420300483704,
          0.398555189371109,
          0.0431172251701355,
          0.8122292757034302,
          1.0317211151123047,
          1.2149009704589844,
          1.2453720569610596,
          1.0127899646759033,
          1.174966812133789,
          1.3300856351852417,
          1.0487459897994995,
          1.0431119203567505,
          1.2705779075622559
         ]
        },
        {
         "mode": "lines",
         "type": "scatter3d",
         "x": [
          0,
          0.09614648669958115
         ],
         "y": [
          0,
          0.10300170630216599
         ],
         "z": [
          0.5945200324058533,
          0.5683420300483704
         ]
        },
        {
         "mode": "lines",
         "type": "scatter3d",
         "x": [
          0.09614648669958115,
          -0.010804443620145321
         ],
         "y": [
          0.10300170630216599,
          0.48717013001441956
         ],
         "z": [
          0.5683420300483704,
          0.398555189371109
         ]
        },
        {
         "mode": "lines",
         "type": "scatter3d",
         "x": [
          -0.010804443620145321,
          0.06678662449121475
         ],
         "y": [
          0.48717013001441956,
          0.4773820638656616
         ],
         "z": [
          0.398555189371109,
          0.0431172251701355
         ]
        },
        {
         "mode": "lines",
         "type": "scatter3d",
         "x": [
          0,
          -0.09653881937265396
         ],
         "y": [
          0,
          -0.10489518940448761
         ],
         "z": [
          0.5945200324058533,
          0.6183314323425293
         ]
        },
        {
         "mode": "lines",
         "type": "scatter3d",
         "x": [
          -0.09653881937265396,
          -0.28601977229118347
         ],
         "y": [
          -0.10489518940448761,
          0.2887641489505768
         ],
         "z": [
          0.6183314323425293,
          0.34015199542045593
         ]
        },
        {
         "mode": "lines",
         "type": "scatter3d",
         "x": [
          -0.28601977229118347,
          0.012841308489441872
         ],
         "y": [
          0.2887641489505768,
          -0.018466230481863022
         ],
         "z": [
          0.34015199542045593,
          0
         ]
        },
        {
         "mode": "lines",
         "type": "scatter3d",
         "x": [
          0,
          0.17250806093215942
         ],
         "y": [
          0,
          -0.060421861708164215
         ],
         "z": [
          0.5945200324058533,
          0.8122292757034302
         ]
        },
        {
         "mode": "lines",
         "type": "scatter3d",
         "x": [
          0.17250806093215942,
          0.347349613904953
         ],
         "y": [
          -0.060421861708164215,
          -0.1685224324464798
         ],
         "z": [
          0.8122292757034302,
          1.0317211151123047
         ]
        },
        {
         "mode": "lines",
         "type": "scatter3d",
         "x": [
          0.347349613904953,
          0.2839680314064026
         ],
         "y": [
          -0.1685224324464798,
          -0.10248693823814392
         ],
         "z": [
          1.0317211151123047,
          1.2149009704589844
         ]
        },
        {
         "mode": "lines",
         "type": "scatter3d",
         "x": [
          0.2839680314064026,
          0.30861353874206543
         ],
         "y": [
          -0.10248693823814392,
          -0.22477194666862488
         ],
         "z": [
          1.2149009704589844,
          1.2453720569610596
         ]
        },
        {
         "mode": "lines",
         "type": "scatter3d",
         "x": [
          0.347349613904953,
          0.4995904564857483
         ],
         "y": [
          -0.1685224324464798,
          -0.041900575160980225
         ],
         "z": [
          1.0317211151123047,
          1.0127899646759033
         ]
        },
        {
         "mode": "lines",
         "type": "scatter3d",
         "x": [
          0.4995904564857483,
          0.3580944836139679
         ],
         "y": [
          -0.041900575160980225,
          0.18112318217754364
         ],
         "z": [
          1.0127899646759033,
          1.174966812133789
         ]
        },
        {
         "mode": "lines",
         "type": "scatter3d",
         "x": [
          0.3580944836139679,
          0.24327197670936584
         ],
         "y": [
          0.18112318217754364,
          0.04366384819149971
         ],
         "z": [
          1.174966812133789,
          1.3300856351852417
         ]
        },
        {
         "mode": "lines",
         "type": "scatter3d",
         "x": [
          0.347349613904953,
          0.1752617210149765
         ],
         "y": [
          -0.1685224324464798,
          -0.21062736213207245
         ],
         "z": [
          1.0317211151123047,
          1.0487459897994995
         ]
        },
        {
         "mode": "lines",
         "type": "scatter3d",
         "x": [
          0.1752617210149765,
          -0.0390009768307209
         ],
         "y": [
          -0.21062736213207245,
          0.010913022793829441
         ],
         "z": [
          1.0487459897994995,
          1.0431119203567505
         ]
        },
        {
         "mode": "lines",
         "type": "scatter3d",
         "x": [
          -0.0390009768307209,
          0.0569755844771862
         ],
         "y": [
          0.010913022793829441,
          0.06442003697156906
         ],
         "z": [
          1.0431119203567505,
          1.2705779075622559
         ]
        }
       ],
       "layout": {
        "template": {
         "data": {
          "bar": [
           {
            "error_x": {
             "color": "#2a3f5f"
            },
            "error_y": {
             "color": "#2a3f5f"
            },
            "marker": {
             "line": {
              "color": "#E5ECF6",
              "width": 0.5
             },
             "pattern": {
              "fillmode": "overlay",
              "size": 10,
              "solidity": 0.2
             }
            },
            "type": "bar"
           }
          ],
          "barpolar": [
           {
            "marker": {
             "line": {
              "color": "#E5ECF6",
              "width": 0.5
             },
             "pattern": {
              "fillmode": "overlay",
              "size": 10,
              "solidity": 0.2
             }
            },
            "type": "barpolar"
           }
          ],
          "carpet": [
           {
            "aaxis": {
             "endlinecolor": "#2a3f5f",
             "gridcolor": "white",
             "linecolor": "white",
             "minorgridcolor": "white",
             "startlinecolor": "#2a3f5f"
            },
            "baxis": {
             "endlinecolor": "#2a3f5f",
             "gridcolor": "white",
             "linecolor": "white",
             "minorgridcolor": "white",
             "startlinecolor": "#2a3f5f"
            },
            "type": "carpet"
           }
          ],
          "choropleth": [
           {
            "colorbar": {
             "outlinewidth": 0,
             "ticks": ""
            },
            "type": "choropleth"
           }
          ],
          "contour": [
           {
            "colorbar": {
             "outlinewidth": 0,
             "ticks": ""
            },
            "colorscale": [
             [
              0,
              "#0d0887"
             ],
             [
              0.1111111111111111,
              "#46039f"
             ],
             [
              0.2222222222222222,
              "#7201a8"
             ],
             [
              0.3333333333333333,
              "#9c179e"
             ],
             [
              0.4444444444444444,
              "#bd3786"
             ],
             [
              0.5555555555555556,
              "#d8576b"
             ],
             [
              0.6666666666666666,
              "#ed7953"
             ],
             [
              0.7777777777777778,
              "#fb9f3a"
             ],
             [
              0.8888888888888888,
              "#fdca26"
             ],
             [
              1,
              "#f0f921"
             ]
            ],
            "type": "contour"
           }
          ],
          "contourcarpet": [
           {
            "colorbar": {
             "outlinewidth": 0,
             "ticks": ""
            },
            "type": "contourcarpet"
           }
          ],
          "heatmap": [
           {
            "colorbar": {
             "outlinewidth": 0,
             "ticks": ""
            },
            "colorscale": [
             [
              0,
              "#0d0887"
             ],
             [
              0.1111111111111111,
              "#46039f"
             ],
             [
              0.2222222222222222,
              "#7201a8"
             ],
             [
              0.3333333333333333,
              "#9c179e"
             ],
             [
              0.4444444444444444,
              "#bd3786"
             ],
             [
              0.5555555555555556,
              "#d8576b"
             ],
             [
              0.6666666666666666,
              "#ed7953"
             ],
             [
              0.7777777777777778,
              "#fb9f3a"
             ],
             [
              0.8888888888888888,
              "#fdca26"
             ],
             [
              1,
              "#f0f921"
             ]
            ],
            "type": "heatmap"
           }
          ],
          "heatmapgl": [
           {
            "colorbar": {
             "outlinewidth": 0,
             "ticks": ""
            },
            "colorscale": [
             [
              0,
              "#0d0887"
             ],
             [
              0.1111111111111111,
              "#46039f"
             ],
             [
              0.2222222222222222,
              "#7201a8"
             ],
             [
              0.3333333333333333,
              "#9c179e"
             ],
             [
              0.4444444444444444,
              "#bd3786"
             ],
             [
              0.5555555555555556,
              "#d8576b"
             ],
             [
              0.6666666666666666,
              "#ed7953"
             ],
             [
              0.7777777777777778,
              "#fb9f3a"
             ],
             [
              0.8888888888888888,
              "#fdca26"
             ],
             [
              1,
              "#f0f921"
             ]
            ],
            "type": "heatmapgl"
           }
          ],
          "histogram": [
           {
            "marker": {
             "pattern": {
              "fillmode": "overlay",
              "size": 10,
              "solidity": 0.2
             }
            },
            "type": "histogram"
           }
          ],
          "histogram2d": [
           {
            "colorbar": {
             "outlinewidth": 0,
             "ticks": ""
            },
            "colorscale": [
             [
              0,
              "#0d0887"
             ],
             [
              0.1111111111111111,
              "#46039f"
             ],
             [
              0.2222222222222222,
              "#7201a8"
             ],
             [
              0.3333333333333333,
              "#9c179e"
             ],
             [
              0.4444444444444444,
              "#bd3786"
             ],
             [
              0.5555555555555556,
              "#d8576b"
             ],
             [
              0.6666666666666666,
              "#ed7953"
             ],
             [
              0.7777777777777778,
              "#fb9f3a"
             ],
             [
              0.8888888888888888,
              "#fdca26"
             ],
             [
              1,
              "#f0f921"
             ]
            ],
            "type": "histogram2d"
           }
          ],
          "histogram2dcontour": [
           {
            "colorbar": {
             "outlinewidth": 0,
             "ticks": ""
            },
            "colorscale": [
             [
              0,
              "#0d0887"
             ],
             [
              0.1111111111111111,
              "#46039f"
             ],
             [
              0.2222222222222222,
              "#7201a8"
             ],
             [
              0.3333333333333333,
              "#9c179e"
             ],
             [
              0.4444444444444444,
              "#bd3786"
             ],
             [
              0.5555555555555556,
              "#d8576b"
             ],
             [
              0.6666666666666666,
              "#ed7953"
             ],
             [
              0.7777777777777778,
              "#fb9f3a"
             ],
             [
              0.8888888888888888,
              "#fdca26"
             ],
             [
              1,
              "#f0f921"
             ]
            ],
            "type": "histogram2dcontour"
           }
          ],
          "mesh3d": [
           {
            "colorbar": {
             "outlinewidth": 0,
             "ticks": ""
            },
            "type": "mesh3d"
           }
          ],
          "parcoords": [
           {
            "line": {
             "colorbar": {
              "outlinewidth": 0,
              "ticks": ""
             }
            },
            "type": "parcoords"
           }
          ],
          "pie": [
           {
            "automargin": true,
            "type": "pie"
           }
          ],
          "scatter": [
           {
            "fillpattern": {
             "fillmode": "overlay",
             "size": 10,
             "solidity": 0.2
            },
            "type": "scatter"
           }
          ],
          "scatter3d": [
           {
            "line": {
             "colorbar": {
              "outlinewidth": 0,
              "ticks": ""
             }
            },
            "marker": {
             "colorbar": {
              "outlinewidth": 0,
              "ticks": ""
             }
            },
            "type": "scatter3d"
           }
          ],
          "scattercarpet": [
           {
            "marker": {
             "colorbar": {
              "outlinewidth": 0,
              "ticks": ""
             }
            },
            "type": "scattercarpet"
           }
          ],
          "scattergeo": [
           {
            "marker": {
             "colorbar": {
              "outlinewidth": 0,
              "ticks": ""
             }
            },
            "type": "scattergeo"
           }
          ],
          "scattergl": [
           {
            "marker": {
             "colorbar": {
              "outlinewidth": 0,
              "ticks": ""
             }
            },
            "type": "scattergl"
           }
          ],
          "scattermapbox": [
           {
            "marker": {
             "colorbar": {
              "outlinewidth": 0,
              "ticks": ""
             }
            },
            "type": "scattermapbox"
           }
          ],
          "scatterpolar": [
           {
            "marker": {
             "colorbar": {
              "outlinewidth": 0,
              "ticks": ""
             }
            },
            "type": "scatterpolar"
           }
          ],
          "scatterpolargl": [
           {
            "marker": {
             "colorbar": {
              "outlinewidth": 0,
              "ticks": ""
             }
            },
            "type": "scatterpolargl"
           }
          ],
          "scatterternary": [
           {
            "marker": {
             "colorbar": {
              "outlinewidth": 0,
              "ticks": ""
             }
            },
            "type": "scatterternary"
           }
          ],
          "surface": [
           {
            "colorbar": {
             "outlinewidth": 0,
             "ticks": ""
            },
            "colorscale": [
             [
              0,
              "#0d0887"
             ],
             [
              0.1111111111111111,
              "#46039f"
             ],
             [
              0.2222222222222222,
              "#7201a8"
             ],
             [
              0.3333333333333333,
              "#9c179e"
             ],
             [
              0.4444444444444444,
              "#bd3786"
             ],
             [
              0.5555555555555556,
              "#d8576b"
             ],
             [
              0.6666666666666666,
              "#ed7953"
             ],
             [
              0.7777777777777778,
              "#fb9f3a"
             ],
             [
              0.8888888888888888,
              "#fdca26"
             ],
             [
              1,
              "#f0f921"
             ]
            ],
            "type": "surface"
           }
          ],
          "table": [
           {
            "cells": {
             "fill": {
              "color": "#EBF0F8"
             },
             "line": {
              "color": "white"
             }
            },
            "header": {
             "fill": {
              "color": "#C8D4E3"
             },
             "line": {
              "color": "white"
             }
            },
            "type": "table"
           }
          ]
         },
         "layout": {
          "annotationdefaults": {
           "arrowcolor": "#2a3f5f",
           "arrowhead": 0,
           "arrowwidth": 1
          },
          "autotypenumbers": "strict",
          "coloraxis": {
           "colorbar": {
            "outlinewidth": 0,
            "ticks": ""
           }
          },
          "colorscale": {
           "diverging": [
            [
             0,
             "#8e0152"
            ],
            [
             0.1,
             "#c51b7d"
            ],
            [
             0.2,
             "#de77ae"
            ],
            [
             0.3,
             "#f1b6da"
            ],
            [
             0.4,
             "#fde0ef"
            ],
            [
             0.5,
             "#f7f7f7"
            ],
            [
             0.6,
             "#e6f5d0"
            ],
            [
             0.7,
             "#b8e186"
            ],
            [
             0.8,
             "#7fbc41"
            ],
            [
             0.9,
             "#4d9221"
            ],
            [
             1,
             "#276419"
            ]
           ],
           "sequential": [
            [
             0,
             "#0d0887"
            ],
            [
             0.1111111111111111,
             "#46039f"
            ],
            [
             0.2222222222222222,
             "#7201a8"
            ],
            [
             0.3333333333333333,
             "#9c179e"
            ],
            [
             0.4444444444444444,
             "#bd3786"
            ],
            [
             0.5555555555555556,
             "#d8576b"
            ],
            [
             0.6666666666666666,
             "#ed7953"
            ],
            [
             0.7777777777777778,
             "#fb9f3a"
            ],
            [
             0.8888888888888888,
             "#fdca26"
            ],
            [
             1,
             "#f0f921"
            ]
           ],
           "sequentialminus": [
            [
             0,
             "#0d0887"
            ],
            [
             0.1111111111111111,
             "#46039f"
            ],
            [
             0.2222222222222222,
             "#7201a8"
            ],
            [
             0.3333333333333333,
             "#9c179e"
            ],
            [
             0.4444444444444444,
             "#bd3786"
            ],
            [
             0.5555555555555556,
             "#d8576b"
            ],
            [
             0.6666666666666666,
             "#ed7953"
            ],
            [
             0.7777777777777778,
             "#fb9f3a"
            ],
            [
             0.8888888888888888,
             "#fdca26"
            ],
            [
             1,
             "#f0f921"
            ]
           ]
          },
          "colorway": [
           "#636efa",
           "#EF553B",
           "#00cc96",
           "#ab63fa",
           "#FFA15A",
           "#19d3f3",
           "#FF6692",
           "#B6E880",
           "#FF97FF",
           "#FECB52"
          ],
          "font": {
           "color": "#2a3f5f"
          },
          "geo": {
           "bgcolor": "white",
           "lakecolor": "white",
           "landcolor": "#E5ECF6",
           "showlakes": true,
           "showland": true,
           "subunitcolor": "white"
          },
          "hoverlabel": {
           "align": "left"
          },
          "hovermode": "closest",
          "mapbox": {
           "style": "light"
          },
          "paper_bgcolor": "white",
          "plot_bgcolor": "#E5ECF6",
          "polar": {
           "angularaxis": {
            "gridcolor": "white",
            "linecolor": "white",
            "ticks": ""
           },
           "bgcolor": "#E5ECF6",
           "radialaxis": {
            "gridcolor": "white",
            "linecolor": "white",
            "ticks": ""
           }
          },
          "scene": {
           "xaxis": {
            "backgroundcolor": "#E5ECF6",
            "gridcolor": "white",
            "gridwidth": 2,
            "linecolor": "white",
            "showbackground": true,
            "ticks": "",
            "zerolinecolor": "white"
           },
           "yaxis": {
            "backgroundcolor": "#E5ECF6",
            "gridcolor": "white",
            "gridwidth": 2,
            "linecolor": "white",
            "showbackground": true,
            "ticks": "",
            "zerolinecolor": "white"
           },
           "zaxis": {
            "backgroundcolor": "#E5ECF6",
            "gridcolor": "white",
            "gridwidth": 2,
            "linecolor": "white",
            "showbackground": true,
            "ticks": "",
            "zerolinecolor": "white"
           }
          },
          "shapedefaults": {
           "line": {
            "color": "#2a3f5f"
           }
          },
          "ternary": {
           "aaxis": {
            "gridcolor": "white",
            "linecolor": "white",
            "ticks": ""
           },
           "baxis": {
            "gridcolor": "white",
            "linecolor": "white",
            "ticks": ""
           },
           "bgcolor": "#E5ECF6",
           "caxis": {
            "gridcolor": "white",
            "linecolor": "white",
            "ticks": ""
           }
          },
          "title": {
           "x": 0.05
          },
          "xaxis": {
           "automargin": true,
           "gridcolor": "white",
           "linecolor": "white",
           "ticks": "",
           "title": {
            "standoff": 15
           },
           "zerolinecolor": "white",
           "zerolinewidth": 2
          },
          "yaxis": {
           "automargin": true,
           "gridcolor": "white",
           "linecolor": "white",
           "ticks": "",
           "title": {
            "standoff": 15
           },
           "zerolinecolor": "white",
           "zerolinewidth": 2
          }
         }
        }
       }
      }
     },
     "metadata": {},
     "output_type": "display_data"
    }
   ],
   "source": [
    "#make a 3d point plot from given x,y,z coordinates\n",
    "\n",
    "\n",
    "# Define the coordinates\n",
    "x = points[:,0]\n",
    "y = points[:,1]\n",
    "z = points[:,2]\n",
    "\n",
    "# Create a 3D scatter plot\n",
    "fig = go.Figure(data=[go.Scatter3d(x=x, y=y, z=z, mode='markers')])\n",
    "\n",
    "# Add lines for each connection\n",
    "for connection in connections:\n",
    "    fig.add_trace(\n",
    "        go.Scatter3d(\n",
    "            x=[x[connection[0]], x[connection[1]]],\n",
    "            y=[y[connection[0]], y[connection[1]]],\n",
    "            z=[z[connection[0]], z[connection[1]]],\n",
    "            mode='lines',\n",
    "        )\n",
    "    )\n",
    "\n",
    "\n",
    "# Display the plot\n",
    "fig.show()\n"
   ]
  },
  {
   "cell_type": "code",
   "execution_count": 78,
   "metadata": {},
   "outputs": [],
   "source": [
    "frames = []\n",
    "df_rows = []"
   ]
  },
  {
   "cell_type": "code",
   "execution_count": 84,
   "metadata": {},
   "outputs": [],
   "source": [
    "#read video using cv2\n",
    "cap = cv2.VideoCapture('coach480.mp4')\n",
    "\n",
    "\n",
    "while (cap.isOpened()):\n",
    "    _, frame = cap.read()\n",
    "    \n",
    "    if not _:\n",
    "        break\n",
    "    \n",
    "    frames\n",
    "    \n",
    "    \n",
    "    \n",
    "    "
   ]
  },
  {
   "cell_type": "code",
   "execution_count": 95,
   "metadata": {},
   "outputs": [],
   "source": [
    "result_generator = inferencer(frames, out_dir=\"predictions\")"
   ]
  },
  {
   "cell_type": "code",
   "execution_count": 96,
   "metadata": {},
   "outputs": [],
   "source": [
    "rows = []"
   ]
  },
  {
   "cell_type": "code",
   "execution_count": 97,
   "metadata": {},
   "outputs": [
    {
     "name": "stdout",
     "output_type": "stream",
     "text": [
      "01/09 20:15:02 - mmengine - \u001b[4m\u001b[97mINFO\u001b[0m - the output image has been saved at predictions/visualizations/000000.jpg\n"
     ]
    },
    {
     "data": {
      "text/plain": [
       "defaultdict(list,\n",
       "            {'visualization': [],\n",
       "             'predictions': [[{'keypoints': [[-0.0, 0.0, 0.6717525720596313],\n",
       "                 [0.07467737048864365,\n",
       "                  -0.028070135042071342,\n",
       "                  0.6715697646141052],\n",
       "                 [0.11087720096111298,\n",
       "                  0.02510574646294117,\n",
       "                  0.3233090937137604],\n",
       "                 [0.1637280285358429, 0.062361907213926315, 0.0],\n",
       "                 [-0.08033276349306107,\n",
       "                  0.02711647003889084,\n",
       "                  0.6805493831634521],\n",
       "                 [-0.07199389487504959,\n",
       "                  0.062087178230285645,\n",
       "                  0.35492372512817383],\n",
       "                 [-0.05779785290360451,\n",
       "                  0.10631536692380905,\n",
       "                  0.04812270402908325],\n",
       "                 [-0.013464965857565403,\n",
       "                  0.0024648832622915506,\n",
       "                  0.8729780316352844],\n",
       "                 [-0.019340576604008675,\n",
       "                  -0.07203830033540726,\n",
       "                  1.082015037536621],\n",
       "                 [-0.11573303490877151,\n",
       "                  -0.1077587753534317,\n",
       "                  1.2257308959960938],\n",
       "                 [-0.10925183445215225,\n",
       "                  -0.09820089489221573,\n",
       "                  1.2656984329223633],\n",
       "                 [-0.14579540491104126,\n",
       "                  -0.038591425865888596,\n",
       "                  1.0989761352539062],\n",
       "                 [-0.1871049851179123,\n",
       "                  0.005872833542525768,\n",
       "                  0.8564246892929077],\n",
       "                 [-0.08400439471006393,\n",
       "                  0.0685659795999527,\n",
       "                  0.7142682671546936],\n",
       "                 [0.11437304317951202,\n",
       "                  -0.032850734889507294,\n",
       "                  1.078432321548462],\n",
       "                 [0.1795026808977127,\n",
       "                  0.008652301505208015,\n",
       "                  0.8487739562988281],\n",
       "                 [0.07061975449323654,\n",
       "                  -0.03464500606060028,\n",
       "                  0.712257981300354]],\n",
       "                'keypoint_scores': [1.0,\n",
       "                 1.0,\n",
       "                 1.0,\n",
       "                 1.0,\n",
       "                 1.0,\n",
       "                 1.0,\n",
       "                 1.0,\n",
       "                 1.0,\n",
       "                 1.0,\n",
       "                 1.0,\n",
       "                 1.0,\n",
       "                 1.0,\n",
       "                 1.0,\n",
       "                 1.0,\n",
       "                 1.0,\n",
       "                 1.0,\n",
       "                 1.0]},\n",
       "               {'keypoints': [[-0.0, 0.0, 0.08020471036434174],\n",
       "                 [0.027555663138628006,\n",
       "                  -0.028758522123098373,\n",
       "                  0.07125622034072876],\n",
       "                 [0.07942614704370499, 0.05138028785586357, 0.0],\n",
       "                 [-0.9710586071014404,\n",
       "                  -0.0037023620679974556,\n",
       "                  0.4259958267211914],\n",
       "                 [0.06185009703040123,\n",
       "                  0.0533718504011631,\n",
       "                  0.08116161823272705],\n",
       "                 [0.056642211973667145,\n",
       "                  0.09799490123987198,\n",
       "                  0.012079469859600067],\n",
       "                 [-0.9635219573974609,\n",
       "                  0.019847141578793526,\n",
       "                  0.4672853350639343],\n",
       "                 [-0.0028814696706831455,\n",
       "                  -0.010830309242010117,\n",
       "                  0.16202709078788757],\n",
       "                 [-0.03164062649011612,\n",
       "                  -0.07646200805902481,\n",
       "                  0.23277099430561066],\n",
       "                 [-0.9673820734024048,\n",
       "                  -0.1257309466600418,\n",
       "                  0.27317699790000916],\n",
       "                 [-0.9659590125083923, -0.14295594394207, 0.27401578426361084],\n",
       "                 [-0.013967406935989857,\n",
       "                  -0.05785810947418213,\n",
       "                  0.17425481975078583],\n",
       "                 [-0.7572341561317444,\n",
       "                  -0.1293201595544815,\n",
       "                  0.058184750378131866],\n",
       "                 [-0.856118381023407, -0.07475591450929642, 0.433660626411438],\n",
       "                 [-0.043843384832143784,\n",
       "                  -0.0804816335439682,\n",
       "                  0.3057626485824585],\n",
       "                 [-0.7340870499610901,\n",
       "                  -0.18370358645915985,\n",
       "                  0.05542688071727753],\n",
       "                 [-0.8862316608428955,\n",
       "                  -0.1172206699848175,\n",
       "                  0.42571091651916504]],\n",
       "                'keypoint_scores': [1.0,\n",
       "                 1.0,\n",
       "                 1.0,\n",
       "                 1.0,\n",
       "                 1.0,\n",
       "                 1.0,\n",
       "                 1.0,\n",
       "                 1.0,\n",
       "                 1.0,\n",
       "                 1.0,\n",
       "                 1.0,\n",
       "                 1.0,\n",
       "                 1.0,\n",
       "                 1.0,\n",
       "                 1.0,\n",
       "                 1.0,\n",
       "                 1.0]}]]})"
      ]
     },
     "execution_count": 97,
     "metadata": {},
     "output_type": "execute_result"
    }
   ],
   "source": [
    "next(result_generator)"
   ]
  },
  {
   "cell_type": "code",
   "execution_count": 98,
   "metadata": {},
   "outputs": [],
   "source": [
    "rows = []"
   ]
  },
  {
   "cell_type": "code",
   "execution_count": 99,
   "metadata": {},
   "outputs": [
    {
     "name": "stdout",
     "output_type": "stream",
     "text": [
      "01/09 20:15:04 - mmengine - \u001b[4m\u001b[97mINFO\u001b[0m - the output image has been saved at predictions/visualizations/000000.jpg\n",
      "01/09 20:15:04 - mmengine - \u001b[4m\u001b[97mINFO\u001b[0m - the output image has been saved at predictions/visualizations/000000.jpg\n",
      "01/09 20:15:05 - mmengine - \u001b[4m\u001b[97mINFO\u001b[0m - the output image has been saved at predictions/visualizations/000000.jpg\n",
      "01/09 20:15:05 - mmengine - \u001b[4m\u001b[97mINFO\u001b[0m - the output image has been saved at predictions/visualizations/000000.jpg\n",
      "01/09 20:15:05 - mmengine - \u001b[4m\u001b[97mINFO\u001b[0m - the output image has been saved at predictions/visualizations/000000.jpg\n",
      "01/09 20:15:06 - mmengine - \u001b[4m\u001b[97mINFO\u001b[0m - the output image has been saved at predictions/visualizations/000000.jpg\n",
      "01/09 20:15:06 - mmengine - \u001b[4m\u001b[97mINFO\u001b[0m - the output image has been saved at predictions/visualizations/000000.jpg\n",
      "01/09 20:15:06 - mmengine - \u001b[4m\u001b[97mINFO\u001b[0m - the output image has been saved at predictions/visualizations/000000.jpg\n",
      "01/09 20:15:07 - mmengine - \u001b[4m\u001b[97mINFO\u001b[0m - the output image has been saved at predictions/visualizations/000000.jpg\n",
      "01/09 20:15:07 - mmengine - \u001b[4m\u001b[97mINFO\u001b[0m - the output image has been saved at predictions/visualizations/000000.jpg\n",
      "01/09 20:15:07 - mmengine - \u001b[4m\u001b[97mINFO\u001b[0m - the output image has been saved at predictions/visualizations/000000.jpg\n",
      "01/09 20:15:08 - mmengine - \u001b[4m\u001b[97mINFO\u001b[0m - the output image has been saved at predictions/visualizations/000000.jpg\n",
      "01/09 20:15:08 - mmengine - \u001b[4m\u001b[97mINFO\u001b[0m - the output image has been saved at predictions/visualizations/000000.jpg\n",
      "01/09 20:15:08 - mmengine - \u001b[4m\u001b[97mINFO\u001b[0m - the output image has been saved at predictions/visualizations/000000.jpg\n",
      "01/09 20:15:09 - mmengine - \u001b[4m\u001b[97mINFO\u001b[0m - the output image has been saved at predictions/visualizations/000000.jpg\n",
      "01/09 20:15:09 - mmengine - \u001b[4m\u001b[97mINFO\u001b[0m - the output image has been saved at predictions/visualizations/000000.jpg\n",
      "01/09 20:15:09 - mmengine - \u001b[4m\u001b[97mINFO\u001b[0m - the output image has been saved at predictions/visualizations/000000.jpg\n",
      "01/09 20:15:10 - mmengine - \u001b[4m\u001b[97mINFO\u001b[0m - the output image has been saved at predictions/visualizations/000000.jpg\n",
      "01/09 20:15:10 - mmengine - \u001b[4m\u001b[97mINFO\u001b[0m - the output image has been saved at predictions/visualizations/000000.jpg\n",
      "01/09 20:15:10 - mmengine - \u001b[4m\u001b[97mINFO\u001b[0m - the output image has been saved at predictions/visualizations/000000.jpg\n",
      "01/09 20:15:11 - mmengine - \u001b[4m\u001b[97mINFO\u001b[0m - the output image has been saved at predictions/visualizations/000000.jpg\n",
      "01/09 20:15:11 - mmengine - \u001b[4m\u001b[97mINFO\u001b[0m - the output image has been saved at predictions/visualizations/000000.jpg\n",
      "01/09 20:15:11 - mmengine - \u001b[4m\u001b[97mINFO\u001b[0m - the output image has been saved at predictions/visualizations/000000.jpg\n",
      "01/09 20:15:12 - mmengine - \u001b[4m\u001b[97mINFO\u001b[0m - the output image has been saved at predictions/visualizations/000000.jpg\n",
      "01/09 20:15:12 - mmengine - \u001b[4m\u001b[97mINFO\u001b[0m - the output image has been saved at predictions/visualizations/000000.jpg\n",
      "01/09 20:15:12 - mmengine - \u001b[4m\u001b[97mINFO\u001b[0m - the output image has been saved at predictions/visualizations/000000.jpg\n",
      "01/09 20:15:13 - mmengine - \u001b[4m\u001b[97mINFO\u001b[0m - the output image has been saved at predictions/visualizations/000000.jpg\n",
      "01/09 20:15:13 - mmengine - \u001b[4m\u001b[97mINFO\u001b[0m - the output image has been saved at predictions/visualizations/000000.jpg\n",
      "01/09 20:15:13 - mmengine - \u001b[4m\u001b[97mINFO\u001b[0m - the output image has been saved at predictions/visualizations/000000.jpg\n",
      "01/09 20:15:14 - mmengine - \u001b[4m\u001b[97mINFO\u001b[0m - the output image has been saved at predictions/visualizations/000000.jpg\n",
      "01/09 20:15:14 - mmengine - \u001b[4m\u001b[97mINFO\u001b[0m - the output image has been saved at predictions/visualizations/000000.jpg\n",
      "01/09 20:15:14 - mmengine - \u001b[4m\u001b[97mINFO\u001b[0m - the output image has been saved at predictions/visualizations/000000.jpg\n",
      "01/09 20:15:15 - mmengine - \u001b[4m\u001b[97mINFO\u001b[0m - the output image has been saved at predictions/visualizations/000000.jpg\n",
      "01/09 20:15:15 - mmengine - \u001b[4m\u001b[97mINFO\u001b[0m - the output image has been saved at predictions/visualizations/000000.jpg\n",
      "01/09 20:15:15 - mmengine - \u001b[4m\u001b[97mINFO\u001b[0m - the output image has been saved at predictions/visualizations/000000.jpg\n",
      "01/09 20:15:16 - mmengine - \u001b[4m\u001b[97mINFO\u001b[0m - the output image has been saved at predictions/visualizations/000000.jpg\n",
      "01/09 20:15:16 - mmengine - \u001b[4m\u001b[97mINFO\u001b[0m - the output image has been saved at predictions/visualizations/000000.jpg\n",
      "01/09 20:15:16 - mmengine - \u001b[4m\u001b[97mINFO\u001b[0m - the output image has been saved at predictions/visualizations/000000.jpg\n",
      "01/09 20:15:17 - mmengine - \u001b[4m\u001b[97mINFO\u001b[0m - the output image has been saved at predictions/visualizations/000000.jpg\n",
      "01/09 20:15:17 - mmengine - \u001b[4m\u001b[97mINFO\u001b[0m - the output image has been saved at predictions/visualizations/000000.jpg\n",
      "01/09 20:15:17 - mmengine - \u001b[4m\u001b[97mINFO\u001b[0m - the output image has been saved at predictions/visualizations/000000.jpg\n",
      "01/09 20:15:18 - mmengine - \u001b[4m\u001b[97mINFO\u001b[0m - the output image has been saved at predictions/visualizations/000000.jpg\n",
      "01/09 20:15:18 - mmengine - \u001b[4m\u001b[97mINFO\u001b[0m - the output image has been saved at predictions/visualizations/000000.jpg\n",
      "01/09 20:15:18 - mmengine - \u001b[4m\u001b[97mINFO\u001b[0m - the output image has been saved at predictions/visualizations/000000.jpg\n",
      "01/09 20:15:18 - mmengine - \u001b[4m\u001b[97mINFO\u001b[0m - the output image has been saved at predictions/visualizations/000000.jpg\n",
      "01/09 20:15:19 - mmengine - \u001b[4m\u001b[97mINFO\u001b[0m - the output image has been saved at predictions/visualizations/000000.jpg\n",
      "01/09 20:15:19 - mmengine - \u001b[4m\u001b[97mINFO\u001b[0m - the output image has been saved at predictions/visualizations/000000.jpg\n",
      "01/09 20:15:19 - mmengine - \u001b[4m\u001b[97mINFO\u001b[0m - the output image has been saved at predictions/visualizations/000000.jpg\n",
      "01/09 20:15:20 - mmengine - \u001b[4m\u001b[97mINFO\u001b[0m - the output image has been saved at predictions/visualizations/000000.jpg\n",
      "01/09 20:15:20 - mmengine - \u001b[4m\u001b[97mINFO\u001b[0m - the output image has been saved at predictions/visualizations/000000.jpg\n",
      "01/09 20:15:20 - mmengine - \u001b[4m\u001b[97mINFO\u001b[0m - the output image has been saved at predictions/visualizations/000000.jpg\n",
      "01/09 20:15:21 - mmengine - \u001b[4m\u001b[97mINFO\u001b[0m - the output image has been saved at predictions/visualizations/000000.jpg\n",
      "01/09 20:15:21 - mmengine - \u001b[4m\u001b[97mINFO\u001b[0m - the output image has been saved at predictions/visualizations/000000.jpg\n",
      "01/09 20:15:21 - mmengine - \u001b[4m\u001b[97mINFO\u001b[0m - the output image has been saved at predictions/visualizations/000000.jpg\n",
      "01/09 20:15:22 - mmengine - \u001b[4m\u001b[97mINFO\u001b[0m - the output image has been saved at predictions/visualizations/000000.jpg\n",
      "01/09 20:15:22 - mmengine - \u001b[4m\u001b[97mINFO\u001b[0m - the output image has been saved at predictions/visualizations/000000.jpg\n",
      "01/09 20:15:22 - mmengine - \u001b[4m\u001b[97mINFO\u001b[0m - the output image has been saved at predictions/visualizations/000000.jpg\n",
      "01/09 20:15:23 - mmengine - \u001b[4m\u001b[97mINFO\u001b[0m - the output image has been saved at predictions/visualizations/000000.jpg\n",
      "01/09 20:15:23 - mmengine - \u001b[4m\u001b[97mINFO\u001b[0m - the output image has been saved at predictions/visualizations/000000.jpg\n",
      "01/09 20:15:23 - mmengine - \u001b[4m\u001b[97mINFO\u001b[0m - the output image has been saved at predictions/visualizations/000000.jpg\n",
      "01/09 20:15:24 - mmengine - \u001b[4m\u001b[97mINFO\u001b[0m - the output image has been saved at predictions/visualizations/000000.jpg\n",
      "01/09 20:15:24 - mmengine - \u001b[4m\u001b[97mINFO\u001b[0m - the output image has been saved at predictions/visualizations/000000.jpg\n",
      "01/09 20:15:24 - mmengine - \u001b[4m\u001b[97mINFO\u001b[0m - the output image has been saved at predictions/visualizations/000000.jpg\n",
      "01/09 20:15:25 - mmengine - \u001b[4m\u001b[97mINFO\u001b[0m - the output image has been saved at predictions/visualizations/000000.jpg\n",
      "01/09 20:15:25 - mmengine - \u001b[4m\u001b[97mINFO\u001b[0m - the output image has been saved at predictions/visualizations/000000.jpg\n",
      "01/09 20:15:25 - mmengine - \u001b[4m\u001b[97mINFO\u001b[0m - the output image has been saved at predictions/visualizations/000000.jpg\n",
      "01/09 20:15:26 - mmengine - \u001b[4m\u001b[97mINFO\u001b[0m - the output image has been saved at predictions/visualizations/000000.jpg\n",
      "01/09 20:15:26 - mmengine - \u001b[4m\u001b[97mINFO\u001b[0m - the output image has been saved at predictions/visualizations/000000.jpg\n",
      "01/09 20:15:26 - mmengine - \u001b[4m\u001b[97mINFO\u001b[0m - the output image has been saved at predictions/visualizations/000000.jpg\n"
     ]
    }
   ],
   "source": [
    "ix = 0\n",
    "for result in result_generator:\n",
    "    points = np.array(result['predictions'][0][0]['keypoints'])\n",
    "    rows.append([ix, points[:,0], points[:,1], points[:,2]])\n",
    "    ix+=1\n",
    "    \n",
    "    \n",
    "    "
   ]
  },
  {
   "cell_type": "code",
   "execution_count": 100,
   "metadata": {},
   "outputs": [
    {
     "data": {
      "text/plain": [
       "[[0,\n",
       "  array([-0.        ,  0.07467737,  0.11087707,  0.16372803, -0.08033288,\n",
       "         -0.07199389, -0.05779785, -0.01346509, -0.01934058, -0.11573303,\n",
       "         -0.10925207, -0.14579529, -0.18710499, -0.08400439,  0.11437292,\n",
       "          0.17950268,  0.07061987]),\n",
       "  array([ 0.        , -0.02807014,  0.02510567,  0.06236178,  0.02711649,\n",
       "          0.06208707,  0.10631525,  0.00246486, -0.07203839, -0.10775881,\n",
       "         -0.09820108, -0.03859142,  0.00587283,  0.06856572, -0.03285078,\n",
       "          0.00865254, -0.03464519]),\n",
       "  array([0.67175269, 0.67156988, 0.32330909, 0.        , 0.6805495 ,\n",
       "         0.35492373, 0.04812282, 0.87297815, 1.08201504, 1.2257309 ,\n",
       "         1.26569843, 1.09897614, 0.85642481, 0.71426827, 1.07843256,\n",
       "         0.84877431, 0.71225768])],\n",
       " [1,\n",
       "  array([-0.        ,  0.07479309,  0.1111875 ,  0.16410913, -0.08026758,\n",
       "         -0.07171887, -0.05757092, -0.01473218, -0.02294922, -0.11568274,\n",
       "         -0.10910095, -0.14541492, -0.18698536, -0.08378601,  0.10690796,\n",
       "          0.18347937,  0.0703053 ]),\n",
       "  array([ 0.        , -0.03010107,  0.02164244,  0.06013487,  0.0286656 ,\n",
       "          0.06125413,  0.10593206,  0.00339125, -0.06747644, -0.10376275,\n",
       "         -0.09278334, -0.03105727,  0.01175971,  0.06812639, -0.034485  ,\n",
       "         -0.00324236, -0.04511814]),\n",
       "  array([0.675156  , 0.6747399 , 0.3230941 , 0.        , 0.68373847,\n",
       "         0.35527405, 0.04820681, 0.87646055, 1.08586454, 1.22265506,\n",
       "         1.26612234, 1.09896886, 0.85691106, 0.71452355, 1.08649004,\n",
       "         0.85410249, 0.71674061])],\n",
       " [2,\n",
       "  array([-0.        ,  0.07662329,  0.10945837,  0.16673829, -0.08123938,\n",
       "         -0.07331067, -0.0592395 , -0.01544775, -0.02452087, -0.12124536,\n",
       "         -0.11477575, -0.14714979, -0.18850073, -0.08554907,  0.10549414,\n",
       "          0.18225525,  0.07283691]),\n",
       "  array([ 0.        , -0.03380797,  0.0211856 ,  0.05863325,  0.02992116,\n",
       "          0.06270646,  0.10857321,  0.00201025, -0.0711044 , -0.10844898,\n",
       "         -0.09813152, -0.03297396,  0.01109737,  0.06852271, -0.0353884 ,\n",
       "          0.00984605, -0.03123289]),\n",
       "  array([0.67655629, 0.67461622, 0.32576552, 0.        , 0.68636376,\n",
       "         0.35807911, 0.05153519, 0.877877  , 1.08722472, 1.22583544,\n",
       "         1.2673862 , 1.1021142 , 0.85988152, 0.71736068, 1.08582795,\n",
       "         0.86056966, 0.72328931])],\n",
       " [3,\n",
       "  array([-0.        ,  0.07542273,  0.11193176,  0.16416651, -0.08004675,\n",
       "         -0.0746394 , -0.06099914, -0.0170907 , -0.02812524, -0.12671766,\n",
       "         -0.12039246, -0.15260461, -0.1901665 , -0.08640393,  0.10364221,\n",
       "          0.18057007,  0.07118201]),\n",
       "  array([ 0.        , -0.03365671,  0.0218077 ,  0.0622141 ,  0.03098163,\n",
       "          0.06209179,  0.10904589,  0.00118142, -0.07163661, -0.10904824,\n",
       "         -0.09986313, -0.03656841,  0.00754724,  0.06630504, -0.03635684,\n",
       "          0.00470892, -0.03323813]),\n",
       "  array([0.67357618, 0.67165935, 0.3199164 , 0.        , 0.68321675,\n",
       "         0.35236853, 0.04879236, 0.87580991, 1.08611929, 1.22327244,\n",
       "         1.26672304, 1.09975553, 0.85358149, 0.7146287 , 1.08717561,\n",
       "         0.85791385, 0.72044361])],\n",
       " [4,\n",
       "  array([-0.        ,  0.07687134,  0.11348902,  0.16690466, -0.08166846,\n",
       "         -0.07330786, -0.05895374, -0.01638086, -0.02614417, -0.12477527,\n",
       "         -0.11840979, -0.1505426 , -0.1882544 , -0.08473559,  0.10537475,\n",
       "          0.18212719,  0.07284314]),\n",
       "  array([ 0.        , -0.03027808,  0.02236019,  0.0596934 ,  0.02896289,\n",
       "          0.06337451,  0.10949753,  0.00237502, -0.07069943, -0.10846664,\n",
       "         -0.09846162, -0.03530042,  0.00771695,  0.06755959, -0.03455978,\n",
       "          0.005641  , -0.03323417]),\n",
       "  array([0.67835402, 0.67772335, 0.32574978, 0.        , 0.68699193,\n",
       "         0.3580502 , 0.05157435, 0.88004702, 1.08944893, 1.22635126,\n",
       "         1.26972687, 1.10257435, 0.85664535, 0.71766281, 1.09012401,\n",
       "         0.86111885, 0.72342771])],\n",
       " [5,\n",
       "  array([-0.        ,  0.07697986,  0.11814295,  0.1724049 , -0.08169348,\n",
       "         -0.07271582, -0.0579187 , -0.01940027, -0.03345019, -0.13666809,\n",
       "         -0.1261272 , -0.15820985, -0.1962494 , -0.08883203,  0.0977688 ,\n",
       "          0.18993518,  0.08396789]),\n",
       "  array([ 0.        , -0.036766  ,  0.02091585,  0.05966883,  0.03040004,\n",
       "          0.06799334,  0.11555532, -0.00138268, -0.0729686 , -0.11304834,\n",
       "         -0.10200276, -0.03522646,  0.01005552,  0.05671265, -0.03560032,\n",
       "          0.01668644, -0.01956814]),\n",
       "  array([0.68516493, 0.68419319, 0.32824355, 0.        , 0.6935817 ,\n",
       "         0.36133021, 0.05533499, 0.88998258, 1.10363007, 1.24113774,\n",
       "         1.28480268, 1.11335778, 0.86727381, 0.72712946, 1.10947871,\n",
       "         0.88851416, 0.74897194])],\n",
       " [6,\n",
       "  array([-0.        ,  0.07852343,  0.11618591,  0.17386621, -0.08260523,\n",
       "         -0.0774513 , -0.05912012, -0.02079639, -0.03664685, -0.1419519 ,\n",
       "         -0.13372217, -0.16322364, -0.19738294, -0.08997559,  0.09581152,\n",
       "          0.19167602,  0.08238318]),\n",
       "  array([ 0.        , -0.03706737,  0.02161207,  0.05961003,  0.03051201,\n",
       "          0.06905444,  0.11394926, -0.00165269, -0.07346609, -0.11409049,\n",
       "         -0.10367962, -0.03706773,  0.01100521,  0.05501526, -0.0354837 ,\n",
       "          0.0179413 , -0.01499535]),\n",
       "  array([0.6809209 , 0.68112701, 0.3285813 , 0.        , 0.68846196,\n",
       "         0.36209667, 0.05315053, 0.88556999, 1.09897983, 1.2349112 ,\n",
       "         1.27854824, 1.1069802 , 0.86093706, 0.72096992, 1.10718775,\n",
       "         0.88982087, 0.75039059])],\n",
       " [7,\n",
       "  array([-0.        ,  0.07769825,  0.11490784,  0.17255431, -0.08098035,\n",
       "         -0.0785564 , -0.06018591, -0.02281958, -0.04087805, -0.15031788,\n",
       "         -0.14244983, -0.16748437, -0.2014613 , -0.09070019,  0.09083081,\n",
       "          0.19027209,  0.0855509 ]),\n",
       "  array([ 0.        , -0.03833975,  0.01946891,  0.05687548,  0.03383452,\n",
       "          0.06839188,  0.11230055, -0.0034466 , -0.07975439, -0.11958617,\n",
       "         -0.1117578 , -0.04196228,  0.00381214,  0.0442605 , -0.0384971 ,\n",
       "          0.02579001, -0.00870867]),\n",
       "  array([0.68371409, 0.68368495, 0.32854721, 0.        , 0.6908707 ,\n",
       "         0.36196178, 0.05296606, 0.88602334, 1.09555078, 1.23155689,\n",
       "         1.27472782, 1.10327375, 0.85720366, 0.71678239, 1.10306716,\n",
       "         0.89790237, 0.75018501])],\n",
       " [8,\n",
       "  array([-0.        ,  0.08033191,  0.11701819,  0.17540112, -0.08299328,\n",
       "         -0.08095044, -0.05717834, -0.02405322, -0.04303894, -0.15803955,\n",
       "         -0.15463953, -0.17060193, -0.19766663, -0.08729687,  0.08947559,\n",
       "          0.1919203 ,  0.08445825]),\n",
       "  array([ 0.        , -0.03620019,  0.01971494,  0.05560844,  0.03519054,\n",
       "          0.06860063,  0.11033205, -0.00368624, -0.08444116, -0.12444731,\n",
       "         -0.12030968, -0.04378876,  0.00810425,  0.04707017, -0.04189812,\n",
       "          0.02220442, -0.00797904]),\n",
       "  array([0.69434512, 0.69382638, 0.33499026, 0.        , 0.70131803,\n",
       "         0.36689004, 0.05190808, 0.89386123, 1.09795845, 1.23342133,\n",
       "         1.27596414, 1.09997225, 0.85775816, 0.71727759, 1.10758638,\n",
       "         0.90698278, 0.75463343])],\n",
       " [9,\n",
       "  array([-0.        ,  0.08041748,  0.11706616,  0.17542689, -0.08294129,\n",
       "         -0.08086804, -0.05705395, -0.02410767, -0.04313452, -0.15804052,\n",
       "         -0.15464745, -0.17060046, -0.20112768, -0.08740527,  0.0894082 ,\n",
       "          0.19209546,  0.08447351]),\n",
       "  array([ 0.        , -0.03578724,  0.01986638,  0.05565918,  0.0354728 ,\n",
       "          0.0689185 ,  0.11061047, -0.00364742, -0.08440749, -0.12423839,\n",
       "         -0.11943939, -0.0445227 , -0.00058773,  0.03884845, -0.04068768,\n",
       "          0.02362411, -0.00734442]),\n",
       "  array([0.69433045, 0.69381195, 0.33502454, 0.        , 0.70139533,\n",
       "         0.36690149, 0.05206335, 0.89389873, 1.09791195, 1.23337257,\n",
       "         1.27595305, 1.09993541, 0.85437775, 0.71360439, 1.10756052,\n",
       "         0.90701127, 0.7546041 ])],\n",
       " [10,\n",
       "  array([-0.        ,  0.08609204,  0.11921448,  0.18153614, -0.0864353 ,\n",
       "         -0.08682922, -0.05831531, -0.02732385, -0.05042798, -0.17518188,\n",
       "         -0.16815858, -0.17505664, -0.19865076, -0.08538013,  0.07894482,\n",
       "          0.19415429,  0.09421314]),\n",
       "  array([ 0.        , -0.0357141 ,  0.01263239,  0.05499263,  0.03685084,\n",
       "          0.0638123 ,  0.11208977, -0.00450048, -0.09114851, -0.13444385,\n",
       "         -0.12615162, -0.04587665, -0.00691633,  0.01558007, -0.0439894 ,\n",
       "          0.03888526,  0.02221327]),\n",
       "  array([0.71326059, 0.7129159 , 0.33563253, 0.        , 0.71828437,\n",
       "         0.36697298, 0.05271637, 0.91095483, 1.10956347, 1.23968017,\n",
       "         1.28139889, 1.10419261, 0.85504162, 0.71302956, 1.12454844,\n",
       "         0.94087756, 0.78991729])],\n",
       " [11,\n",
       "  array([-0.        ,  0.08362842,  0.1132063 ,  0.17579126, -0.08358508,\n",
       "         -0.09082373, -0.05942773, -0.03163635, -0.06129407, -0.19239148,\n",
       "         -0.18546204, -0.18832299, -0.20331274, -0.07902649,  0.06899536,\n",
       "          0.19588794,  0.10059424]),\n",
       "  array([ 0.        , -0.04299412,  0.0167447 ,  0.05293829,  0.04114233,\n",
       "          0.06841253,  0.11189629, -0.01059019, -0.097629  , -0.13909104,\n",
       "         -0.13715139, -0.05054546, -0.01080577, -0.00423371, -0.04855585,\n",
       "          0.04232476,  0.03586755]),\n",
       "  array([0.70392382, 0.70213675, 0.33750123, 0.        , 0.71050811,\n",
       "         0.36716712, 0.0523684 , 0.90195584, 1.10239053, 1.23490965,\n",
       "         1.27898955, 1.09201431, 0.84232032, 0.70327234, 1.12359548,\n",
       "         0.95220673, 0.8049916 ])],\n",
       " [12,\n",
       "  array([-0.        ,  0.08588098,  0.1154314 ,  0.1776073 , -0.0849104 ,\n",
       "         -0.09533753, -0.06139673, -0.03523792, -0.06971057, -0.19788757,\n",
       "         -0.19320641, -0.19308154, -0.20072766, -0.07926977,  0.05545581,\n",
       "          0.19480835,  0.10817322]),\n",
       "  array([ 0.        , -0.04298959,  0.01433386,  0.05021447,  0.0411256 ,\n",
       "          0.06386495,  0.11045319, -0.01048533, -0.09750944, -0.14074087,\n",
       "         -0.13470086, -0.04961586, -0.01039708, -0.0197208 , -0.04943316,\n",
       "          0.0476798 ,  0.0401752 ]),\n",
       "  array([0.70660692, 0.70570034, 0.33755261, 0.        , 0.71167475,\n",
       "         0.365578  , 0.053312  , 0.90330589, 1.10164142, 1.22596264,\n",
       "         1.26959491, 1.08626056, 0.83642089, 0.70105189, 1.12963951,\n",
       "         0.97094554, 0.82304829])],\n",
       " [13,\n",
       "  array([-0.        ,  0.08511341,  0.11042871,  0.1760454 , -0.08297034,\n",
       "         -0.10672998, -0.06232593, -0.03893848, -0.07820837, -0.2106543 ,\n",
       "         -0.20624915, -0.20602307, -0.20098731, -0.07068359,  0.04946204,\n",
       "          0.18975256,  0.11182056]),\n",
       "  array([ 0.        , -0.04730485,  0.01426492,  0.0484063 ,  0.04627512,\n",
       "          0.06372546,  0.10997234, -0.0151217 , -0.10740266, -0.14917587,\n",
       "         -0.14520743, -0.06074044, -0.0291028 , -0.04124971, -0.0552544 ,\n",
       "          0.05701081,  0.05636232]),\n",
       "  array([0.70633435, 0.7049464 , 0.33760133, 0.        , 0.71131825,\n",
       "         0.365881  , 0.05304432, 0.90271503, 1.09937167, 1.22615981,\n",
       "         1.26994157, 1.07897186, 0.82179183, 0.69628698, 1.13363218,\n",
       "         0.98707098, 0.8314935 ])],\n",
       " [14,\n",
       "  array([-0.        ,  0.08492859,  0.11044214,  0.17917676, -0.08287182,\n",
       "         -0.10689954, -0.0624342 , -0.0389148 , -0.07823877, -0.21057446,\n",
       "         -0.20609827, -0.20585743, -0.20095947, -0.0707605 ,  0.04939001,\n",
       "          0.1932793 ,  0.11159253]),\n",
       "  array([ 0.        , -0.04817508,  0.0143674 ,  0.05050027,  0.04681774,\n",
       "          0.06402662,  0.11025946, -0.01469757, -0.10633162, -0.1480899 ,\n",
       "         -0.14503147, -0.05923474, -0.02626156, -0.03789239, -0.05590967,\n",
       "          0.05163122,  0.05398015]),\n",
       "  array([0.70410913, 0.70278764, 0.3354778 , 0.        , 0.70912915,\n",
       "         0.36352661, 0.05083376, 0.90058792, 1.0972997 , 1.22387838,\n",
       "         1.26964343, 1.07666445, 0.8197158 , 0.69418615, 1.13132   ,\n",
       "         0.98476601, 0.82921326])],\n",
       " [15,\n",
       "  array([-0.        ,  0.08963355,  0.11896167,  0.18923022, -0.08558813,\n",
       "         -0.13897143, -0.07078772, -0.04181677, -0.08573145, -0.23132044,\n",
       "         -0.22506872, -0.21387634, -0.18618786, -0.05458508,  0.04161377,\n",
       "          0.19273144,  0.1186294 ]),\n",
       "  array([ 0.        , -0.04879539,  0.00623195,  0.03867505,  0.0509184 ,\n",
       "          0.06706809,  0.11558301, -0.01617253, -0.11057225, -0.1574479 ,\n",
       "         -0.15677819, -0.05921724, -0.02307748, -0.00064726, -0.06951182,\n",
       "          0.05103513,  0.05986423]),\n",
       "  array([0.72659653, 0.72463095, 0.34827548, 0.        , 0.73141491,\n",
       "         0.39159775, 0.07225156, 0.91824424, 1.10476661, 1.236377  ,\n",
       "         1.2795372 , 1.07082498, 0.81895763, 0.71152192, 1.14458239,\n",
       "         1.03555846, 0.84126574])],\n",
       " [16,\n",
       "  array([-0.        ,  0.08946033,  0.11912854,  0.20030554, -0.08464062,\n",
       "         -0.1555354 , -0.0839541 , -0.04370129, -0.09038904, -0.24583313,\n",
       "         -0.24198169, -0.22058521, -0.18412085, -0.03660974,  0.03709363,\n",
       "          0.20087256,  0.1397887 ]),\n",
       "  array([ 0.        , -0.05566116, -0.00265463,  0.02983238,  0.05594957,\n",
       "          0.0803121 ,  0.10962465, -0.01773848, -0.1084414 , -0.15887342,\n",
       "         -0.16121492, -0.05813299, -0.02085563,  0.02627159, -0.07615969,\n",
       "          0.04302841,  0.05193245]),\n",
       "  array([0.72826648, 0.72548336, 0.35234547, 0.        , 0.73411155,\n",
       "         0.4130294 , 0.08081031, 0.92091805, 1.1078788 , 1.22716093,\n",
       "         1.2725358 , 1.07264328, 0.81965393, 0.70910347, 1.14988923,\n",
       "         1.06143844, 0.8518095 ])],\n",
       " [17,\n",
       "  array([-0.        ,  0.0903114 ,  0.11889441,  0.19830212, -0.08453333,\n",
       "         -0.17593628, -0.12498657, -0.04860657, -0.10263318, -0.26396912,\n",
       "         -0.26090807, -0.23028515, -0.18286365, -0.03324939,  0.02202344,\n",
       "          0.19580139,  0.14674231]),\n",
       "  array([ 0.        , -0.0585201 , -0.01027265,  0.0189647 ,  0.05894491,\n",
       "          0.08267806,  0.10629517, -0.01760319, -0.09605531, -0.15323205,\n",
       "         -0.15300703, -0.0489664 , -0.00835308,  0.05485855, -0.07521416,\n",
       "          0.04864864,  0.05154487]),\n",
       "  array([0.72334278, 0.72052687, 0.35206896, 0.        , 0.72913522,\n",
       "         0.42419398, 0.08965051, 0.91798109, 1.1074425 , 1.20755172,\n",
       "         1.25272393, 1.0679518 , 0.81741577, 0.7194255 , 1.15740466,\n",
       "         1.10162485, 0.87721694])],\n",
       " [18,\n",
       "  array([-0.        ,  0.09175342,  0.12697753,  0.21459289, -0.08559448,\n",
       "         -0.18470336, -0.1622439 , -0.05323157, -0.11183459, -0.27123207,\n",
       "         -0.26982531, -0.23688537, -0.17425013, -0.0160625 ,  0.00782373,\n",
       "          0.19666418,  0.15649548]),\n",
       "  array([ 0.        , -0.05772942, -0.01001987,  0.01515948,  0.05917851,\n",
       "          0.08525442,  0.10139551, -0.01830214, -0.10011888, -0.15512967,\n",
       "         -0.15333474, -0.04850397, -0.02822627,  0.03791289, -0.07959542,\n",
       "          0.04348154,  0.05565269]),\n",
       "  array([0.73744094, 0.73821115, 0.36358047, 0.        , 0.73956013,\n",
       "         0.43220705, 0.09095353, 0.93143213, 1.11790085, 1.22315741,\n",
       "         1.2684536 , 1.07138228, 0.82250303, 0.74063134, 1.17292011,\n",
       "         1.1398716 , 0.91468573])],\n",
       " [19,\n",
       "  array([-0.        ,  0.09175342,  0.12697753,  0.21459289, -0.08559448,\n",
       "         -0.18470336, -0.1622439 , -0.05323157, -0.11183459, -0.27123207,\n",
       "         -0.26982531, -0.2368855 , -0.17425025, -0.0160625 ,  0.00782373,\n",
       "          0.19666418,  0.15649548]),\n",
       "  array([ 0.        , -0.05772943, -0.01001988,  0.01515944,  0.0591785 ,\n",
       "          0.08525448,  0.10139548, -0.01830212, -0.10011898, -0.15512976,\n",
       "         -0.15333487, -0.04850405, -0.02822636,  0.03791279, -0.07959549,\n",
       "          0.04348145,  0.05565281]),\n",
       "  array([0.73744094, 0.73821115, 0.36358035, 0.        , 0.73956013,\n",
       "         0.43220705, 0.09095353, 0.93143213, 1.11790085, 1.22315717,\n",
       "         1.2684536 , 1.07138228, 0.82250303, 0.74063134, 1.17292011,\n",
       "         1.13987136, 0.91468573])],\n",
       " [20,\n",
       "  array([-0.        ,  0.09402002,  0.13956372,  0.237927  , -0.08760767,\n",
       "         -0.19706286, -0.2651338 , -0.06493481, -0.132828  , -0.30443531,\n",
       "         -0.30387843, -0.25771803, -0.17856397, -0.00343665, -0.01524683,\n",
       "          0.19776954,  0.15925281]),\n",
       "  array([ 0.        , -0.05602629, -0.01874679, -0.00101802,  0.05943378,\n",
       "          0.08905084,  0.11648894, -0.02557502, -0.11828353, -0.1666701 ,\n",
       "         -0.16295515, -0.06456404, -0.08412637, -0.05945101, -0.09335896,\n",
       "          0.02503929,  0.05298511]),\n",
       "  array([0.75974488, 0.76539618, 0.37225625, 0.        , 0.75597185,\n",
       "         0.42548609, 0.1011011 , 0.95138919, 1.13067722, 1.22296262,\n",
       "         1.26567101, 1.06988692, 0.82119912, 0.76333934, 1.19790232,\n",
       "         1.19563007, 0.97044444])],\n",
       " [21,\n",
       "  array([-0.        ,  0.09303174,  0.14963928,  0.26018262, -0.08656006,\n",
       "         -0.19625415, -0.29489735, -0.06451343, -0.13168201, -0.30275023,\n",
       "         -0.30631873, -0.25992945, -0.18406066, -0.00416479, -0.01046387,\n",
       "          0.18813916,  0.15333655]),\n",
       "  array([ 0.        , -0.05649689, -0.01740925,  0.00134626,  0.06023356,\n",
       "          0.08151355,  0.1246618 , -0.02607904, -0.1255917 , -0.17186493,\n",
       "         -0.1667261 , -0.07653797, -0.0973889 , -0.10198256, -0.09186935,\n",
       "          0.05137825,  0.06717127]),\n",
       "  array([0.76015818, 0.76838517, 0.37132284, 0.        , 0.75361884,\n",
       "         0.41008773, 0.10363084, 0.95375687, 1.1347326 , 1.21416235,\n",
       "         1.26064253, 1.07336831, 0.81762499, 0.76577157, 1.20454979,\n",
       "         1.2062062 , 0.98803765])],\n",
       " [22,\n",
       "  array([-0.        ,  0.09253711,  0.14962366,  0.27956209, -0.08561536,\n",
       "         -0.19139892, -0.30554846, -0.06955738, -0.14150526, -0.31485584,\n",
       "         -0.31818983, -0.26312816, -0.18776184, -0.01236243, -0.02563245,\n",
       "          0.18795569,  0.14133911]),\n",
       "  array([ 0.        , -0.05710664, -0.01365596,  0.00748318,  0.06081323,\n",
       "          0.08761684,  0.12618032, -0.02588264, -0.11402588, -0.16398169,\n",
       "         -0.160116  , -0.05920085, -0.0733709 , -0.07471953, -0.0917656 ,\n",
       "          0.02213431,  0.0551293 ]),\n",
       "  array([0.75164527, 0.76165992, 0.37080383, 0.        , 0.74383581,\n",
       "         0.40788344, 0.10155225, 0.94217831, 1.12034655, 1.20383573,\n",
       "         1.25028491, 1.06198621, 0.80476886, 0.75626516, 1.18527699,\n",
       "         1.19517255, 0.97005296])],\n",
       " [23,\n",
       "  array([-0.        ,  0.09277466,  0.16593066,  0.30932868, -0.08597278,\n",
       "         -0.18609765, -0.29119605, -0.06853186, -0.13991418, -0.30030811,\n",
       "         -0.30081934, -0.26224989, -0.19618933, -0.03532446, -0.02176282,\n",
       "          0.19186938,  0.13770752]),\n",
       "  array([ 0.        , -0.05607992,  0.00065914,  0.02650805,  0.05960947,\n",
       "          0.0893581 ,  0.13471493, -0.02241187, -0.08744959, -0.14643247,\n",
       "         -0.1386884 , -0.03959685, -0.02433144, -0.00284804, -0.07510482,\n",
       "          0.02817098,  0.05132454]),\n",
       "  array([0.74602443, 0.75581431, 0.36955872, 0.        , 0.73870349,\n",
       "         0.40410694, 0.10122412, 0.94036454, 1.12510455, 1.22698617,\n",
       "         1.27747107, 1.06312621, 0.81982344, 0.74630404, 1.19536889,\n",
       "         1.17487371, 0.93549222])],\n",
       " [24,\n",
       "  array([-0.        ,  0.09279822,  0.16589405,  0.3094328 , -0.08596484,\n",
       "         -0.18594727, -0.2910642 , -0.06859253, -0.13965577, -0.3002544 ,\n",
       "         -0.30077782, -0.26214454, -0.19613953, -0.03513147, -0.02178259,\n",
       "          0.19174072,  0.13759901]),\n",
       "  array([ 0.        , -0.05513763,  0.00100374,  0.02582231,  0.0588213 ,\n",
       "          0.0889544 ,  0.13385333, -0.02144705, -0.08766226, -0.14605714,\n",
       "         -0.13819434, -0.0397679 , -0.02795664, -0.01152943, -0.07449475,\n",
       "          0.02944253,  0.05393181]),\n",
       "  array([0.74769127, 0.7593419 , 0.37274241, 0.        , 0.73869568,\n",
       "         0.40377563, 0.10100132, 0.9415217 , 1.12526906, 1.22702909,\n",
       "         1.27742887, 1.06312108, 0.81971174, 0.74608523, 1.19532204,\n",
       "         1.17509294, 0.93906879])],\n",
       " [25,\n",
       "  array([-0.        ,  0.09273645,  0.19893201,  0.38559064, -0.08749805,\n",
       "         -0.14221741, -0.22187793, -0.06646375, -0.12700269, -0.28259203,\n",
       "         -0.2833142 , -0.27302283, -0.25276428, -0.11213928,  0.00835693,\n",
       "          0.17112915,  0.07710974]),\n",
       "  array([ 0.        , -0.04074932,  0.0200438 ,  0.04910896,  0.04836277,\n",
       "          0.06944031,  0.11565903, -0.02453741, -0.09673566, -0.15482886,\n",
       "         -0.14757434, -0.07324307, -0.00237158,  0.03139728, -0.08655091,\n",
       "         -0.0117888 ,  0.0069029 ]),\n",
       "  array([0.73284471, 0.74202096, 0.38072863, 0.        , 0.72803807,\n",
       "         0.40163523, 0.09796798, 0.92209125, 1.10372782, 1.21571732,\n",
       "         1.25619221, 1.08563578, 0.84623504, 0.71409518, 1.13467634,\n",
       "         1.00121713, 0.80090809])],\n",
       " [26,\n",
       "  array([-0.        ,  0.08666626,  0.22304748,  0.42430761, -0.08244079,\n",
       "         -0.12397156, -0.18422009, -0.06049841, -0.11568493, -0.26818517,\n",
       "         -0.26494995, -0.25134668, -0.28214794, -0.27309325,  0.01519385,\n",
       "          0.13165198, -0.02791211]),\n",
       "  array([ 0.        , -0.04540527,  0.00605973,  0.03785489,  0.05239988,\n",
       "          0.06039754,  0.10467538, -0.03788117, -0.15558085, -0.19895598,\n",
       "         -0.21040356, -0.09134657,  0.02555433, -0.00336404, -0.16952649,\n",
       "         -0.18302193, -0.2245398 ]),\n",
       "  array([0.73406482, 0.74049169, 0.36954686, 0.        , 0.73229641,\n",
       "         0.39967859, 0.09330714, 0.92627168, 1.11229706, 1.22597623,\n",
       "         1.26168013, 1.1303221 , 0.94127387, 0.76159787, 1.10761309,\n",
       "         0.88105458, 0.71338481])],\n",
       " [27,\n",
       "  array([-0.        , -0.07240503, -0.12231885, -0.15535949,  0.0647627 ,\n",
       "          0.19968152,  0.42378625, -0.07159619, -0.15598536, -0.28403676,\n",
       "         -0.29412377, -0.07168885, -0.02992969, -0.3049784 , -0.23557433,\n",
       "         -0.36031592, -0.31504565]),\n",
       "  array([ 0.        , -0.09172449,  0.04015449,  0.0575396 ,  0.10054553,\n",
       "          0.09705737,  0.09931979, -0.01808413,  0.01335065, -0.01419652,\n",
       "         -0.05737384,  0.12943031,  0.19357404,  0.09257801, -0.1023724 ,\n",
       "         -0.17657062, -0.0598329 ]),\n",
       "  array([0.73349684, 0.73049796, 0.42632034, 0.10299903, 0.73405921,\n",
       "         0.36137086, 0.        , 0.93592757, 1.14004433, 1.22385538,\n",
       "         1.25780606, 1.14501548, 0.92219114, 0.76671648, 1.14406443,\n",
       "         0.97145772, 0.75233024])],\n",
       " [28,\n",
       "  array([-0.        ,  0.07121509,  0.21494506,  0.45167121, -0.06628967,\n",
       "         -0.12412109, -0.14030859, -0.05962   , -0.12587732, -0.27052552,\n",
       "         -0.26638061, -0.18642944, -0.38813636, -0.40297997, -0.06992688,\n",
       "         -0.043979  , -0.26228151]),\n",
       "  array([ 0.        , -0.08252349, -0.00468067,  0.02286313,  0.07640352,\n",
       "          0.09385606,  0.08843709, -0.05797493, -0.20042209, -0.2268811 ,\n",
       "         -0.2471358 , -0.08943938, -0.04271344, -0.10494187, -0.27617052,\n",
       "         -0.28206024, -0.24831733]),\n",
       "  array([0.7122677 , 0.70664662, 0.35704333, 0.        , 0.72037297,\n",
       "         0.41133252, 0.07201976, 0.90516293, 1.09734976, 1.18687272,\n",
       "         1.22189283, 1.18688834, 1.12354028, 0.87465751, 1.02437317,\n",
       "         0.68732941, 0.72471195])],\n",
       " [29,\n",
       "  array([-0.        ,  0.07117175,  0.21492566,  0.45165655, -0.06628345,\n",
       "         -0.1243064 , -0.13960132, -0.05965003, -0.12600647, -0.27084729,\n",
       "         -0.26661927, -0.18685657, -0.38828808, -0.40310791, -0.06995874,\n",
       "         -0.04397681, -0.26266176]),\n",
       "  array([ 0.        , -0.08269995, -0.00408439,  0.02462928,  0.07648612,\n",
       "          0.0946435 ,  0.08683562, -0.05754173, -0.20036368, -0.22688174,\n",
       "         -0.24746412, -0.08964463, -0.04200638, -0.10348879, -0.27609524,\n",
       "         -0.28259426, -0.24882424]),\n",
       "  array([0.71233523, 0.70674801, 0.35704079, 0.        , 0.7203846 ,\n",
       "         0.41095778, 0.06946802, 0.90593743, 1.0993309 , 1.18706143,\n",
       "         1.22191739, 1.19088233, 1.12355256, 0.87454921, 1.02455723,\n",
       "         0.69016242, 0.72788614])],\n",
       " [30,\n",
       "  array([-0.        ,  0.06260913,  0.17406262,  0.42543617, -0.05742066,\n",
       "         -0.12799317, -0.12183508, -0.04930078, -0.10032117, -0.26408568,\n",
       "         -0.27158168, -0.08769727, -0.30332738, -0.47428271, -0.11282276,\n",
       "         -0.23901819, -0.47736683]),\n",
       "  array([ 0.        , -0.08580212,  0.00363154,  0.03511167,  0.08161781,\n",
       "          0.087127  ,  0.08599105, -0.03930545, -0.12820032, -0.14992605,\n",
       "         -0.18102063,  0.0098115 ,  0.00637383, -0.04556166, -0.23098692,\n",
       "         -0.29688486, -0.25787112]),\n",
       "  array([0.6701597 , 0.66848522, 0.32232705, 0.        , 0.67443758,\n",
       "         0.36059231, 0.02552873, 0.86464816, 1.0630827 , 1.13040769,\n",
       "         1.16906929, 1.11434078, 1.1977582 , 0.94206476, 1.02026153,\n",
       "         0.74295914, 0.795578  ])],\n",
       " [31,\n",
       "  array([-0.        ,  0.05824219,  0.14350928,  0.39008778, -0.05258203,\n",
       "         -0.12637134, -0.12077563, -0.05435852, -0.11170252, -0.26889086,\n",
       "         -0.27105772, -0.11076038, -0.31118298, -0.49980077, -0.10928369,\n",
       "         -0.30016857, -0.51749766]),\n",
       "  array([ 0.        , -0.0894255 , -0.01126149,  0.02811281,  0.08646384,\n",
       "          0.0850148 ,  0.0666913 , -0.04108907, -0.13646066, -0.16087858,\n",
       "         -0.19654068, -0.00338399, -0.01185766, -0.06246081, -0.23578042,\n",
       "         -0.31710908, -0.24452713]),\n",
       "  array([0.64658511, 0.6468522 , 0.29220316, 0.00782621, 0.64828497,\n",
       "         0.33133096, 0.        , 0.83658177, 1.0308156 , 1.06998587,\n",
       "         1.10321367, 1.08743608, 1.20119476, 0.97335768, 0.97823131,\n",
       "         0.76880139, 0.84314352])],\n",
       " [32,\n",
       "  array([-0.        ,  0.05462341,  0.1338169 ,  0.377938  , -0.05045398,\n",
       "         -0.12796728, -0.11087842, -0.05105554, -0.10646448, -0.268401  ,\n",
       "         -0.2761952 , -0.09529419, -0.32677636, -0.51233315, -0.11974731,\n",
       "         -0.34302783, -0.55762839]),\n",
       "  array([ 0.        , -0.09872862, -0.01207876,  0.04367956,  0.09307244,\n",
       "          0.09308209,  0.06293925, -0.04278975, -0.16381562, -0.17596835,\n",
       "         -0.22640301, -0.04820593, -0.02697304, -0.08429184, -0.25979963,\n",
       "         -0.33379763, -0.24966244]),\n",
       "  array([0.67046106, 0.66623425, 0.30727282, 0.03980553, 0.67522997,\n",
       "         0.33762366, 0.        , 0.87481475, 1.08425343, 1.10635495,\n",
       "         1.14154029, 1.20154357, 1.28387392, 1.13414979, 0.9750967 ,\n",
       "         0.84294891, 0.94157934])],\n",
       " [33,\n",
       "  array([-0.        ,  0.06270227,  0.12579346,  0.36103675, -0.05726953,\n",
       "         -0.12417847, -0.09608789, -0.04891516, -0.10178821, -0.27146143,\n",
       "         -0.27519885, -0.09185071, -0.30761841, -0.4986333 , -0.11155261,\n",
       "         -0.35956433, -0.5542593 ]),\n",
       "  array([ 0.        , -0.09352894, -0.01070404,  0.05479771,  0.08798905,\n",
       "          0.08633297,  0.0667588 , -0.04174263, -0.15491566, -0.17391655,\n",
       "         -0.21799766, -0.03635141, -0.02963863, -0.08603577, -0.25258175,\n",
       "         -0.32054424, -0.2415051 ]),\n",
       "  array([0.66671413, 0.66376382, 0.3031559 , 0.05051494, 0.67058158,\n",
       "         0.3356559 , 0.        , 0.87229115, 1.08481741, 1.11642933,\n",
       "         1.15276837, 1.18766546, 1.32976222, 1.18618178, 0.98910367,\n",
       "         0.87974936, 1.00520706])],\n",
       " [34,\n",
       "  array([-0.        ,  0.06272766,  0.12583935,  0.36113   , -0.05729761,\n",
       "         -0.12414002, -0.09600012, -0.0489491 , -0.1018031 , -0.27480432,\n",
       "         -0.27879626, -0.09171216, -0.30747119, -0.49843749, -0.11151074,\n",
       "         -0.36336926, -0.55357373]),\n",
       "  array([ 0.        , -0.09359705, -0.01057566,  0.05503205,  0.08809627,\n",
       "          0.08673485,  0.06771494, -0.04176218, -0.15452644, -0.17461684,\n",
       "         -0.21908054, -0.03585297, -0.02889489, -0.08609008, -0.25277877,\n",
       "         -0.31911299, -0.23779297]),\n",
       "  array([0.66680431, 0.66383672, 0.30326185, 0.05054152, 0.67070228,\n",
       "         0.33575866, 0.        , 0.8725822 , 1.08499694, 1.11669528,\n",
       "         1.15326738, 1.18774176, 1.32991374, 1.18625283, 0.98918545,\n",
       "         0.88059944, 1.0056386 ])],\n",
       " [35,\n",
       "  array([-0.        ,  0.05729394,  0.09673925,  0.30727294, -0.05149744,\n",
       "         -0.11439551, -0.06891431, -0.05041345, -0.10686694, -0.27718982,\n",
       "         -0.28209972, -0.1084928 , -0.30556163, -0.47257447, -0.09737195,\n",
       "         -0.34669361, -0.49942762]),\n",
       "  array([ 0.        , -0.09071273, -0.01620254,  0.05261329,  0.08444477,\n",
       "          0.09111014,  0.080732  , -0.0380424 , -0.12797062, -0.15864889,\n",
       "         -0.19541025,  0.00408403, -0.03425081, -0.08384147, -0.23107377,\n",
       "         -0.31884271, -0.24721247]),\n",
       "  array([0.632604  , 0.62997472, 0.28064454, 0.04264492, 0.63712132,\n",
       "         0.3286593 , 0.        , 0.83313245, 1.04521537, 1.09387207,\n",
       "         1.13442636, 1.10480607, 1.34069157, 1.20064998, 0.99217093,\n",
       "         0.87810218, 1.07065022])],\n",
       " [36,\n",
       "  array([-0.        ,  0.05669385,  0.08397254,  0.28592479, -0.0505553 ,\n",
       "         -0.10911609, -0.05431946, -0.05368933, -0.11540735, -0.27190125,\n",
       "         -0.27674779, -0.13742834, -0.30839452, -0.46788257, -0.0835055 ,\n",
       "         -0.31886181, -0.45702186]),\n",
       "  array([ 0.        , -0.08652061, -0.01606277,  0.04619258,  0.08187802,\n",
       "          0.09256461,  0.08875383, -0.03340924, -0.10856485, -0.14473028,\n",
       "         -0.16938621,  0.02421943, -0.0366841 , -0.06287745, -0.21263196,\n",
       "         -0.32061049, -0.24321586]),\n",
       "  array([0.61272776, 0.61039567, 0.27087975, 0.03346008, 0.61798435,\n",
       "         0.32148814, 0.        , 0.80614871, 1.0106256 , 1.07637155,\n",
       "         1.11084199, 1.03434169, 1.32312012, 1.10285068, 0.99276638,\n",
       "         0.86771697, 1.09603119])],\n",
       " [37,\n",
       "  array([-0.        ,  0.05796558,  0.06343884,  0.26770946, -0.05050891,\n",
       "         -0.10187867, -0.04126636, -0.05150659, -0.12061352, -0.25927565,\n",
       "         -0.26364172, -0.15841101, -0.30271459, -0.44119531, -0.07072107,\n",
       "         -0.2549248 , -0.38691601]),\n",
       "  array([ 0.        , -0.08319261, -0.01567929,  0.05555487,  0.07796248,\n",
       "          0.08675599,  0.1076165 ,  0.00397256,  0.02406805, -0.01824615,\n",
       "         -0.01434416,  0.10884521,  0.12471257,  0.05618662, -0.05253876,\n",
       "         -0.1221833 , -0.06827959]),\n",
       "  array([0.59589452, 0.59681469, 0.26533812, 0.03235924, 0.59919196,\n",
       "         0.31138659, 0.        , 0.7855612 , 0.98290217, 1.05703056,\n",
       "         1.09320593, 0.9568969 , 0.82831174, 1.02845311, 1.01321959,\n",
       "         1.30267429, 1.15681565])],\n",
       " [38,\n",
       "  array([-0.        ,  0.05667517,  0.05370654,  0.25736445, -0.05074963,\n",
       "         -0.09791712, -0.03220447, -0.0491206 , -0.11481677, -0.251214  ,\n",
       "         -0.25594655, -0.1610105 , -0.29109901, -0.41773388, -0.05771839,\n",
       "         -0.21854919, -0.34113893]),\n",
       "  array([ 0.        , -0.08682021, -0.02450934,  0.05580295,  0.07972109,\n",
       "          0.09381608,  0.10970917,  0.00545329,  0.04164656, -0.01029845,\n",
       "         -0.00400952,  0.11322885,  0.07126798,  0.02498057, -0.01682923,\n",
       "         -0.10511733, -0.05428007]),\n",
       "  array([0.60880542, 0.61014384, 0.26898304, 0.04020822, 0.61006373,\n",
       "         0.31410047, 0.        , 0.80610365, 1.0145185 , 1.07878971,\n",
       "         1.11507058, 0.95207268, 0.81887048, 1.00868642, 1.08134604,\n",
       "         1.33835077, 1.19442439])],\n",
       " [39,\n",
       "  array([-0.        ,  0.05672192,  0.05368689,  0.25735217, -0.05080591,\n",
       "         -0.09793213, -0.03219495, -0.04910046, -0.1149491 , -0.25108629,\n",
       "         -0.25587866, -0.16127369, -0.29177746, -0.41843846, -0.05793506,\n",
       "         -0.2187058 , -0.34120387]),\n",
       "  array([ 0.        , -0.08665369, -0.02418314,  0.05636849,  0.0796563 ,\n",
       "          0.09451107,  0.11069762,  0.00582629,  0.04436085, -0.0076885 ,\n",
       "         -0.00138253,  0.114529  ,  0.0611237 ,  0.01811314, -0.01409991,\n",
       "         -0.10387967, -0.05479301]),\n",
       "  array([0.60867834, 0.60998344, 0.26880604, 0.04015136, 0.60996461,\n",
       "         0.31398717, 0.        , 0.80602527, 1.01429486, 1.07858706,\n",
       "         1.11482596, 0.94795167, 0.81870097, 1.00899339, 1.08496225,\n",
       "         1.33827496, 1.19432235])],\n",
       " [40,\n",
       "  array([-0.        ,  0.05252002,  0.0184751 ,  0.22213477, -0.04772778,\n",
       "         -0.08458972, -0.00669507, -0.03805127, -0.09238464, -0.2220127 ,\n",
       "         -0.22682275, -0.13198425, -0.25430164, -0.35982582, -0.04116846,\n",
       "         -0.19177027, -0.32071167]),\n",
       "  array([ 0.        , -0.0852587 , -0.0211617 ,  0.04142819,  0.07881778,\n",
       "          0.08764744,  0.10730783,  0.00607133,  0.02452864, -0.01476288,\n",
       "         -0.01211546,  0.11260698,  0.11354706,  0.058052  , -0.04104962,\n",
       "         -0.11745558, -0.0560093 ]),\n",
       "  array([0.61605763, 0.6165905 , 0.28033277, 0.02730983, 0.61884415,\n",
       "         0.31832632, 0.        , 0.80600011, 1.00476897, 1.08812082,\n",
       "         1.12183011, 0.97383225, 0.80908114, 1.00561714, 1.04051638,\n",
       "         1.32010901, 1.17781568])],\n",
       " [41,\n",
       "  array([-0.        ,  0.04740234, -0.00198206,  0.19684497, -0.04386755,\n",
       "         -0.08147681, -0.00219019, -0.03769873, -0.085146  , -0.2141919 ,\n",
       "         -0.22049963, -0.11194324, -0.24358997, -0.33634156, -0.04829236,\n",
       "         -0.21828027, -0.32526451]),\n",
       "  array([ 0.        , -0.08666671, -0.01327902,  0.02493036,  0.08374459,\n",
       "          0.08973318,  0.10068371, -0.00648948, -0.03963965, -0.06830116,\n",
       "         -0.08951736,  0.07541557,  0.07060421,  0.00550379, -0.13155487,\n",
       "         -0.24564181, -0.17091794]),\n",
       "  array([0.61243361, 0.61266357, 0.29238015, 0.0236299 , 0.61629546,\n",
       "         0.31860036, 0.        , 0.80420023, 1.00802875, 1.08764076,\n",
       "         1.12896776, 1.00899851, 0.80506122, 1.04070449, 1.01387429,\n",
       "         0.80338418, 1.04450393])],\n",
       " [42,\n",
       "  array([-0.        ,  0.04570911, -0.02036951,  0.17994201, -0.0424303 ,\n",
       "         -0.08145972,  0.00309424, -0.03337964, -0.07744043, -0.20556335,\n",
       "         -0.20933349, -0.10916296, -0.23307507, -0.32695019, -0.0335072 ,\n",
       "         -0.18863171, -0.30186474]),\n",
       "  array([ 0.        , -0.08966704, -0.01730506,  0.01514893,  0.08665108,\n",
       "          0.09223062,  0.09684573, -0.00045458, -0.02945371, -0.05726042,\n",
       "         -0.07009041,  0.08557979,  0.07353366,  0.01499387, -0.11648785,\n",
       "         -0.22447234, -0.17439182]),\n",
       "  array([0.62531322, 0.62704158, 0.30574119, 0.02448463, 0.62702698,\n",
       "         0.3236964 , 0.        , 0.81769252, 1.01977408, 1.09304976,\n",
       "         1.12858284, 1.01036739, 0.80275327, 1.00396657, 1.03574014,\n",
       "         0.8036778 , 1.12785935])],\n",
       " [43,\n",
       "  array([-0.        ,  0.04444068, -0.02558606,  0.16926135, -0.04239856,\n",
       "         -0.06980908,  0.0094801 , -0.03109253, -0.0721217 , -0.1950736 ,\n",
       "         -0.20082325, -0.10032275, -0.2220664 , -0.30746168, -0.03539599,\n",
       "         -0.18952784, -0.29436657]),\n",
       "  array([ 0.        , -0.08972307, -0.02035844,  0.00156601,  0.0864334 ,\n",
       "          0.09360592,  0.11156659, -0.00187225, -0.03387779, -0.05761211,\n",
       "         -0.07813796,  0.08124546,  0.05620547,  0.00646485, -0.12451248,\n",
       "         -0.22591525, -0.17436224]),\n",
       "  array([6.19711280e-01, 6.20255411e-01, 3.02921236e-01, 6.87241554e-05,\n",
       "         6.22615755e-01, 3.17629725e-01, 0.00000000e+00, 8.13520730e-01,\n",
       "         1.01969385e+00, 1.08842039e+00, 1.12392759e+00, 1.02187395e+00,\n",
       "         7.92457461e-01, 1.01716340e+00, 1.02651560e+00, 7.94401228e-01,\n",
       "         1.09581482e+00])],\n",
       " [44,\n",
       "  array([-0.        ,  0.04444324, -0.02567078,  0.16917346, -0.04234741,\n",
       "         -0.06996509,  0.00556055, -0.0323302 , -0.07441199, -0.19591199,\n",
       "         -0.20350659, -0.10140979, -0.22241479, -0.30817041, -0.04040369,\n",
       "         -0.19389795, -0.29841968]),\n",
       "  array([ 0.        , -0.09045202, -0.02125969,  0.00025143,  0.08662453,\n",
       "          0.09387027,  0.11091438, -0.0045091 , -0.03833295, -0.06148208,\n",
       "         -0.08511639,  0.07674478,  0.05736696,  0.00401693, -0.13178118,\n",
       "         -0.23130882, -0.17618097]),\n",
       "  array([6.18377686e-01, 6.17499292e-01, 3.02969843e-01, 0.00000000e+00,\n",
       "         6.22483969e-01, 3.17642570e-01, 5.82754612e-04, 8.13805819e-01,\n",
       "         1.02302825e+00, 1.08834350e+00, 1.12409592e+00, 1.03019440e+00,\n",
       "         7.96757877e-01, 1.02100098e+00, 1.02633047e+00, 7.93693185e-01,\n",
       "         1.08043432e+00])],\n",
       " [45,\n",
       "  array([-0.        ,  0.03453906, -0.05852576,  0.12597217, -0.03077551,\n",
       "         -0.08532288,  0.01184888, -0.02970007, -0.06733508, -0.19076672,\n",
       "         -0.19945252, -0.07970008, -0.20064306, -0.29324341, -0.04930811,\n",
       "         -0.1961377 , -0.29421949]),\n",
       "  array([ 0.        , -0.09675602, -0.02001801, -0.01328569,  0.09247673,\n",
       "          0.10042332,  0.08773919, -0.00964922, -0.04340119, -0.07041535,\n",
       "         -0.10613258,  0.08052159,  0.07229438,  0.00644074, -0.15161084,\n",
       "         -0.24490432, -0.17636973]),\n",
       "  array([0.62536794, 0.6239599 , 0.32269913, 0.01103127, 0.62892288,\n",
       "         0.32271597, 0.        , 0.82538903, 1.0400368 , 1.12517047,\n",
       "         1.15947986, 1.06008506, 0.82395351, 1.0970118 , 1.02864575,\n",
       "         0.79885864, 1.02642095])],\n",
       " [46,\n",
       "  array([-0.        ,  0.02916455, -0.06294385,  0.12974268, -0.02674683,\n",
       "         -0.08161768,  0.0191864 , -0.01673035, -0.03649365, -0.18288366,\n",
       "         -0.19138563, -0.01705286, -0.15595642, -0.27424818, -0.0475719 ,\n",
       "         -0.20065331, -0.29879725]),\n",
       "  array([ 0.        , -0.09747257, -0.01833099, -0.01145034,  0.08722809,\n",
       "          0.09814241,  0.08170762, -0.02570703, -0.11232163, -0.12956052,\n",
       "         -0.16779   ,  0.03438624,  0.04577547, -0.0455616 , -0.20263904,\n",
       "         -0.29224312, -0.24121246]),\n",
       "  array([0.63040334, 0.62730831, 0.32475406, 0.01836658, 0.63423908,\n",
       "         0.32670802, 0.        , 0.83143806, 1.04827666, 1.13722312,\n",
       "         1.16658497, 1.09849095, 1.31325841, 1.20915771, 1.00972772,\n",
       "         0.80345058, 1.00864816])],\n",
       " [47,\n",
       "  array([-0.        ,  0.03182629, -0.06619226,  0.12683557, -0.02864221,\n",
       "         -0.08381885,  0.0128053 , -0.01973853, -0.04295447, -0.18144189,\n",
       "         -0.18936291, -0.02988428, -0.16510572, -0.27539685, -0.04836279,\n",
       "         -0.20212732, -0.30001661]),\n",
       "  array([ 0.        , -0.09695278, -0.01928691, -0.01306845,  0.08798967,\n",
       "          0.0946321 ,  0.07634329, -0.02533497, -0.11126085, -0.12921561,\n",
       "         -0.16585715,  0.03544778,  0.04192493, -0.04623973, -0.20242648,\n",
       "         -0.28950793, -0.23995282]),\n",
       "  array([0.63445252, 0.63154942, 0.32938343, 0.02132225, 0.63781464,\n",
       "         0.32596755, 0.        , 0.8344844 , 1.04956365, 1.13885522,\n",
       "         1.16572261, 1.0959152 , 1.31450379, 1.20188618, 1.01552272,\n",
       "         0.80505824, 1.01311684])],\n",
       " [48,\n",
       "  array([-0.        ,  0.03176855, -0.05969543,  0.12865125, -0.0293855 ,\n",
       "         -0.07998841,  0.02279846, -0.0171571 , -0.03909168, -0.17331274,\n",
       "         -0.18294983, -0.02647327, -0.16913952, -0.2663745 , -0.0469762 ,\n",
       "         -0.19345398, -0.28415784]),\n",
       "  array([ 0.        , -0.09729969, -0.0174853 , -0.01248932,  0.0914117 ,\n",
       "          0.10025985,  0.08724804, -0.00979696, -0.04869995, -0.07550076,\n",
       "         -0.11529899,  0.08366543,  0.09509608,  0.01605208, -0.16064984,\n",
       "         -0.24993858, -0.17361951]),\n",
       "  array([0.6346553 , 0.63148654, 0.32826748, 0.01248914, 0.63982439,\n",
       "         0.3246614 , 0.        , 0.83374202, 1.04692054, 1.14791989,\n",
       "         1.1809423 , 1.07378411, 0.85078603, 1.1102494 , 1.01878762,\n",
       "         0.80078399, 0.99610698])],\n",
       " [49,\n",
       "  array([-0.        ,  0.03178381, -0.05972034,  0.12866455, -0.02938464,\n",
       "         -0.0800188 ,  0.0228103 , -0.01716284, -0.03909656, -0.17329639,\n",
       "         -0.18294531, -0.02651538, -0.16909997, -0.26638794, -0.04691614,\n",
       "         -0.19361144, -0.28448218]),\n",
       "  array([ 0.        , -0.09722897, -0.01770548, -0.01266876,  0.0913542 ,\n",
       "          0.10014686,  0.08685104, -0.00970345, -0.04807741, -0.07510291,\n",
       "         -0.11503741,  0.08398571,  0.09567366,  0.01600176, -0.16011856,\n",
       "         -0.25349876, -0.17402768]),\n",
       "  array([0.63471925, 0.63157034, 0.32826516, 0.01252884, 0.63986623,\n",
       "         0.32462612, 0.        , 0.83378267, 1.04701161, 1.14798164,\n",
       "         1.18102598, 1.07383502, 0.85093659, 1.1103425 , 1.01884317,\n",
       "         0.80452001, 0.99648017])],\n",
       " [50,\n",
       "  array([-0.        ,  0.02596545, -0.06161243,  0.1258662 , -0.02390344,\n",
       "         -0.07837317,  0.02103381, -0.01711536, -0.03868482, -0.17059472,\n",
       "         -0.17598218, -0.02395019, -0.16603528, -0.2629734 , -0.04897412,\n",
       "         -0.18708204, -0.27763954]),\n",
       "  array([ 0.        , -0.09973343, -0.01696686, -0.00847955,  0.09318592,\n",
       "          0.10232206,  0.08258393, -0.01025055, -0.0470059 , -0.07616752,\n",
       "         -0.11433417,  0.08588811,  0.10434265,  0.02085101, -0.16140068,\n",
       "         -0.25622985, -0.17924011]),\n",
       "  array([0.64176744, 0.63841581, 0.32833934, 0.01989037, 0.64639747,\n",
       "         0.326801  , 0.        , 0.84079868, 1.05365801, 1.16320109,\n",
       "         1.19689059, 1.07842875, 0.86019778, 1.08924818, 1.02693701,\n",
       "         0.8081733 , 1.00764811])],\n",
       " [51,\n",
       "  array([-0.        ,  0.0305813 , -0.06452405,  0.11850501, -0.02740759,\n",
       "         -0.07663635,  0.02231067, -0.02259619, -0.05220679, -0.16737585,\n",
       "         -0.1738053 , -0.05791919, -0.18784851, -0.27024242, -0.03995996,\n",
       "         -0.17778467, -0.27219909]),\n",
       "  array([ 0.        , -0.09618287, -0.01428532, -0.00474454,  0.09127234,\n",
       "          0.10022034,  0.0818589 , -0.00782857, -0.03630523, -0.06862269,\n",
       "         -0.09822032,  0.08992736,  0.08523709,  0.00888997, -0.14655502,\n",
       "         -0.25544468, -0.17992206]),\n",
       "  array([0.63962108, 0.63611048, 0.33097324, 0.02245301, 0.64441991,\n",
       "         0.3272301 , 0.        , 0.83614564, 1.04652071, 1.16746712,\n",
       "         1.20197618, 1.05581701, 0.82974893, 1.03401935, 1.03642297,\n",
       "         0.81273216, 1.01935041])],\n",
       " [52,\n",
       "  array([-0.        ,  0.02031677, -0.07561755,  0.10938635, -0.01750989,\n",
       "         -0.07983228,  0.02266077, -0.02005908, -0.04578748, -0.16832373,\n",
       "         -0.17531507, -0.03655762, -0.18260901, -0.26774913, -0.0503739 ,\n",
       "         -0.1886261 , -0.27469996]),\n",
       "  array([ 0.        , -0.10169946, -0.01633001, -0.01609216,  0.09587803,\n",
       "          0.1093004 ,  0.08281097, -0.00845874, -0.03719636, -0.06882281,\n",
       "         -0.10575206,  0.09346765,  0.09090509,  0.01775787, -0.15335786,\n",
       "         -0.25404385, -0.17230102]),\n",
       "  array([0.63971752, 0.63772416, 0.33074999, 0.01460654, 0.64264208,\n",
       "         0.32530236, 0.        , 0.8396939 , 1.05368268, 1.17080879,\n",
       "         1.20507896, 1.07044744, 0.84874743, 1.07768404, 1.03568566,\n",
       "         0.81337392, 1.01548946])],\n",
       " [53,\n",
       "  array([-0.        ,  0.020927  , -0.07885425,  0.10465918, -0.01778113,\n",
       "         -0.07940918,  0.02277014, -0.01952222, -0.04516809, -0.16357923,\n",
       "         -0.16824012, -0.04266443, -0.17457117, -0.25902516, -0.04112598,\n",
       "         -0.18338758, -0.27431825]),\n",
       "  array([ 0.        , -0.1007273 , -0.01697708, -0.0121851 ,  0.09518594,\n",
       "          0.10400299,  0.07666843, -0.00868614, -0.03972927, -0.07273779,\n",
       "         -0.10674926,  0.09193937,  0.10643474,  0.01971837, -0.15426232,\n",
       "         -0.26851124, -0.18282828]),\n",
       "  array([0.64336622, 0.63994497, 0.3308827 , 0.02272755, 0.64718306,\n",
       "         0.32502881, 0.        , 0.83951461, 1.04825401, 1.1728158 ,\n",
       "         1.21128273, 1.06182075, 0.84619749, 1.05431569, 1.02957916,\n",
       "         0.82015693, 1.01488268])],\n",
       " [54,\n",
       "  array([-0.        ,  0.02264783, -0.07681128,  0.10534241, -0.0192821 ,\n",
       "         -0.08096472,  0.02093335, -0.02034546, -0.04793945, -0.16249573,\n",
       "         -0.16914356, -0.04557007, -0.18323047, -0.26523229, -0.04379724,\n",
       "         -0.1819967 , -0.27248731]),\n",
       "  array([ 0.        , -0.09795465, -0.01260832, -0.00641132,  0.09288031,\n",
       "          0.10296495,  0.07557514, -0.00742671, -0.03233581, -0.06530471,\n",
       "         -0.09710219,  0.09457459,  0.09005246,  0.0126346 , -0.14483833,\n",
       "         -0.26086822, -0.17973784]),\n",
       "  array([0.63097388, 0.62759089, 0.33078063, 0.02713877, 0.63548899,\n",
       "         0.32518774, 0.        , 0.82586288, 1.03487921, 1.16192544,\n",
       "         1.19674444, 1.04248476, 0.82457185, 1.02906597, 1.02332258,\n",
       "         0.81133962, 1.01155138])],\n",
       " [55,\n",
       "  array([-0.        ,  0.0227113 , -0.07674365,  0.10533533, -0.01926794,\n",
       "         -0.08093445,  0.020922  , -0.02021118, -0.04769849, -0.16240954,\n",
       "         -0.16701367, -0.04527429, -0.18338452, -0.26524049, -0.04358399,\n",
       "         -0.18196008, -0.27251709]),\n",
       "  array([ 0.        , -0.09771092, -0.01276806, -0.00685978,  0.09263946,\n",
       "          0.10222986,  0.07467484, -0.00794599, -0.03474352, -0.06770194,\n",
       "         -0.09915771,  0.09277121,  0.09334747,  0.01291032, -0.14718263,\n",
       "         -0.26539767, -0.18282309]),\n",
       "  array([0.63076782, 0.62741929, 0.33069482, 0.02713662, 0.63526362,\n",
       "         0.32507628, 0.        , 0.82492042, 1.03298604, 1.16168928,\n",
       "         1.19659162, 1.04252565, 0.82817471, 1.03282773, 1.01912475,\n",
       "         0.81105834, 1.01136041])],\n",
       " [56,\n",
       "  array([-0.        ,  0.0227113 , -0.07674365,  0.10533557, -0.01926794,\n",
       "         -0.08093445,  0.02092175, -0.02021118, -0.04769849, -0.16240954,\n",
       "         -0.16701379, -0.04527429, -0.18338452, -0.26524061, -0.0435841 ,\n",
       "         -0.18196008, -0.27251709]),\n",
       "  array([ 0.        , -0.09771096, -0.01276814, -0.00685996,  0.09263951,\n",
       "          0.10222986,  0.0746749 , -0.00794602, -0.03474357, -0.06770196,\n",
       "         -0.0991578 ,  0.09277125,  0.09334756,  0.01291033, -0.14718272,\n",
       "         -0.265398  , -0.18282321]),\n",
       "  array([0.63076794, 0.62741935, 0.33069494, 0.02713686, 0.63526368,\n",
       "         0.32507616, 0.        , 0.82492059, 1.03298604, 1.16168928,\n",
       "         1.19659185, 1.04252565, 0.82817471, 1.03282785, 1.01912451,\n",
       "         0.81105846, 1.01136041])],\n",
       " [57,\n",
       "  array([-0.        ,  0.02290857, -0.07654077,  0.10160998, -0.01939575,\n",
       "         -0.08455798,  0.01752234, -0.02022144, -0.04775012, -0.16572778,\n",
       "         -0.17049658, -0.04886523, -0.18334533, -0.26880297, -0.03902454,\n",
       "         -0.18117224, -0.27582055]),\n",
       "  array([ 0.        , -0.09773053, -0.01281932, -0.004383  ,  0.09277126,\n",
       "          0.09979402,  0.07241166, -0.00793046, -0.0347861 , -0.06931644,\n",
       "         -0.10067955,  0.09231825,  0.0941883 ,  0.01182284, -0.14604013,\n",
       "         -0.26522985, -0.18296981]),\n",
       "  array([0.63341665, 0.63001329, 0.32960159, 0.02916741, 0.63757676,\n",
       "         0.32456303, 0.        , 0.82732266, 1.03478789, 1.16143727,\n",
       "         1.19605947, 1.04208314, 0.82727253, 1.0287956 , 1.02230895,\n",
       "         0.81450725, 1.01128268])],\n",
       " [58,\n",
       "  array([-0.        ,  0.0247323 , -0.0745232 ,  0.10677686, -0.0212467 ,\n",
       "         -0.07895264,  0.01985938, -0.02019287, -0.0477251 , -0.1643147 ,\n",
       "         -0.16884986, -0.0472251 , -0.18563025, -0.26706871, -0.04128674,\n",
       "         -0.17975916, -0.27434179]),\n",
       "  array([ 0.        , -0.09631985, -0.01116079, -0.00109963,  0.09131504,\n",
       "          0.1006582 ,  0.07162525, -0.00866212, -0.03680504, -0.07028514,\n",
       "         -0.10114277,  0.0901926 ,  0.08902737,  0.01013062, -0.14762884,\n",
       "         -0.26557818, -0.18595941]),\n",
       "  array([0.63244885, 0.62899232, 0.33291468, 0.03433436, 0.63719988,\n",
       "         0.32683399, 0.        , 0.82631934, 1.03435779, 1.16307688,\n",
       "         1.1979425 , 1.04382527, 0.82983059, 1.04155076, 1.02030766,\n",
       "         0.81231594, 1.01273942])],\n",
       " [59,\n",
       "  array([-0.        ,  0.02477612, -0.07368555,  0.10397156, -0.02123315,\n",
       "         -0.08174475,  0.02006567, -0.02016577, -0.04779444, -0.16791943,\n",
       "         -0.17258826, -0.04707288, -0.18574573, -0.26671192, -0.04116199,\n",
       "         -0.17931128, -0.26985377]),\n",
       "  array([ 0.        , -0.09602851, -0.01102492, -0.00068981,  0.09092928,\n",
       "          0.09950148,  0.07629871, -0.00835475, -0.03413904, -0.06914294,\n",
       "         -0.10008889,  0.09262551,  0.09356606,  0.01319058, -0.14414066,\n",
       "         -0.26128131, -0.17888935]),\n",
       "  array([0.62954408, 0.62595797, 0.3276239 , 0.02899784, 0.63415366,\n",
       "         0.32300416, 0.        , 0.82342029, 1.03193641, 1.1603806 ,\n",
       "         1.19516945, 1.03690755, 0.8267433 , 1.03877962, 1.02154124,\n",
       "         0.80970955, 1.01010239])],\n",
       " [60,\n",
       "  array([-0.        ,  0.02477612, -0.07368542,  0.10397168, -0.02123303,\n",
       "         -0.08174463,  0.0200658 , -0.02016565, -0.04779431, -0.16791931,\n",
       "         -0.17258862, -0.04707263, -0.18574561, -0.26671192, -0.04116186,\n",
       "         -0.17931128, -0.26985365]),\n",
       "  array([ 0.        , -0.09602858, -0.01102496, -0.00068974,  0.09092934,\n",
       "          0.09950176,  0.07629894, -0.00835479, -0.03413914, -0.06914295,\n",
       "         -0.10008912,  0.09262545,  0.09356591,  0.01319051, -0.14414071,\n",
       "         -0.26128128, -0.1788895 ]),\n",
       "  array([0.62954408, 0.62595797, 0.32762378, 0.02899772, 0.63415366,\n",
       "         0.32300428, 0.        , 0.82342017, 1.03193641, 1.16038072,\n",
       "         1.19516945, 1.03690755, 0.8267433 , 1.0387795 , 1.02154112,\n",
       "         0.80970937, 1.01010227])],\n",
       " [61,\n",
       "  array([-0.        ,  0.02476916, -0.0736897 ,  0.10394593, -0.02122693,\n",
       "         -0.08175317,  0.02004114, -0.02019275, -0.04783606, -0.16793334,\n",
       "         -0.17260364, -0.04710913, -0.18552771, -0.26676905, -0.04121741,\n",
       "         -0.17930688, -0.26986974]),\n",
       "  array([ 0.        , -0.09601439, -0.01103242, -0.00069682,  0.090913  ,\n",
       "          0.09945444,  0.07626808, -0.00834459, -0.03410696, -0.06909914,\n",
       "         -0.10001674,  0.09267737,  0.09420208,  0.01297141, -0.14418946,\n",
       "         -0.26175153, -0.17919528]),\n",
       "  array([0.62955374, 0.62595922, 0.32762966, 0.02900225, 0.63416696,\n",
       "         0.32301176, 0.        , 0.82342666, 1.03195536, 1.16038859,\n",
       "         1.19518578, 1.03694499, 0.82664949, 1.03522539, 1.02154458,\n",
       "         0.80981147, 1.01014769])],\n",
       " [62,\n",
       "  array([-0.        ,  0.02479285, -0.07371265,  0.10395239, -0.02122143,\n",
       "         -0.08180713,  0.02006518, -0.0201803 , -0.04778931, -0.1678507 ,\n",
       "         -0.17453308, -0.04702625, -0.185458  , -0.26670983, -0.04113526,\n",
       "         -0.17925537, -0.26981726]),\n",
       "  array([ 0.        , -0.09599306, -0.01092392, -0.00055497,  0.09089442,\n",
       "          0.09970839,  0.07653762, -0.00853263, -0.03457163, -0.06924277,\n",
       "         -0.10106111,  0.0924417 ,  0.09403618,  0.01267044, -0.14437765,\n",
       "         -0.26192996, -0.1792597 ]),\n",
       "  array([0.62967467, 0.62604594, 0.32765356, 0.02905601, 0.63431424,\n",
       "         0.32293701, 0.        , 0.82359445, 1.03221989, 1.16055882,\n",
       "         1.19533014, 1.03710699, 0.82674301, 1.03534532, 1.02163744,\n",
       "         0.80986691, 1.01028287])],\n",
       " [63,\n",
       "  array([-0.        ,  0.0247926 , -0.0737124 ,  0.10395251, -0.02122131,\n",
       "         -0.08180701,  0.02006531, -0.02018042, -0.04778931, -0.16785058,\n",
       "         -0.17453296, -0.04702625, -0.18545789, -0.26670983, -0.04113513,\n",
       "         -0.17925525, -0.26981714]),\n",
       "  array([ 0.        , -0.09599312, -0.0109239 , -0.00055499,  0.09089448,\n",
       "          0.09970866,  0.07653756, -0.00853269, -0.03457177, -0.06924285,\n",
       "         -0.10106131,  0.09244162,  0.09403625,  0.01267051, -0.14437784,\n",
       "         -0.26193008, -0.17925996]),\n",
       "  array([0.6296742 , 0.62604553, 0.3276532 , 0.02905577, 0.63431376,\n",
       "         0.32293689, 0.        , 0.82359409, 1.03221941, 1.16055846,\n",
       "         1.1953299 , 1.03710699, 0.82674289, 1.03534508, 1.0216372 ,\n",
       "         0.80986655, 1.01028299])],\n",
       " [64,\n",
       "  array([-0.        ,  0.02479285, -0.0737124 ,  0.10395264, -0.02122131,\n",
       "         -0.08180688,  0.02006543, -0.02018018, -0.04778919, -0.16785058,\n",
       "         -0.17453283, -0.04702612, -0.18545789, -0.26670972, -0.04113501,\n",
       "         -0.17925513, -0.26981702]),\n",
       "  array([ 0.        , -0.09599308, -0.01092386, -0.0005549 ,  0.09089443,\n",
       "          0.09970857,  0.07653765, -0.00853262, -0.03457174, -0.06924281,\n",
       "         -0.10106121,  0.09244163,  0.09403627,  0.01267051, -0.14437774,\n",
       "         -0.26192999, -0.17925991]),\n",
       "  array([0.62967443, 0.62604576, 0.32765356, 0.02905589, 0.634314  ,\n",
       "         0.32293701, 0.        , 0.82359421, 1.03221965, 1.16055858,\n",
       "         1.1953299 , 1.03710699, 0.82674313, 1.03534532, 1.0216372 ,\n",
       "         0.80986667, 1.01028299])],\n",
       " [65,\n",
       "  array([-0.        ,  0.02479285, -0.0737124 ,  0.10395264, -0.02122131,\n",
       "         -0.08180688,  0.02006543, -0.02018018, -0.04778919, -0.16785058,\n",
       "         -0.17453283, -0.04702612, -0.18545789, -0.26670972, -0.04113501,\n",
       "         -0.17925513, -0.26981702]),\n",
       "  array([ 0.        , -0.09599308, -0.01092386, -0.0005549 ,  0.09089443,\n",
       "          0.09970857,  0.07653765, -0.00853262, -0.03457174, -0.06924281,\n",
       "         -0.10106121,  0.09244163,  0.09403627,  0.01267051, -0.14437774,\n",
       "         -0.26192999, -0.17925991]),\n",
       "  array([0.62967443, 0.62604576, 0.32765356, 0.02905589, 0.634314  ,\n",
       "         0.32293701, 0.        , 0.82359421, 1.03221965, 1.16055858,\n",
       "         1.1953299 , 1.03710699, 0.82674313, 1.03534532, 1.0216372 ,\n",
       "         0.80986667, 1.01028299])],\n",
       " [66,\n",
       "  array([-0.        ,  0.02479285, -0.0737124 ,  0.10395264, -0.02122131,\n",
       "         -0.08180688,  0.02006543, -0.02018018, -0.04778919, -0.16785058,\n",
       "         -0.17453283, -0.04702612, -0.18545789, -0.26670972, -0.04113501,\n",
       "         -0.17925513, -0.26981702]),\n",
       "  array([ 0.        , -0.09599308, -0.01092386, -0.0005549 ,  0.09089443,\n",
       "          0.09970857,  0.07653765, -0.00853262, -0.03457174, -0.06924281,\n",
       "         -0.10106121,  0.09244163,  0.09403627,  0.01267051, -0.14437774,\n",
       "         -0.26192999, -0.17925991]),\n",
       "  array([0.62967443, 0.62604576, 0.32765356, 0.02905589, 0.634314  ,\n",
       "         0.32293701, 0.        , 0.82359421, 1.03221965, 1.16055858,\n",
       "         1.1953299 , 1.03710699, 0.82674313, 1.03534532, 1.0216372 ,\n",
       "         0.80986667, 1.01028299])],\n",
       " [67,\n",
       "  array([-0.        ,  0.02479285, -0.0737124 ,  0.10395264, -0.02122131,\n",
       "         -0.08180688,  0.02006543, -0.02018018, -0.04778919, -0.16785058,\n",
       "         -0.17453283, -0.04702612, -0.18545789, -0.26670972, -0.04113501,\n",
       "         -0.17925513, -0.26981702]),\n",
       "  array([ 0.        , -0.09599308, -0.01092386, -0.0005549 ,  0.09089443,\n",
       "          0.09970857,  0.07653765, -0.00853262, -0.03457174, -0.06924281,\n",
       "         -0.10106121,  0.09244163,  0.09403627,  0.01267051, -0.14437774,\n",
       "         -0.26192999, -0.17925991]),\n",
       "  array([0.62967443, 0.62604576, 0.32765356, 0.02905589, 0.634314  ,\n",
       "         0.32293701, 0.        , 0.82359421, 1.03221965, 1.16055858,\n",
       "         1.1953299 , 1.03710699, 0.82674313, 1.03534532, 1.0216372 ,\n",
       "         0.80986667, 1.01028299])],\n",
       " [68,\n",
       "  array([-0.        ,  0.02479285, -0.0737124 ,  0.10395264, -0.02122131,\n",
       "         -0.08180688,  0.02006543, -0.02018018, -0.04778919, -0.16785058,\n",
       "         -0.17453283, -0.04702612, -0.18545789, -0.26670972, -0.04113501,\n",
       "         -0.17925513, -0.26981702]),\n",
       "  array([ 0.        , -0.09599308, -0.01092386, -0.0005549 ,  0.09089443,\n",
       "          0.09970857,  0.07653765, -0.00853262, -0.03457174, -0.06924281,\n",
       "         -0.10106121,  0.09244163,  0.09403627,  0.01267051, -0.14437774,\n",
       "         -0.26192999, -0.17925991]),\n",
       "  array([0.62967443, 0.62604576, 0.32765356, 0.02905589, 0.634314  ,\n",
       "         0.32293701, 0.        , 0.82359421, 1.03221965, 1.16055858,\n",
       "         1.1953299 , 1.03710699, 0.82674313, 1.03534532, 1.0216372 ,\n",
       "         0.80986667, 1.01028299])]]"
      ]
     },
     "execution_count": 100,
     "metadata": {},
     "output_type": "execute_result"
    }
   ],
   "source": [
    "rows"
   ]
  },
  {
   "cell_type": "code",
   "execution_count": 105,
   "metadata": {},
   "outputs": [],
   "source": [
    "df = pd.DataFrame(rows, columns=['frame','x','y','z'])"
   ]
  },
  {
   "cell_type": "code",
   "execution_count": 104,
   "metadata": {},
   "outputs": [],
   "source": [
    "import plotly.express as px"
   ]
  },
  {
   "cell_type": "code",
   "execution_count": null,
   "metadata": {},
   "outputs": [],
   "source": [
    "\n",
    "# Create a 3D scatter plot\n",
    "fig = go.Figure(data=[go.Scatter3d(x=x, y=y, z=z, mode='markers')])\n",
    "\n",
    "# Add lines for each connection\n",
    "for connection in connections:\n",
    "    fig.add_trace(\n",
    "        go.Scatter3d(\n",
    "            x=[x[connection[0]], x[connection[1]]],\n",
    "            y=[y[connection[0]], y[connection[1]]],\n",
    "            z=[z[connection[0]], z[connection[1]]],\n",
    "            mode='lines',\n",
    "        )\n",
    "    )\n",
    "\n",
    "\n",
    "# Display the plot\n",
    "fig.show()"
   ]
  },
  {
   "cell_type": "code",
   "execution_count": 107,
   "metadata": {},
   "outputs": [
    {
     "data": {
      "text/html": [
       "<div>\n",
       "<style scoped>\n",
       "    .dataframe tbody tr th:only-of-type {\n",
       "        vertical-align: middle;\n",
       "    }\n",
       "\n",
       "    .dataframe tbody tr th {\n",
       "        vertical-align: top;\n",
       "    }\n",
       "\n",
       "    .dataframe thead th {\n",
       "        text-align: right;\n",
       "    }\n",
       "</style>\n",
       "<table border=\"1\" class=\"dataframe\">\n",
       "  <thead>\n",
       "    <tr style=\"text-align: right;\">\n",
       "      <th></th>\n",
       "      <th>frame</th>\n",
       "      <th>x</th>\n",
       "      <th>y</th>\n",
       "      <th>z</th>\n",
       "    </tr>\n",
       "  </thead>\n",
       "  <tbody>\n",
       "    <tr>\n",
       "      <th>0</th>\n",
       "      <td>0</td>\n",
       "      <td>[-0.0, 0.07467737048864365, 0.1108770743012428...</td>\n",
       "      <td>[0.0, -0.028070135042071342, 0.025105670094490...</td>\n",
       "      <td>[0.6717526912689209, 0.6715698838233948, 0.323...</td>\n",
       "    </tr>\n",
       "    <tr>\n",
       "      <th>1</th>\n",
       "      <td>1</td>\n",
       "      <td>[-0.0, 0.07479309290647507, 0.1111875027418136...</td>\n",
       "      <td>[0.0, -0.030101073905825615, 0.021642440930008...</td>\n",
       "      <td>[0.6751559972763062, 0.6747398972511292, 0.323...</td>\n",
       "    </tr>\n",
       "    <tr>\n",
       "      <th>2</th>\n",
       "      <td>2</td>\n",
       "      <td>[-0.0, 0.07662329077720642, 0.1094583719968795...</td>\n",
       "      <td>[0.0, -0.03380797058343887, 0.0211855955421924...</td>\n",
       "      <td>[0.6765562891960144, 0.6746162176132202, 0.325...</td>\n",
       "    </tr>\n",
       "    <tr>\n",
       "      <th>3</th>\n",
       "      <td>3</td>\n",
       "      <td>[-0.0, 0.0754227265715599, 0.11193176358938217...</td>\n",
       "      <td>[0.0, -0.03365670517086983, 0.0218077041208744...</td>\n",
       "      <td>[0.6735761761665344, 0.6716593503952026, 0.319...</td>\n",
       "    </tr>\n",
       "    <tr>\n",
       "      <th>4</th>\n",
       "      <td>4</td>\n",
       "      <td>[-0.0, 0.07687133550643921, 0.1134890168905258...</td>\n",
       "      <td>[0.0, -0.030278075486421585, 0.022360188886523...</td>\n",
       "      <td>[0.678354024887085, 0.6777233481407166, 0.3257...</td>\n",
       "    </tr>\n",
       "    <tr>\n",
       "      <th>...</th>\n",
       "      <td>...</td>\n",
       "      <td>...</td>\n",
       "      <td>...</td>\n",
       "      <td>...</td>\n",
       "    </tr>\n",
       "    <tr>\n",
       "      <th>64</th>\n",
       "      <td>64</td>\n",
       "      <td>[-0.0, 0.02479284629225731, -0.073712401092052...</td>\n",
       "      <td>[0.0, -0.09599307924509048, -0.010923860594630...</td>\n",
       "      <td>[0.6296744346618652, 0.6260457634925842, 0.327...</td>\n",
       "    </tr>\n",
       "    <tr>\n",
       "      <th>65</th>\n",
       "      <td>65</td>\n",
       "      <td>[-0.0, 0.02479284629225731, -0.073712401092052...</td>\n",
       "      <td>[0.0, -0.09599307924509048, -0.010923860594630...</td>\n",
       "      <td>[0.6296744346618652, 0.6260457634925842, 0.327...</td>\n",
       "    </tr>\n",
       "    <tr>\n",
       "      <th>66</th>\n",
       "      <td>66</td>\n",
       "      <td>[-0.0, 0.02479284629225731, -0.073712401092052...</td>\n",
       "      <td>[0.0, -0.09599307924509048, -0.010923860594630...</td>\n",
       "      <td>[0.6296744346618652, 0.6260457634925842, 0.327...</td>\n",
       "    </tr>\n",
       "    <tr>\n",
       "      <th>67</th>\n",
       "      <td>67</td>\n",
       "      <td>[-0.0, 0.02479284629225731, -0.073712401092052...</td>\n",
       "      <td>[0.0, -0.09599307924509048, -0.010923860594630...</td>\n",
       "      <td>[0.6296744346618652, 0.6260457634925842, 0.327...</td>\n",
       "    </tr>\n",
       "    <tr>\n",
       "      <th>68</th>\n",
       "      <td>68</td>\n",
       "      <td>[-0.0, 0.02479284629225731, -0.073712401092052...</td>\n",
       "      <td>[0.0, -0.09599307924509048, -0.010923860594630...</td>\n",
       "      <td>[0.6296744346618652, 0.6260457634925842, 0.327...</td>\n",
       "    </tr>\n",
       "  </tbody>\n",
       "</table>\n",
       "<p>69 rows × 4 columns</p>\n",
       "</div>"
      ],
      "text/plain": [
       "    frame                                                  x  \\\n",
       "0       0  [-0.0, 0.07467737048864365, 0.1108770743012428...   \n",
       "1       1  [-0.0, 0.07479309290647507, 0.1111875027418136...   \n",
       "2       2  [-0.0, 0.07662329077720642, 0.1094583719968795...   \n",
       "3       3  [-0.0, 0.0754227265715599, 0.11193176358938217...   \n",
       "4       4  [-0.0, 0.07687133550643921, 0.1134890168905258...   \n",
       "..    ...                                                ...   \n",
       "64     64  [-0.0, 0.02479284629225731, -0.073712401092052...   \n",
       "65     65  [-0.0, 0.02479284629225731, -0.073712401092052...   \n",
       "66     66  [-0.0, 0.02479284629225731, -0.073712401092052...   \n",
       "67     67  [-0.0, 0.02479284629225731, -0.073712401092052...   \n",
       "68     68  [-0.0, 0.02479284629225731, -0.073712401092052...   \n",
       "\n",
       "                                                    y  \\\n",
       "0   [0.0, -0.028070135042071342, 0.025105670094490...   \n",
       "1   [0.0, -0.030101073905825615, 0.021642440930008...   \n",
       "2   [0.0, -0.03380797058343887, 0.0211855955421924...   \n",
       "3   [0.0, -0.03365670517086983, 0.0218077041208744...   \n",
       "4   [0.0, -0.030278075486421585, 0.022360188886523...   \n",
       "..                                                ...   \n",
       "64  [0.0, -0.09599307924509048, -0.010923860594630...   \n",
       "65  [0.0, -0.09599307924509048, -0.010923860594630...   \n",
       "66  [0.0, -0.09599307924509048, -0.010923860594630...   \n",
       "67  [0.0, -0.09599307924509048, -0.010923860594630...   \n",
       "68  [0.0, -0.09599307924509048, -0.010923860594630...   \n",
       "\n",
       "                                                    z  \n",
       "0   [0.6717526912689209, 0.6715698838233948, 0.323...  \n",
       "1   [0.6751559972763062, 0.6747398972511292, 0.323...  \n",
       "2   [0.6765562891960144, 0.6746162176132202, 0.325...  \n",
       "3   [0.6735761761665344, 0.6716593503952026, 0.319...  \n",
       "4   [0.678354024887085, 0.6777233481407166, 0.3257...  \n",
       "..                                                ...  \n",
       "64  [0.6296744346618652, 0.6260457634925842, 0.327...  \n",
       "65  [0.6296744346618652, 0.6260457634925842, 0.327...  \n",
       "66  [0.6296744346618652, 0.6260457634925842, 0.327...  \n",
       "67  [0.6296744346618652, 0.6260457634925842, 0.327...  \n",
       "68  [0.6296744346618652, 0.6260457634925842, 0.327...  \n",
       "\n",
       "[69 rows x 4 columns]"
      ]
     },
     "execution_count": 107,
     "metadata": {},
     "output_type": "execute_result"
    }
   ],
   "source": [
    "df"
   ]
  },
  {
   "cell_type": "code",
   "execution_count": 116,
   "metadata": {},
   "outputs": [
    {
     "data": {
      "application/vnd.plotly.v1+json": {
       "config": {
        "plotlyServerURL": "https://plot.ly"
       },
       "data": [
        {
         "hovertemplate": "frame=0<br>x=%{x}<br>y=%{y}<br>z=%{z}<extra></extra>",
         "legendgroup": "",
         "marker": {
          "color": "#636efa",
          "opacity": 1,
          "symbol": "circle"
         },
         "mode": "markers",
         "name": "",
         "scene": "scene",
         "showlegend": false,
         "type": "scatter3d",
         "x": [
          [
           0,
           0.07467737048864365,
           0.11087707430124283,
           0.1637280285358429,
           -0.08033288270235062,
           -0.07199389487504959,
           -0.05779785290360451,
           -0.013465087860822678,
           -0.019340576604008675,
           -0.11573303490877151,
           -0.10925207287073135,
           -0.1457952857017517,
           -0.1871049851179123,
           -0.08400439471006393,
           0.11437292397022247,
           0.1795026808977127,
           0.07061987370252609
          ]
         ],
         "y": [
          [
           0,
           -0.028070135042071342,
           0.02510567009449005,
           0.06236177682876587,
           0.02711648866534233,
           0.06208706647157669,
           0.1063152477145195,
           0.002464859513565898,
           -0.07203838974237442,
           -0.10775880515575409,
           -0.09820108115673065,
           -0.038591418415308,
           0.00587283493950963,
           0.0685657188296318,
           -0.032850779592990875,
           0.008652536198496819,
           -0.034645188599824905
          ]
         ],
         "z": [
          [
           0.6717526912689209,
           0.6715698838233948,
           0.3233090937137604,
           0,
           0.6805495023727417,
           0.35492372512817383,
           0.0481228232383728,
           0.872978150844574,
           1.082015037536621,
           1.2257308959960938,
           1.2656984329223633,
           1.0989761352539062,
           0.8564248085021973,
           0.7142682671546936,
           1.078432559967041,
           0.8487743139266968,
           0.7122576832771301
          ]
         ]
        }
       ],
       "frames": [
        {
         "data": [
          {
           "hovertemplate": "frame=0<br>x=%{x}<br>y=%{y}<br>z=%{z}<extra></extra>",
           "legendgroup": "",
           "marker": {
            "color": "#636efa",
            "opacity": 1,
            "symbol": "circle"
           },
           "mode": "markers",
           "name": "",
           "scene": "scene",
           "showlegend": false,
           "type": "scatter3d",
           "x": [
            [
             0,
             0.07467737048864365,
             0.11087707430124283,
             0.1637280285358429,
             -0.08033288270235062,
             -0.07199389487504959,
             -0.05779785290360451,
             -0.013465087860822678,
             -0.019340576604008675,
             -0.11573303490877151,
             -0.10925207287073135,
             -0.1457952857017517,
             -0.1871049851179123,
             -0.08400439471006393,
             0.11437292397022247,
             0.1795026808977127,
             0.07061987370252609
            ]
           ],
           "y": [
            [
             0,
             -0.028070135042071342,
             0.02510567009449005,
             0.06236177682876587,
             0.02711648866534233,
             0.06208706647157669,
             0.1063152477145195,
             0.002464859513565898,
             -0.07203838974237442,
             -0.10775880515575409,
             -0.09820108115673065,
             -0.038591418415308,
             0.00587283493950963,
             0.0685657188296318,
             -0.032850779592990875,
             0.008652536198496819,
             -0.034645188599824905
            ]
           ],
           "z": [
            [
             0.6717526912689209,
             0.6715698838233948,
             0.3233090937137604,
             0,
             0.6805495023727417,
             0.35492372512817383,
             0.0481228232383728,
             0.872978150844574,
             1.082015037536621,
             1.2257308959960938,
             1.2656984329223633,
             1.0989761352539062,
             0.8564248085021973,
             0.7142682671546936,
             1.078432559967041,
             0.8487743139266968,
             0.7122576832771301
            ]
           ]
          }
         ],
         "name": "0"
        },
        {
         "data": [
          {
           "hovertemplate": "frame=1<br>x=%{x}<br>y=%{y}<br>z=%{z}<extra></extra>",
           "legendgroup": "",
           "marker": {
            "color": "#636efa",
            "opacity": 1,
            "symbol": "circle"
           },
           "mode": "markers",
           "name": "",
           "scene": "scene",
           "showlegend": false,
           "type": "scatter3d",
           "x": [
            [
             0,
             0.07479309290647507,
             0.11118750274181366,
             0.16410912573337555,
             -0.08026757836341858,
             -0.07171887159347534,
             -0.0575709231197834,
             -0.01473217736929655,
             -0.02294921875,
             -0.11568273603916168,
             -0.10910095274448395,
             -0.14541491866111755,
             -0.18698535859584808,
             -0.0837860107421875,
             0.10690795630216599,
             0.18347936868667603,
             0.07030529528856277
            ]
           ],
           "y": [
            [
             0,
             -0.030101073905825615,
             0.021642440930008888,
             0.06013486534357071,
             0.02866559848189354,
             0.06125412881374359,
             0.10593206435441971,
             0.003391249105334282,
             -0.06747644394636154,
             -0.10376274585723877,
             -0.09278333932161331,
             -0.031057273969054222,
             0.011759710498154163,
             0.0681263878941536,
             -0.03448500484228134,
             -0.003242356702685356,
             -0.04511813819408417
            ]
           ],
           "z": [
            [
             0.6751559972763062,
             0.6747398972511292,
             0.32309409976005554,
             0,
             0.6837384700775146,
             0.3552740514278412,
             0.04820680618286133,
             0.8764605522155762,
             1.085864543914795,
             1.2226550579071045,
             1.2661223411560059,
             1.0989688634872437,
             0.8569110631942749,
             0.7145235538482666,
             1.0864900350570679,
             0.8541024923324585,
             0.716740608215332
            ]
           ]
          }
         ],
         "name": "1"
        },
        {
         "data": [
          {
           "hovertemplate": "frame=2<br>x=%{x}<br>y=%{y}<br>z=%{z}<extra></extra>",
           "legendgroup": "",
           "marker": {
            "color": "#636efa",
            "opacity": 1,
            "symbol": "circle"
           },
           "mode": "markers",
           "name": "",
           "scene": "scene",
           "showlegend": false,
           "type": "scatter3d",
           "x": [
            [
             0,
             0.07662329077720642,
             0.10945837199687958,
             0.16673828661441803,
             -0.08123937994241714,
             -0.07331066578626633,
             -0.059239502996206284,
             -0.015447753481566906,
             -0.0245208740234375,
             -0.1212453618645668,
             -0.11477575451135635,
             -0.14714978635311127,
             -0.18850073218345642,
             -0.08554907143115997,
             0.10549414157867432,
             0.18225525319576263,
             0.07283691316843033
            ]
           ],
           "y": [
            [
             0,
             -0.03380797058343887,
             0.02118559554219246,
             0.05863325297832489,
             0.029921164736151695,
             0.06270646303892136,
             0.10857321321964264,
             0.002010245341807604,
             -0.07110439985990524,
             -0.10844898223876953,
             -0.09813152253627777,
             -0.03297396004199982,
             0.011097365990281105,
             0.06852271407842636,
             -0.03538839519023895,
             0.009846046566963196,
             -0.031232887879014015
            ]
           ],
           "z": [
            [
             0.6765562891960144,
             0.6746162176132202,
             0.3257655203342438,
             0,
             0.6863637566566467,
             0.35807910561561584,
             0.051535189151763916,
             0.8778769969940186,
             1.0872247219085693,
             1.2258354425430298,
             1.2673861980438232,
             1.102114200592041,
             0.8598815202713013,
             0.7173606753349304,
             1.0858279466629028,
             0.8605696558952332,
             0.7232893109321594
            ]
           ]
          }
         ],
         "name": "2"
        },
        {
         "data": [
          {
           "hovertemplate": "frame=3<br>x=%{x}<br>y=%{y}<br>z=%{z}<extra></extra>",
           "legendgroup": "",
           "marker": {
            "color": "#636efa",
            "opacity": 1,
            "symbol": "circle"
           },
           "mode": "markers",
           "name": "",
           "scene": "scene",
           "showlegend": false,
           "type": "scatter3d",
           "x": [
            [
             0,
             0.0754227265715599,
             0.11193176358938217,
             0.16416651010513306,
             -0.08004675060510635,
             -0.07463940232992172,
             -0.06099914386868477,
             -0.017090698704123497,
             -0.02812524326145649,
             -0.12671765685081482,
             -0.12039245665073395,
             -0.1526046097278595,
             -0.19016650319099426,
             -0.08640392869710922,
             0.10364221036434174,
             0.1805700659751892,
             0.0711820051074028
            ]
           ],
           "y": [
            [
             0,
             -0.03365670517086983,
             0.021807704120874405,
             0.062214095145463943,
             0.030981631949543953,
             0.06209179386496544,
             0.10904588550329208,
             0.001181421335786581,
             -0.0716366097331047,
             -0.10904823988676071,
             -0.09986312687397003,
             -0.03656840696930885,
             0.0075472439639270306,
             0.06630504131317139,
             -0.036356840282678604,
             0.004708920605480671,
             -0.03323812782764435
            ]
           ],
           "z": [
            [
             0.6735761761665344,
             0.6716593503952026,
             0.31991639733314514,
             0,
             0.6832167506217957,
             0.3523685336112976,
             0.048792362213134766,
             0.875809907913208,
             1.086119294166565,
             1.223272442817688,
             1.2667230367660522,
             1.0997555255889893,
             0.8535814881324768,
             0.7146286964416504,
             1.0871756076812744,
             0.8579138517379761,
             0.720443606376648
            ]
           ]
          }
         ],
         "name": "3"
        },
        {
         "data": [
          {
           "hovertemplate": "frame=4<br>x=%{x}<br>y=%{y}<br>z=%{z}<extra></extra>",
           "legendgroup": "",
           "marker": {
            "color": "#636efa",
            "opacity": 1,
            "symbol": "circle"
           },
           "mode": "markers",
           "name": "",
           "scene": "scene",
           "showlegend": false,
           "type": "scatter3d",
           "x": [
            [
             0,
             0.07687133550643921,
             0.11348901689052582,
             0.16690465807914734,
             -0.08166845887899399,
             -0.07330786436796188,
             -0.05895373597741127,
             -0.016380859538912773,
             -0.02614416554570198,
             -0.12477526813745499,
             -0.11840979009866714,
             -0.15054260194301605,
             -0.18825440108776093,
             -0.08473559468984604,
             0.10537475347518921,
             0.1821271926164627,
             0.07284314185380936
            ]
           ],
           "y": [
            [
             0,
             -0.030278075486421585,
             0.022360188886523247,
             0.05969339609146118,
             0.028962891548871994,
             0.06337451189756393,
             0.10949753224849701,
             0.0023750190157443285,
             -0.07069943100214005,
             -0.10846664011478424,
             -0.09846162050962448,
             -0.035300422459840775,
             0.007716953754425049,
             0.06755959242582321,
             -0.03455977886915207,
             0.005640998017042875,
             -0.03323417156934738
            ]
           ],
           "z": [
            [
             0.678354024887085,
             0.6777233481407166,
             0.32574978470802307,
             0,
             0.6869919300079346,
             0.3580501973628998,
             0.05157434940338135,
             0.8800470232963562,
             1.0894489288330078,
             1.226351261138916,
             1.2697268724441528,
             1.102574348449707,
             0.8566453456878662,
             0.7176628112792969,
             1.0901240110397339,
             0.8611188530921936,
             0.7234277129173279
            ]
           ]
          }
         ],
         "name": "4"
        },
        {
         "data": [
          {
           "hovertemplate": "frame=5<br>x=%{x}<br>y=%{y}<br>z=%{z}<extra></extra>",
           "legendgroup": "",
           "marker": {
            "color": "#636efa",
            "opacity": 1,
            "symbol": "circle"
           },
           "mode": "markers",
           "name": "",
           "scene": "scene",
           "showlegend": false,
           "type": "scatter3d",
           "x": [
            [
             0,
             0.076979860663414,
             0.11814294755458832,
             0.17240490019321442,
             -0.08169347792863846,
             -0.07271581888198853,
             -0.05791870132088661,
             -0.01940026879310608,
             -0.03345019370317459,
             -0.13666808605194092,
             -0.1261271983385086,
             -0.15820984542369843,
             -0.19624939560890198,
             -0.08883202821016312,
             0.09776879847049713,
             0.18993517756462097,
             0.0839678943157196
            ]
           ],
           "y": [
            [
             0,
             -0.03676599636673927,
             0.020915847271680832,
             0.059668827801942825,
             0.03040003776550293,
             0.06799333542585373,
             0.11555531620979309,
             -0.0013826846843585372,
             -0.07296860218048096,
             -0.11304833739995956,
             -0.10200276225805283,
             -0.03522646054625511,
             0.01005551777780056,
             0.05671265348792076,
             -0.03560032323002815,
             0.016686439514160156,
             -0.01956814154982567
            ]
           ],
           "z": [
            [
             0.6851649284362793,
             0.6841931939125061,
             0.32824355363845825,
             0,
             0.6935817003250122,
             0.36133021116256714,
             0.05533498525619507,
             0.8899825811386108,
             1.1036300659179688,
             1.2411377429962158,
             1.2848026752471924,
             1.1133577823638916,
             0.8672738075256348,
             0.7271294593811035,
             1.1094787120819092,
             0.8885141611099243,
             0.7489719390869141
            ]
           ]
          }
         ],
         "name": "5"
        },
        {
         "data": [
          {
           "hovertemplate": "frame=6<br>x=%{x}<br>y=%{y}<br>z=%{z}<extra></extra>",
           "legendgroup": "",
           "marker": {
            "color": "#636efa",
            "opacity": 1,
            "symbol": "circle"
           },
           "mode": "markers",
           "name": "",
           "scene": "scene",
           "showlegend": false,
           "type": "scatter3d",
           "x": [
            [
             0,
             0.0785234346985817,
             0.11618591099977493,
             0.17386621236801147,
             -0.08260522782802582,
             -0.07745129615068436,
             -0.059120118618011475,
             -0.020796386525034904,
             -0.036646850407123566,
             -0.14195190370082855,
             -0.13372217118740082,
             -0.16322363913059235,
             -0.19738294184207916,
             -0.08997558802366257,
             0.09581152349710464,
             0.19167602062225342,
             0.0823831781744957
            ]
           ],
           "y": [
            [
             0,
             -0.03706736862659454,
             0.021612072363495827,
             0.0596100315451622,
             0.03051201067864895,
             0.06905443966388702,
             0.1139492616057396,
             -0.001652689534239471,
             -0.07346609234809875,
             -0.11409048736095428,
             -0.10367961972951889,
             -0.037067726254463196,
             0.011005210690200329,
             0.055015258491039276,
             -0.035483699291944504,
             0.017941303551197052,
             -0.01499534584581852
            ]
           ],
           "z": [
            [
             0.6809208989143372,
             0.6811270117759705,
             0.328581303358078,
             0,
             0.68846195936203,
             0.3620966672897339,
             0.05315053462982178,
             0.8855699896812439,
             1.0989798307418823,
             1.2349112033843994,
             1.278548240661621,
             1.1069802045822144,
             0.8609370589256287,
             0.7209699153900146,
             1.1071877479553223,
             0.8898208737373352,
             0.7503905892372131
            ]
           ]
          }
         ],
         "name": "6"
        },
        {
         "data": [
          {
           "hovertemplate": "frame=7<br>x=%{x}<br>y=%{y}<br>z=%{z}<extra></extra>",
           "legendgroup": "",
           "marker": {
            "color": "#636efa",
            "opacity": 1,
            "symbol": "circle"
           },
           "mode": "markers",
           "name": "",
           "scene": "scene",
           "showlegend": false,
           "type": "scatter3d",
           "x": [
            [
             0,
             0.0776982456445694,
             0.11490783840417862,
             0.17255431413650513,
             -0.0809803456068039,
             -0.07855639606714249,
             -0.06018591299653053,
             -0.022819580510258675,
             -0.0408780500292778,
             -0.15031787753105164,
             -0.14244982600212097,
             -0.1674843728542328,
             -0.2014613002538681,
             -0.0907001942396164,
             0.09083081036806107,
             0.19027209281921387,
             0.08555090427398682
            ]
           ],
           "y": [
            [
             0,
             -0.03833974525332451,
             0.019468912854790688,
             0.056875478476285934,
             0.03383451700210571,
             0.06839188188314438,
             0.11230055242776871,
             -0.00344660272821784,
             -0.07975438982248306,
             -0.11958616971969604,
             -0.1117577999830246,
             -0.04196228086948395,
             0.0038121449761092663,
             0.04426049813628197,
             -0.03849709779024124,
             0.025790013372898102,
             -0.008708667941391468
            ]
           ],
           "z": [
            [
             0.6837140917778015,
             0.6836849451065063,
             0.3285472095012665,
             0,
             0.6908707022666931,
             0.3619617819786072,
             0.05296605825424194,
             0.8860233426094055,
             1.095550775527954,
             1.2315568923950195,
             1.2747278213500977,
             1.1032737493515015,
             0.8572036623954773,
             0.7167823910713196,
             1.10306715965271,
             0.8979023694992065,
             0.7501850128173828
            ]
           ]
          }
         ],
         "name": "7"
        },
        {
         "data": [
          {
           "hovertemplate": "frame=8<br>x=%{x}<br>y=%{y}<br>z=%{z}<extra></extra>",
           "legendgroup": "",
           "marker": {
            "color": "#636efa",
            "opacity": 1,
            "symbol": "circle"
           },
           "mode": "markers",
           "name": "",
           "scene": "scene",
           "showlegend": false,
           "type": "scatter3d",
           "x": [
            [
             0,
             0.08033190667629242,
             0.1170181855559349,
             0.17540112137794495,
             -0.082993283867836,
             -0.08095043897628784,
             -0.05717834457755089,
             -0.024053223431110382,
             -0.04303894191980362,
             -0.15803955495357513,
             -0.15463952720165253,
             -0.17060193419456482,
             -0.19766663014888763,
             -0.08729687333106995,
             0.0894755870103836,
             0.19192029535770416,
             0.08445825427770615
            ]
           ],
           "y": [
            [
             0,
             -0.03620018810033798,
             0.01971493847668171,
             0.055608443915843964,
             0.03519053757190704,
             0.06860063225030899,
             0.11033204942941666,
             -0.003686237381771207,
             -0.0844411626458168,
             -0.1244473084807396,
             -0.12030968070030212,
             -0.04378875717520714,
             0.008104252628982067,
             0.04707016795873642,
             -0.04189812391996384,
             0.02220441773533821,
             -0.007979044690728188
            ]
           ],
           "z": [
            [
             0.6943451166152954,
             0.6938263773918152,
             0.3349902629852295,
             0,
             0.7013180255889893,
             0.3668900430202484,
             0.05190807580947876,
             0.8938612341880798,
             1.0979584455490112,
             1.2334213256835938,
             1.2759641408920288,
             1.0999722480773926,
             0.8577581644058228,
             0.7172775864601135,
             1.10758638381958,
             0.9069827795028687,
             0.7546334266662598
            ]
           ]
          }
         ],
         "name": "8"
        },
        {
         "data": [
          {
           "hovertemplate": "frame=9<br>x=%{x}<br>y=%{y}<br>z=%{z}<extra></extra>",
           "legendgroup": "",
           "marker": {
            "color": "#636efa",
            "opacity": 1,
            "symbol": "circle"
           },
           "mode": "markers",
           "name": "",
           "scene": "scene",
           "showlegend": false,
           "type": "scatter3d",
           "x": [
            [
             0,
             0.08041748404502869,
             0.1170661598443985,
             0.1754268854856491,
             -0.08294128626585007,
             -0.08086804300546646,
             -0.057053953409194946,
             -0.024107666686177254,
             -0.04313452169299126,
             -0.15804052352905273,
             -0.15464745461940765,
             -0.17060045897960663,
             -0.20112767815589905,
             -0.08740527182817459,
             0.08940820395946503,
             0.19209545850753784,
             0.08447351306676865
            ]
           ],
           "y": [
            [
             0,
             -0.03578724339604378,
             0.019866378977894783,
             0.055659178644418716,
             0.035472799092531204,
             0.06891850382089615,
             0.1106104701757431,
             -0.0036474207881838083,
             -0.0844074934720993,
             -0.12423838675022125,
             -0.11943938583135605,
             -0.04452270269393921,
             -0.0005877334042452276,
             0.038848452270030975,
             -0.0406876802444458,
             0.023624112829566002,
             -0.007344417739659548
            ]
           ],
           "z": [
            [
             0.6943304538726807,
             0.6938119530677795,
             0.33502453565597534,
             0,
             0.7013953328132629,
             0.3669014871120453,
             0.05206334590911865,
             0.8938987255096436,
             1.0979119539260864,
             1.2333725690841675,
             1.2759530544281006,
             1.0999354124069214,
             0.8543777465820312,
             0.7136043906211853,
             1.1075605154037476,
             0.9070112705230713,
             0.7546041011810303
            ]
           ]
          }
         ],
         "name": "9"
        },
        {
         "data": [
          {
           "hovertemplate": "frame=10<br>x=%{x}<br>y=%{y}<br>z=%{z}<extra></extra>",
           "legendgroup": "",
           "marker": {
            "color": "#636efa",
            "opacity": 1,
            "symbol": "circle"
           },
           "mode": "markers",
           "name": "",
           "scene": "scene",
           "showlegend": false,
           "type": "scatter3d",
           "x": [
            [
             0,
             0.0860920399427414,
             0.11921447515487671,
             0.18153613805770874,
             -0.08643530309200287,
             -0.08682922273874283,
             -0.05831530690193176,
             -0.027323853224515915,
             -0.05042797699570656,
             -0.17518188059329987,
             -0.16815857589244843,
             -0.17505663633346558,
             -0.1986507624387741,
             -0.08538012951612473,
             0.07894482463598251,
             0.194154292345047,
             0.09421313554048538
            ]
           ],
           "y": [
            [
             0,
             -0.03571409732103348,
             0.01263238675892353,
             0.05499263107776642,
             0.036850836127996445,
             0.06381230056285858,
             0.11208976805210114,
             -0.0045004794374108315,
             -0.0911485105752945,
             -0.13444384932518005,
             -0.12615162134170532,
             -0.045876648277044296,
             -0.006916331127285957,
             0.015580070205032825,
             -0.0439894013106823,
             0.03888526186347008,
             0.022213265299797058
            ]
           ],
           "z": [
            [
             0.7132605910301208,
             0.7129158973693848,
             0.3356325328350067,
             0,
             0.7182843685150146,
             0.36697298288345337,
             0.05271637439727783,
             0.9109548330307007,
             1.1095634698867798,
             1.2396801710128784,
             1.281398892402649,
             1.1041926145553589,
             0.8550416231155396,
             0.7130295634269714,
             1.1245484352111816,
             0.9408775568008423,
             0.7899172902107239
            ]
           ]
          }
         ],
         "name": "10"
        },
        {
         "data": [
          {
           "hovertemplate": "frame=11<br>x=%{x}<br>y=%{y}<br>z=%{z}<extra></extra>",
           "legendgroup": "",
           "marker": {
            "color": "#636efa",
            "opacity": 1,
            "symbol": "circle"
           },
           "mode": "markers",
           "name": "",
           "scene": "scene",
           "showlegend": false,
           "type": "scatter3d",
           "x": [
            [
             0,
             0.08362841606140137,
             0.11320629715919495,
             0.17579126358032227,
             -0.08358508348464966,
             -0.09082373231649399,
             -0.05942773446440697,
             -0.031636353582143784,
             -0.0612940676510334,
             -0.19239148497581482,
             -0.18546204268932343,
             -0.1883229911327362,
             -0.2033127397298813,
             -0.0790264904499054,
             0.06899536401033401,
             0.19588793814182281,
             0.10059423744678497
            ]
           ],
           "y": [
            [
             0,
             -0.042994119226932526,
             0.01674470491707325,
             0.05293828994035721,
             0.04114232584834099,
             0.06841253489255905,
             0.11189629137516022,
             -0.01059019099920988,
             -0.09762899577617645,
             -0.13909104466438293,
             -0.13715139031410217,
             -0.05054545775055885,
             -0.010805773548781872,
             -0.004233707673847675,
             -0.04855584725737572,
             0.04232475534081459,
             0.03586754575371742
            ]
           ],
           "z": [
            [
             0.7039238214492798,
             0.702136754989624,
             0.3375012278556824,
             0,
             0.7105081081390381,
             0.3671671152114868,
             0.0523684024810791,
             0.9019558429718018,
             1.1023905277252197,
             1.2349096536636353,
             1.278989553451538,
             1.0920143127441406,
             0.8423203229904175,
             0.7032723426818848,
             1.1235954761505127,
             0.9522067308425903,
             0.804991602897644
            ]
           ]
          }
         ],
         "name": "11"
        },
        {
         "data": [
          {
           "hovertemplate": "frame=12<br>x=%{x}<br>y=%{y}<br>z=%{z}<extra></extra>",
           "legendgroup": "",
           "marker": {
            "color": "#636efa",
            "opacity": 1,
            "symbol": "circle"
           },
           "mode": "markers",
           "name": "",
           "scene": "scene",
           "showlegend": false,
           "type": "scatter3d",
           "x": [
            [
             0,
             0.08588097989559174,
             0.11543139815330505,
             0.17760729789733887,
             -0.08491040021181107,
             -0.09533752501010895,
             -0.061396729201078415,
             -0.03523791581392288,
             -0.06971056759357452,
             -0.1978875696659088,
             -0.19320641458034515,
             -0.1930815428495407,
             -0.2007276564836502,
             -0.07926977425813675,
             0.05545581132173538,
             0.19480834901332855,
             0.10817322134971619
            ]
           ],
           "y": [
            [
             0,
             -0.0429895855486393,
             0.014333857223391533,
             0.05021446943283081,
             0.04112560302019119,
             0.06386495381593704,
             0.11045318841934204,
             -0.010485328733921051,
             -0.09750944375991821,
             -0.14074087142944336,
             -0.13470086455345154,
             -0.049615856260061264,
             -0.01039708312600851,
             -0.019720803946256638,
             -0.049433160573244095,
             0.047679804265499115,
             0.04017520323395729
            ]
           ],
           "z": [
            [
             0.706606924533844,
             0.7057003378868103,
             0.33755260705947876,
             0,
             0.7116747498512268,
             0.3655779957771301,
             0.05331200361251831,
             0.9033058881759644,
             1.1016414165496826,
             1.2259626388549805,
             1.2695949077606201,
             1.0862605571746826,
             0.8364208936691284,
             0.7010518908500671,
             1.1296395063400269,
             0.9709455370903015,
             0.8230482935905457
            ]
           ]
          }
         ],
         "name": "12"
        },
        {
         "data": [
          {
           "hovertemplate": "frame=13<br>x=%{x}<br>y=%{y}<br>z=%{z}<extra></extra>",
           "legendgroup": "",
           "marker": {
            "color": "#636efa",
            "opacity": 1,
            "symbol": "circle"
           },
           "mode": "markers",
           "name": "",
           "scene": "scene",
           "showlegend": false,
           "type": "scatter3d",
           "x": [
            [
             0,
             0.08511340618133545,
             0.11042871326208115,
             0.17604540288448334,
             -0.08297033607959747,
             -0.10672997683286667,
             -0.06232592836022377,
             -0.038938477635383606,
             -0.07820837199687958,
             -0.21065430343151093,
             -0.2062491476535797,
             -0.20602306723594666,
             -0.200987309217453,
             -0.07068359106779099,
             0.04946203529834747,
             0.18975256383419037,
             0.11182055622339249
            ]
           ],
           "y": [
            [
             0,
             -0.04730485379695892,
             0.014264917001128197,
             0.04840630292892456,
             0.046275120228528976,
             0.06372546404600143,
             0.10997234284877777,
             -0.015121696516871452,
             -0.10740265995264053,
             -0.14917586743831635,
             -0.14520743489265442,
             -0.06074044108390808,
             -0.02910279855132103,
             -0.04124971106648445,
             -0.05525439977645874,
             0.05701081082224846,
             0.056362319737672806
            ]
           ],
           "z": [
            [
             0.7063343524932861,
             0.7049463987350464,
             0.33760133385658264,
             0,
             0.7113182544708252,
             0.3658809959888458,
             0.05304431915283203,
             0.9027150273323059,
             1.0993716716766357,
             1.2261598110198975,
             1.2699415683746338,
             1.0789718627929688,
             0.8217918276786804,
             0.6962869763374329,
             1.1336321830749512,
             0.9870709776878357,
             0.8314934968948364
            ]
           ]
          }
         ],
         "name": "13"
        },
        {
         "data": [
          {
           "hovertemplate": "frame=14<br>x=%{x}<br>y=%{y}<br>z=%{z}<extra></extra>",
           "legendgroup": "",
           "marker": {
            "color": "#636efa",
            "opacity": 1,
            "symbol": "circle"
           },
           "mode": "markers",
           "name": "",
           "scene": "scene",
           "showlegend": false,
           "type": "scatter3d",
           "x": [
            [
             0,
             0.08492858707904816,
             0.1104421392083168,
             0.17917676270008087,
             -0.08287182450294495,
             -0.10689953714609146,
             -0.062434203922748566,
             -0.038914795964956284,
             -0.07823877036571503,
             -0.2105744630098343,
             -0.206098273396492,
             -0.20585742592811584,
             -0.2009594738483429,
             -0.07076049596071243,
             0.04939001426100731,
             0.19327929615974426,
             0.11159253120422363
            ]
           ],
           "y": [
            [
             0,
             -0.04817507788538933,
             0.014367404393851757,
             0.05050026625394821,
             0.04681774228811264,
             0.06402662396430969,
             0.11025945842266083,
             -0.014697565697133541,
             -0.10633161664009094,
             -0.14808990061283112,
             -0.14503146708011627,
             -0.05923473834991455,
             -0.026261555030941963,
             -0.03789239376783371,
             -0.055909667164087296,
             0.05163121968507767,
             0.05398014560341835
            ]
           ],
           "z": [
            [
             0.7041091322898865,
             0.7027876377105713,
             0.3354777991771698,
             0,
             0.7091291546821594,
             0.3635266125202179,
             0.05083376169204712,
             0.9005879163742065,
             1.0972996950149536,
             1.2238783836364746,
             1.2696434259414673,
             1.0766644477844238,
             0.8197157979011536,
             0.6941861510276794,
             1.1313199996948242,
             0.9847660064697266,
             0.8292132616043091
            ]
           ]
          }
         ],
         "name": "14"
        },
        {
         "data": [
          {
           "hovertemplate": "frame=15<br>x=%{x}<br>y=%{y}<br>z=%{z}<extra></extra>",
           "legendgroup": "",
           "marker": {
            "color": "#636efa",
            "opacity": 1,
            "symbol": "circle"
           },
           "mode": "markers",
           "name": "",
           "scene": "scene",
           "showlegend": false,
           "type": "scatter3d",
           "x": [
            [
             0,
             0.08963354676961899,
             0.11896166950464249,
             0.18923021852970123,
             -0.08558813482522964,
             -0.13897143304347992,
             -0.07078772038221359,
             -0.041816771030426025,
             -0.08573144674301147,
             -0.23132044076919556,
             -0.22506871819496155,
             -0.21387633681297302,
             -0.18618786334991455,
             -0.054585084319114685,
             0.04161376878619194,
             0.19273144006729126,
             0.11862939596176147
            ]
           ],
           "y": [
            [
             0,
             -0.048795394599437714,
             0.006231946870684624,
             0.03867504745721817,
             0.05091840401291847,
             0.06706809252500534,
             0.11558301001787186,
             -0.01617252640426159,
             -0.11057224869728088,
             -0.1574479043483734,
             -0.15677818655967712,
             -0.059217244386672974,
             -0.023077480494976044,
             -0.000647263543214649,
             -0.06951181590557098,
             0.05103513225913048,
             0.05986423417925835
            ]
           ],
           "z": [
            [
             0.7265965342521667,
             0.7246309518814087,
             0.34827548265457153,
             0,
             0.7314149141311646,
             0.3915977478027344,
             0.07225155830383301,
             0.9182442426681519,
             1.104766607284546,
             1.2363770008087158,
             1.2795372009277344,
             1.0708249807357788,
             0.8189576268196106,
             0.7115219235420227,
             1.1445823907852173,
             1.0355584621429443,
             0.8412657380104065
            ]
           ]
          }
         ],
         "name": "15"
        },
        {
         "data": [
          {
           "hovertemplate": "frame=16<br>x=%{x}<br>y=%{y}<br>z=%{z}<extra></extra>",
           "legendgroup": "",
           "marker": {
            "color": "#636efa",
            "opacity": 1,
            "symbol": "circle"
           },
           "mode": "markers",
           "name": "",
           "scene": "scene",
           "showlegend": false,
           "type": "scatter3d",
           "x": [
            [
             0,
             0.0894603282213211,
             0.11912854015827179,
             0.2003055363893509,
             -0.08464062213897705,
             -0.15553539991378784,
             -0.0839541032910347,
             -0.04370129480957985,
             -0.09038903564214706,
             -0.2458331286907196,
             -0.24198168516159058,
             -0.22058521211147308,
             -0.18412084877490997,
             -0.03660974279046059,
             0.0370936281979084,
             0.20087255537509918,
             0.1397887021303177
            ]
           ],
           "y": [
            [
             0,
             -0.0556611642241478,
             -0.002654633019119501,
             0.0298323817551136,
             0.05594957247376442,
             0.0803121030330658,
             0.10962464660406113,
             -0.017738476395606995,
             -0.10844140499830246,
             -0.15887342393398285,
             -0.1612149178981781,
             -0.058132994920015335,
             -0.020855627954006195,
             0.026271594688296318,
             -0.07615968585014343,
             0.043028414249420166,
             0.051932454109191895
            ]
           ],
           "z": [
            [
             0.7282664775848389,
             0.7254833579063416,
             0.35234546661376953,
             0,
             0.7341115474700928,
             0.41302940249443054,
             0.0808103084564209,
             0.9209180474281311,
             1.1078788042068481,
             1.227160930633545,
             1.272535800933838,
             1.0726432800292969,
             0.8196539282798767,
             0.7091034650802612,
             1.1498892307281494,
             1.0614384412765503,
             0.8518095016479492
            ]
           ]
          }
         ],
         "name": "16"
        },
        {
         "data": [
          {
           "hovertemplate": "frame=17<br>x=%{x}<br>y=%{y}<br>z=%{z}<extra></extra>",
           "legendgroup": "",
           "marker": {
            "color": "#636efa",
            "opacity": 1,
            "symbol": "circle"
           },
           "mode": "markers",
           "name": "",
           "scene": "scene",
           "showlegend": false,
           "type": "scatter3d",
           "x": [
            [
             0,
             0.09031140059232712,
             0.11889440566301346,
             0.19830211997032166,
             -0.08453332632780075,
             -0.1759362816810608,
             -0.12498657405376434,
             -0.048606567084789276,
             -0.10263317823410034,
             -0.2639691233634949,
             -0.2609080672264099,
             -0.2302851527929306,
             -0.18286365270614624,
             -0.0332493893802166,
             0.022023437544703484,
             0.19580139219760895,
             0.1467423141002655
            ]
           ],
           "y": [
            [
             0,
             -0.05852009728550911,
             -0.01027265377342701,
             0.018964696675539017,
             0.058944910764694214,
             0.08267806470394135,
             0.10629516839981079,
             -0.0176031943410635,
             -0.09605531394481659,
             -0.15323205292224884,
             -0.15300703048706055,
             -0.04896640405058861,
             -0.008353076875209808,
             0.05485854670405388,
             -0.07521416246891022,
             0.0486486442387104,
             0.05154487118124962
            ]
           ],
           "z": [
            [
             0.723342776298523,
             0.7205268740653992,
             0.3520689606666565,
             0,
             0.7291352152824402,
             0.42419397830963135,
             0.08965051174163818,
             0.9179810881614685,
             1.1074424982070923,
             1.2075517177581787,
             1.2527239322662354,
             1.0679517984390259,
             0.8174157738685608,
             0.7194254994392395,
             1.1574046611785889,
             1.101624846458435,
             0.8772169351577759
            ]
           ]
          }
         ],
         "name": "17"
        },
        {
         "data": [
          {
           "hovertemplate": "frame=18<br>x=%{x}<br>y=%{y}<br>z=%{z}<extra></extra>",
           "legendgroup": "",
           "marker": {
            "color": "#636efa",
            "opacity": 1,
            "symbol": "circle"
           },
           "mode": "markers",
           "name": "",
           "scene": "scene",
           "showlegend": false,
           "type": "scatter3d",
           "x": [
            [
             0,
             0.09175341576337814,
             0.12697753310203552,
             0.21459288895130157,
             -0.08559448271989822,
             -0.18470336496829987,
             -0.16224390268325806,
             -0.05323156714439392,
             -0.11183459311723709,
             -0.27123206853866577,
             -0.2698253095149994,
             -0.23688536882400513,
             -0.17425012588500977,
             -0.016062499955296516,
             0.007823730818927288,
             0.19666418433189392,
             0.15649548172950745
            ]
           ],
           "y": [
            [
             0,
             -0.05772941932082176,
             -0.010019869543612003,
             0.015159484930336475,
             0.05917850509285927,
             0.08525442332029343,
             0.10139551013708115,
             -0.018302137032151222,
             -0.10011888295412064,
             -0.15512967109680176,
             -0.15333473682403564,
             -0.048503972589969635,
             -0.028226271271705627,
             0.03791288658976555,
             -0.0795954167842865,
             0.04348153620958328,
             0.055652692914009094
            ]
           ],
           "z": [
            [
             0.7374409437179565,
             0.7382111549377441,
             0.36358046531677246,
             0,
             0.7395601272583008,
             0.43220704793930054,
             0.090953528881073,
             0.9314321279525757,
             1.1179008483886719,
             1.2231574058532715,
             1.268453598022461,
             1.0713822841644287,
             0.8225030303001404,
             0.7406313419342041,
             1.1729201078414917,
             1.139871597290039,
             0.9146857261657715
            ]
           ]
          }
         ],
         "name": "18"
        },
        {
         "data": [
          {
           "hovertemplate": "frame=19<br>x=%{x}<br>y=%{y}<br>z=%{z}<extra></extra>",
           "legendgroup": "",
           "marker": {
            "color": "#636efa",
            "opacity": 1,
            "symbol": "circle"
           },
           "mode": "markers",
           "name": "",
           "scene": "scene",
           "showlegend": false,
           "type": "scatter3d",
           "x": [
            [
             0,
             0.09175341576337814,
             0.12697753310203552,
             0.21459288895130157,
             -0.08559448271989822,
             -0.18470336496829987,
             -0.16224390268325806,
             -0.05323156714439392,
             -0.11183459311723709,
             -0.27123206853866577,
             -0.2698253095149994,
             -0.23688550293445587,
             -0.17425024509429932,
             -0.016062499955296516,
             0.007823730818927288,
             0.19666418433189392,
             0.15649548172950745
            ]
           ],
           "y": [
            [
             0,
             -0.057729434221982956,
             -0.010019875131547451,
             0.015159440226852894,
             0.05917850136756897,
             0.0852544754743576,
             0.10139548033475876,
             -0.01830211840569973,
             -0.1001189798116684,
             -0.15512976050376892,
             -0.1533348709344864,
             -0.048504047095775604,
             -0.02822636067867279,
             0.03791278600692749,
             -0.07959549129009247,
             0.043481454253196716,
             0.05565280839800835
            ]
           ],
           "z": [
            [
             0.7374409437179565,
             0.7382111549377441,
             0.3635803461074829,
             0,
             0.7395601272583008,
             0.43220704793930054,
             0.090953528881073,
             0.9314321279525757,
             1.1179008483886719,
             1.2231571674346924,
             1.268453598022461,
             1.0713822841644287,
             0.8225030303001404,
             0.7406313419342041,
             1.1729201078414917,
             1.13987135887146,
             0.9146857261657715
            ]
           ]
          }
         ],
         "name": "19"
        },
        {
         "data": [
          {
           "hovertemplate": "frame=20<br>x=%{x}<br>y=%{y}<br>z=%{z}<extra></extra>",
           "legendgroup": "",
           "marker": {
            "color": "#636efa",
            "opacity": 1,
            "symbol": "circle"
           },
           "mode": "markers",
           "name": "",
           "scene": "scene",
           "showlegend": false,
           "type": "scatter3d",
           "x": [
            [
             0,
             0.09402001649141312,
             0.13956372439861298,
             0.23792700469493866,
             -0.08760766685009003,
             -0.19706286489963531,
             -0.265133798122406,
             -0.06493481248617172,
             -0.1328279972076416,
             -0.3044353127479553,
             -0.30387842655181885,
             -0.257718026638031,
             -0.17856396734714508,
             -0.003436645492911339,
             -0.015246826224029064,
             0.19776953756809235,
             0.1592528074979782
            ]
           ],
           "y": [
            [
             0,
             -0.056026287376880646,
             -0.018746791407465935,
             -0.0010180154349654913,
             0.05943377688527107,
             0.08905084431171417,
             0.11648894101381302,
             -0.02557501755654812,
             -0.11828352510929108,
             -0.16667009890079498,
             -0.1629551500082016,
             -0.0645640417933464,
             -0.08412636816501617,
             -0.05945100635290146,
             -0.09335895627737045,
             0.02503928728401661,
             0.05298510566353798
            ]
           ],
           "z": [
            [
             0.7597448825836182,
             0.7653961777687073,
             0.37225624918937683,
             0,
             0.7559718489646912,
             0.42548608779907227,
             0.1011011004447937,
             0.9513891935348511,
             1.1306772232055664,
             1.2229626178741455,
             1.2656710147857666,
             1.0698869228363037,
             0.8211991190910339,
             0.7633393406867981,
             1.1979023218154907,
             1.1956300735473633,
             0.9704444408416748
            ]
           ]
          }
         ],
         "name": "20"
        },
        {
         "data": [
          {
           "hovertemplate": "frame=21<br>x=%{x}<br>y=%{y}<br>z=%{z}<extra></extra>",
           "legendgroup": "",
           "marker": {
            "color": "#636efa",
            "opacity": 1,
            "symbol": "circle"
           },
           "mode": "markers",
           "name": "",
           "scene": "scene",
           "showlegend": false,
           "type": "scatter3d",
           "x": [
            [
             0,
             0.09303174167871475,
             0.1496392786502838,
             0.26018261909484863,
             -0.08656005561351776,
             -0.19625414907932281,
             -0.2948973476886749,
             -0.0645134299993515,
             -0.13168200850486755,
             -0.30275022983551025,
             -0.3063187301158905,
             -0.25992944836616516,
             -0.18406066298484802,
             -0.00416479492560029,
             -0.010463867336511612,
             0.1881391555070877,
             0.1533365547657013
            ]
           ],
           "y": [
            [
             0,
             -0.056496892124414444,
             -0.017409246414899826,
             0.00134625646751374,
             0.06023355573415756,
             0.08151355385780334,
             0.12466179579496384,
             -0.026079043745994568,
             -0.1255916953086853,
             -0.17186492681503296,
             -0.16672609746456146,
             -0.07653797417879105,
             -0.09738890081644058,
             -0.10198255628347397,
             -0.09186935424804688,
             0.05137825384736061,
             0.06717126816511154
            ]
           ],
           "z": [
            [
             0.7601581811904907,
             0.7683851718902588,
             0.3713228404521942,
             0,
             0.7536188364028931,
             0.4100877344608307,
             0.10363084077835083,
             0.9537568688392639,
             1.1347326040267944,
             1.2141623497009277,
             1.2606425285339355,
             1.0733683109283447,
             0.8176249861717224,
             0.7657715678215027,
             1.204549789428711,
             1.206206202507019,
             0.988037645816803
            ]
           ]
          }
         ],
         "name": "21"
        },
        {
         "data": [
          {
           "hovertemplate": "frame=22<br>x=%{x}<br>y=%{y}<br>z=%{z}<extra></extra>",
           "legendgroup": "",
           "marker": {
            "color": "#636efa",
            "opacity": 1,
            "symbol": "circle"
           },
           "mode": "markers",
           "name": "",
           "scene": "scene",
           "showlegend": false,
           "type": "scatter3d",
           "x": [
            [
             0,
             0.09253711253404617,
             0.14962366223335266,
             0.2795620858669281,
             -0.0856153592467308,
             -0.19139891862869263,
             -0.30554845929145813,
             -0.06955737620592117,
             -0.14150525629520416,
             -0.3148558437824249,
             -0.3181898295879364,
             -0.2631281614303589,
             -0.1877618432044983,
             -0.012362427078187466,
             -0.025632446631789207,
             0.18795569241046906,
             0.14133910834789276
            ]
           ],
           "y": [
            [
             0,
             -0.057106636464595795,
             -0.013655963353812695,
             0.007483175490051508,
             0.06081322580575943,
             0.08761683851480484,
             0.12618032097816467,
             -0.025882644578814507,
             -0.11402588337659836,
             -0.16398169100284576,
             -0.16011600196361542,
             -0.05920085310935974,
             -0.07337090373039246,
             -0.07471952587366104,
             -0.09176559746265411,
             0.022134311497211456,
             0.05512929707765579
            ]
           ],
           "z": [
            [
             0.7516452670097351,
             0.7616599202156067,
             0.3708038330078125,
             0,
             0.7438358068466187,
             0.4078834354877472,
             0.10155224800109863,
             0.9421783089637756,
             1.1203465461730957,
             1.2038357257843018,
             1.2502849102020264,
             1.0619862079620361,
             0.8047688603401184,
             0.7562651634216309,
             1.185276985168457,
             1.1951725482940674,
             0.97005295753479
            ]
           ]
          }
         ],
         "name": "22"
        },
        {
         "data": [
          {
           "hovertemplate": "frame=23<br>x=%{x}<br>y=%{y}<br>z=%{z}<extra></extra>",
           "legendgroup": "",
           "marker": {
            "color": "#636efa",
            "opacity": 1,
            "symbol": "circle"
           },
           "mode": "markers",
           "name": "",
           "scene": "scene",
           "showlegend": false,
           "type": "scatter3d",
           "x": [
            [
             0,
             0.0927746593952179,
             0.16593065857887268,
             0.30932867527008057,
             -0.08597277849912643,
             -0.186097651720047,
             -0.2911960482597351,
             -0.06853186339139938,
             -0.13991418480873108,
             -0.30030810832977295,
             -0.3008193373680115,
             -0.2622498869895935,
             -0.19618932902812958,
             -0.03532446175813675,
             -0.021762818098068237,
             0.19186937808990479,
             0.13770751655101776
            ]
           ],
           "y": [
            [
             0,
             -0.0560799203813076,
             0.0006591397686861455,
             0.026508048176765442,
             0.05960946902632713,
             0.08935809880495071,
             0.13471493124961853,
             -0.02241186611354351,
             -0.0874495878815651,
             -0.14643247425556183,
             -0.13868840038776398,
             -0.03959685191512108,
             -0.02433144487440586,
             -0.0028480433393269777,
             -0.07510481774806976,
             0.028170976787805557,
             0.05132454261183739
            ]
           ],
           "z": [
            [
             0.7460244297981262,
             0.7558143138885498,
             0.369558721780777,
             0,
             0.7387034893035889,
             0.4041069447994232,
             0.10122412443161011,
             0.9403645396232605,
             1.125104546546936,
             1.2269861698150635,
             1.2774710655212402,
             1.0631262063980103,
             0.8198234438896179,
             0.7463040351867676,
             1.1953688859939575,
             1.17487370967865,
             0.935492217540741
            ]
           ]
          }
         ],
         "name": "23"
        },
        {
         "data": [
          {
           "hovertemplate": "frame=24<br>x=%{x}<br>y=%{y}<br>z=%{z}<extra></extra>",
           "legendgroup": "",
           "marker": {
            "color": "#636efa",
            "opacity": 1,
            "symbol": "circle"
           },
           "mode": "markers",
           "name": "",
           "scene": "scene",
           "showlegend": false,
           "type": "scatter3d",
           "x": [
            [
             0,
             0.09279821813106537,
             0.1658940464258194,
             0.3094328045845032,
             -0.08596484363079071,
             -0.1859472692012787,
             -0.29106420278549194,
             -0.06859252601861954,
             -0.13965576887130737,
             -0.3002544045448303,
             -0.3007778227329254,
             -0.262144535779953,
             -0.19613952934741974,
             -0.03513146936893463,
             -0.021782591938972473,
             0.1917407214641571,
             0.13759900629520416
            ]
           ],
           "y": [
            [
             0,
             -0.05513763427734375,
             0.0010037361644208431,
             0.025822307914495468,
             0.05882129818201065,
             0.08895440399646759,
             0.13385333120822906,
             -0.02144704945385456,
             -0.08766226470470428,
             -0.1460571438074112,
             -0.13819433748722076,
             -0.03976789861917496,
             -0.02795664221048355,
             -0.011529427021741867,
             -0.07449474930763245,
             0.029442530125379562,
             0.05393180996179581
            ]
           ],
           "z": [
            [
             0.74769127368927,
             0.7593418955802917,
             0.3727424144744873,
             0,
             0.7386956810951233,
             0.4037756323814392,
             0.1010013222694397,
             0.9415217041969299,
             1.1252690553665161,
             1.2270290851593018,
             1.2774288654327393,
             1.0631210803985596,
             0.8197117447853088,
             0.7460852265357971,
             1.195322036743164,
             1.1750929355621338,
             0.9390687942504883
            ]
           ]
          }
         ],
         "name": "24"
        },
        {
         "data": [
          {
           "hovertemplate": "frame=25<br>x=%{x}<br>y=%{y}<br>z=%{z}<extra></extra>",
           "legendgroup": "",
           "marker": {
            "color": "#636efa",
            "opacity": 1,
            "symbol": "circle"
           },
           "mode": "markers",
           "name": "",
           "scene": "scene",
           "showlegend": false,
           "type": "scatter3d",
           "x": [
            [
             0,
             0.09273645281791687,
             0.1989320069551468,
             0.38559064269065857,
             -0.08749804645776749,
             -0.14221741259098053,
             -0.22187793254852295,
             -0.06646374613046646,
             -0.12700268626213074,
             -0.2825920283794403,
             -0.28331419825553894,
             -0.2730228304862976,
             -0.2527642846107483,
             -0.11213928461074829,
             0.008356933481991291,
             0.17112915217876434,
             0.07710973918437958
            ]
           ],
           "y": [
            [
             0,
             -0.04074932262301445,
             0.02004380337893963,
             0.04910895600914955,
             0.048362769186496735,
             0.0694403126835823,
             0.11565902829170227,
             -0.024537406861782074,
             -0.09673565626144409,
             -0.15482886135578156,
             -0.14757433533668518,
             -0.07324307411909103,
             -0.002371580572798848,
             0.03139727562665939,
             -0.08655090630054474,
             -0.011788802221417427,
             0.006902899593114853
            ]
           ],
           "z": [
            [
             0.7328447103500366,
             0.7420209646224976,
             0.3807286322116852,
             0,
             0.7280380725860596,
             0.40163522958755493,
             0.09796798229217529,
             0.9220912456512451,
             1.1037278175354004,
             1.2157173156738281,
             1.2561922073364258,
             1.085635781288147,
             0.8462350368499756,
             0.7140951752662659,
             1.1346763372421265,
             1.0012171268463135,
             0.800908088684082
            ]
           ]
          }
         ],
         "name": "25"
        },
        {
         "data": [
          {
           "hovertemplate": "frame=26<br>x=%{x}<br>y=%{y}<br>z=%{z}<extra></extra>",
           "legendgroup": "",
           "marker": {
            "color": "#636efa",
            "opacity": 1,
            "symbol": "circle"
           },
           "mode": "markers",
           "name": "",
           "scene": "scene",
           "showlegend": false,
           "type": "scatter3d",
           "x": [
            [
             0,
             0.08666625618934631,
             0.22304747998714447,
             0.42430761456489563,
             -0.08244079351425171,
             -0.12397155910730362,
             -0.184220090508461,
             -0.06049841269850731,
             -0.11568493396043777,
             -0.26818516850471497,
             -0.2649499475955963,
             -0.2513466775417328,
             -0.28214794397354126,
             -0.27309325337409973,
             0.015193847939372063,
             0.13165198266506195,
             -0.027912110090255737
            ]
           ],
           "y": [
            [
             0,
             -0.045405272394418716,
             0.006059734150767326,
             0.03785489499568939,
             0.0523998849093914,
             0.06039753556251526,
             0.10467538237571716,
             -0.037881165742874146,
             -0.15558084845542908,
             -0.1989559829235077,
             -0.21040356159210205,
             -0.09134656935930252,
             0.02555432915687561,
             -0.003364043775945902,
             -0.16952648758888245,
             -0.1830219328403473,
             -0.22453980147838593
            ]
           ],
           "z": [
            [
             0.7340648174285889,
             0.7404916882514954,
             0.3695468604564667,
             0,
             0.7322964072227478,
             0.3996785879135132,
             0.09330713748931885,
             0.9262716770172119,
             1.1122970581054688,
             1.2259762287139893,
             1.2616801261901855,
             1.1303220987319946,
             0.9412738680839539,
             0.7615978717803955,
             1.1076130867004395,
             0.8810545802116394,
             0.7133848071098328
            ]
           ]
          }
         ],
         "name": "26"
        },
        {
         "data": [
          {
           "hovertemplate": "frame=27<br>x=%{x}<br>y=%{y}<br>z=%{z}<extra></extra>",
           "legendgroup": "",
           "marker": {
            "color": "#636efa",
            "opacity": 1,
            "symbol": "circle"
           },
           "mode": "markers",
           "name": "",
           "scene": "scene",
           "showlegend": false,
           "type": "scatter3d",
           "x": [
            [
             0,
             -0.07240503281354904,
             -0.12231884896755219,
             -0.15535949170589447,
             0.06476269662380219,
             0.19968152046203613,
             0.4237862527370453,
             -0.0715961903333664,
             -0.15598535537719727,
             -0.2840367555618286,
             -0.2941237688064575,
             -0.07168884575366974,
             -0.029929688200354576,
             -0.3049784004688263,
             -0.23557433485984802,
             -0.3603159189224243,
             -0.31504565477371216
            ]
           ],
           "y": [
            [
             0,
             -0.09172448515892029,
             0.040154486894607544,
             0.057539597153663635,
             0.10054553300142288,
             0.09705737233161926,
             0.09931979328393936,
             -0.01808413490653038,
             0.013350652530789375,
             -0.014196524396538734,
             -0.05737384408712387,
             0.12943030893802643,
             0.19357404112815857,
             0.09257800877094269,
             -0.10237240046262741,
             -0.17657062411308289,
             -0.05983290076255798
            ]
           ],
           "z": [
            [
             0.7334968447685242,
             0.7304979562759399,
             0.426320344209671,
             0.10299903154373169,
             0.73405921459198,
             0.36137086153030396,
             0,
             0.9359275698661804,
             1.1400443315505981,
             1.2238553762435913,
             1.2578060626983643,
             1.1450154781341553,
             0.9221911430358887,
             0.766716480255127,
             1.1440644264221191,
             0.9714577198028564,
             0.7523302435874939
            ]
           ]
          }
         ],
         "name": "27"
        },
        {
         "data": [
          {
           "hovertemplate": "frame=28<br>x=%{x}<br>y=%{y}<br>z=%{z}<extra></extra>",
           "legendgroup": "",
           "marker": {
            "color": "#636efa",
            "opacity": 1,
            "symbol": "circle"
           },
           "mode": "markers",
           "name": "",
           "scene": "scene",
           "showlegend": false,
           "type": "scatter3d",
           "x": [
            [
             0,
             0.07121508568525314,
             0.21494506299495697,
             0.45167121291160583,
             -0.06628967076539993,
             -0.12412109225988388,
             -0.14030858874320984,
             -0.05961999669671059,
             -0.12587732076644897,
             -0.2705255150794983,
             -0.2663806080818176,
             -0.1864294409751892,
             -0.3881363570690155,
             -0.4029799699783325,
             -0.06992688030004501,
             -0.04397900402545929,
             -0.26228150725364685
            ]
           ],
           "y": [
            [
             0,
             -0.08252349495887756,
             -0.0046806721948087215,
             0.022863125428557396,
             0.07640352100133896,
             0.09385605901479721,
             0.08843708783388138,
             -0.0579749271273613,
             -0.20042209327220917,
             -0.22688110172748566,
             -0.24713580310344696,
             -0.08943937718868256,
             -0.04271343722939491,
             -0.10494186729192734,
             -0.2761705219745636,
             -0.2820602357387543,
             -0.24831733107566833
            ]
           ],
           "z": [
            [
             0.7122676968574524,
             0.7066466212272644,
             0.3570433259010315,
             0,
             0.7203729748725891,
             0.41133251786231995,
             0.07201975584030151,
             0.9051629304885864,
             1.097349762916565,
             1.1868727207183838,
             1.2218928337097168,
             1.186888337135315,
             1.1235402822494507,
             0.8746575117111206,
             1.024373173713684,
             0.6873294115066528,
             0.7247119545936584
            ]
           ]
          }
         ],
         "name": "28"
        },
        {
         "data": [
          {
           "hovertemplate": "frame=29<br>x=%{x}<br>y=%{y}<br>z=%{z}<extra></extra>",
           "legendgroup": "",
           "marker": {
            "color": "#636efa",
            "opacity": 1,
            "symbol": "circle"
           },
           "mode": "markers",
           "name": "",
           "scene": "scene",
           "showlegend": false,
           "type": "scatter3d",
           "x": [
            [
             0,
             0.07117175310850143,
             0.21492566168308258,
             0.4516565501689911,
             -0.0662834495306015,
             -0.12430639564990997,
             -0.13960132002830505,
             -0.05965002626180649,
             -0.12600646913051605,
             -0.27084729075431824,
             -0.2666192650794983,
             -0.18685656785964966,
             -0.38828808069229126,
             -0.4031079113483429,
             -0.06995873898267746,
             -0.0439768061041832,
             -0.26266175508499146
            ]
           ],
           "y": [
            [
             0,
             -0.08269995450973511,
             -0.004084394779056311,
             0.024629276245832443,
             0.07648611813783646,
             0.0946434959769249,
             0.08683562278747559,
             -0.057541728019714355,
             -0.20036368072032928,
             -0.226881742477417,
             -0.247464120388031,
             -0.08964462578296661,
             -0.04200637713074684,
             -0.10348878800868988,
             -0.2760952413082123,
             -0.2825942635536194,
             -0.24882423877716064
            ]
           ],
           "z": [
            [
             0.7123352289199829,
             0.7067480087280273,
             0.35704079270362854,
             0,
             0.7203845977783203,
             0.41095778346061707,
             0.06946802139282227,
             0.9059374332427979,
             1.0993309020996094,
             1.1870614290237427,
             1.2219173908233643,
             1.1908823251724243,
             1.1235525608062744,
             0.8745492100715637,
             1.0245572328567505,
             0.6901624202728271,
             0.7278861403465271
            ]
           ]
          }
         ],
         "name": "29"
        },
        {
         "data": [
          {
           "hovertemplate": "frame=30<br>x=%{x}<br>y=%{y}<br>z=%{z}<extra></extra>",
           "legendgroup": "",
           "marker": {
            "color": "#636efa",
            "opacity": 1,
            "symbol": "circle"
           },
           "mode": "markers",
           "name": "",
           "scene": "scene",
           "showlegend": false,
           "type": "scatter3d",
           "x": [
            [
             0,
             0.06260912865400314,
             0.17406262457370758,
             0.4254361689090729,
             -0.05742065608501434,
             -0.1279931664466858,
             -0.12183508276939392,
             -0.04930078238248825,
             -0.10032116621732712,
             -0.26408568024635315,
             -0.2715816795825958,
             -0.08769726753234863,
             -0.30332738161087036,
             -0.47428271174430847,
             -0.1128227561712265,
             -0.23901818692684174,
             -0.4773668348789215
            ]
           ],
           "y": [
            [
             0,
             -0.0858021154999733,
             0.003631538012996316,
             0.035111673176288605,
             0.0816178098320961,
             0.08712700009346008,
             0.08599105477333069,
             -0.03930545225739479,
             -0.12820032238960266,
             -0.1499260514974594,
             -0.18102063238620758,
             0.00981150008738041,
             0.00637382548302412,
             -0.04556165635585785,
             -0.23098692297935486,
             -0.2968848645687103,
             -0.2578711211681366
            ]
           ],
           "z": [
            [
             0.6701596975326538,
             0.6684852242469788,
             0.32232704758644104,
             0,
             0.6744375824928284,
             0.3605923056602478,
             0.02552872896194458,
             0.864648163318634,
             1.0630826950073242,
             1.130407691001892,
             1.1690692901611328,
             1.1143407821655273,
             1.1977581977844238,
             0.9420647621154785,
             1.020261526107788,
             0.7429591417312622,
             0.7955780029296875
            ]
           ]
          }
         ],
         "name": "30"
        },
        {
         "data": [
          {
           "hovertemplate": "frame=31<br>x=%{x}<br>y=%{y}<br>z=%{z}<extra></extra>",
           "legendgroup": "",
           "marker": {
            "color": "#636efa",
            "opacity": 1,
            "symbol": "circle"
           },
           "mode": "markers",
           "name": "",
           "scene": "scene",
           "showlegend": false,
           "type": "scatter3d",
           "x": [
            [
             0,
             0.05824218690395355,
             0.14350928366184235,
             0.3900877833366394,
             -0.0525820329785347,
             -0.1263713389635086,
             -0.12077563256025314,
             -0.05435851961374283,
             -0.11170251667499542,
             -0.2688908576965332,
             -0.27105772495269775,
             -0.11076037585735321,
             -0.31118297576904297,
             -0.49980077147483826,
             -0.1092836931347847,
             -0.30016857385635376,
             -0.5174976587295532
            ]
           ],
           "y": [
            [
             0,
             -0.08942549675703049,
             -0.011261492036283016,
             0.028112808242440224,
             0.08646383881568909,
             0.08501479774713516,
             0.06669130176305771,
             -0.04108906537294388,
             -0.13646066188812256,
             -0.16087858378887177,
             -0.1965406835079193,
             -0.0033839887473732233,
             -0.011857660487294197,
             -0.06246080622076988,
             -0.23578041791915894,
             -0.317109078168869,
             -0.24452713131904602
            ]
           ],
           "z": [
            [
             0.6465851068496704,
             0.6468521952629089,
             0.2922031581401825,
             0.00782620906829834,
             0.6482849717140198,
             0.33133095502853394,
             0,
             0.8365817666053772,
             1.030815601348877,
             1.0699858665466309,
             1.1032136678695679,
             1.0874360799789429,
             1.2011947631835938,
             0.9733576774597168,
             0.9782313108444214,
             0.7688013911247253,
             0.8431435227394104
            ]
           ]
          }
         ],
         "name": "31"
        },
        {
         "data": [
          {
           "hovertemplate": "frame=32<br>x=%{x}<br>y=%{y}<br>z=%{z}<extra></extra>",
           "legendgroup": "",
           "marker": {
            "color": "#636efa",
            "opacity": 1,
            "symbol": "circle"
           },
           "mode": "markers",
           "name": "",
           "scene": "scene",
           "showlegend": false,
           "type": "scatter3d",
           "x": [
            [
             0,
             0.05462341383099556,
             0.1338168978691101,
             0.37793800234794617,
             -0.05045397952198982,
             -0.12796728312969208,
             -0.11087841540575027,
             -0.05105554312467575,
             -0.10646447539329529,
             -0.26840099692344666,
             -0.2761951982975006,
             -0.09529419243335724,
             -0.3267763555049896,
             -0.5123331546783447,
             -0.11974731087684631,
             -0.34302783012390137,
             -0.5576283931732178
            ]
           ],
           "y": [
            [
             0,
             -0.09872861951589584,
             -0.01207876205444336,
             0.04367956146597862,
             0.09307243674993515,
             0.09308209270238876,
             0.06293924897909164,
             -0.042789749801158905,
             -0.16381561756134033,
             -0.17596834897994995,
             -0.22640301287174225,
             -0.04820592701435089,
             -0.026973040774464607,
             -0.08429183810949326,
             -0.25979962944984436,
             -0.3337976336479187,
             -0.24966244399547577
            ]
           ],
           "z": [
            [
             0.6704610586166382,
             0.6662342548370361,
             0.3072728216648102,
             0.03980553150177002,
             0.6752299666404724,
             0.337623655796051,
             0,
             0.8748147487640381,
             1.0842534303665161,
             1.1063549518585205,
             1.141540288925171,
             1.2015435695648193,
             1.2838739156723022,
             1.1341497898101807,
             0.9750967025756836,
             0.8429489135742188,
             0.9415793418884277
            ]
           ]
          }
         ],
         "name": "32"
        },
        {
         "data": [
          {
           "hovertemplate": "frame=33<br>x=%{x}<br>y=%{y}<br>z=%{z}<extra></extra>",
           "legendgroup": "",
           "marker": {
            "color": "#636efa",
            "opacity": 1,
            "symbol": "circle"
           },
           "mode": "markers",
           "name": "",
           "scene": "scene",
           "showlegend": false,
           "type": "scatter3d",
           "x": [
            [
             0,
             0.06270226836204529,
             0.12579345703125,
             0.3610367476940155,
             -0.05726953223347664,
             -0.12417846918106079,
             -0.09608788788318634,
             -0.048915162682533264,
             -0.10178820788860321,
             -0.2714614272117615,
             -0.2751988470554352,
             -0.09185070544481277,
             -0.3076184093952179,
             -0.4986332952976227,
             -0.11155261099338531,
             -0.35956433415412903,
             -0.5542593002319336
            ]
           ],
           "y": [
            [
             0,
             -0.09352894127368927,
             -0.010704035870730877,
             0.0547977052628994,
             0.08798905462026596,
             0.08633296936750412,
             0.06675880402326584,
             -0.041742634028196335,
             -0.15491566061973572,
             -0.1739165484905243,
             -0.21799765527248383,
             -0.03635140508413315,
             -0.029638633131980896,
             -0.08603576570749283,
             -0.25258174538612366,
             -0.3205442428588867,
             -0.24150510132312775
            ]
           ],
           "z": [
            [
             0.6667141318321228,
             0.6637638211250305,
             0.30315589904785156,
             0.050514936447143555,
             0.670581579208374,
             0.33565589785575867,
             0,
             0.8722911477088928,
             1.0848174095153809,
             1.116429328918457,
             1.1527683734893799,
             1.1876654624938965,
             1.3297622203826904,
             1.1861817836761475,
             0.9891036748886108,
             0.8797493577003479,
             1.0052070617675781
            ]
           ]
          }
         ],
         "name": "33"
        },
        {
         "data": [
          {
           "hovertemplate": "frame=34<br>x=%{x}<br>y=%{y}<br>z=%{z}<extra></extra>",
           "legendgroup": "",
           "marker": {
            "color": "#636efa",
            "opacity": 1,
            "symbol": "circle"
           },
           "mode": "markers",
           "name": "",
           "scene": "scene",
           "showlegend": false,
           "type": "scatter3d",
           "x": [
            [
             0,
             0.0627276599407196,
             0.12583935260772705,
             0.3611299991607666,
             -0.05729760602116585,
             -0.12414001673460007,
             -0.09600012004375458,
             -0.048949096351861954,
             -0.10180310159921646,
             -0.27480432391166687,
             -0.2787962555885315,
             -0.09171216189861298,
             -0.3074711859226227,
             -0.4984374940395355,
             -0.1115107387304306,
             -0.36336925625801086,
             -0.553573727607727
            ]
           ],
           "y": [
            [
             0,
             -0.09359704703092575,
             -0.010575661435723305,
             0.05503205209970474,
             0.0880962684750557,
             0.0867348462343216,
             0.06771494448184967,
             -0.04176218435168266,
             -0.15452644228935242,
             -0.17461684346199036,
             -0.21908053755760193,
             -0.03585297241806984,
             -0.02889489196240902,
             -0.0860900804400444,
             -0.2527787685394287,
             -0.31911298632621765,
             -0.23779296875
            ]
           ],
           "z": [
            [
             0.666804313659668,
             0.6638367176055908,
             0.3032618463039398,
             0.05054152011871338,
             0.6707022786140442,
             0.33575865626335144,
             0,
             0.872582197189331,
             1.0849969387054443,
             1.1166952848434448,
             1.1532673835754395,
             1.187741756439209,
             1.3299137353897095,
             1.1862528324127197,
             0.9891854524612427,
             0.8805994391441345,
             1.005638599395752
            ]
           ]
          }
         ],
         "name": "34"
        },
        {
         "data": [
          {
           "hovertemplate": "frame=35<br>x=%{x}<br>y=%{y}<br>z=%{z}<extra></extra>",
           "legendgroup": "",
           "marker": {
            "color": "#636efa",
            "opacity": 1,
            "symbol": "circle"
           },
           "mode": "markers",
           "name": "",
           "scene": "scene",
           "showlegend": false,
           "type": "scatter3d",
           "x": [
            [
             0,
             0.05729394406080246,
             0.0967392548918724,
             0.30727294087409973,
             -0.0514974370598793,
             -0.11439550668001175,
             -0.06891430914402008,
             -0.050413452088832855,
             -0.10686694085597992,
             -0.27718982100486755,
             -0.28209972381591797,
             -0.10849279910326004,
             -0.3055616319179535,
             -0.47257447242736816,
             -0.09737195074558258,
             -0.34669360518455505,
             -0.4994276165962219
            ]
           ],
           "y": [
            [
             0,
             -0.09071272611618042,
             -0.016202537342905998,
             0.052613288164138794,
             0.08444476872682571,
             0.09111014008522034,
             0.08073200285434723,
             -0.038042403757572174,
             -0.1279706209897995,
             -0.15864889323711395,
             -0.19541025161743164,
             0.00408402644097805,
             -0.034250810742378235,
             -0.0838414654135704,
             -0.2310737669467926,
             -0.31884270906448364,
             -0.2472124695777893
            ]
           ],
           "z": [
            [
             0.6326040029525757,
             0.6299747228622437,
             0.2806445360183716,
             0.0426449179649353,
             0.637121319770813,
             0.3286592960357666,
             0,
             0.8331324458122253,
             1.045215368270874,
             1.0938720703125,
             1.1344263553619385,
             1.1048060655593872,
             1.3406915664672852,
             1.2006499767303467,
             0.9921709299087524,
             0.87810218334198,
             1.0706502199172974
            ]
           ]
          }
         ],
         "name": "35"
        },
        {
         "data": [
          {
           "hovertemplate": "frame=36<br>x=%{x}<br>y=%{y}<br>z=%{z}<extra></extra>",
           "legendgroup": "",
           "marker": {
            "color": "#636efa",
            "opacity": 1,
            "symbol": "circle"
           },
           "mode": "markers",
           "name": "",
           "scene": "scene",
           "showlegend": false,
           "type": "scatter3d",
           "x": [
            [
             0,
             0.056693848222494125,
             0.08397253602743149,
             0.2859247922897339,
             -0.05055529624223709,
             -0.1091160923242569,
             -0.05431945621967316,
             -0.05368933081626892,
             -0.11540734767913818,
             -0.2719012498855591,
             -0.27674779295921326,
             -0.13742834329605103,
             -0.30839452147483826,
             -0.46788257360458374,
             -0.08350549638271332,
             -0.31886181235313416,
             -0.4570218622684479
            ]
           ],
           "y": [
            [
             0,
             -0.08652061223983765,
             -0.016062768176198006,
             0.046192582696676254,
             0.08187802135944366,
             0.09256460517644882,
             0.0887538269162178,
             -0.0334092415869236,
             -0.1085648462176323,
             -0.14473028481006622,
             -0.16938620805740356,
             0.024219434708356857,
             -0.03668409585952759,
             -0.06287744641304016,
             -0.212631955742836,
             -0.32061049342155457,
             -0.24321585893630981
            ]
           ],
           "z": [
            [
             0.6127277612686157,
             0.6103956699371338,
             0.27087974548339844,
             0.03346008062362671,
             0.6179843544960022,
             0.3214881420135498,
             0,
             0.8061487078666687,
             1.0106256008148193,
             1.0763715505599976,
             1.110841989517212,
             1.0343416929244995,
             1.3231201171875,
             1.1028506755828857,
             0.9927663803100586,
             0.8677169680595398,
             1.0960311889648438
            ]
           ]
          }
         ],
         "name": "36"
        },
        {
         "data": [
          {
           "hovertemplate": "frame=37<br>x=%{x}<br>y=%{y}<br>z=%{z}<extra></extra>",
           "legendgroup": "",
           "marker": {
            "color": "#636efa",
            "opacity": 1,
            "symbol": "circle"
           },
           "mode": "markers",
           "name": "",
           "scene": "scene",
           "showlegend": false,
           "type": "scatter3d",
           "x": [
            [
             0,
             0.05796557664871216,
             0.06343884021043777,
             0.2677094638347626,
             -0.05050891265273094,
             -0.10187866538763046,
             -0.04126635566353798,
             -0.051506590098142624,
             -0.12061352282762527,
             -0.2592756450176239,
             -0.26364171504974365,
             -0.15841101109981537,
             -0.30271458625793457,
             -0.4411953091621399,
             -0.07072106748819351,
             -0.25492480397224426,
             -0.38691601157188416
            ]
           ],
           "y": [
            [
             0,
             -0.0831926092505455,
             -0.015679290518164635,
             0.055554866790771484,
             0.0779624804854393,
             0.08675599098205566,
             0.10761649906635284,
             0.0039725578390061855,
             0.02406805008649826,
             -0.018246149644255638,
             -0.014344156719744205,
             0.10884521156549454,
             0.12471257150173187,
             0.05618661642074585,
             -0.05253876373171806,
             -0.12218330055475235,
             -0.06827958673238754
            ]
           ],
           "z": [
            [
             0.5958945155143738,
             0.5968146920204163,
             0.26533812284469604,
             0.03235924243927002,
             0.5991919636726379,
             0.3113865852355957,
             0,
             0.785561203956604,
             0.9829021692276001,
             1.0570305585861206,
             1.0932059288024902,
             0.9568969011306763,
             0.8283117413520813,
             1.0284531116485596,
             1.0132195949554443,
             1.3026742935180664,
             1.1568156480789185
            ]
           ]
          }
         ],
         "name": "37"
        },
        {
         "data": [
          {
           "hovertemplate": "frame=38<br>x=%{x}<br>y=%{y}<br>z=%{z}<extra></extra>",
           "legendgroup": "",
           "marker": {
            "color": "#636efa",
            "opacity": 1,
            "symbol": "circle"
           },
           "mode": "markers",
           "name": "",
           "scene": "scene",
           "showlegend": false,
           "type": "scatter3d",
           "x": [
            [
             0,
             0.05667516961693764,
             0.053706541657447815,
             0.2573644518852234,
             -0.050749633461236954,
             -0.0979171171784401,
             -0.03220446780323982,
             -0.04912060499191284,
             -0.11481676995754242,
             -0.25121399760246277,
             -0.255946546792984,
             -0.1610105037689209,
             -0.29109901189804077,
             -0.4177338778972626,
             -0.05771838501095772,
             -0.2185491919517517,
             -0.34113892912864685
            ]
           ],
           "y": [
            [
             0,
             -0.08682020753622055,
             -0.024509336799383163,
             0.05580294877290726,
             0.07972108572721481,
             0.09381607919931412,
             0.10970916599035263,
             0.005453288089483976,
             0.0416465625166893,
             -0.010298453271389008,
             -0.004009518772363663,
             0.11322885006666183,
             0.0712679773569107,
             0.0249805711209774,
             -0.01682923175394535,
             -0.1051173284649849,
             -0.05428007245063782
            ]
           ],
           "z": [
            [
             0.6088054180145264,
             0.6101438403129578,
             0.26898303627967834,
             0.04020822048187256,
             0.6100637316703796,
             0.3141004741191864,
             0,
             0.8061036467552185,
             1.0145184993743896,
             1.0787897109985352,
             1.1150705814361572,
             0.9520726799964905,
             0.818870484828949,
             1.0086864233016968,
             1.081346035003662,
             1.338350772857666,
             1.1944243907928467
            ]
           ]
          }
         ],
         "name": "38"
        },
        {
         "data": [
          {
           "hovertemplate": "frame=39<br>x=%{x}<br>y=%{y}<br>z=%{z}<extra></extra>",
           "legendgroup": "",
           "marker": {
            "color": "#636efa",
            "opacity": 1,
            "symbol": "circle"
           },
           "mode": "markers",
           "name": "",
           "scene": "scene",
           "showlegend": false,
           "type": "scatter3d",
           "x": [
            [
             0,
             0.056721922010183334,
             0.05368689075112343,
             0.25735217332839966,
             -0.05080590769648552,
             -0.0979321300983429,
             -0.032194945961236954,
             -0.04910046234726906,
             -0.11494909971952438,
             -0.2510862946510315,
             -0.25587865710258484,
             -0.16127368807792664,
             -0.29177746176719666,
             -0.41843846440315247,
             -0.05793505907058716,
             -0.21870580315589905,
             -0.34120386838912964
            ]
           ],
           "y": [
            [
             0,
             -0.0866536870598793,
             -0.02418314293026924,
             0.05636849254369736,
             0.07965630292892456,
             0.09451106935739517,
             0.11069761961698532,
             0.005826289765536785,
             0.044360850006341934,
             -0.007688503246754408,
             -0.001382532063871622,
             0.11452899873256683,
             0.06112369894981384,
             0.018113136291503906,
             -0.014099912717938423,
             -0.1038796678185463,
             -0.05479300767183304
            ]
           ],
           "z": [
            [
             0.6086783409118652,
             0.6099834442138672,
             0.2688060402870178,
             0.040151357650756836,
             0.6099646091461182,
             0.3139871656894684,
             0,
             0.8060252666473389,
             1.0142948627471924,
             1.0785870552062988,
             1.114825963973999,
             0.9479516744613647,
             0.8187009692192078,
             1.00899338722229,
             1.084962248802185,
             1.3382749557495117,
             1.1943223476409912
            ]
           ]
          }
         ],
         "name": "39"
        },
        {
         "data": [
          {
           "hovertemplate": "frame=40<br>x=%{x}<br>y=%{y}<br>z=%{z}<extra></extra>",
           "legendgroup": "",
           "marker": {
            "color": "#636efa",
            "opacity": 1,
            "symbol": "circle"
           },
           "mode": "markers",
           "name": "",
           "scene": "scene",
           "showlegend": false,
           "type": "scatter3d",
           "x": [
            [
             0,
             0.0525200180709362,
             0.01847509853541851,
             0.2221347689628601,
             -0.047727782279253006,
             -0.08458971977233887,
             -0.0066950684413313866,
             -0.03805126994848251,
             -0.09238464385271072,
             -0.2220126986503601,
             -0.22682274878025055,
             -0.13198424875736237,
             -0.25430163741111755,
             -0.35982581973075867,
             -0.0411684587597847,
             -0.1917702704668045,
             -0.3207116723060608
            ]
           ],
           "y": [
            [
             0,
             -0.08525869995355606,
             -0.021161697804927826,
             0.04142818599939346,
             0.07881778478622437,
             0.0876474380493164,
             0.10730782896280289,
             0.006071334704756737,
             0.024528639391064644,
             -0.0147628765553236,
             -0.012115459889173508,
             0.11260697990655899,
             0.11354705691337585,
             0.058052003383636475,
             -0.04104962199926376,
             -0.11745557934045792,
             -0.05600930005311966
            ]
           ],
           "z": [
            [
             0.6160576343536377,
             0.6165904998779297,
             0.2803327739238739,
             0.027309834957122803,
             0.6188441514968872,
             0.31832632422447205,
             0,
             0.8060001134872437,
             1.004768967628479,
             1.0881208181381226,
             1.1218301057815552,
             0.9738322496414185,
             0.8090811371803284,
             1.0056171417236328,
             1.0405163764953613,
             1.3201090097427368,
             1.1778156757354736
            ]
           ]
          }
         ],
         "name": "40"
        },
        {
         "data": [
          {
           "hovertemplate": "frame=41<br>x=%{x}<br>y=%{y}<br>z=%{z}<extra></extra>",
           "legendgroup": "",
           "marker": {
            "color": "#636efa",
            "opacity": 1,
            "symbol": "circle"
           },
           "mode": "markers",
           "name": "",
           "scene": "scene",
           "showlegend": false,
           "type": "scatter3d",
           "x": [
            [
             0,
             0.04740234464406967,
             -0.0019820556044578552,
             0.19684496521949768,
             -0.043867554515600204,
             -0.08147680759429932,
             -0.0021901854779571295,
             -0.03769873082637787,
             -0.0851459950208664,
             -0.21419189870357513,
             -0.22049963474273682,
             -0.11194323748350143,
             -0.24358996748924255,
             -0.3363415598869324,
             -0.048292357474565506,
             -0.21828027069568634,
             -0.32526451349258423
            ]
           ],
           "y": [
            [
             0,
             -0.08666671067476273,
             -0.013279017060995102,
             0.024930359795689583,
             0.0837445929646492,
             0.08973318338394165,
             0.10068371146917343,
             -0.0064894771203398705,
             -0.03963964805006981,
             -0.06830115616321564,
             -0.08951736241579056,
             0.07541556656360626,
             0.07060420513153076,
             0.00550379091873765,
             -0.13155487179756165,
             -0.2456418126821518,
             -0.17091794312000275
            ]
           ],
           "z": [
            [
             0.6124336123466492,
             0.6126635670661926,
             0.292380154132843,
             0.02362990379333496,
             0.6162954568862915,
             0.3186003565788269,
             0,
             0.8042002320289612,
             1.0080287456512451,
             1.0876407623291016,
             1.1289677619934082,
             1.0089985132217407,
             0.8050612211227417,
             1.0407044887542725,
             1.0138742923736572,
             0.8033841848373413,
             1.044503927230835
            ]
           ]
          }
         ],
         "name": "41"
        },
        {
         "data": [
          {
           "hovertemplate": "frame=42<br>x=%{x}<br>y=%{y}<br>z=%{z}<extra></extra>",
           "legendgroup": "",
           "marker": {
            "color": "#636efa",
            "opacity": 1,
            "symbol": "circle"
           },
           "mode": "markers",
           "name": "",
           "scene": "scene",
           "showlegend": false,
           "type": "scatter3d",
           "x": [
            [
             0,
             0.04570910707116127,
             -0.020369507372379303,
             0.17994201183319092,
             -0.042430296540260315,
             -0.08145971596240997,
             0.003094238229095936,
             -0.03337964043021202,
             -0.07744043320417404,
             -0.20556335151195526,
             -0.20933349430561066,
             -0.10916296392679214,
             -0.2330750674009323,
             -0.32695019245147705,
             -0.033507201820611954,
             -0.18863171339035034,
             -0.30186474323272705
            ]
           ],
           "y": [
            [
             0,
             -0.08966703712940216,
             -0.01730506308376789,
             0.015148934908211231,
             0.08665107935667038,
             0.09223061800003052,
             0.09684573113918304,
             -0.00045458495151251554,
             -0.029453711584210396,
             -0.0572604164481163,
             -0.0700904130935669,
             0.08557979017496109,
             0.07353366166353226,
             0.014993872493505478,
             -0.11648784577846527,
             -0.22447234392166138,
             -0.17439182102680206
            ]
           ],
           "z": [
            [
             0.6253132224082947,
             0.6270415782928467,
             0.30574119091033936,
             0.024484634399414062,
             0.6270269751548767,
             0.32369640469551086,
             0,
             0.8176925182342529,
             1.019774079322815,
             1.0930497646331787,
             1.1285828351974487,
             1.0103673934936523,
             0.8027532696723938,
             1.0039665699005127,
             1.0357401371002197,
             0.8036777973175049,
             1.127859354019165
            ]
           ]
          }
         ],
         "name": "42"
        },
        {
         "data": [
          {
           "hovertemplate": "frame=43<br>x=%{x}<br>y=%{y}<br>z=%{z}<extra></extra>",
           "legendgroup": "",
           "marker": {
            "color": "#636efa",
            "opacity": 1,
            "symbol": "circle"
           },
           "mode": "markers",
           "name": "",
           "scene": "scene",
           "showlegend": false,
           "type": "scatter3d",
           "x": [
            [
             0,
             0.044440675526857376,
             -0.02558605931699276,
             0.16926135122776031,
             -0.04239856079220772,
             -0.06980907917022705,
             0.00948010291904211,
             -0.031092530116438866,
             -0.07212170213460922,
             -0.19507360458374023,
             -0.20082324743270874,
             -0.10032275319099426,
             -0.22206640243530273,
             -0.307461678981781,
             -0.035395994782447815,
             -0.18952783942222595,
             -0.2943665683269501
            ]
           ],
           "y": [
            [
             0,
             -0.08972306549549103,
             -0.020358435809612274,
             0.0015660123899579048,
             0.08643339574337006,
             0.09360592067241669,
             0.11156658828258514,
             -0.0018722451059147716,
             -0.03387778624892235,
             -0.0576121062040329,
             -0.07813796401023865,
             0.08124545961618423,
             0.05620546638965607,
             0.006464854348450899,
             -0.12451247870922089,
             -0.22591525316238403,
             -0.17436224222183228
            ]
           ],
           "z": [
            [
             0.6197112798690796,
             0.6202554106712341,
             0.30292123556137085,
             0.00006872415542602539,
             0.6226157546043396,
             0.31762972474098206,
             0,
             0.8135207295417786,
             1.0196938514709473,
             1.0884203910827637,
             1.1239275932312012,
             1.021873950958252,
             0.7924574613571167,
             1.0171633958816528,
             1.0265156030654907,
             0.794401228427887,
             1.095814824104309
            ]
           ]
          }
         ],
         "name": "43"
        },
        {
         "data": [
          {
           "hovertemplate": "frame=44<br>x=%{x}<br>y=%{y}<br>z=%{z}<extra></extra>",
           "legendgroup": "",
           "marker": {
            "color": "#636efa",
            "opacity": 1,
            "symbol": "circle"
           },
           "mode": "markers",
           "name": "",
           "scene": "scene",
           "showlegend": false,
           "type": "scatter3d",
           "x": [
            [
             0,
             0.04444323852658272,
             -0.025670776143670082,
             0.169173464179039,
             -0.042347412556409836,
             -0.06996508687734604,
             0.005560546647757292,
             -0.03233020007610321,
             -0.07441198825836182,
             -0.19591198861598969,
             -0.20350658893585205,
             -0.10140979290008545,
             -0.2224147915840149,
             -0.3081704080104828,
             -0.040403686463832855,
             -0.19389794766902924,
             -0.29841968417167664
            ]
           ],
           "y": [
            [
             0,
             -0.09045202285051346,
             -0.02125968597829342,
             0.00025143398670479655,
             0.08662453293800354,
             0.09387026727199554,
             0.11091437935829163,
             -0.004509099759161472,
             -0.03833295404911041,
             -0.061482079327106476,
             -0.08511639386415482,
             0.07674477994441986,
             0.05736696347594261,
             0.0040169269777834415,
             -0.1317811757326126,
             -0.23130881786346436,
             -0.17618097364902496
            ]
           ],
           "z": [
            [
             0.618377685546875,
             0.6174992918968201,
             0.3029698431491852,
             0,
             0.6224839687347412,
             0.31764256954193115,
             0.0005827546119689941,
             0.8138058185577393,
             1.0230282545089722,
             1.0883435010910034,
             1.1240959167480469,
             1.0301944017410278,
             0.7967578768730164,
             1.0210009813308716,
             1.0263304710388184,
             0.7936931848526001,
             1.0804343223571777
            ]
           ]
          }
         ],
         "name": "44"
        },
        {
         "data": [
          {
           "hovertemplate": "frame=45<br>x=%{x}<br>y=%{y}<br>z=%{z}<extra></extra>",
           "legendgroup": "",
           "marker": {
            "color": "#636efa",
            "opacity": 1,
            "symbol": "circle"
           },
           "mode": "markers",
           "name": "",
           "scene": "scene",
           "showlegend": false,
           "type": "scatter3d",
           "x": [
            [
             0,
             0.03453906252980232,
             -0.05852575600147247,
             0.12597216665744781,
             -0.030775513499975204,
             -0.08532287925481796,
             0.011848877184092999,
             -0.02970007248222828,
             -0.0673350840806961,
             -0.19076672196388245,
             -0.19945251941680908,
             -0.07970007508993149,
             -0.20064306259155273,
             -0.293243408203125,
             -0.04930810630321503,
             -0.1961376965045929,
             -0.2942194938659668
            ]
           ],
           "y": [
            [
             0,
             -0.09675601869821548,
             -0.02001800760626793,
             -0.013285691849887371,
             0.0924767330288887,
             0.10042332112789154,
             0.08773919194936752,
             -0.009649215266108513,
             -0.04340118542313576,
             -0.07041534781455994,
             -0.10613258183002472,
             0.0805215910077095,
             0.07229437679052353,
             0.006440735422074795,
             -0.1516108363866806,
             -0.2449043244123459,
             -0.17636972665786743
            ]
           ],
           "z": [
            [
             0.6253679394721985,
             0.6239598989486694,
             0.3226991295814514,
             0.011031270027160645,
             0.6289228796958923,
             0.32271596789360046,
             0,
             0.82538902759552,
             1.0400367975234985,
             1.1251704692840576,
             1.1594798564910889,
             1.0600850582122803,
             0.8239535093307495,
             1.0970118045806885,
             1.0286457538604736,
             0.798858642578125,
             1.0264209508895874
            ]
           ]
          }
         ],
         "name": "45"
        },
        {
         "data": [
          {
           "hovertemplate": "frame=46<br>x=%{x}<br>y=%{y}<br>z=%{z}<extra></extra>",
           "legendgroup": "",
           "marker": {
            "color": "#636efa",
            "opacity": 1,
            "symbol": "circle"
           },
           "mode": "markers",
           "name": "",
           "scene": "scene",
           "showlegend": false,
           "type": "scatter3d",
           "x": [
            [
             0,
             0.029164550825953484,
             -0.06294384598731995,
             0.12974268198013306,
             -0.026746826246380806,
             -0.08161767572164536,
             0.01918640173971653,
             -0.01673034578561783,
             -0.03649365156888962,
             -0.18288366496562958,
             -0.19138562679290771,
             -0.01705285720527172,
             -0.1559564173221588,
             -0.2742481827735901,
             -0.047571901232004166,
             -0.2006533145904541,
             -0.29879724979400635
            ]
           ],
           "y": [
            [
             0,
             -0.09747257083654404,
             -0.01833098568022251,
             -0.01145033910870552,
             0.08722808957099915,
             0.09814240783452988,
             0.08170761913061142,
             -0.025707025080919266,
             -0.1123216301202774,
             -0.12956051528453827,
             -0.1677899956703186,
             0.03438623994588852,
             0.04577546939253807,
             -0.04556160047650337,
             -0.20263904333114624,
             -0.2922431230545044,
             -0.24121245741844177
            ]
           ],
           "z": [
            [
             0.6304033398628235,
             0.6273083090782166,
             0.3247540593147278,
             0.018366575241088867,
             0.6342390775680542,
             0.32670801877975464,
             0,
             0.8314380645751953,
             1.048276662826538,
             1.1372231245040894,
             1.1665849685668945,
             1.0984909534454346,
             1.313258409500122,
             1.2091577053070068,
             1.0097277164459229,
             0.8034505844116211,
             1.008648157119751
            ]
           ]
          }
         ],
         "name": "46"
        },
        {
         "data": [
          {
           "hovertemplate": "frame=47<br>x=%{x}<br>y=%{y}<br>z=%{z}<extra></extra>",
           "legendgroup": "",
           "marker": {
            "color": "#636efa",
            "opacity": 1,
            "symbol": "circle"
           },
           "mode": "markers",
           "name": "",
           "scene": "scene",
           "showlegend": false,
           "type": "scatter3d",
           "x": [
            [
             0,
             0.03182629495859146,
             -0.06619226187467575,
             0.12683556973934174,
             -0.028642211109399796,
             -0.08381884545087814,
             0.01280529797077179,
             -0.01973852515220642,
             -0.0429544672369957,
             -0.18144188821315765,
             -0.18936291337013245,
             -0.029884276911616325,
             -0.16510571539402008,
             -0.27539685368537903,
             -0.048362791538238525,
             -0.20212732255458832,
             -0.3000166118144989
            ]
           ],
           "y": [
            [
             0,
             -0.09695278108119965,
             -0.019286908209323883,
             -0.013068447820842266,
             0.08798966556787491,
             0.0946320965886116,
             0.07634329050779343,
             -0.025334972888231277,
             -0.11126084625720978,
             -0.12921561300754547,
             -0.16585715115070343,
             0.03544778376817703,
             0.04192493483424187,
             -0.04623973369598389,
             -0.202426478266716,
             -0.2895079255104065,
             -0.23995281755924225
            ]
           ],
           "z": [
            [
             0.6344525218009949,
             0.6315494179725647,
             0.3293834328651428,
             0.021322250366210938,
             0.6378146409988403,
             0.32596755027770996,
             0,
             0.8344843983650208,
             1.0495636463165283,
             1.138855218887329,
             1.1657226085662842,
             1.0959151983261108,
             1.314503788948059,
             1.2018861770629883,
             1.0155227184295654,
             0.8050582408905029,
             1.0131168365478516
            ]
           ]
          }
         ],
         "name": "47"
        },
        {
         "data": [
          {
           "hovertemplate": "frame=48<br>x=%{x}<br>y=%{y}<br>z=%{z}<extra></extra>",
           "legendgroup": "",
           "marker": {
            "color": "#636efa",
            "opacity": 1,
            "symbol": "circle"
           },
           "mode": "markers",
           "name": "",
           "scene": "scene",
           "showlegend": false,
           "type": "scatter3d",
           "x": [
            [
             0,
             0.0317685529589653,
             -0.05969543382525444,
             0.12865124642848969,
             -0.02938549779355526,
             -0.07998840510845184,
             0.022798461839556694,
             -0.01715710386633873,
             -0.039091676473617554,
             -0.1733127385377884,
             -0.18294982612133026,
             -0.026473267003893852,
             -0.16913951933383942,
             -0.26637449860572815,
             -0.04697619751095772,
             -0.19345398247241974,
             -0.2841578423976898
            ]
           ],
           "y": [
            [
             0,
             -0.09729968756437302,
             -0.017485298216342926,
             -0.0124893169850111,
             0.09141170233488083,
             0.10025984793901443,
             0.08724804222583771,
             -0.009796958416700363,
             -0.04869994521141052,
             -0.07550076395273209,
             -0.11529899388551712,
             0.08366543054580688,
             0.09509608149528503,
             0.01605207845568657,
             -0.160649836063385,
             -0.24993857741355896,
             -0.17361950874328613
            ]
           ],
           "z": [
            [
             0.6346552968025208,
             0.6314865350723267,
             0.32826748490333557,
             0.012489140033721924,
             0.639824390411377,
             0.32466140389442444,
             0,
             0.8337420225143433,
             1.0469205379486084,
             1.1479198932647705,
             1.1809422969818115,
             1.0737841129302979,
             0.850786030292511,
             1.110249400138855,
             1.0187876224517822,
             0.8007839918136597,
             0.9961069822311401
            ]
           ]
          }
         ],
         "name": "48"
        },
        {
         "data": [
          {
           "hovertemplate": "frame=49<br>x=%{x}<br>y=%{y}<br>z=%{z}<extra></extra>",
           "legendgroup": "",
           "marker": {
            "color": "#636efa",
            "opacity": 1,
            "symbol": "circle"
           },
           "mode": "markers",
           "name": "",
           "scene": "scene",
           "showlegend": false,
           "type": "scatter3d",
           "x": [
            [
             0,
             0.0317838117480278,
             -0.05972033739089966,
             0.1286645531654358,
             -0.029384642839431763,
             -0.0800187960267067,
             0.022810302674770355,
             -0.01716284267604351,
             -0.03909655660390854,
             -0.17329639196395874,
             -0.18294531106948853,
             -0.026515381410717964,
             -0.16909997165203094,
             -0.266387939453125,
             -0.046916138380765915,
             -0.19361144304275513,
             -0.2844821810722351
            ]
           ],
           "y": [
            [
             0,
             -0.09722896665334702,
             -0.01770547591149807,
             -0.012668763287365437,
             0.09135419875383377,
             0.10014685988426208,
             0.08685103803873062,
             -0.009703448973596096,
             -0.04807741194963455,
             -0.07510291039943695,
             -0.11503741145133972,
             0.08398570865392685,
             0.09567365795373917,
             0.016001757234334946,
             -0.16011856496334076,
             -0.25349876284599304,
             -0.174027681350708
            ]
           ],
           "z": [
            [
             0.6347192525863647,
             0.6315703392028809,
             0.32826516032218933,
             0.012528836727142334,
             0.6398662328720093,
             0.3246261179447174,
             0,
             0.8337826728820801,
             1.0470116138458252,
             1.1479816436767578,
             1.1810259819030762,
             1.073835015296936,
             0.8509365916252136,
             1.1103425025939941,
             1.018843173980713,
             0.8045200109481812,
             0.9964801669120789
            ]
           ]
          }
         ],
         "name": "49"
        },
        {
         "data": [
          {
           "hovertemplate": "frame=50<br>x=%{x}<br>y=%{y}<br>z=%{z}<extra></extra>",
           "legendgroup": "",
           "marker": {
            "color": "#636efa",
            "opacity": 1,
            "symbol": "circle"
           },
           "mode": "markers",
           "name": "",
           "scene": "scene",
           "showlegend": false,
           "type": "scatter3d",
           "x": [
            [
             0,
             0.025965454056859016,
             -0.06161242723464966,
             0.12586620450019836,
             -0.023903442546725273,
             -0.07837317138910294,
             0.021033814176917076,
             -0.017115356400609016,
             -0.03868481516838074,
             -0.170594722032547,
             -0.17598217725753784,
             -0.02395019493997097,
             -0.16603527963161469,
             -0.2629733979701996,
             -0.04897412285208702,
             -0.18708203732967377,
             -0.2776395380496979
            ]
           ],
           "y": [
            [
             0,
             -0.09973342716693878,
             -0.016966860741376877,
             -0.008479548618197441,
             0.0931859239935875,
             0.1023220643401146,
             0.08258392661809921,
             -0.010250547900795937,
             -0.047005899250507355,
             -0.0761675238609314,
             -0.11433417350053787,
             0.08588811010122299,
             0.10434265434741974,
             0.02085101045668125,
             -0.1614006757736206,
             -0.25622984766960144,
             -0.17924010753631592
            ]
           ],
           "z": [
            [
             0.6417674422264099,
             0.6384158134460449,
             0.3283393383026123,
             0.01989036798477173,
             0.6463974714279175,
             0.32680100202560425,
             0,
             0.8407986760139465,
             1.0536580085754395,
             1.163201093673706,
             1.1968905925750732,
             1.0784287452697754,
             0.8601977825164795,
             1.0892481803894043,
             1.0269370079040527,
             0.8081732988357544,
             1.0076481103897095
            ]
           ]
          }
         ],
         "name": "50"
        },
        {
         "data": [
          {
           "hovertemplate": "frame=51<br>x=%{x}<br>y=%{y}<br>z=%{z}<extra></extra>",
           "legendgroup": "",
           "marker": {
            "color": "#636efa",
            "opacity": 1,
            "symbol": "circle"
           },
           "mode": "markers",
           "name": "",
           "scene": "scene",
           "showlegend": false,
           "type": "scatter3d",
           "x": [
            [
             0,
             0.03058129921555519,
             -0.06452404707670212,
             0.11850500851869583,
             -0.02740759216248989,
             -0.07663635164499283,
             0.022310668602585793,
             -0.022596191614866257,
             -0.05220678821206093,
             -0.167375847697258,
             -0.17380529642105103,
             -0.05791918933391571,
             -0.1878485083580017,
             -0.2702424228191376,
             -0.03995995968580246,
             -0.17778466641902924,
             -0.2721990942955017
            ]
           ],
           "y": [
            [
             0,
             -0.09618286788463593,
             -0.014285317622125149,
             -0.004744540434330702,
             0.09127233922481537,
             0.10022033751010895,
             0.08185890316963196,
             -0.007828567177057266,
             -0.03630523011088371,
             -0.06862269341945648,
             -0.09822031855583191,
             0.08992736041545868,
             0.08523708581924438,
             0.008889970369637012,
             -0.14655502140522003,
             -0.2554446756839752,
             -0.17992205917835236
            ]
           ],
           "z": [
            [
             0.6396210789680481,
             0.6361104846000671,
             0.33097323775291443,
             0.022453010082244873,
             0.6444199085235596,
             0.3272300958633423,
             0,
             0.8361456394195557,
             1.046520709991455,
             1.1674671173095703,
             1.2019761800765991,
             1.0558170080184937,
             0.8297489285469055,
             1.0340193510055542,
             1.0364229679107666,
             0.8127321600914001,
             1.0193504095077515
            ]
           ]
          }
         ],
         "name": "51"
        },
        {
         "data": [
          {
           "hovertemplate": "frame=52<br>x=%{x}<br>y=%{y}<br>z=%{z}<extra></extra>",
           "legendgroup": "",
           "marker": {
            "color": "#636efa",
            "opacity": 1,
            "symbol": "circle"
           },
           "mode": "markers",
           "name": "",
           "scene": "scene",
           "showlegend": false,
           "type": "scatter3d",
           "x": [
            [
             0,
             0.020316772162914276,
             -0.07561755180358887,
             0.10938635468482971,
             -0.017509886994957924,
             -0.0798322781920433,
             0.022660765796899796,
             -0.02005908265709877,
             -0.04578747600317001,
             -0.16832372546195984,
             -0.17531506717205048,
             -0.03655761852860451,
             -0.18260900676250458,
             -0.2677491307258606,
             -0.050373900681734085,
             -0.18862609565258026,
             -0.27469995617866516
            ]
           ],
           "y": [
            [
             0,
             -0.10169946402311325,
             -0.016330013051629066,
             -0.01609215885400772,
             0.09587802737951279,
             0.109300397336483,
             0.08281096816062927,
             -0.008458737283945084,
             -0.037196364253759384,
             -0.06882280856370926,
             -0.10575205832719803,
             0.09346765279769897,
             0.0909050852060318,
             0.017757872119545937,
             -0.1533578634262085,
             -0.254043847322464,
             -0.1723010241985321
            ]
           ],
           "z": [
            [
             0.6397175192832947,
             0.6377241611480713,
             0.3307499885559082,
             0.0146065354347229,
             0.642642080783844,
             0.3253023624420166,
             0,
             0.8396939039230347,
             1.0536826848983765,
             1.1708087921142578,
             1.2050789594650269,
             1.0704474449157715,
             0.8487474322319031,
             1.0776840448379517,
             1.035685658454895,
             0.8133739233016968,
             1.0154894590377808
            ]
           ]
          }
         ],
         "name": "52"
        },
        {
         "data": [
          {
           "hovertemplate": "frame=53<br>x=%{x}<br>y=%{y}<br>z=%{z}<extra></extra>",
           "legendgroup": "",
           "marker": {
            "color": "#636efa",
            "opacity": 1,
            "symbol": "circle"
           },
           "mode": "markers",
           "name": "",
           "scene": "scene",
           "showlegend": false,
           "type": "scatter3d",
           "x": [
            [
             0,
             0.020927002653479576,
             -0.07885424792766571,
             0.10465917736291885,
             -0.017781127244234085,
             -0.07940918207168579,
             0.022770142182707787,
             -0.01952221617102623,
             -0.04516809061169624,
             -0.16357922554016113,
             -0.16824011504650116,
             -0.04266442731022835,
             -0.1745711714029312,
             -0.2590251564979553,
             -0.04112597554922104,
             -0.18338757753372192,
             -0.27431824803352356
            ]
           ],
           "y": [
            [
             0,
             -0.10072730481624603,
             -0.016977082937955856,
             -0.012185095809400082,
             0.09518594294786453,
             0.10400298982858658,
             0.07666842639446259,
             -0.008686141110956669,
             -0.039729274809360504,
             -0.07273779064416885,
             -0.10674925893545151,
             0.09193937480449677,
             0.10643474012613297,
             0.01971837319433689,
             -0.15426231920719147,
             -0.26851123571395874,
             -0.18282827734947205
            ]
           ],
           "z": [
            [
             0.6433662176132202,
             0.6399449706077576,
             0.3308826982975006,
             0.022727549076080322,
             0.6471830606460571,
             0.32502880692481995,
             0,
             0.8395146131515503,
             1.0482540130615234,
             1.1728157997131348,
             1.211282730102539,
             1.0618207454681396,
             0.8461974859237671,
             1.0543156862258911,
             1.0295791625976562,
             0.8201569318771362,
             1.0148826837539673
            ]
           ]
          }
         ],
         "name": "53"
        },
        {
         "data": [
          {
           "hovertemplate": "frame=54<br>x=%{x}<br>y=%{y}<br>z=%{z}<extra></extra>",
           "legendgroup": "",
           "marker": {
            "color": "#636efa",
            "opacity": 1,
            "symbol": "circle"
           },
           "mode": "markers",
           "name": "",
           "scene": "scene",
           "showlegend": false,
           "type": "scatter3d",
           "x": [
            [
             0,
             0.022647827863693237,
             -0.0768112763762474,
             0.10534241050481796,
             -0.019282104447484016,
             -0.08096472173929214,
             0.020933348685503006,
             -0.020345458760857582,
             -0.04793945327401161,
             -0.16249573230743408,
             -0.16914355754852295,
             -0.045570068061351776,
             -0.1832304745912552,
             -0.26523229479789734,
             -0.043797239661216736,
             -0.18199670314788818,
             -0.2724873125553131
            ]
           ],
           "y": [
            [
             0,
             -0.0979546532034874,
             -0.012608323246240616,
             -0.006411315873265266,
             0.09288030862808228,
             0.10296494513750076,
             0.07557513564825058,
             -0.007426705211400986,
             -0.03233581408858299,
             -0.0653047114610672,
             -0.09710218757390976,
             0.09457458555698395,
             0.09005246311426163,
             0.012634600512683392,
             -0.1448383331298828,
             -0.26086822152137756,
             -0.17973783612251282
            ]
           ],
           "z": [
            [
             0.6309738755226135,
             0.6275908946990967,
             0.33078062534332275,
             0.02713876962661743,
             0.6354889869689941,
             0.3251877427101135,
             0,
             0.8258628845214844,
             1.034879207611084,
             1.1619254350662231,
             1.196744441986084,
             1.0424847602844238,
             0.8245718479156494,
             1.0290659666061401,
             1.023322582244873,
             0.8113396167755127,
             1.0115513801574707
            ]
           ]
          }
         ],
         "name": "54"
        },
        {
         "data": [
          {
           "hovertemplate": "frame=55<br>x=%{x}<br>y=%{y}<br>z=%{z}<extra></extra>",
           "legendgroup": "",
           "marker": {
            "color": "#636efa",
            "opacity": 1,
            "symbol": "circle"
           },
           "mode": "markers",
           "name": "",
           "scene": "scene",
           "showlegend": false,
           "type": "scatter3d",
           "x": [
            [
             0,
             0.02271130308508873,
             -0.07674365490674973,
             0.10533532500267029,
             -0.019267944619059563,
             -0.08093445003032684,
             0.020921997725963593,
             -0.02021118253469467,
             -0.0476984865963459,
             -0.16240954399108887,
             -0.16701367497444153,
             -0.045274291187524796,
             -0.18338452279567719,
             -0.26524049043655396,
             -0.043583985418081284,
             -0.1819600760936737,
             -0.2725170850753784
            ]
           ],
           "y": [
            [
             0,
             -0.09771092236042023,
             -0.012768060900270939,
             -0.006859778892248869,
             0.09263946115970612,
             0.10222985595464706,
             0.07467484474182129,
             -0.007945990189909935,
             -0.03474351763725281,
             -0.06770193576812744,
             -0.09915771335363388,
             0.09277120977640152,
             0.0933474749326706,
             0.01291031762957573,
             -0.1471826285123825,
             -0.26539766788482666,
             -0.1828230917453766
            ]
           ],
           "z": [
            [
             0.630767822265625,
             0.6274192929267883,
             0.3306948244571686,
             0.027136623859405518,
             0.6352636218070984,
             0.32507628202438354,
             0,
             0.8249204158782959,
             1.032986044883728,
             1.161689281463623,
             1.1965916156768799,
             1.0425256490707397,
             0.8281747102737427,
             1.0328277349472046,
             1.0191247463226318,
             0.8110583424568176,
             1.0113604068756104
            ]
           ]
          }
         ],
         "name": "55"
        },
        {
         "data": [
          {
           "hovertemplate": "frame=56<br>x=%{x}<br>y=%{y}<br>z=%{z}<extra></extra>",
           "legendgroup": "",
           "marker": {
            "color": "#636efa",
            "opacity": 1,
            "symbol": "circle"
           },
           "mode": "markers",
           "name": "",
           "scene": "scene",
           "showlegend": false,
           "type": "scatter3d",
           "x": [
            [
             0,
             0.02271130308508873,
             -0.07674365490674973,
             0.10533557087182999,
             -0.019267944619059563,
             -0.08093445003032684,
             0.020921753719449043,
             -0.02021118253469467,
             -0.0476984865963459,
             -0.16240954399108887,
             -0.16701379418373108,
             -0.045274291187524796,
             -0.18338452279567719,
             -0.2652406096458435,
             -0.043584104627370834,
             -0.1819600760936737,
             -0.2725170850753784
            ]
           ],
           "y": [
            [
             0,
             -0.09771095961332321,
             -0.012768137268722057,
             -0.006859960965812206,
             0.0926395133137703,
             0.10222985595464706,
             0.07467489689588547,
             -0.007946016266942024,
             -0.034743573516607285,
             -0.06770195811986923,
             -0.09915779531002045,
             0.0927712544798851,
             0.09334755688905716,
             0.01291032787412405,
             -0.14718271791934967,
             -0.2653979957103729,
             -0.18282321095466614
            ]
           ],
           "z": [
            [
             0.6307679414749146,
             0.6274193525314331,
             0.33069494366645813,
             0.02713686227798462,
             0.6352636814117432,
             0.325076162815094,
             0,
             0.8249205946922302,
             1.032986044883728,
             1.161689281463623,
             1.196591854095459,
             1.0425256490707397,
             0.8281747102737427,
             1.0328278541564941,
             1.0191245079040527,
             0.8110584616661072,
             1.0113604068756104
            ]
           ]
          }
         ],
         "name": "56"
        },
        {
         "data": [
          {
           "hovertemplate": "frame=57<br>x=%{x}<br>y=%{y}<br>z=%{z}<extra></extra>",
           "legendgroup": "",
           "marker": {
            "color": "#636efa",
            "opacity": 1,
            "symbol": "circle"
           },
           "mode": "markers",
           "name": "",
           "scene": "scene",
           "showlegend": false,
           "type": "scatter3d",
           "x": [
            [
             0,
             0.022908570244908333,
             -0.07654076814651489,
             0.1016099825501442,
             -0.019395751878619194,
             -0.08455798029899597,
             0.017522338777780533,
             -0.020221436396241188,
             -0.04775012284517288,
             -0.16572777926921844,
             -0.17049658298492432,
             -0.04886523261666298,
             -0.18334533274173737,
             -0.2688029706478119,
             -0.039024535566568375,
             -0.1811722368001938,
             -0.2758205533027649
            ]
           ],
           "y": [
            [
             0,
             -0.09773053228855133,
             -0.012819320894777775,
             -0.004383002407848835,
             0.0927712619304657,
             0.09979402273893356,
             0.07241165637969971,
             -0.007930462248623371,
             -0.034786101430654526,
             -0.06931643933057785,
             -0.10067954659461975,
             0.09231825172901154,
             0.09418829530477524,
             0.011822838336229324,
             -0.14604012668132782,
             -0.26522985100746155,
             -0.1829698085784912
            ]
           ],
           "z": [
            [
             0.6334166526794434,
             0.6300132870674133,
             0.32960158586502075,
             0.02916741371154785,
             0.6375767588615417,
             0.32456302642822266,
             0,
             0.8273226618766785,
             1.034787893295288,
             1.1614372730255127,
             1.1960594654083252,
             1.0420831441879272,
             0.8272725343704224,
             1.028795599937439,
             1.0223089456558228,
             0.814507246017456,
             1.0112826824188232
            ]
           ]
          }
         ],
         "name": "57"
        },
        {
         "data": [
          {
           "hovertemplate": "frame=58<br>x=%{x}<br>y=%{y}<br>z=%{z}<extra></extra>",
           "legendgroup": "",
           "marker": {
            "color": "#636efa",
            "opacity": 1,
            "symbol": "circle"
           },
           "mode": "markers",
           "name": "",
           "scene": "scene",
           "showlegend": false,
           "type": "scatter3d",
           "x": [
            [
             0,
             0.024732299149036407,
             -0.0745231956243515,
             0.10677685588598251,
             -0.02124670334160328,
             -0.07895264029502869,
             0.019859375432133675,
             -0.020192870870232582,
             -0.047725096344947815,
             -0.16431470215320587,
             -0.1688498556613922,
             -0.04722509905695915,
             -0.18563024699687958,
             -0.2670687139034271,
             -0.04128674417734146,
             -0.1797591596841812,
             -0.27434179186820984
            ]
           ],
           "y": [
            [
             0,
             -0.09631984680891037,
             -0.011160793714225292,
             -0.001099632354453206,
             0.09131503850221634,
             0.10065820068120956,
             0.0716252475976944,
             -0.00866212323307991,
             -0.03680504485964775,
             -0.0702851414680481,
             -0.1011427715420723,
             0.09019260108470917,
             0.08902736753225327,
             0.010130619630217552,
             -0.14762884378433228,
             -0.26557818055152893,
             -0.18595941364765167
            ]
           ],
           "z": [
            [
             0.6324488520622253,
             0.6289923191070557,
             0.33291468024253845,
             0.03433436155319214,
             0.637199878692627,
             0.3268339931964874,
             0,
             0.8263193368911743,
             1.0343577861785889,
             1.1630768775939941,
             1.1979424953460693,
             1.0438252687454224,
             0.8298305869102478,
             1.0415507555007935,
             1.0203076601028442,
             0.8123159408569336,
             1.0127394199371338
            ]
           ]
          }
         ],
         "name": "58"
        },
        {
         "data": [
          {
           "hovertemplate": "frame=59<br>x=%{x}<br>y=%{y}<br>z=%{z}<extra></extra>",
           "legendgroup": "",
           "marker": {
            "color": "#636efa",
            "opacity": 1,
            "symbol": "circle"
           },
           "mode": "markers",
           "name": "",
           "scene": "scene",
           "showlegend": false,
           "type": "scatter3d",
           "x": [
            [
             0,
             0.024776123464107513,
             -0.07368554919958115,
             0.10397155582904816,
             -0.021233154460787773,
             -0.08174475282430649,
             0.0200656745582819,
             -0.02016577124595642,
             -0.04779443517327309,
             -0.16791942715644836,
             -0.1725882589817047,
             -0.0470728762447834,
             -0.1857457309961319,
             -0.26671192049980164,
             -0.04116198793053627,
             -0.17931127548217773,
             -0.26985377073287964
            ]
           ],
           "y": [
            [
             0,
             -0.09602851420640945,
             -0.011024922132492065,
             -0.0006898114224895835,
             0.09092927724123001,
             0.09950148314237595,
             0.07629870623350143,
             -0.00835475418716669,
             -0.03413904458284378,
             -0.06914293766021729,
             -0.10008888691663742,
             0.09262550622224808,
             0.09356606006622314,
             0.013190584257245064,
             -0.14414066076278687,
             -0.2612813115119934,
             -0.17888934910297394
            ]
           ],
           "z": [
            [
             0.6295440793037415,
             0.6259579658508301,
             0.3276239037513733,
             0.028997838497161865,
             0.6341536641120911,
             0.3230041563510895,
             0,
             0.8234202861785889,
             1.0319364070892334,
             1.1603806018829346,
             1.195169448852539,
             1.0369075536727905,
             0.8267433047294617,
             1.038779616355896,
             1.0215412378311157,
             0.8097095489501953,
             1.010102391242981
            ]
           ]
          }
         ],
         "name": "59"
        },
        {
         "data": [
          {
           "hovertemplate": "frame=60<br>x=%{x}<br>y=%{y}<br>z=%{z}<extra></extra>",
           "legendgroup": "",
           "marker": {
            "color": "#636efa",
            "opacity": 1,
            "symbol": "circle"
           },
           "mode": "markers",
           "name": "",
           "scene": "scene",
           "showlegend": false,
           "type": "scatter3d",
           "x": [
            [
             0,
             0.024776123464107513,
             -0.073685422539711,
             0.1039716824889183,
             -0.021233031526207924,
             -0.08174462616443634,
             0.0200657956302166,
             -0.02016565017402172,
             -0.04779431223869324,
             -0.1679193079471588,
             -0.17258861660957336,
             -0.0470726303756237,
             -0.18574561178684235,
             -0.26671192049980164,
             -0.04116186499595642,
             -0.17931127548217773,
             -0.2698536515235901
            ]
           ],
           "y": [
            [
             0,
             -0.09602858126163483,
             -0.011024964973330498,
             -0.0006897418643347919,
             0.09092934429645538,
             0.09950175881385803,
             0.07629893720149994,
             -0.008354785852134228,
             -0.03413913771510124,
             -0.06914294511079788,
             -0.10008911788463593,
             0.0926254540681839,
             0.0935659110546112,
             0.013190509751439095,
             -0.14414070546627045,
             -0.261281281709671,
             -0.17888949811458588
            ]
           ],
           "z": [
            [
             0.6295440793037415,
             0.6259579658508301,
             0.32762378454208374,
             0.028997719287872314,
             0.6341536641120911,
             0.32300427556037903,
             0,
             0.8234201669692993,
             1.0319364070892334,
             1.1603807210922241,
             1.195169448852539,
             1.0369075536727905,
             0.8267433047294617,
             1.0387794971466064,
             1.0215411186218262,
             0.809709370136261,
             1.0101022720336914
            ]
           ]
          }
         ],
         "name": "60"
        },
        {
         "data": [
          {
           "hovertemplate": "frame=61<br>x=%{x}<br>y=%{y}<br>z=%{z}<extra></extra>",
           "legendgroup": "",
           "marker": {
            "color": "#636efa",
            "opacity": 1,
            "symbol": "circle"
           },
           "mode": "markers",
           "name": "",
           "scene": "scene",
           "showlegend": false,
           "type": "scatter3d",
           "x": [
            [
             0,
             0.024769164621829987,
             -0.07368969917297363,
             0.10394592583179474,
             -0.021226929500699043,
             -0.08175317198038101,
             0.02004113793373108,
             -0.020192749798297882,
             -0.0478360578417778,
             -0.16793334484100342,
             -0.17260363698005676,
             -0.04710913076996803,
             -0.1855277121067047,
             -0.26676905155181885,
             -0.04121740907430649,
             -0.17930687963962555,
             -0.26986974477767944
            ]
           ],
           "y": [
            [
             0,
             -0.09601438790559769,
             -0.01103241927921772,
             -0.0006968221277929842,
             0.09091299772262573,
             0.09945444017648697,
             0.07626808434724808,
             -0.00834459438920021,
             -0.034106962382793427,
             -0.06909913569688797,
             -0.10001673549413681,
             0.09267736971378326,
             0.09420207887887955,
             0.012971405871212482,
             -0.14418946206569672,
             -0.26175153255462646,
             -0.17919528484344482
            ]
           ],
           "z": [
            [
             0.6295537352561951,
             0.6259592175483704,
             0.3276296555995941,
             0.029002249240875244,
             0.634166955947876,
             0.32301175594329834,
             0,
             0.8234266638755798,
             1.031955361366272,
             1.1603885889053345,
             1.1951857805252075,
             1.0369449853897095,
             0.8266494870185852,
             1.0352253913879395,
             1.0215445756912231,
             0.8098114728927612,
             1.0101476907730103
            ]
           ]
          }
         ],
         "name": "61"
        },
        {
         "data": [
          {
           "hovertemplate": "frame=62<br>x=%{x}<br>y=%{y}<br>z=%{z}<extra></extra>",
           "legendgroup": "",
           "marker": {
            "color": "#636efa",
            "opacity": 1,
            "symbol": "circle"
           },
           "mode": "markers",
           "name": "",
           "scene": "scene",
           "showlegend": false,
           "type": "scatter3d",
           "x": [
            [
             0,
             0.02479284629225731,
             -0.07371264696121216,
             0.10395239293575287,
             -0.021221434697508812,
             -0.08180712908506393,
             0.02006518468260765,
             -0.020180298015475273,
             -0.047789305448532104,
             -0.16785070300102234,
             -0.17453308403491974,
             -0.047026246786117554,
             -0.1854580044746399,
             -0.2667098343372345,
             -0.04113525524735451,
             -0.17925536632537842,
             -0.2698172628879547
            ]
           ],
           "y": [
            [
             0,
             -0.0959930568933487,
             -0.010923915542662144,
             -0.000554968137294054,
             0.0908944234251976,
             0.09970838576555252,
             0.0765376165509224,
             -0.0085326312109828,
             -0.034571629017591476,
             -0.06924276798963547,
             -0.10106110572814941,
             0.09244170039892197,
             0.09403617680072784,
             0.01267043687403202,
             -0.14437764883041382,
             -0.2619299590587616,
             -0.17925970256328583
            ]
           ],
           "z": [
            [
             0.6296746730804443,
             0.6260459423065186,
             0.32765355706214905,
             0.029056012630462646,
             0.634314239025116,
             0.32293701171875,
             0,
             0.8235944509506226,
             1.0322198867797852,
             1.160558819770813,
             1.1953301429748535,
             1.037106990814209,
             0.8267430067062378,
             1.0353453159332275,
             1.0216374397277832,
             0.8098669052124023,
             1.0102828741073608
            ]
           ]
          }
         ],
         "name": "62"
        },
        {
         "data": [
          {
           "hovertemplate": "frame=63<br>x=%{x}<br>y=%{y}<br>z=%{z}<extra></extra>",
           "legendgroup": "",
           "marker": {
            "color": "#636efa",
            "opacity": 1,
            "symbol": "circle"
           },
           "mode": "markers",
           "name": "",
           "scene": "scene",
           "showlegend": false,
           "type": "scatter3d",
           "x": [
            [
             0,
             0.02479260228574276,
             -0.07371240109205246,
             0.10395251214504242,
             -0.021221313625574112,
             -0.08180700987577438,
             0.0200653076171875,
             -0.020180419087409973,
             -0.047789305448532104,
             -0.1678505837917328,
             -0.1745329648256302,
             -0.047026246786117554,
             -0.18545788526535034,
             -0.2667098343372345,
             -0.04113513231277466,
             -0.17925524711608887,
             -0.26981714367866516
            ]
           ],
           "y": [
            [
             0,
             -0.09599312394857407,
             -0.010923895053565502,
             -0.0005549932830035686,
             0.09089448302984238,
             0.0997086614370346,
             0.07653756439685822,
             -0.008532685227692127,
             -0.03457176685333252,
             -0.06924284994602203,
             -0.10106130689382553,
             0.0924416184425354,
             0.09403625130653381,
             0.012670512311160564,
             -0.14437784254550934,
             -0.26193007826805115,
             -0.17925995588302612
            ]
           ],
           "z": [
            [
             0.6296741962432861,
             0.6260455250740051,
             0.3276531994342804,
             0.029055774211883545,
             0.6343137621879578,
             0.32293689250946045,
             0,
             0.8235940933227539,
             1.032219409942627,
             1.1605584621429443,
             1.1953299045562744,
             1.037106990814209,
             0.8267428874969482,
             1.0353450775146484,
             1.021637201309204,
             0.8098665475845337,
             1.0102829933166504
            ]
           ]
          }
         ],
         "name": "63"
        },
        {
         "data": [
          {
           "hovertemplate": "frame=64<br>x=%{x}<br>y=%{y}<br>z=%{z}<extra></extra>",
           "legendgroup": "",
           "marker": {
            "color": "#636efa",
            "opacity": 1,
            "symbol": "circle"
           },
           "mode": "markers",
           "name": "",
           "scene": "scene",
           "showlegend": false,
           "type": "scatter3d",
           "x": [
            [
             0,
             0.02479284629225731,
             -0.07371240109205246,
             0.10395263880491257,
             -0.021221313625574112,
             -0.08180688321590424,
             0.02006543055176735,
             -0.020180175080895424,
             -0.047789186239242554,
             -0.1678505837917328,
             -0.17453283071517944,
             -0.047026123851537704,
             -0.18545788526535034,
             -0.26670971512794495,
             -0.04113500937819481,
             -0.17925512790679932,
             -0.2698170244693756
            ]
           ],
           "y": [
            [
             0,
             -0.09599307924509048,
             -0.010923860594630241,
             -0.0005548996850848198,
             0.0908944308757782,
             0.09970857203006744,
             0.07653764635324478,
             -0.008532618172466755,
             -0.03457174077630043,
             -0.06924281269311905,
             -0.10106121003627777,
             0.0924416333436966,
             0.09403626620769501,
             0.012670507654547691,
             -0.14437773823738098,
             -0.261929988861084,
             -0.17925991117954254
            ]
           ],
           "z": [
            [
             0.6296744346618652,
             0.6260457634925842,
             0.32765355706214905,
             0.029055893421173096,
             0.6343140006065369,
             0.32293701171875,
             0,
             0.8235942125320435,
             1.032219648361206,
             1.1605585813522339,
             1.1953299045562744,
             1.037106990814209,
             0.8267431259155273,
             1.0353453159332275,
             1.021637201309204,
             0.8098666667938232,
             1.0102829933166504
            ]
           ]
          }
         ],
         "name": "64"
        },
        {
         "data": [
          {
           "hovertemplate": "frame=65<br>x=%{x}<br>y=%{y}<br>z=%{z}<extra></extra>",
           "legendgroup": "",
           "marker": {
            "color": "#636efa",
            "opacity": 1,
            "symbol": "circle"
           },
           "mode": "markers",
           "name": "",
           "scene": "scene",
           "showlegend": false,
           "type": "scatter3d",
           "x": [
            [
             0,
             0.02479284629225731,
             -0.07371240109205246,
             0.10395263880491257,
             -0.021221313625574112,
             -0.08180688321590424,
             0.02006543055176735,
             -0.020180175080895424,
             -0.047789186239242554,
             -0.1678505837917328,
             -0.17453283071517944,
             -0.047026123851537704,
             -0.18545788526535034,
             -0.26670971512794495,
             -0.04113500937819481,
             -0.17925512790679932,
             -0.2698170244693756
            ]
           ],
           "y": [
            [
             0,
             -0.09599307924509048,
             -0.010923860594630241,
             -0.0005548996850848198,
             0.0908944308757782,
             0.09970857203006744,
             0.07653764635324478,
             -0.008532618172466755,
             -0.03457174077630043,
             -0.06924281269311905,
             -0.10106121003627777,
             0.0924416333436966,
             0.09403626620769501,
             0.012670507654547691,
             -0.14437773823738098,
             -0.261929988861084,
             -0.17925991117954254
            ]
           ],
           "z": [
            [
             0.6296744346618652,
             0.6260457634925842,
             0.32765355706214905,
             0.029055893421173096,
             0.6343140006065369,
             0.32293701171875,
             0,
             0.8235942125320435,
             1.032219648361206,
             1.1605585813522339,
             1.1953299045562744,
             1.037106990814209,
             0.8267431259155273,
             1.0353453159332275,
             1.021637201309204,
             0.8098666667938232,
             1.0102829933166504
            ]
           ]
          }
         ],
         "name": "65"
        },
        {
         "data": [
          {
           "hovertemplate": "frame=66<br>x=%{x}<br>y=%{y}<br>z=%{z}<extra></extra>",
           "legendgroup": "",
           "marker": {
            "color": "#636efa",
            "opacity": 1,
            "symbol": "circle"
           },
           "mode": "markers",
           "name": "",
           "scene": "scene",
           "showlegend": false,
           "type": "scatter3d",
           "x": [
            [
             0,
             0.02479284629225731,
             -0.07371240109205246,
             0.10395263880491257,
             -0.021221313625574112,
             -0.08180688321590424,
             0.02006543055176735,
             -0.020180175080895424,
             -0.047789186239242554,
             -0.1678505837917328,
             -0.17453283071517944,
             -0.047026123851537704,
             -0.18545788526535034,
             -0.26670971512794495,
             -0.04113500937819481,
             -0.17925512790679932,
             -0.2698170244693756
            ]
           ],
           "y": [
            [
             0,
             -0.09599307924509048,
             -0.010923860594630241,
             -0.0005548996850848198,
             0.0908944308757782,
             0.09970857203006744,
             0.07653764635324478,
             -0.008532618172466755,
             -0.03457174077630043,
             -0.06924281269311905,
             -0.10106121003627777,
             0.0924416333436966,
             0.09403626620769501,
             0.012670507654547691,
             -0.14437773823738098,
             -0.261929988861084,
             -0.17925991117954254
            ]
           ],
           "z": [
            [
             0.6296744346618652,
             0.6260457634925842,
             0.32765355706214905,
             0.029055893421173096,
             0.6343140006065369,
             0.32293701171875,
             0,
             0.8235942125320435,
             1.032219648361206,
             1.1605585813522339,
             1.1953299045562744,
             1.037106990814209,
             0.8267431259155273,
             1.0353453159332275,
             1.021637201309204,
             0.8098666667938232,
             1.0102829933166504
            ]
           ]
          }
         ],
         "name": "66"
        },
        {
         "data": [
          {
           "hovertemplate": "frame=67<br>x=%{x}<br>y=%{y}<br>z=%{z}<extra></extra>",
           "legendgroup": "",
           "marker": {
            "color": "#636efa",
            "opacity": 1,
            "symbol": "circle"
           },
           "mode": "markers",
           "name": "",
           "scene": "scene",
           "showlegend": false,
           "type": "scatter3d",
           "x": [
            [
             0,
             0.02479284629225731,
             -0.07371240109205246,
             0.10395263880491257,
             -0.021221313625574112,
             -0.08180688321590424,
             0.02006543055176735,
             -0.020180175080895424,
             -0.047789186239242554,
             -0.1678505837917328,
             -0.17453283071517944,
             -0.047026123851537704,
             -0.18545788526535034,
             -0.26670971512794495,
             -0.04113500937819481,
             -0.17925512790679932,
             -0.2698170244693756
            ]
           ],
           "y": [
            [
             0,
             -0.09599307924509048,
             -0.010923860594630241,
             -0.0005548996850848198,
             0.0908944308757782,
             0.09970857203006744,
             0.07653764635324478,
             -0.008532618172466755,
             -0.03457174077630043,
             -0.06924281269311905,
             -0.10106121003627777,
             0.0924416333436966,
             0.09403626620769501,
             0.012670507654547691,
             -0.14437773823738098,
             -0.261929988861084,
             -0.17925991117954254
            ]
           ],
           "z": [
            [
             0.6296744346618652,
             0.6260457634925842,
             0.32765355706214905,
             0.029055893421173096,
             0.6343140006065369,
             0.32293701171875,
             0,
             0.8235942125320435,
             1.032219648361206,
             1.1605585813522339,
             1.1953299045562744,
             1.037106990814209,
             0.8267431259155273,
             1.0353453159332275,
             1.021637201309204,
             0.8098666667938232,
             1.0102829933166504
            ]
           ]
          }
         ],
         "name": "67"
        },
        {
         "data": [
          {
           "hovertemplate": "frame=68<br>x=%{x}<br>y=%{y}<br>z=%{z}<extra></extra>",
           "legendgroup": "",
           "marker": {
            "color": "#636efa",
            "opacity": 1,
            "symbol": "circle"
           },
           "mode": "markers",
           "name": "",
           "scene": "scene",
           "showlegend": false,
           "type": "scatter3d",
           "x": [
            [
             0,
             0.02479284629225731,
             -0.07371240109205246,
             0.10395263880491257,
             -0.021221313625574112,
             -0.08180688321590424,
             0.02006543055176735,
             -0.020180175080895424,
             -0.047789186239242554,
             -0.1678505837917328,
             -0.17453283071517944,
             -0.047026123851537704,
             -0.18545788526535034,
             -0.26670971512794495,
             -0.04113500937819481,
             -0.17925512790679932,
             -0.2698170244693756
            ]
           ],
           "y": [
            [
             0,
             -0.09599307924509048,
             -0.010923860594630241,
             -0.0005548996850848198,
             0.0908944308757782,
             0.09970857203006744,
             0.07653764635324478,
             -0.008532618172466755,
             -0.03457174077630043,
             -0.06924281269311905,
             -0.10106121003627777,
             0.0924416333436966,
             0.09403626620769501,
             0.012670507654547691,
             -0.14437773823738098,
             -0.261929988861084,
             -0.17925991117954254
            ]
           ],
           "z": [
            [
             0.6296744346618652,
             0.6260457634925842,
             0.32765355706214905,
             0.029055893421173096,
             0.6343140006065369,
             0.32293701171875,
             0,
             0.8235942125320435,
             1.032219648361206,
             1.1605585813522339,
             1.1953299045562744,
             1.037106990814209,
             0.8267431259155273,
             1.0353453159332275,
             1.021637201309204,
             0.8098666667938232,
             1.0102829933166504
            ]
           ]
          }
         ],
         "name": "68"
        }
       ],
       "layout": {
        "legend": {
         "tracegroupgap": 0
        },
        "margin": {
         "t": 60
        },
        "scene": {
         "domain": {
          "x": [
           0,
           1
          ],
          "y": [
           0,
           1
          ]
         },
         "xaxis": {
          "title": {
           "text": "x"
          }
         },
         "yaxis": {
          "title": {
           "text": "y"
          }
         },
         "zaxis": {
          "title": {
           "text": "z"
          }
         }
        },
        "sliders": [
         {
          "active": 0,
          "currentvalue": {
           "prefix": "frame="
          },
          "len": 0.9,
          "pad": {
           "b": 10,
           "t": 60
          },
          "steps": [
           {
            "args": [
             [
              "0"
             ],
             {
              "frame": {
               "duration": 0,
               "redraw": true
              },
              "fromcurrent": true,
              "mode": "immediate",
              "transition": {
               "duration": 0,
               "easing": "linear"
              }
             }
            ],
            "label": "0",
            "method": "animate"
           },
           {
            "args": [
             [
              "1"
             ],
             {
              "frame": {
               "duration": 0,
               "redraw": true
              },
              "fromcurrent": true,
              "mode": "immediate",
              "transition": {
               "duration": 0,
               "easing": "linear"
              }
             }
            ],
            "label": "1",
            "method": "animate"
           },
           {
            "args": [
             [
              "2"
             ],
             {
              "frame": {
               "duration": 0,
               "redraw": true
              },
              "fromcurrent": true,
              "mode": "immediate",
              "transition": {
               "duration": 0,
               "easing": "linear"
              }
             }
            ],
            "label": "2",
            "method": "animate"
           },
           {
            "args": [
             [
              "3"
             ],
             {
              "frame": {
               "duration": 0,
               "redraw": true
              },
              "fromcurrent": true,
              "mode": "immediate",
              "transition": {
               "duration": 0,
               "easing": "linear"
              }
             }
            ],
            "label": "3",
            "method": "animate"
           },
           {
            "args": [
             [
              "4"
             ],
             {
              "frame": {
               "duration": 0,
               "redraw": true
              },
              "fromcurrent": true,
              "mode": "immediate",
              "transition": {
               "duration": 0,
               "easing": "linear"
              }
             }
            ],
            "label": "4",
            "method": "animate"
           },
           {
            "args": [
             [
              "5"
             ],
             {
              "frame": {
               "duration": 0,
               "redraw": true
              },
              "fromcurrent": true,
              "mode": "immediate",
              "transition": {
               "duration": 0,
               "easing": "linear"
              }
             }
            ],
            "label": "5",
            "method": "animate"
           },
           {
            "args": [
             [
              "6"
             ],
             {
              "frame": {
               "duration": 0,
               "redraw": true
              },
              "fromcurrent": true,
              "mode": "immediate",
              "transition": {
               "duration": 0,
               "easing": "linear"
              }
             }
            ],
            "label": "6",
            "method": "animate"
           },
           {
            "args": [
             [
              "7"
             ],
             {
              "frame": {
               "duration": 0,
               "redraw": true
              },
              "fromcurrent": true,
              "mode": "immediate",
              "transition": {
               "duration": 0,
               "easing": "linear"
              }
             }
            ],
            "label": "7",
            "method": "animate"
           },
           {
            "args": [
             [
              "8"
             ],
             {
              "frame": {
               "duration": 0,
               "redraw": true
              },
              "fromcurrent": true,
              "mode": "immediate",
              "transition": {
               "duration": 0,
               "easing": "linear"
              }
             }
            ],
            "label": "8",
            "method": "animate"
           },
           {
            "args": [
             [
              "9"
             ],
             {
              "frame": {
               "duration": 0,
               "redraw": true
              },
              "fromcurrent": true,
              "mode": "immediate",
              "transition": {
               "duration": 0,
               "easing": "linear"
              }
             }
            ],
            "label": "9",
            "method": "animate"
           },
           {
            "args": [
             [
              "10"
             ],
             {
              "frame": {
               "duration": 0,
               "redraw": true
              },
              "fromcurrent": true,
              "mode": "immediate",
              "transition": {
               "duration": 0,
               "easing": "linear"
              }
             }
            ],
            "label": "10",
            "method": "animate"
           },
           {
            "args": [
             [
              "11"
             ],
             {
              "frame": {
               "duration": 0,
               "redraw": true
              },
              "fromcurrent": true,
              "mode": "immediate",
              "transition": {
               "duration": 0,
               "easing": "linear"
              }
             }
            ],
            "label": "11",
            "method": "animate"
           },
           {
            "args": [
             [
              "12"
             ],
             {
              "frame": {
               "duration": 0,
               "redraw": true
              },
              "fromcurrent": true,
              "mode": "immediate",
              "transition": {
               "duration": 0,
               "easing": "linear"
              }
             }
            ],
            "label": "12",
            "method": "animate"
           },
           {
            "args": [
             [
              "13"
             ],
             {
              "frame": {
               "duration": 0,
               "redraw": true
              },
              "fromcurrent": true,
              "mode": "immediate",
              "transition": {
               "duration": 0,
               "easing": "linear"
              }
             }
            ],
            "label": "13",
            "method": "animate"
           },
           {
            "args": [
             [
              "14"
             ],
             {
              "frame": {
               "duration": 0,
               "redraw": true
              },
              "fromcurrent": true,
              "mode": "immediate",
              "transition": {
               "duration": 0,
               "easing": "linear"
              }
             }
            ],
            "label": "14",
            "method": "animate"
           },
           {
            "args": [
             [
              "15"
             ],
             {
              "frame": {
               "duration": 0,
               "redraw": true
              },
              "fromcurrent": true,
              "mode": "immediate",
              "transition": {
               "duration": 0,
               "easing": "linear"
              }
             }
            ],
            "label": "15",
            "method": "animate"
           },
           {
            "args": [
             [
              "16"
             ],
             {
              "frame": {
               "duration": 0,
               "redraw": true
              },
              "fromcurrent": true,
              "mode": "immediate",
              "transition": {
               "duration": 0,
               "easing": "linear"
              }
             }
            ],
            "label": "16",
            "method": "animate"
           },
           {
            "args": [
             [
              "17"
             ],
             {
              "frame": {
               "duration": 0,
               "redraw": true
              },
              "fromcurrent": true,
              "mode": "immediate",
              "transition": {
               "duration": 0,
               "easing": "linear"
              }
             }
            ],
            "label": "17",
            "method": "animate"
           },
           {
            "args": [
             [
              "18"
             ],
             {
              "frame": {
               "duration": 0,
               "redraw": true
              },
              "fromcurrent": true,
              "mode": "immediate",
              "transition": {
               "duration": 0,
               "easing": "linear"
              }
             }
            ],
            "label": "18",
            "method": "animate"
           },
           {
            "args": [
             [
              "19"
             ],
             {
              "frame": {
               "duration": 0,
               "redraw": true
              },
              "fromcurrent": true,
              "mode": "immediate",
              "transition": {
               "duration": 0,
               "easing": "linear"
              }
             }
            ],
            "label": "19",
            "method": "animate"
           },
           {
            "args": [
             [
              "20"
             ],
             {
              "frame": {
               "duration": 0,
               "redraw": true
              },
              "fromcurrent": true,
              "mode": "immediate",
              "transition": {
               "duration": 0,
               "easing": "linear"
              }
             }
            ],
            "label": "20",
            "method": "animate"
           },
           {
            "args": [
             [
              "21"
             ],
             {
              "frame": {
               "duration": 0,
               "redraw": true
              },
              "fromcurrent": true,
              "mode": "immediate",
              "transition": {
               "duration": 0,
               "easing": "linear"
              }
             }
            ],
            "label": "21",
            "method": "animate"
           },
           {
            "args": [
             [
              "22"
             ],
             {
              "frame": {
               "duration": 0,
               "redraw": true
              },
              "fromcurrent": true,
              "mode": "immediate",
              "transition": {
               "duration": 0,
               "easing": "linear"
              }
             }
            ],
            "label": "22",
            "method": "animate"
           },
           {
            "args": [
             [
              "23"
             ],
             {
              "frame": {
               "duration": 0,
               "redraw": true
              },
              "fromcurrent": true,
              "mode": "immediate",
              "transition": {
               "duration": 0,
               "easing": "linear"
              }
             }
            ],
            "label": "23",
            "method": "animate"
           },
           {
            "args": [
             [
              "24"
             ],
             {
              "frame": {
               "duration": 0,
               "redraw": true
              },
              "fromcurrent": true,
              "mode": "immediate",
              "transition": {
               "duration": 0,
               "easing": "linear"
              }
             }
            ],
            "label": "24",
            "method": "animate"
           },
           {
            "args": [
             [
              "25"
             ],
             {
              "frame": {
               "duration": 0,
               "redraw": true
              },
              "fromcurrent": true,
              "mode": "immediate",
              "transition": {
               "duration": 0,
               "easing": "linear"
              }
             }
            ],
            "label": "25",
            "method": "animate"
           },
           {
            "args": [
             [
              "26"
             ],
             {
              "frame": {
               "duration": 0,
               "redraw": true
              },
              "fromcurrent": true,
              "mode": "immediate",
              "transition": {
               "duration": 0,
               "easing": "linear"
              }
             }
            ],
            "label": "26",
            "method": "animate"
           },
           {
            "args": [
             [
              "27"
             ],
             {
              "frame": {
               "duration": 0,
               "redraw": true
              },
              "fromcurrent": true,
              "mode": "immediate",
              "transition": {
               "duration": 0,
               "easing": "linear"
              }
             }
            ],
            "label": "27",
            "method": "animate"
           },
           {
            "args": [
             [
              "28"
             ],
             {
              "frame": {
               "duration": 0,
               "redraw": true
              },
              "fromcurrent": true,
              "mode": "immediate",
              "transition": {
               "duration": 0,
               "easing": "linear"
              }
             }
            ],
            "label": "28",
            "method": "animate"
           },
           {
            "args": [
             [
              "29"
             ],
             {
              "frame": {
               "duration": 0,
               "redraw": true
              },
              "fromcurrent": true,
              "mode": "immediate",
              "transition": {
               "duration": 0,
               "easing": "linear"
              }
             }
            ],
            "label": "29",
            "method": "animate"
           },
           {
            "args": [
             [
              "30"
             ],
             {
              "frame": {
               "duration": 0,
               "redraw": true
              },
              "fromcurrent": true,
              "mode": "immediate",
              "transition": {
               "duration": 0,
               "easing": "linear"
              }
             }
            ],
            "label": "30",
            "method": "animate"
           },
           {
            "args": [
             [
              "31"
             ],
             {
              "frame": {
               "duration": 0,
               "redraw": true
              },
              "fromcurrent": true,
              "mode": "immediate",
              "transition": {
               "duration": 0,
               "easing": "linear"
              }
             }
            ],
            "label": "31",
            "method": "animate"
           },
           {
            "args": [
             [
              "32"
             ],
             {
              "frame": {
               "duration": 0,
               "redraw": true
              },
              "fromcurrent": true,
              "mode": "immediate",
              "transition": {
               "duration": 0,
               "easing": "linear"
              }
             }
            ],
            "label": "32",
            "method": "animate"
           },
           {
            "args": [
             [
              "33"
             ],
             {
              "frame": {
               "duration": 0,
               "redraw": true
              },
              "fromcurrent": true,
              "mode": "immediate",
              "transition": {
               "duration": 0,
               "easing": "linear"
              }
             }
            ],
            "label": "33",
            "method": "animate"
           },
           {
            "args": [
             [
              "34"
             ],
             {
              "frame": {
               "duration": 0,
               "redraw": true
              },
              "fromcurrent": true,
              "mode": "immediate",
              "transition": {
               "duration": 0,
               "easing": "linear"
              }
             }
            ],
            "label": "34",
            "method": "animate"
           },
           {
            "args": [
             [
              "35"
             ],
             {
              "frame": {
               "duration": 0,
               "redraw": true
              },
              "fromcurrent": true,
              "mode": "immediate",
              "transition": {
               "duration": 0,
               "easing": "linear"
              }
             }
            ],
            "label": "35",
            "method": "animate"
           },
           {
            "args": [
             [
              "36"
             ],
             {
              "frame": {
               "duration": 0,
               "redraw": true
              },
              "fromcurrent": true,
              "mode": "immediate",
              "transition": {
               "duration": 0,
               "easing": "linear"
              }
             }
            ],
            "label": "36",
            "method": "animate"
           },
           {
            "args": [
             [
              "37"
             ],
             {
              "frame": {
               "duration": 0,
               "redraw": true
              },
              "fromcurrent": true,
              "mode": "immediate",
              "transition": {
               "duration": 0,
               "easing": "linear"
              }
             }
            ],
            "label": "37",
            "method": "animate"
           },
           {
            "args": [
             [
              "38"
             ],
             {
              "frame": {
               "duration": 0,
               "redraw": true
              },
              "fromcurrent": true,
              "mode": "immediate",
              "transition": {
               "duration": 0,
               "easing": "linear"
              }
             }
            ],
            "label": "38",
            "method": "animate"
           },
           {
            "args": [
             [
              "39"
             ],
             {
              "frame": {
               "duration": 0,
               "redraw": true
              },
              "fromcurrent": true,
              "mode": "immediate",
              "transition": {
               "duration": 0,
               "easing": "linear"
              }
             }
            ],
            "label": "39",
            "method": "animate"
           },
           {
            "args": [
             [
              "40"
             ],
             {
              "frame": {
               "duration": 0,
               "redraw": true
              },
              "fromcurrent": true,
              "mode": "immediate",
              "transition": {
               "duration": 0,
               "easing": "linear"
              }
             }
            ],
            "label": "40",
            "method": "animate"
           },
           {
            "args": [
             [
              "41"
             ],
             {
              "frame": {
               "duration": 0,
               "redraw": true
              },
              "fromcurrent": true,
              "mode": "immediate",
              "transition": {
               "duration": 0,
               "easing": "linear"
              }
             }
            ],
            "label": "41",
            "method": "animate"
           },
           {
            "args": [
             [
              "42"
             ],
             {
              "frame": {
               "duration": 0,
               "redraw": true
              },
              "fromcurrent": true,
              "mode": "immediate",
              "transition": {
               "duration": 0,
               "easing": "linear"
              }
             }
            ],
            "label": "42",
            "method": "animate"
           },
           {
            "args": [
             [
              "43"
             ],
             {
              "frame": {
               "duration": 0,
               "redraw": true
              },
              "fromcurrent": true,
              "mode": "immediate",
              "transition": {
               "duration": 0,
               "easing": "linear"
              }
             }
            ],
            "label": "43",
            "method": "animate"
           },
           {
            "args": [
             [
              "44"
             ],
             {
              "frame": {
               "duration": 0,
               "redraw": true
              },
              "fromcurrent": true,
              "mode": "immediate",
              "transition": {
               "duration": 0,
               "easing": "linear"
              }
             }
            ],
            "label": "44",
            "method": "animate"
           },
           {
            "args": [
             [
              "45"
             ],
             {
              "frame": {
               "duration": 0,
               "redraw": true
              },
              "fromcurrent": true,
              "mode": "immediate",
              "transition": {
               "duration": 0,
               "easing": "linear"
              }
             }
            ],
            "label": "45",
            "method": "animate"
           },
           {
            "args": [
             [
              "46"
             ],
             {
              "frame": {
               "duration": 0,
               "redraw": true
              },
              "fromcurrent": true,
              "mode": "immediate",
              "transition": {
               "duration": 0,
               "easing": "linear"
              }
             }
            ],
            "label": "46",
            "method": "animate"
           },
           {
            "args": [
             [
              "47"
             ],
             {
              "frame": {
               "duration": 0,
               "redraw": true
              },
              "fromcurrent": true,
              "mode": "immediate",
              "transition": {
               "duration": 0,
               "easing": "linear"
              }
             }
            ],
            "label": "47",
            "method": "animate"
           },
           {
            "args": [
             [
              "48"
             ],
             {
              "frame": {
               "duration": 0,
               "redraw": true
              },
              "fromcurrent": true,
              "mode": "immediate",
              "transition": {
               "duration": 0,
               "easing": "linear"
              }
             }
            ],
            "label": "48",
            "method": "animate"
           },
           {
            "args": [
             [
              "49"
             ],
             {
              "frame": {
               "duration": 0,
               "redraw": true
              },
              "fromcurrent": true,
              "mode": "immediate",
              "transition": {
               "duration": 0,
               "easing": "linear"
              }
             }
            ],
            "label": "49",
            "method": "animate"
           },
           {
            "args": [
             [
              "50"
             ],
             {
              "frame": {
               "duration": 0,
               "redraw": true
              },
              "fromcurrent": true,
              "mode": "immediate",
              "transition": {
               "duration": 0,
               "easing": "linear"
              }
             }
            ],
            "label": "50",
            "method": "animate"
           },
           {
            "args": [
             [
              "51"
             ],
             {
              "frame": {
               "duration": 0,
               "redraw": true
              },
              "fromcurrent": true,
              "mode": "immediate",
              "transition": {
               "duration": 0,
               "easing": "linear"
              }
             }
            ],
            "label": "51",
            "method": "animate"
           },
           {
            "args": [
             [
              "52"
             ],
             {
              "frame": {
               "duration": 0,
               "redraw": true
              },
              "fromcurrent": true,
              "mode": "immediate",
              "transition": {
               "duration": 0,
               "easing": "linear"
              }
             }
            ],
            "label": "52",
            "method": "animate"
           },
           {
            "args": [
             [
              "53"
             ],
             {
              "frame": {
               "duration": 0,
               "redraw": true
              },
              "fromcurrent": true,
              "mode": "immediate",
              "transition": {
               "duration": 0,
               "easing": "linear"
              }
             }
            ],
            "label": "53",
            "method": "animate"
           },
           {
            "args": [
             [
              "54"
             ],
             {
              "frame": {
               "duration": 0,
               "redraw": true
              },
              "fromcurrent": true,
              "mode": "immediate",
              "transition": {
               "duration": 0,
               "easing": "linear"
              }
             }
            ],
            "label": "54",
            "method": "animate"
           },
           {
            "args": [
             [
              "55"
             ],
             {
              "frame": {
               "duration": 0,
               "redraw": true
              },
              "fromcurrent": true,
              "mode": "immediate",
              "transition": {
               "duration": 0,
               "easing": "linear"
              }
             }
            ],
            "label": "55",
            "method": "animate"
           },
           {
            "args": [
             [
              "56"
             ],
             {
              "frame": {
               "duration": 0,
               "redraw": true
              },
              "fromcurrent": true,
              "mode": "immediate",
              "transition": {
               "duration": 0,
               "easing": "linear"
              }
             }
            ],
            "label": "56",
            "method": "animate"
           },
           {
            "args": [
             [
              "57"
             ],
             {
              "frame": {
               "duration": 0,
               "redraw": true
              },
              "fromcurrent": true,
              "mode": "immediate",
              "transition": {
               "duration": 0,
               "easing": "linear"
              }
             }
            ],
            "label": "57",
            "method": "animate"
           },
           {
            "args": [
             [
              "58"
             ],
             {
              "frame": {
               "duration": 0,
               "redraw": true
              },
              "fromcurrent": true,
              "mode": "immediate",
              "transition": {
               "duration": 0,
               "easing": "linear"
              }
             }
            ],
            "label": "58",
            "method": "animate"
           },
           {
            "args": [
             [
              "59"
             ],
             {
              "frame": {
               "duration": 0,
               "redraw": true
              },
              "fromcurrent": true,
              "mode": "immediate",
              "transition": {
               "duration": 0,
               "easing": "linear"
              }
             }
            ],
            "label": "59",
            "method": "animate"
           },
           {
            "args": [
             [
              "60"
             ],
             {
              "frame": {
               "duration": 0,
               "redraw": true
              },
              "fromcurrent": true,
              "mode": "immediate",
              "transition": {
               "duration": 0,
               "easing": "linear"
              }
             }
            ],
            "label": "60",
            "method": "animate"
           },
           {
            "args": [
             [
              "61"
             ],
             {
              "frame": {
               "duration": 0,
               "redraw": true
              },
              "fromcurrent": true,
              "mode": "immediate",
              "transition": {
               "duration": 0,
               "easing": "linear"
              }
             }
            ],
            "label": "61",
            "method": "animate"
           },
           {
            "args": [
             [
              "62"
             ],
             {
              "frame": {
               "duration": 0,
               "redraw": true
              },
              "fromcurrent": true,
              "mode": "immediate",
              "transition": {
               "duration": 0,
               "easing": "linear"
              }
             }
            ],
            "label": "62",
            "method": "animate"
           },
           {
            "args": [
             [
              "63"
             ],
             {
              "frame": {
               "duration": 0,
               "redraw": true
              },
              "fromcurrent": true,
              "mode": "immediate",
              "transition": {
               "duration": 0,
               "easing": "linear"
              }
             }
            ],
            "label": "63",
            "method": "animate"
           },
           {
            "args": [
             [
              "64"
             ],
             {
              "frame": {
               "duration": 0,
               "redraw": true
              },
              "fromcurrent": true,
              "mode": "immediate",
              "transition": {
               "duration": 0,
               "easing": "linear"
              }
             }
            ],
            "label": "64",
            "method": "animate"
           },
           {
            "args": [
             [
              "65"
             ],
             {
              "frame": {
               "duration": 0,
               "redraw": true
              },
              "fromcurrent": true,
              "mode": "immediate",
              "transition": {
               "duration": 0,
               "easing": "linear"
              }
             }
            ],
            "label": "65",
            "method": "animate"
           },
           {
            "args": [
             [
              "66"
             ],
             {
              "frame": {
               "duration": 0,
               "redraw": true
              },
              "fromcurrent": true,
              "mode": "immediate",
              "transition": {
               "duration": 0,
               "easing": "linear"
              }
             }
            ],
            "label": "66",
            "method": "animate"
           },
           {
            "args": [
             [
              "67"
             ],
             {
              "frame": {
               "duration": 0,
               "redraw": true
              },
              "fromcurrent": true,
              "mode": "immediate",
              "transition": {
               "duration": 0,
               "easing": "linear"
              }
             }
            ],
            "label": "67",
            "method": "animate"
           },
           {
            "args": [
             [
              "68"
             ],
             {
              "frame": {
               "duration": 0,
               "redraw": true
              },
              "fromcurrent": true,
              "mode": "immediate",
              "transition": {
               "duration": 0,
               "easing": "linear"
              }
             }
            ],
            "label": "68",
            "method": "animate"
           }
          ],
          "x": 0.1,
          "xanchor": "left",
          "y": 0,
          "yanchor": "top"
         }
        ],
        "template": {
         "data": {
          "bar": [
           {
            "error_x": {
             "color": "#2a3f5f"
            },
            "error_y": {
             "color": "#2a3f5f"
            },
            "marker": {
             "line": {
              "color": "#E5ECF6",
              "width": 0.5
             },
             "pattern": {
              "fillmode": "overlay",
              "size": 10,
              "solidity": 0.2
             }
            },
            "type": "bar"
           }
          ],
          "barpolar": [
           {
            "marker": {
             "line": {
              "color": "#E5ECF6",
              "width": 0.5
             },
             "pattern": {
              "fillmode": "overlay",
              "size": 10,
              "solidity": 0.2
             }
            },
            "type": "barpolar"
           }
          ],
          "carpet": [
           {
            "aaxis": {
             "endlinecolor": "#2a3f5f",
             "gridcolor": "white",
             "linecolor": "white",
             "minorgridcolor": "white",
             "startlinecolor": "#2a3f5f"
            },
            "baxis": {
             "endlinecolor": "#2a3f5f",
             "gridcolor": "white",
             "linecolor": "white",
             "minorgridcolor": "white",
             "startlinecolor": "#2a3f5f"
            },
            "type": "carpet"
           }
          ],
          "choropleth": [
           {
            "colorbar": {
             "outlinewidth": 0,
             "ticks": ""
            },
            "type": "choropleth"
           }
          ],
          "contour": [
           {
            "colorbar": {
             "outlinewidth": 0,
             "ticks": ""
            },
            "colorscale": [
             [
              0,
              "#0d0887"
             ],
             [
              0.1111111111111111,
              "#46039f"
             ],
             [
              0.2222222222222222,
              "#7201a8"
             ],
             [
              0.3333333333333333,
              "#9c179e"
             ],
             [
              0.4444444444444444,
              "#bd3786"
             ],
             [
              0.5555555555555556,
              "#d8576b"
             ],
             [
              0.6666666666666666,
              "#ed7953"
             ],
             [
              0.7777777777777778,
              "#fb9f3a"
             ],
             [
              0.8888888888888888,
              "#fdca26"
             ],
             [
              1,
              "#f0f921"
             ]
            ],
            "type": "contour"
           }
          ],
          "contourcarpet": [
           {
            "colorbar": {
             "outlinewidth": 0,
             "ticks": ""
            },
            "type": "contourcarpet"
           }
          ],
          "heatmap": [
           {
            "colorbar": {
             "outlinewidth": 0,
             "ticks": ""
            },
            "colorscale": [
             [
              0,
              "#0d0887"
             ],
             [
              0.1111111111111111,
              "#46039f"
             ],
             [
              0.2222222222222222,
              "#7201a8"
             ],
             [
              0.3333333333333333,
              "#9c179e"
             ],
             [
              0.4444444444444444,
              "#bd3786"
             ],
             [
              0.5555555555555556,
              "#d8576b"
             ],
             [
              0.6666666666666666,
              "#ed7953"
             ],
             [
              0.7777777777777778,
              "#fb9f3a"
             ],
             [
              0.8888888888888888,
              "#fdca26"
             ],
             [
              1,
              "#f0f921"
             ]
            ],
            "type": "heatmap"
           }
          ],
          "heatmapgl": [
           {
            "colorbar": {
             "outlinewidth": 0,
             "ticks": ""
            },
            "colorscale": [
             [
              0,
              "#0d0887"
             ],
             [
              0.1111111111111111,
              "#46039f"
             ],
             [
              0.2222222222222222,
              "#7201a8"
             ],
             [
              0.3333333333333333,
              "#9c179e"
             ],
             [
              0.4444444444444444,
              "#bd3786"
             ],
             [
              0.5555555555555556,
              "#d8576b"
             ],
             [
              0.6666666666666666,
              "#ed7953"
             ],
             [
              0.7777777777777778,
              "#fb9f3a"
             ],
             [
              0.8888888888888888,
              "#fdca26"
             ],
             [
              1,
              "#f0f921"
             ]
            ],
            "type": "heatmapgl"
           }
          ],
          "histogram": [
           {
            "marker": {
             "pattern": {
              "fillmode": "overlay",
              "size": 10,
              "solidity": 0.2
             }
            },
            "type": "histogram"
           }
          ],
          "histogram2d": [
           {
            "colorbar": {
             "outlinewidth": 0,
             "ticks": ""
            },
            "colorscale": [
             [
              0,
              "#0d0887"
             ],
             [
              0.1111111111111111,
              "#46039f"
             ],
             [
              0.2222222222222222,
              "#7201a8"
             ],
             [
              0.3333333333333333,
              "#9c179e"
             ],
             [
              0.4444444444444444,
              "#bd3786"
             ],
             [
              0.5555555555555556,
              "#d8576b"
             ],
             [
              0.6666666666666666,
              "#ed7953"
             ],
             [
              0.7777777777777778,
              "#fb9f3a"
             ],
             [
              0.8888888888888888,
              "#fdca26"
             ],
             [
              1,
              "#f0f921"
             ]
            ],
            "type": "histogram2d"
           }
          ],
          "histogram2dcontour": [
           {
            "colorbar": {
             "outlinewidth": 0,
             "ticks": ""
            },
            "colorscale": [
             [
              0,
              "#0d0887"
             ],
             [
              0.1111111111111111,
              "#46039f"
             ],
             [
              0.2222222222222222,
              "#7201a8"
             ],
             [
              0.3333333333333333,
              "#9c179e"
             ],
             [
              0.4444444444444444,
              "#bd3786"
             ],
             [
              0.5555555555555556,
              "#d8576b"
             ],
             [
              0.6666666666666666,
              "#ed7953"
             ],
             [
              0.7777777777777778,
              "#fb9f3a"
             ],
             [
              0.8888888888888888,
              "#fdca26"
             ],
             [
              1,
              "#f0f921"
             ]
            ],
            "type": "histogram2dcontour"
           }
          ],
          "mesh3d": [
           {
            "colorbar": {
             "outlinewidth": 0,
             "ticks": ""
            },
            "type": "mesh3d"
           }
          ],
          "parcoords": [
           {
            "line": {
             "colorbar": {
              "outlinewidth": 0,
              "ticks": ""
             }
            },
            "type": "parcoords"
           }
          ],
          "pie": [
           {
            "automargin": true,
            "type": "pie"
           }
          ],
          "scatter": [
           {
            "fillpattern": {
             "fillmode": "overlay",
             "size": 10,
             "solidity": 0.2
            },
            "type": "scatter"
           }
          ],
          "scatter3d": [
           {
            "line": {
             "colorbar": {
              "outlinewidth": 0,
              "ticks": ""
             }
            },
            "marker": {
             "colorbar": {
              "outlinewidth": 0,
              "ticks": ""
             }
            },
            "type": "scatter3d"
           }
          ],
          "scattercarpet": [
           {
            "marker": {
             "colorbar": {
              "outlinewidth": 0,
              "ticks": ""
             }
            },
            "type": "scattercarpet"
           }
          ],
          "scattergeo": [
           {
            "marker": {
             "colorbar": {
              "outlinewidth": 0,
              "ticks": ""
             }
            },
            "type": "scattergeo"
           }
          ],
          "scattergl": [
           {
            "marker": {
             "colorbar": {
              "outlinewidth": 0,
              "ticks": ""
             }
            },
            "type": "scattergl"
           }
          ],
          "scattermapbox": [
           {
            "marker": {
             "colorbar": {
              "outlinewidth": 0,
              "ticks": ""
             }
            },
            "type": "scattermapbox"
           }
          ],
          "scatterpolar": [
           {
            "marker": {
             "colorbar": {
              "outlinewidth": 0,
              "ticks": ""
             }
            },
            "type": "scatterpolar"
           }
          ],
          "scatterpolargl": [
           {
            "marker": {
             "colorbar": {
              "outlinewidth": 0,
              "ticks": ""
             }
            },
            "type": "scatterpolargl"
           }
          ],
          "scatterternary": [
           {
            "marker": {
             "colorbar": {
              "outlinewidth": 0,
              "ticks": ""
             }
            },
            "type": "scatterternary"
           }
          ],
          "surface": [
           {
            "colorbar": {
             "outlinewidth": 0,
             "ticks": ""
            },
            "colorscale": [
             [
              0,
              "#0d0887"
             ],
             [
              0.1111111111111111,
              "#46039f"
             ],
             [
              0.2222222222222222,
              "#7201a8"
             ],
             [
              0.3333333333333333,
              "#9c179e"
             ],
             [
              0.4444444444444444,
              "#bd3786"
             ],
             [
              0.5555555555555556,
              "#d8576b"
             ],
             [
              0.6666666666666666,
              "#ed7953"
             ],
             [
              0.7777777777777778,
              "#fb9f3a"
             ],
             [
              0.8888888888888888,
              "#fdca26"
             ],
             [
              1,
              "#f0f921"
             ]
            ],
            "type": "surface"
           }
          ],
          "table": [
           {
            "cells": {
             "fill": {
              "color": "#EBF0F8"
             },
             "line": {
              "color": "white"
             }
            },
            "header": {
             "fill": {
              "color": "#C8D4E3"
             },
             "line": {
              "color": "white"
             }
            },
            "type": "table"
           }
          ]
         },
         "layout": {
          "annotationdefaults": {
           "arrowcolor": "#2a3f5f",
           "arrowhead": 0,
           "arrowwidth": 1
          },
          "autotypenumbers": "strict",
          "coloraxis": {
           "colorbar": {
            "outlinewidth": 0,
            "ticks": ""
           }
          },
          "colorscale": {
           "diverging": [
            [
             0,
             "#8e0152"
            ],
            [
             0.1,
             "#c51b7d"
            ],
            [
             0.2,
             "#de77ae"
            ],
            [
             0.3,
             "#f1b6da"
            ],
            [
             0.4,
             "#fde0ef"
            ],
            [
             0.5,
             "#f7f7f7"
            ],
            [
             0.6,
             "#e6f5d0"
            ],
            [
             0.7,
             "#b8e186"
            ],
            [
             0.8,
             "#7fbc41"
            ],
            [
             0.9,
             "#4d9221"
            ],
            [
             1,
             "#276419"
            ]
           ],
           "sequential": [
            [
             0,
             "#0d0887"
            ],
            [
             0.1111111111111111,
             "#46039f"
            ],
            [
             0.2222222222222222,
             "#7201a8"
            ],
            [
             0.3333333333333333,
             "#9c179e"
            ],
            [
             0.4444444444444444,
             "#bd3786"
            ],
            [
             0.5555555555555556,
             "#d8576b"
            ],
            [
             0.6666666666666666,
             "#ed7953"
            ],
            [
             0.7777777777777778,
             "#fb9f3a"
            ],
            [
             0.8888888888888888,
             "#fdca26"
            ],
            [
             1,
             "#f0f921"
            ]
           ],
           "sequentialminus": [
            [
             0,
             "#0d0887"
            ],
            [
             0.1111111111111111,
             "#46039f"
            ],
            [
             0.2222222222222222,
             "#7201a8"
            ],
            [
             0.3333333333333333,
             "#9c179e"
            ],
            [
             0.4444444444444444,
             "#bd3786"
            ],
            [
             0.5555555555555556,
             "#d8576b"
            ],
            [
             0.6666666666666666,
             "#ed7953"
            ],
            [
             0.7777777777777778,
             "#fb9f3a"
            ],
            [
             0.8888888888888888,
             "#fdca26"
            ],
            [
             1,
             "#f0f921"
            ]
           ]
          },
          "colorway": [
           "#636efa",
           "#EF553B",
           "#00cc96",
           "#ab63fa",
           "#FFA15A",
           "#19d3f3",
           "#FF6692",
           "#B6E880",
           "#FF97FF",
           "#FECB52"
          ],
          "font": {
           "color": "#2a3f5f"
          },
          "geo": {
           "bgcolor": "white",
           "lakecolor": "white",
           "landcolor": "#E5ECF6",
           "showlakes": true,
           "showland": true,
           "subunitcolor": "white"
          },
          "hoverlabel": {
           "align": "left"
          },
          "hovermode": "closest",
          "mapbox": {
           "style": "light"
          },
          "paper_bgcolor": "white",
          "plot_bgcolor": "#E5ECF6",
          "polar": {
           "angularaxis": {
            "gridcolor": "white",
            "linecolor": "white",
            "ticks": ""
           },
           "bgcolor": "#E5ECF6",
           "radialaxis": {
            "gridcolor": "white",
            "linecolor": "white",
            "ticks": ""
           }
          },
          "scene": {
           "xaxis": {
            "backgroundcolor": "#E5ECF6",
            "gridcolor": "white",
            "gridwidth": 2,
            "linecolor": "white",
            "showbackground": true,
            "ticks": "",
            "zerolinecolor": "white"
           },
           "yaxis": {
            "backgroundcolor": "#E5ECF6",
            "gridcolor": "white",
            "gridwidth": 2,
            "linecolor": "white",
            "showbackground": true,
            "ticks": "",
            "zerolinecolor": "white"
           },
           "zaxis": {
            "backgroundcolor": "#E5ECF6",
            "gridcolor": "white",
            "gridwidth": 2,
            "linecolor": "white",
            "showbackground": true,
            "ticks": "",
            "zerolinecolor": "white"
           }
          },
          "shapedefaults": {
           "line": {
            "color": "#2a3f5f"
           }
          },
          "ternary": {
           "aaxis": {
            "gridcolor": "white",
            "linecolor": "white",
            "ticks": ""
           },
           "baxis": {
            "gridcolor": "white",
            "linecolor": "white",
            "ticks": ""
           },
           "bgcolor": "#E5ECF6",
           "caxis": {
            "gridcolor": "white",
            "linecolor": "white",
            "ticks": ""
           }
          },
          "title": {
           "x": 0.05
          },
          "xaxis": {
           "automargin": true,
           "gridcolor": "white",
           "linecolor": "white",
           "ticks": "",
           "title": {
            "standoff": 15
           },
           "zerolinecolor": "white",
           "zerolinewidth": 2
          },
          "yaxis": {
           "automargin": true,
           "gridcolor": "white",
           "linecolor": "white",
           "ticks": "",
           "title": {
            "standoff": 15
           },
           "zerolinecolor": "white",
           "zerolinewidth": 2
          }
         }
        },
        "updatemenus": [
         {
          "buttons": [
           {
            "args": [
             null,
             {
              "frame": {
               "duration": 500,
               "redraw": true
              },
              "fromcurrent": true,
              "mode": "immediate",
              "transition": {
               "duration": 500,
               "easing": "linear"
              }
             }
            ],
            "label": "&#9654;",
            "method": "animate"
           },
           {
            "args": [
             [
              null
             ],
             {
              "frame": {
               "duration": 0,
               "redraw": true
              },
              "fromcurrent": true,
              "mode": "immediate",
              "transition": {
               "duration": 0,
               "easing": "linear"
              }
             }
            ],
            "label": "&#9724;",
            "method": "animate"
           }
          ],
          "direction": "left",
          "pad": {
           "r": 10,
           "t": 70
          },
          "showactive": false,
          "type": "buttons",
          "x": 0.1,
          "xanchor": "right",
          "y": 0,
          "yanchor": "top"
         }
        ]
       }
      }
     },
     "metadata": {},
     "output_type": "display_data"
    }
   ],
   "source": [
    "fig = px.scatter_3d(df, x=\"x\", y=\"y\", z=\"z\", animation_frame=\"frame\", opacity=1)\n",
    "fig.show()"
   ]
  },
  {
   "cell_type": "code",
   "execution_count": 118,
   "metadata": {},
   "outputs": [
    {
     "data": {
      "application/vnd.plotly.v1+json": {
       "config": {
        "plotlyServerURL": "https://plot.ly"
       },
       "data": [
        {
         "hovertemplate": "x=%{x}<br>y=%{y}<br>z=%{z}<extra></extra>",
         "legendgroup": "",
         "marker": {
          "color": "#636efa",
          "opacity": 1,
          "symbol": "circle"
         },
         "mode": "markers",
         "name": "",
         "scene": "scene",
         "showlegend": false,
         "type": "scatter3d",
         "x": [
          [
           0,
           0.07467737048864365,
           0.11087707430124283,
           0.1637280285358429,
           -0.08033288270235062,
           -0.07199389487504959,
           -0.05779785290360451,
           -0.013465087860822678,
           -0.019340576604008675,
           -0.11573303490877151,
           -0.10925207287073135,
           -0.1457952857017517,
           -0.1871049851179123,
           -0.08400439471006393,
           0.11437292397022247,
           0.1795026808977127,
           0.07061987370252609
          ],
          [
           0,
           0.07479309290647507,
           0.11118750274181366,
           0.16410912573337555,
           -0.08026757836341858,
           -0.07171887159347534,
           -0.0575709231197834,
           -0.01473217736929655,
           -0.02294921875,
           -0.11568273603916168,
           -0.10910095274448395,
           -0.14541491866111755,
           -0.18698535859584808,
           -0.0837860107421875,
           0.10690795630216599,
           0.18347936868667603,
           0.07030529528856277
          ],
          [
           0,
           0.07662329077720642,
           0.10945837199687958,
           0.16673828661441803,
           -0.08123937994241714,
           -0.07331066578626633,
           -0.059239502996206284,
           -0.015447753481566906,
           -0.0245208740234375,
           -0.1212453618645668,
           -0.11477575451135635,
           -0.14714978635311127,
           -0.18850073218345642,
           -0.08554907143115997,
           0.10549414157867432,
           0.18225525319576263,
           0.07283691316843033
          ],
          [
           0,
           0.0754227265715599,
           0.11193176358938217,
           0.16416651010513306,
           -0.08004675060510635,
           -0.07463940232992172,
           -0.06099914386868477,
           -0.017090698704123497,
           -0.02812524326145649,
           -0.12671765685081482,
           -0.12039245665073395,
           -0.1526046097278595,
           -0.19016650319099426,
           -0.08640392869710922,
           0.10364221036434174,
           0.1805700659751892,
           0.0711820051074028
          ],
          [
           0,
           0.07687133550643921,
           0.11348901689052582,
           0.16690465807914734,
           -0.08166845887899399,
           -0.07330786436796188,
           -0.05895373597741127,
           -0.016380859538912773,
           -0.02614416554570198,
           -0.12477526813745499,
           -0.11840979009866714,
           -0.15054260194301605,
           -0.18825440108776093,
           -0.08473559468984604,
           0.10537475347518921,
           0.1821271926164627,
           0.07284314185380936
          ],
          [
           0,
           0.076979860663414,
           0.11814294755458832,
           0.17240490019321442,
           -0.08169347792863846,
           -0.07271581888198853,
           -0.05791870132088661,
           -0.01940026879310608,
           -0.03345019370317459,
           -0.13666808605194092,
           -0.1261271983385086,
           -0.15820984542369843,
           -0.19624939560890198,
           -0.08883202821016312,
           0.09776879847049713,
           0.18993517756462097,
           0.0839678943157196
          ],
          [
           0,
           0.0785234346985817,
           0.11618591099977493,
           0.17386621236801147,
           -0.08260522782802582,
           -0.07745129615068436,
           -0.059120118618011475,
           -0.020796386525034904,
           -0.036646850407123566,
           -0.14195190370082855,
           -0.13372217118740082,
           -0.16322363913059235,
           -0.19738294184207916,
           -0.08997558802366257,
           0.09581152349710464,
           0.19167602062225342,
           0.0823831781744957
          ],
          [
           0,
           0.0776982456445694,
           0.11490783840417862,
           0.17255431413650513,
           -0.0809803456068039,
           -0.07855639606714249,
           -0.06018591299653053,
           -0.022819580510258675,
           -0.0408780500292778,
           -0.15031787753105164,
           -0.14244982600212097,
           -0.1674843728542328,
           -0.2014613002538681,
           -0.0907001942396164,
           0.09083081036806107,
           0.19027209281921387,
           0.08555090427398682
          ],
          [
           0,
           0.08033190667629242,
           0.1170181855559349,
           0.17540112137794495,
           -0.082993283867836,
           -0.08095043897628784,
           -0.05717834457755089,
           -0.024053223431110382,
           -0.04303894191980362,
           -0.15803955495357513,
           -0.15463952720165253,
           -0.17060193419456482,
           -0.19766663014888763,
           -0.08729687333106995,
           0.0894755870103836,
           0.19192029535770416,
           0.08445825427770615
          ],
          [
           0,
           0.08041748404502869,
           0.1170661598443985,
           0.1754268854856491,
           -0.08294128626585007,
           -0.08086804300546646,
           -0.057053953409194946,
           -0.024107666686177254,
           -0.04313452169299126,
           -0.15804052352905273,
           -0.15464745461940765,
           -0.17060045897960663,
           -0.20112767815589905,
           -0.08740527182817459,
           0.08940820395946503,
           0.19209545850753784,
           0.08447351306676865
          ],
          [
           0,
           0.0860920399427414,
           0.11921447515487671,
           0.18153613805770874,
           -0.08643530309200287,
           -0.08682922273874283,
           -0.05831530690193176,
           -0.027323853224515915,
           -0.05042797699570656,
           -0.17518188059329987,
           -0.16815857589244843,
           -0.17505663633346558,
           -0.1986507624387741,
           -0.08538012951612473,
           0.07894482463598251,
           0.194154292345047,
           0.09421313554048538
          ],
          [
           0,
           0.08362841606140137,
           0.11320629715919495,
           0.17579126358032227,
           -0.08358508348464966,
           -0.09082373231649399,
           -0.05942773446440697,
           -0.031636353582143784,
           -0.0612940676510334,
           -0.19239148497581482,
           -0.18546204268932343,
           -0.1883229911327362,
           -0.2033127397298813,
           -0.0790264904499054,
           0.06899536401033401,
           0.19588793814182281,
           0.10059423744678497
          ],
          [
           0,
           0.08588097989559174,
           0.11543139815330505,
           0.17760729789733887,
           -0.08491040021181107,
           -0.09533752501010895,
           -0.061396729201078415,
           -0.03523791581392288,
           -0.06971056759357452,
           -0.1978875696659088,
           -0.19320641458034515,
           -0.1930815428495407,
           -0.2007276564836502,
           -0.07926977425813675,
           0.05545581132173538,
           0.19480834901332855,
           0.10817322134971619
          ],
          [
           0,
           0.08511340618133545,
           0.11042871326208115,
           0.17604540288448334,
           -0.08297033607959747,
           -0.10672997683286667,
           -0.06232592836022377,
           -0.038938477635383606,
           -0.07820837199687958,
           -0.21065430343151093,
           -0.2062491476535797,
           -0.20602306723594666,
           -0.200987309217453,
           -0.07068359106779099,
           0.04946203529834747,
           0.18975256383419037,
           0.11182055622339249
          ],
          [
           0,
           0.08492858707904816,
           0.1104421392083168,
           0.17917676270008087,
           -0.08287182450294495,
           -0.10689953714609146,
           -0.062434203922748566,
           -0.038914795964956284,
           -0.07823877036571503,
           -0.2105744630098343,
           -0.206098273396492,
           -0.20585742592811584,
           -0.2009594738483429,
           -0.07076049596071243,
           0.04939001426100731,
           0.19327929615974426,
           0.11159253120422363
          ],
          [
           0,
           0.08963354676961899,
           0.11896166950464249,
           0.18923021852970123,
           -0.08558813482522964,
           -0.13897143304347992,
           -0.07078772038221359,
           -0.041816771030426025,
           -0.08573144674301147,
           -0.23132044076919556,
           -0.22506871819496155,
           -0.21387633681297302,
           -0.18618786334991455,
           -0.054585084319114685,
           0.04161376878619194,
           0.19273144006729126,
           0.11862939596176147
          ],
          [
           0,
           0.0894603282213211,
           0.11912854015827179,
           0.2003055363893509,
           -0.08464062213897705,
           -0.15553539991378784,
           -0.0839541032910347,
           -0.04370129480957985,
           -0.09038903564214706,
           -0.2458331286907196,
           -0.24198168516159058,
           -0.22058521211147308,
           -0.18412084877490997,
           -0.03660974279046059,
           0.0370936281979084,
           0.20087255537509918,
           0.1397887021303177
          ],
          [
           0,
           0.09031140059232712,
           0.11889440566301346,
           0.19830211997032166,
           -0.08453332632780075,
           -0.1759362816810608,
           -0.12498657405376434,
           -0.048606567084789276,
           -0.10263317823410034,
           -0.2639691233634949,
           -0.2609080672264099,
           -0.2302851527929306,
           -0.18286365270614624,
           -0.0332493893802166,
           0.022023437544703484,
           0.19580139219760895,
           0.1467423141002655
          ],
          [
           0,
           0.09175341576337814,
           0.12697753310203552,
           0.21459288895130157,
           -0.08559448271989822,
           -0.18470336496829987,
           -0.16224390268325806,
           -0.05323156714439392,
           -0.11183459311723709,
           -0.27123206853866577,
           -0.2698253095149994,
           -0.23688536882400513,
           -0.17425012588500977,
           -0.016062499955296516,
           0.007823730818927288,
           0.19666418433189392,
           0.15649548172950745
          ],
          [
           0,
           0.09175341576337814,
           0.12697753310203552,
           0.21459288895130157,
           -0.08559448271989822,
           -0.18470336496829987,
           -0.16224390268325806,
           -0.05323156714439392,
           -0.11183459311723709,
           -0.27123206853866577,
           -0.2698253095149994,
           -0.23688550293445587,
           -0.17425024509429932,
           -0.016062499955296516,
           0.007823730818927288,
           0.19666418433189392,
           0.15649548172950745
          ],
          [
           0,
           0.09402001649141312,
           0.13956372439861298,
           0.23792700469493866,
           -0.08760766685009003,
           -0.19706286489963531,
           -0.265133798122406,
           -0.06493481248617172,
           -0.1328279972076416,
           -0.3044353127479553,
           -0.30387842655181885,
           -0.257718026638031,
           -0.17856396734714508,
           -0.003436645492911339,
           -0.015246826224029064,
           0.19776953756809235,
           0.1592528074979782
          ],
          [
           0,
           0.09303174167871475,
           0.1496392786502838,
           0.26018261909484863,
           -0.08656005561351776,
           -0.19625414907932281,
           -0.2948973476886749,
           -0.0645134299993515,
           -0.13168200850486755,
           -0.30275022983551025,
           -0.3063187301158905,
           -0.25992944836616516,
           -0.18406066298484802,
           -0.00416479492560029,
           -0.010463867336511612,
           0.1881391555070877,
           0.1533365547657013
          ],
          [
           0,
           0.09253711253404617,
           0.14962366223335266,
           0.2795620858669281,
           -0.0856153592467308,
           -0.19139891862869263,
           -0.30554845929145813,
           -0.06955737620592117,
           -0.14150525629520416,
           -0.3148558437824249,
           -0.3181898295879364,
           -0.2631281614303589,
           -0.1877618432044983,
           -0.012362427078187466,
           -0.025632446631789207,
           0.18795569241046906,
           0.14133910834789276
          ],
          [
           0,
           0.0927746593952179,
           0.16593065857887268,
           0.30932867527008057,
           -0.08597277849912643,
           -0.186097651720047,
           -0.2911960482597351,
           -0.06853186339139938,
           -0.13991418480873108,
           -0.30030810832977295,
           -0.3008193373680115,
           -0.2622498869895935,
           -0.19618932902812958,
           -0.03532446175813675,
           -0.021762818098068237,
           0.19186937808990479,
           0.13770751655101776
          ],
          [
           0,
           0.09279821813106537,
           0.1658940464258194,
           0.3094328045845032,
           -0.08596484363079071,
           -0.1859472692012787,
           -0.29106420278549194,
           -0.06859252601861954,
           -0.13965576887130737,
           -0.3002544045448303,
           -0.3007778227329254,
           -0.262144535779953,
           -0.19613952934741974,
           -0.03513146936893463,
           -0.021782591938972473,
           0.1917407214641571,
           0.13759900629520416
          ],
          [
           0,
           0.09273645281791687,
           0.1989320069551468,
           0.38559064269065857,
           -0.08749804645776749,
           -0.14221741259098053,
           -0.22187793254852295,
           -0.06646374613046646,
           -0.12700268626213074,
           -0.2825920283794403,
           -0.28331419825553894,
           -0.2730228304862976,
           -0.2527642846107483,
           -0.11213928461074829,
           0.008356933481991291,
           0.17112915217876434,
           0.07710973918437958
          ],
          [
           0,
           0.08666625618934631,
           0.22304747998714447,
           0.42430761456489563,
           -0.08244079351425171,
           -0.12397155910730362,
           -0.184220090508461,
           -0.06049841269850731,
           -0.11568493396043777,
           -0.26818516850471497,
           -0.2649499475955963,
           -0.2513466775417328,
           -0.28214794397354126,
           -0.27309325337409973,
           0.015193847939372063,
           0.13165198266506195,
           -0.027912110090255737
          ],
          [
           0,
           -0.07240503281354904,
           -0.12231884896755219,
           -0.15535949170589447,
           0.06476269662380219,
           0.19968152046203613,
           0.4237862527370453,
           -0.0715961903333664,
           -0.15598535537719727,
           -0.2840367555618286,
           -0.2941237688064575,
           -0.07168884575366974,
           -0.029929688200354576,
           -0.3049784004688263,
           -0.23557433485984802,
           -0.3603159189224243,
           -0.31504565477371216
          ],
          [
           0,
           0.07121508568525314,
           0.21494506299495697,
           0.45167121291160583,
           -0.06628967076539993,
           -0.12412109225988388,
           -0.14030858874320984,
           -0.05961999669671059,
           -0.12587732076644897,
           -0.2705255150794983,
           -0.2663806080818176,
           -0.1864294409751892,
           -0.3881363570690155,
           -0.4029799699783325,
           -0.06992688030004501,
           -0.04397900402545929,
           -0.26228150725364685
          ],
          [
           0,
           0.07117175310850143,
           0.21492566168308258,
           0.4516565501689911,
           -0.0662834495306015,
           -0.12430639564990997,
           -0.13960132002830505,
           -0.05965002626180649,
           -0.12600646913051605,
           -0.27084729075431824,
           -0.2666192650794983,
           -0.18685656785964966,
           -0.38828808069229126,
           -0.4031079113483429,
           -0.06995873898267746,
           -0.0439768061041832,
           -0.26266175508499146
          ],
          [
           0,
           0.06260912865400314,
           0.17406262457370758,
           0.4254361689090729,
           -0.05742065608501434,
           -0.1279931664466858,
           -0.12183508276939392,
           -0.04930078238248825,
           -0.10032116621732712,
           -0.26408568024635315,
           -0.2715816795825958,
           -0.08769726753234863,
           -0.30332738161087036,
           -0.47428271174430847,
           -0.1128227561712265,
           -0.23901818692684174,
           -0.4773668348789215
          ],
          [
           0,
           0.05824218690395355,
           0.14350928366184235,
           0.3900877833366394,
           -0.0525820329785347,
           -0.1263713389635086,
           -0.12077563256025314,
           -0.05435851961374283,
           -0.11170251667499542,
           -0.2688908576965332,
           -0.27105772495269775,
           -0.11076037585735321,
           -0.31118297576904297,
           -0.49980077147483826,
           -0.1092836931347847,
           -0.30016857385635376,
           -0.5174976587295532
          ],
          [
           0,
           0.05462341383099556,
           0.1338168978691101,
           0.37793800234794617,
           -0.05045397952198982,
           -0.12796728312969208,
           -0.11087841540575027,
           -0.05105554312467575,
           -0.10646447539329529,
           -0.26840099692344666,
           -0.2761951982975006,
           -0.09529419243335724,
           -0.3267763555049896,
           -0.5123331546783447,
           -0.11974731087684631,
           -0.34302783012390137,
           -0.5576283931732178
          ],
          [
           0,
           0.06270226836204529,
           0.12579345703125,
           0.3610367476940155,
           -0.05726953223347664,
           -0.12417846918106079,
           -0.09608788788318634,
           -0.048915162682533264,
           -0.10178820788860321,
           -0.2714614272117615,
           -0.2751988470554352,
           -0.09185070544481277,
           -0.3076184093952179,
           -0.4986332952976227,
           -0.11155261099338531,
           -0.35956433415412903,
           -0.5542593002319336
          ],
          [
           0,
           0.0627276599407196,
           0.12583935260772705,
           0.3611299991607666,
           -0.05729760602116585,
           -0.12414001673460007,
           -0.09600012004375458,
           -0.048949096351861954,
           -0.10180310159921646,
           -0.27480432391166687,
           -0.2787962555885315,
           -0.09171216189861298,
           -0.3074711859226227,
           -0.4984374940395355,
           -0.1115107387304306,
           -0.36336925625801086,
           -0.553573727607727
          ],
          [
           0,
           0.05729394406080246,
           0.0967392548918724,
           0.30727294087409973,
           -0.0514974370598793,
           -0.11439550668001175,
           -0.06891430914402008,
           -0.050413452088832855,
           -0.10686694085597992,
           -0.27718982100486755,
           -0.28209972381591797,
           -0.10849279910326004,
           -0.3055616319179535,
           -0.47257447242736816,
           -0.09737195074558258,
           -0.34669360518455505,
           -0.4994276165962219
          ],
          [
           0,
           0.056693848222494125,
           0.08397253602743149,
           0.2859247922897339,
           -0.05055529624223709,
           -0.1091160923242569,
           -0.05431945621967316,
           -0.05368933081626892,
           -0.11540734767913818,
           -0.2719012498855591,
           -0.27674779295921326,
           -0.13742834329605103,
           -0.30839452147483826,
           -0.46788257360458374,
           -0.08350549638271332,
           -0.31886181235313416,
           -0.4570218622684479
          ],
          [
           0,
           0.05796557664871216,
           0.06343884021043777,
           0.2677094638347626,
           -0.05050891265273094,
           -0.10187866538763046,
           -0.04126635566353798,
           -0.051506590098142624,
           -0.12061352282762527,
           -0.2592756450176239,
           -0.26364171504974365,
           -0.15841101109981537,
           -0.30271458625793457,
           -0.4411953091621399,
           -0.07072106748819351,
           -0.25492480397224426,
           -0.38691601157188416
          ],
          [
           0,
           0.05667516961693764,
           0.053706541657447815,
           0.2573644518852234,
           -0.050749633461236954,
           -0.0979171171784401,
           -0.03220446780323982,
           -0.04912060499191284,
           -0.11481676995754242,
           -0.25121399760246277,
           -0.255946546792984,
           -0.1610105037689209,
           -0.29109901189804077,
           -0.4177338778972626,
           -0.05771838501095772,
           -0.2185491919517517,
           -0.34113892912864685
          ],
          [
           0,
           0.056721922010183334,
           0.05368689075112343,
           0.25735217332839966,
           -0.05080590769648552,
           -0.0979321300983429,
           -0.032194945961236954,
           -0.04910046234726906,
           -0.11494909971952438,
           -0.2510862946510315,
           -0.25587865710258484,
           -0.16127368807792664,
           -0.29177746176719666,
           -0.41843846440315247,
           -0.05793505907058716,
           -0.21870580315589905,
           -0.34120386838912964
          ],
          [
           0,
           0.0525200180709362,
           0.01847509853541851,
           0.2221347689628601,
           -0.047727782279253006,
           -0.08458971977233887,
           -0.0066950684413313866,
           -0.03805126994848251,
           -0.09238464385271072,
           -0.2220126986503601,
           -0.22682274878025055,
           -0.13198424875736237,
           -0.25430163741111755,
           -0.35982581973075867,
           -0.0411684587597847,
           -0.1917702704668045,
           -0.3207116723060608
          ],
          [
           0,
           0.04740234464406967,
           -0.0019820556044578552,
           0.19684496521949768,
           -0.043867554515600204,
           -0.08147680759429932,
           -0.0021901854779571295,
           -0.03769873082637787,
           -0.0851459950208664,
           -0.21419189870357513,
           -0.22049963474273682,
           -0.11194323748350143,
           -0.24358996748924255,
           -0.3363415598869324,
           -0.048292357474565506,
           -0.21828027069568634,
           -0.32526451349258423
          ],
          [
           0,
           0.04570910707116127,
           -0.020369507372379303,
           0.17994201183319092,
           -0.042430296540260315,
           -0.08145971596240997,
           0.003094238229095936,
           -0.03337964043021202,
           -0.07744043320417404,
           -0.20556335151195526,
           -0.20933349430561066,
           -0.10916296392679214,
           -0.2330750674009323,
           -0.32695019245147705,
           -0.033507201820611954,
           -0.18863171339035034,
           -0.30186474323272705
          ],
          [
           0,
           0.044440675526857376,
           -0.02558605931699276,
           0.16926135122776031,
           -0.04239856079220772,
           -0.06980907917022705,
           0.00948010291904211,
           -0.031092530116438866,
           -0.07212170213460922,
           -0.19507360458374023,
           -0.20082324743270874,
           -0.10032275319099426,
           -0.22206640243530273,
           -0.307461678981781,
           -0.035395994782447815,
           -0.18952783942222595,
           -0.2943665683269501
          ],
          [
           0,
           0.04444323852658272,
           -0.025670776143670082,
           0.169173464179039,
           -0.042347412556409836,
           -0.06996508687734604,
           0.005560546647757292,
           -0.03233020007610321,
           -0.07441198825836182,
           -0.19591198861598969,
           -0.20350658893585205,
           -0.10140979290008545,
           -0.2224147915840149,
           -0.3081704080104828,
           -0.040403686463832855,
           -0.19389794766902924,
           -0.29841968417167664
          ],
          [
           0,
           0.03453906252980232,
           -0.05852575600147247,
           0.12597216665744781,
           -0.030775513499975204,
           -0.08532287925481796,
           0.011848877184092999,
           -0.02970007248222828,
           -0.0673350840806961,
           -0.19076672196388245,
           -0.19945251941680908,
           -0.07970007508993149,
           -0.20064306259155273,
           -0.293243408203125,
           -0.04930810630321503,
           -0.1961376965045929,
           -0.2942194938659668
          ],
          [
           0,
           0.029164550825953484,
           -0.06294384598731995,
           0.12974268198013306,
           -0.026746826246380806,
           -0.08161767572164536,
           0.01918640173971653,
           -0.01673034578561783,
           -0.03649365156888962,
           -0.18288366496562958,
           -0.19138562679290771,
           -0.01705285720527172,
           -0.1559564173221588,
           -0.2742481827735901,
           -0.047571901232004166,
           -0.2006533145904541,
           -0.29879724979400635
          ],
          [
           0,
           0.03182629495859146,
           -0.06619226187467575,
           0.12683556973934174,
           -0.028642211109399796,
           -0.08381884545087814,
           0.01280529797077179,
           -0.01973852515220642,
           -0.0429544672369957,
           -0.18144188821315765,
           -0.18936291337013245,
           -0.029884276911616325,
           -0.16510571539402008,
           -0.27539685368537903,
           -0.048362791538238525,
           -0.20212732255458832,
           -0.3000166118144989
          ],
          [
           0,
           0.0317685529589653,
           -0.05969543382525444,
           0.12865124642848969,
           -0.02938549779355526,
           -0.07998840510845184,
           0.022798461839556694,
           -0.01715710386633873,
           -0.039091676473617554,
           -0.1733127385377884,
           -0.18294982612133026,
           -0.026473267003893852,
           -0.16913951933383942,
           -0.26637449860572815,
           -0.04697619751095772,
           -0.19345398247241974,
           -0.2841578423976898
          ],
          [
           0,
           0.0317838117480278,
           -0.05972033739089966,
           0.1286645531654358,
           -0.029384642839431763,
           -0.0800187960267067,
           0.022810302674770355,
           -0.01716284267604351,
           -0.03909655660390854,
           -0.17329639196395874,
           -0.18294531106948853,
           -0.026515381410717964,
           -0.16909997165203094,
           -0.266387939453125,
           -0.046916138380765915,
           -0.19361144304275513,
           -0.2844821810722351
          ],
          [
           0,
           0.025965454056859016,
           -0.06161242723464966,
           0.12586620450019836,
           -0.023903442546725273,
           -0.07837317138910294,
           0.021033814176917076,
           -0.017115356400609016,
           -0.03868481516838074,
           -0.170594722032547,
           -0.17598217725753784,
           -0.02395019493997097,
           -0.16603527963161469,
           -0.2629733979701996,
           -0.04897412285208702,
           -0.18708203732967377,
           -0.2776395380496979
          ],
          [
           0,
           0.03058129921555519,
           -0.06452404707670212,
           0.11850500851869583,
           -0.02740759216248989,
           -0.07663635164499283,
           0.022310668602585793,
           -0.022596191614866257,
           -0.05220678821206093,
           -0.167375847697258,
           -0.17380529642105103,
           -0.05791918933391571,
           -0.1878485083580017,
           -0.2702424228191376,
           -0.03995995968580246,
           -0.17778466641902924,
           -0.2721990942955017
          ],
          [
           0,
           0.020316772162914276,
           -0.07561755180358887,
           0.10938635468482971,
           -0.017509886994957924,
           -0.0798322781920433,
           0.022660765796899796,
           -0.02005908265709877,
           -0.04578747600317001,
           -0.16832372546195984,
           -0.17531506717205048,
           -0.03655761852860451,
           -0.18260900676250458,
           -0.2677491307258606,
           -0.050373900681734085,
           -0.18862609565258026,
           -0.27469995617866516
          ],
          [
           0,
           0.020927002653479576,
           -0.07885424792766571,
           0.10465917736291885,
           -0.017781127244234085,
           -0.07940918207168579,
           0.022770142182707787,
           -0.01952221617102623,
           -0.04516809061169624,
           -0.16357922554016113,
           -0.16824011504650116,
           -0.04266442731022835,
           -0.1745711714029312,
           -0.2590251564979553,
           -0.04112597554922104,
           -0.18338757753372192,
           -0.27431824803352356
          ],
          [
           0,
           0.022647827863693237,
           -0.0768112763762474,
           0.10534241050481796,
           -0.019282104447484016,
           -0.08096472173929214,
           0.020933348685503006,
           -0.020345458760857582,
           -0.04793945327401161,
           -0.16249573230743408,
           -0.16914355754852295,
           -0.045570068061351776,
           -0.1832304745912552,
           -0.26523229479789734,
           -0.043797239661216736,
           -0.18199670314788818,
           -0.2724873125553131
          ],
          [
           0,
           0.02271130308508873,
           -0.07674365490674973,
           0.10533532500267029,
           -0.019267944619059563,
           -0.08093445003032684,
           0.020921997725963593,
           -0.02021118253469467,
           -0.0476984865963459,
           -0.16240954399108887,
           -0.16701367497444153,
           -0.045274291187524796,
           -0.18338452279567719,
           -0.26524049043655396,
           -0.043583985418081284,
           -0.1819600760936737,
           -0.2725170850753784
          ],
          [
           0,
           0.02271130308508873,
           -0.07674365490674973,
           0.10533557087182999,
           -0.019267944619059563,
           -0.08093445003032684,
           0.020921753719449043,
           -0.02021118253469467,
           -0.0476984865963459,
           -0.16240954399108887,
           -0.16701379418373108,
           -0.045274291187524796,
           -0.18338452279567719,
           -0.2652406096458435,
           -0.043584104627370834,
           -0.1819600760936737,
           -0.2725170850753784
          ],
          [
           0,
           0.022908570244908333,
           -0.07654076814651489,
           0.1016099825501442,
           -0.019395751878619194,
           -0.08455798029899597,
           0.017522338777780533,
           -0.020221436396241188,
           -0.04775012284517288,
           -0.16572777926921844,
           -0.17049658298492432,
           -0.04886523261666298,
           -0.18334533274173737,
           -0.2688029706478119,
           -0.039024535566568375,
           -0.1811722368001938,
           -0.2758205533027649
          ],
          [
           0,
           0.024732299149036407,
           -0.0745231956243515,
           0.10677685588598251,
           -0.02124670334160328,
           -0.07895264029502869,
           0.019859375432133675,
           -0.020192870870232582,
           -0.047725096344947815,
           -0.16431470215320587,
           -0.1688498556613922,
           -0.04722509905695915,
           -0.18563024699687958,
           -0.2670687139034271,
           -0.04128674417734146,
           -0.1797591596841812,
           -0.27434179186820984
          ],
          [
           0,
           0.024776123464107513,
           -0.07368554919958115,
           0.10397155582904816,
           -0.021233154460787773,
           -0.08174475282430649,
           0.0200656745582819,
           -0.02016577124595642,
           -0.04779443517327309,
           -0.16791942715644836,
           -0.1725882589817047,
           -0.0470728762447834,
           -0.1857457309961319,
           -0.26671192049980164,
           -0.04116198793053627,
           -0.17931127548217773,
           -0.26985377073287964
          ],
          [
           0,
           0.024776123464107513,
           -0.073685422539711,
           0.1039716824889183,
           -0.021233031526207924,
           -0.08174462616443634,
           0.0200657956302166,
           -0.02016565017402172,
           -0.04779431223869324,
           -0.1679193079471588,
           -0.17258861660957336,
           -0.0470726303756237,
           -0.18574561178684235,
           -0.26671192049980164,
           -0.04116186499595642,
           -0.17931127548217773,
           -0.2698536515235901
          ],
          [
           0,
           0.024769164621829987,
           -0.07368969917297363,
           0.10394592583179474,
           -0.021226929500699043,
           -0.08175317198038101,
           0.02004113793373108,
           -0.020192749798297882,
           -0.0478360578417778,
           -0.16793334484100342,
           -0.17260363698005676,
           -0.04710913076996803,
           -0.1855277121067047,
           -0.26676905155181885,
           -0.04121740907430649,
           -0.17930687963962555,
           -0.26986974477767944
          ],
          [
           0,
           0.02479284629225731,
           -0.07371264696121216,
           0.10395239293575287,
           -0.021221434697508812,
           -0.08180712908506393,
           0.02006518468260765,
           -0.020180298015475273,
           -0.047789305448532104,
           -0.16785070300102234,
           -0.17453308403491974,
           -0.047026246786117554,
           -0.1854580044746399,
           -0.2667098343372345,
           -0.04113525524735451,
           -0.17925536632537842,
           -0.2698172628879547
          ],
          [
           0,
           0.02479260228574276,
           -0.07371240109205246,
           0.10395251214504242,
           -0.021221313625574112,
           -0.08180700987577438,
           0.0200653076171875,
           -0.020180419087409973,
           -0.047789305448532104,
           -0.1678505837917328,
           -0.1745329648256302,
           -0.047026246786117554,
           -0.18545788526535034,
           -0.2667098343372345,
           -0.04113513231277466,
           -0.17925524711608887,
           -0.26981714367866516
          ],
          [
           0,
           0.02479284629225731,
           -0.07371240109205246,
           0.10395263880491257,
           -0.021221313625574112,
           -0.08180688321590424,
           0.02006543055176735,
           -0.020180175080895424,
           -0.047789186239242554,
           -0.1678505837917328,
           -0.17453283071517944,
           -0.047026123851537704,
           -0.18545788526535034,
           -0.26670971512794495,
           -0.04113500937819481,
           -0.17925512790679932,
           -0.2698170244693756
          ],
          [
           0,
           0.02479284629225731,
           -0.07371240109205246,
           0.10395263880491257,
           -0.021221313625574112,
           -0.08180688321590424,
           0.02006543055176735,
           -0.020180175080895424,
           -0.047789186239242554,
           -0.1678505837917328,
           -0.17453283071517944,
           -0.047026123851537704,
           -0.18545788526535034,
           -0.26670971512794495,
           -0.04113500937819481,
           -0.17925512790679932,
           -0.2698170244693756
          ],
          [
           0,
           0.02479284629225731,
           -0.07371240109205246,
           0.10395263880491257,
           -0.021221313625574112,
           -0.08180688321590424,
           0.02006543055176735,
           -0.020180175080895424,
           -0.047789186239242554,
           -0.1678505837917328,
           -0.17453283071517944,
           -0.047026123851537704,
           -0.18545788526535034,
           -0.26670971512794495,
           -0.04113500937819481,
           -0.17925512790679932,
           -0.2698170244693756
          ],
          [
           0,
           0.02479284629225731,
           -0.07371240109205246,
           0.10395263880491257,
           -0.021221313625574112,
           -0.08180688321590424,
           0.02006543055176735,
           -0.020180175080895424,
           -0.047789186239242554,
           -0.1678505837917328,
           -0.17453283071517944,
           -0.047026123851537704,
           -0.18545788526535034,
           -0.26670971512794495,
           -0.04113500937819481,
           -0.17925512790679932,
           -0.2698170244693756
          ],
          [
           0,
           0.02479284629225731,
           -0.07371240109205246,
           0.10395263880491257,
           -0.021221313625574112,
           -0.08180688321590424,
           0.02006543055176735,
           -0.020180175080895424,
           -0.047789186239242554,
           -0.1678505837917328,
           -0.17453283071517944,
           -0.047026123851537704,
           -0.18545788526535034,
           -0.26670971512794495,
           -0.04113500937819481,
           -0.17925512790679932,
           -0.2698170244693756
          ]
         ],
         "y": [
          [
           0,
           -0.028070135042071342,
           0.02510567009449005,
           0.06236177682876587,
           0.02711648866534233,
           0.06208706647157669,
           0.1063152477145195,
           0.002464859513565898,
           -0.07203838974237442,
           -0.10775880515575409,
           -0.09820108115673065,
           -0.038591418415308,
           0.00587283493950963,
           0.0685657188296318,
           -0.032850779592990875,
           0.008652536198496819,
           -0.034645188599824905
          ],
          [
           0,
           -0.030101073905825615,
           0.021642440930008888,
           0.06013486534357071,
           0.02866559848189354,
           0.06125412881374359,
           0.10593206435441971,
           0.003391249105334282,
           -0.06747644394636154,
           -0.10376274585723877,
           -0.09278333932161331,
           -0.031057273969054222,
           0.011759710498154163,
           0.0681263878941536,
           -0.03448500484228134,
           -0.003242356702685356,
           -0.04511813819408417
          ],
          [
           0,
           -0.03380797058343887,
           0.02118559554219246,
           0.05863325297832489,
           0.029921164736151695,
           0.06270646303892136,
           0.10857321321964264,
           0.002010245341807604,
           -0.07110439985990524,
           -0.10844898223876953,
           -0.09813152253627777,
           -0.03297396004199982,
           0.011097365990281105,
           0.06852271407842636,
           -0.03538839519023895,
           0.009846046566963196,
           -0.031232887879014015
          ],
          [
           0,
           -0.03365670517086983,
           0.021807704120874405,
           0.062214095145463943,
           0.030981631949543953,
           0.06209179386496544,
           0.10904588550329208,
           0.001181421335786581,
           -0.0716366097331047,
           -0.10904823988676071,
           -0.09986312687397003,
           -0.03656840696930885,
           0.0075472439639270306,
           0.06630504131317139,
           -0.036356840282678604,
           0.004708920605480671,
           -0.03323812782764435
          ],
          [
           0,
           -0.030278075486421585,
           0.022360188886523247,
           0.05969339609146118,
           0.028962891548871994,
           0.06337451189756393,
           0.10949753224849701,
           0.0023750190157443285,
           -0.07069943100214005,
           -0.10846664011478424,
           -0.09846162050962448,
           -0.035300422459840775,
           0.007716953754425049,
           0.06755959242582321,
           -0.03455977886915207,
           0.005640998017042875,
           -0.03323417156934738
          ],
          [
           0,
           -0.03676599636673927,
           0.020915847271680832,
           0.059668827801942825,
           0.03040003776550293,
           0.06799333542585373,
           0.11555531620979309,
           -0.0013826846843585372,
           -0.07296860218048096,
           -0.11304833739995956,
           -0.10200276225805283,
           -0.03522646054625511,
           0.01005551777780056,
           0.05671265348792076,
           -0.03560032323002815,
           0.016686439514160156,
           -0.01956814154982567
          ],
          [
           0,
           -0.03706736862659454,
           0.021612072363495827,
           0.0596100315451622,
           0.03051201067864895,
           0.06905443966388702,
           0.1139492616057396,
           -0.001652689534239471,
           -0.07346609234809875,
           -0.11409048736095428,
           -0.10367961972951889,
           -0.037067726254463196,
           0.011005210690200329,
           0.055015258491039276,
           -0.035483699291944504,
           0.017941303551197052,
           -0.01499534584581852
          ],
          [
           0,
           -0.03833974525332451,
           0.019468912854790688,
           0.056875478476285934,
           0.03383451700210571,
           0.06839188188314438,
           0.11230055242776871,
           -0.00344660272821784,
           -0.07975438982248306,
           -0.11958616971969604,
           -0.1117577999830246,
           -0.04196228086948395,
           0.0038121449761092663,
           0.04426049813628197,
           -0.03849709779024124,
           0.025790013372898102,
           -0.008708667941391468
          ],
          [
           0,
           -0.03620018810033798,
           0.01971493847668171,
           0.055608443915843964,
           0.03519053757190704,
           0.06860063225030899,
           0.11033204942941666,
           -0.003686237381771207,
           -0.0844411626458168,
           -0.1244473084807396,
           -0.12030968070030212,
           -0.04378875717520714,
           0.008104252628982067,
           0.04707016795873642,
           -0.04189812391996384,
           0.02220441773533821,
           -0.007979044690728188
          ],
          [
           0,
           -0.03578724339604378,
           0.019866378977894783,
           0.055659178644418716,
           0.035472799092531204,
           0.06891850382089615,
           0.1106104701757431,
           -0.0036474207881838083,
           -0.0844074934720993,
           -0.12423838675022125,
           -0.11943938583135605,
           -0.04452270269393921,
           -0.0005877334042452276,
           0.038848452270030975,
           -0.0406876802444458,
           0.023624112829566002,
           -0.007344417739659548
          ],
          [
           0,
           -0.03571409732103348,
           0.01263238675892353,
           0.05499263107776642,
           0.036850836127996445,
           0.06381230056285858,
           0.11208976805210114,
           -0.0045004794374108315,
           -0.0911485105752945,
           -0.13444384932518005,
           -0.12615162134170532,
           -0.045876648277044296,
           -0.006916331127285957,
           0.015580070205032825,
           -0.0439894013106823,
           0.03888526186347008,
           0.022213265299797058
          ],
          [
           0,
           -0.042994119226932526,
           0.01674470491707325,
           0.05293828994035721,
           0.04114232584834099,
           0.06841253489255905,
           0.11189629137516022,
           -0.01059019099920988,
           -0.09762899577617645,
           -0.13909104466438293,
           -0.13715139031410217,
           -0.05054545775055885,
           -0.010805773548781872,
           -0.004233707673847675,
           -0.04855584725737572,
           0.04232475534081459,
           0.03586754575371742
          ],
          [
           0,
           -0.0429895855486393,
           0.014333857223391533,
           0.05021446943283081,
           0.04112560302019119,
           0.06386495381593704,
           0.11045318841934204,
           -0.010485328733921051,
           -0.09750944375991821,
           -0.14074087142944336,
           -0.13470086455345154,
           -0.049615856260061264,
           -0.01039708312600851,
           -0.019720803946256638,
           -0.049433160573244095,
           0.047679804265499115,
           0.04017520323395729
          ],
          [
           0,
           -0.04730485379695892,
           0.014264917001128197,
           0.04840630292892456,
           0.046275120228528976,
           0.06372546404600143,
           0.10997234284877777,
           -0.015121696516871452,
           -0.10740265995264053,
           -0.14917586743831635,
           -0.14520743489265442,
           -0.06074044108390808,
           -0.02910279855132103,
           -0.04124971106648445,
           -0.05525439977645874,
           0.05701081082224846,
           0.056362319737672806
          ],
          [
           0,
           -0.04817507788538933,
           0.014367404393851757,
           0.05050026625394821,
           0.04681774228811264,
           0.06402662396430969,
           0.11025945842266083,
           -0.014697565697133541,
           -0.10633161664009094,
           -0.14808990061283112,
           -0.14503146708011627,
           -0.05923473834991455,
           -0.026261555030941963,
           -0.03789239376783371,
           -0.055909667164087296,
           0.05163121968507767,
           0.05398014560341835
          ],
          [
           0,
           -0.048795394599437714,
           0.006231946870684624,
           0.03867504745721817,
           0.05091840401291847,
           0.06706809252500534,
           0.11558301001787186,
           -0.01617252640426159,
           -0.11057224869728088,
           -0.1574479043483734,
           -0.15677818655967712,
           -0.059217244386672974,
           -0.023077480494976044,
           -0.000647263543214649,
           -0.06951181590557098,
           0.05103513225913048,
           0.05986423417925835
          ],
          [
           0,
           -0.0556611642241478,
           -0.002654633019119501,
           0.0298323817551136,
           0.05594957247376442,
           0.0803121030330658,
           0.10962464660406113,
           -0.017738476395606995,
           -0.10844140499830246,
           -0.15887342393398285,
           -0.1612149178981781,
           -0.058132994920015335,
           -0.020855627954006195,
           0.026271594688296318,
           -0.07615968585014343,
           0.043028414249420166,
           0.051932454109191895
          ],
          [
           0,
           -0.05852009728550911,
           -0.01027265377342701,
           0.018964696675539017,
           0.058944910764694214,
           0.08267806470394135,
           0.10629516839981079,
           -0.0176031943410635,
           -0.09605531394481659,
           -0.15323205292224884,
           -0.15300703048706055,
           -0.04896640405058861,
           -0.008353076875209808,
           0.05485854670405388,
           -0.07521416246891022,
           0.0486486442387104,
           0.05154487118124962
          ],
          [
           0,
           -0.05772941932082176,
           -0.010019869543612003,
           0.015159484930336475,
           0.05917850509285927,
           0.08525442332029343,
           0.10139551013708115,
           -0.018302137032151222,
           -0.10011888295412064,
           -0.15512967109680176,
           -0.15333473682403564,
           -0.048503972589969635,
           -0.028226271271705627,
           0.03791288658976555,
           -0.0795954167842865,
           0.04348153620958328,
           0.055652692914009094
          ],
          [
           0,
           -0.057729434221982956,
           -0.010019875131547451,
           0.015159440226852894,
           0.05917850136756897,
           0.0852544754743576,
           0.10139548033475876,
           -0.01830211840569973,
           -0.1001189798116684,
           -0.15512976050376892,
           -0.1533348709344864,
           -0.048504047095775604,
           -0.02822636067867279,
           0.03791278600692749,
           -0.07959549129009247,
           0.043481454253196716,
           0.05565280839800835
          ],
          [
           0,
           -0.056026287376880646,
           -0.018746791407465935,
           -0.0010180154349654913,
           0.05943377688527107,
           0.08905084431171417,
           0.11648894101381302,
           -0.02557501755654812,
           -0.11828352510929108,
           -0.16667009890079498,
           -0.1629551500082016,
           -0.0645640417933464,
           -0.08412636816501617,
           -0.05945100635290146,
           -0.09335895627737045,
           0.02503928728401661,
           0.05298510566353798
          ],
          [
           0,
           -0.056496892124414444,
           -0.017409246414899826,
           0.00134625646751374,
           0.06023355573415756,
           0.08151355385780334,
           0.12466179579496384,
           -0.026079043745994568,
           -0.1255916953086853,
           -0.17186492681503296,
           -0.16672609746456146,
           -0.07653797417879105,
           -0.09738890081644058,
           -0.10198255628347397,
           -0.09186935424804688,
           0.05137825384736061,
           0.06717126816511154
          ],
          [
           0,
           -0.057106636464595795,
           -0.013655963353812695,
           0.007483175490051508,
           0.06081322580575943,
           0.08761683851480484,
           0.12618032097816467,
           -0.025882644578814507,
           -0.11402588337659836,
           -0.16398169100284576,
           -0.16011600196361542,
           -0.05920085310935974,
           -0.07337090373039246,
           -0.07471952587366104,
           -0.09176559746265411,
           0.022134311497211456,
           0.05512929707765579
          ],
          [
           0,
           -0.0560799203813076,
           0.0006591397686861455,
           0.026508048176765442,
           0.05960946902632713,
           0.08935809880495071,
           0.13471493124961853,
           -0.02241186611354351,
           -0.0874495878815651,
           -0.14643247425556183,
           -0.13868840038776398,
           -0.03959685191512108,
           -0.02433144487440586,
           -0.0028480433393269777,
           -0.07510481774806976,
           0.028170976787805557,
           0.05132454261183739
          ],
          [
           0,
           -0.05513763427734375,
           0.0010037361644208431,
           0.025822307914495468,
           0.05882129818201065,
           0.08895440399646759,
           0.13385333120822906,
           -0.02144704945385456,
           -0.08766226470470428,
           -0.1460571438074112,
           -0.13819433748722076,
           -0.03976789861917496,
           -0.02795664221048355,
           -0.011529427021741867,
           -0.07449474930763245,
           0.029442530125379562,
           0.05393180996179581
          ],
          [
           0,
           -0.04074932262301445,
           0.02004380337893963,
           0.04910895600914955,
           0.048362769186496735,
           0.0694403126835823,
           0.11565902829170227,
           -0.024537406861782074,
           -0.09673565626144409,
           -0.15482886135578156,
           -0.14757433533668518,
           -0.07324307411909103,
           -0.002371580572798848,
           0.03139727562665939,
           -0.08655090630054474,
           -0.011788802221417427,
           0.006902899593114853
          ],
          [
           0,
           -0.045405272394418716,
           0.006059734150767326,
           0.03785489499568939,
           0.0523998849093914,
           0.06039753556251526,
           0.10467538237571716,
           -0.037881165742874146,
           -0.15558084845542908,
           -0.1989559829235077,
           -0.21040356159210205,
           -0.09134656935930252,
           0.02555432915687561,
           -0.003364043775945902,
           -0.16952648758888245,
           -0.1830219328403473,
           -0.22453980147838593
          ],
          [
           0,
           -0.09172448515892029,
           0.040154486894607544,
           0.057539597153663635,
           0.10054553300142288,
           0.09705737233161926,
           0.09931979328393936,
           -0.01808413490653038,
           0.013350652530789375,
           -0.014196524396538734,
           -0.05737384408712387,
           0.12943030893802643,
           0.19357404112815857,
           0.09257800877094269,
           -0.10237240046262741,
           -0.17657062411308289,
           -0.05983290076255798
          ],
          [
           0,
           -0.08252349495887756,
           -0.0046806721948087215,
           0.022863125428557396,
           0.07640352100133896,
           0.09385605901479721,
           0.08843708783388138,
           -0.0579749271273613,
           -0.20042209327220917,
           -0.22688110172748566,
           -0.24713580310344696,
           -0.08943937718868256,
           -0.04271343722939491,
           -0.10494186729192734,
           -0.2761705219745636,
           -0.2820602357387543,
           -0.24831733107566833
          ],
          [
           0,
           -0.08269995450973511,
           -0.004084394779056311,
           0.024629276245832443,
           0.07648611813783646,
           0.0946434959769249,
           0.08683562278747559,
           -0.057541728019714355,
           -0.20036368072032928,
           -0.226881742477417,
           -0.247464120388031,
           -0.08964462578296661,
           -0.04200637713074684,
           -0.10348878800868988,
           -0.2760952413082123,
           -0.2825942635536194,
           -0.24882423877716064
          ],
          [
           0,
           -0.0858021154999733,
           0.003631538012996316,
           0.035111673176288605,
           0.0816178098320961,
           0.08712700009346008,
           0.08599105477333069,
           -0.03930545225739479,
           -0.12820032238960266,
           -0.1499260514974594,
           -0.18102063238620758,
           0.00981150008738041,
           0.00637382548302412,
           -0.04556165635585785,
           -0.23098692297935486,
           -0.2968848645687103,
           -0.2578711211681366
          ],
          [
           0,
           -0.08942549675703049,
           -0.011261492036283016,
           0.028112808242440224,
           0.08646383881568909,
           0.08501479774713516,
           0.06669130176305771,
           -0.04108906537294388,
           -0.13646066188812256,
           -0.16087858378887177,
           -0.1965406835079193,
           -0.0033839887473732233,
           -0.011857660487294197,
           -0.06246080622076988,
           -0.23578041791915894,
           -0.317109078168869,
           -0.24452713131904602
          ],
          [
           0,
           -0.09872861951589584,
           -0.01207876205444336,
           0.04367956146597862,
           0.09307243674993515,
           0.09308209270238876,
           0.06293924897909164,
           -0.042789749801158905,
           -0.16381561756134033,
           -0.17596834897994995,
           -0.22640301287174225,
           -0.04820592701435089,
           -0.026973040774464607,
           -0.08429183810949326,
           -0.25979962944984436,
           -0.3337976336479187,
           -0.24966244399547577
          ],
          [
           0,
           -0.09352894127368927,
           -0.010704035870730877,
           0.0547977052628994,
           0.08798905462026596,
           0.08633296936750412,
           0.06675880402326584,
           -0.041742634028196335,
           -0.15491566061973572,
           -0.1739165484905243,
           -0.21799765527248383,
           -0.03635140508413315,
           -0.029638633131980896,
           -0.08603576570749283,
           -0.25258174538612366,
           -0.3205442428588867,
           -0.24150510132312775
          ],
          [
           0,
           -0.09359704703092575,
           -0.010575661435723305,
           0.05503205209970474,
           0.0880962684750557,
           0.0867348462343216,
           0.06771494448184967,
           -0.04176218435168266,
           -0.15452644228935242,
           -0.17461684346199036,
           -0.21908053755760193,
           -0.03585297241806984,
           -0.02889489196240902,
           -0.0860900804400444,
           -0.2527787685394287,
           -0.31911298632621765,
           -0.23779296875
          ],
          [
           0,
           -0.09071272611618042,
           -0.016202537342905998,
           0.052613288164138794,
           0.08444476872682571,
           0.09111014008522034,
           0.08073200285434723,
           -0.038042403757572174,
           -0.1279706209897995,
           -0.15864889323711395,
           -0.19541025161743164,
           0.00408402644097805,
           -0.034250810742378235,
           -0.0838414654135704,
           -0.2310737669467926,
           -0.31884270906448364,
           -0.2472124695777893
          ],
          [
           0,
           -0.08652061223983765,
           -0.016062768176198006,
           0.046192582696676254,
           0.08187802135944366,
           0.09256460517644882,
           0.0887538269162178,
           -0.0334092415869236,
           -0.1085648462176323,
           -0.14473028481006622,
           -0.16938620805740356,
           0.024219434708356857,
           -0.03668409585952759,
           -0.06287744641304016,
           -0.212631955742836,
           -0.32061049342155457,
           -0.24321585893630981
          ],
          [
           0,
           -0.0831926092505455,
           -0.015679290518164635,
           0.055554866790771484,
           0.0779624804854393,
           0.08675599098205566,
           0.10761649906635284,
           0.0039725578390061855,
           0.02406805008649826,
           -0.018246149644255638,
           -0.014344156719744205,
           0.10884521156549454,
           0.12471257150173187,
           0.05618661642074585,
           -0.05253876373171806,
           -0.12218330055475235,
           -0.06827958673238754
          ],
          [
           0,
           -0.08682020753622055,
           -0.024509336799383163,
           0.05580294877290726,
           0.07972108572721481,
           0.09381607919931412,
           0.10970916599035263,
           0.005453288089483976,
           0.0416465625166893,
           -0.010298453271389008,
           -0.004009518772363663,
           0.11322885006666183,
           0.0712679773569107,
           0.0249805711209774,
           -0.01682923175394535,
           -0.1051173284649849,
           -0.05428007245063782
          ],
          [
           0,
           -0.0866536870598793,
           -0.02418314293026924,
           0.05636849254369736,
           0.07965630292892456,
           0.09451106935739517,
           0.11069761961698532,
           0.005826289765536785,
           0.044360850006341934,
           -0.007688503246754408,
           -0.001382532063871622,
           0.11452899873256683,
           0.06112369894981384,
           0.018113136291503906,
           -0.014099912717938423,
           -0.1038796678185463,
           -0.05479300767183304
          ],
          [
           0,
           -0.08525869995355606,
           -0.021161697804927826,
           0.04142818599939346,
           0.07881778478622437,
           0.0876474380493164,
           0.10730782896280289,
           0.006071334704756737,
           0.024528639391064644,
           -0.0147628765553236,
           -0.012115459889173508,
           0.11260697990655899,
           0.11354705691337585,
           0.058052003383636475,
           -0.04104962199926376,
           -0.11745557934045792,
           -0.05600930005311966
          ],
          [
           0,
           -0.08666671067476273,
           -0.013279017060995102,
           0.024930359795689583,
           0.0837445929646492,
           0.08973318338394165,
           0.10068371146917343,
           -0.0064894771203398705,
           -0.03963964805006981,
           -0.06830115616321564,
           -0.08951736241579056,
           0.07541556656360626,
           0.07060420513153076,
           0.00550379091873765,
           -0.13155487179756165,
           -0.2456418126821518,
           -0.17091794312000275
          ],
          [
           0,
           -0.08966703712940216,
           -0.01730506308376789,
           0.015148934908211231,
           0.08665107935667038,
           0.09223061800003052,
           0.09684573113918304,
           -0.00045458495151251554,
           -0.029453711584210396,
           -0.0572604164481163,
           -0.0700904130935669,
           0.08557979017496109,
           0.07353366166353226,
           0.014993872493505478,
           -0.11648784577846527,
           -0.22447234392166138,
           -0.17439182102680206
          ],
          [
           0,
           -0.08972306549549103,
           -0.020358435809612274,
           0.0015660123899579048,
           0.08643339574337006,
           0.09360592067241669,
           0.11156658828258514,
           -0.0018722451059147716,
           -0.03387778624892235,
           -0.0576121062040329,
           -0.07813796401023865,
           0.08124545961618423,
           0.05620546638965607,
           0.006464854348450899,
           -0.12451247870922089,
           -0.22591525316238403,
           -0.17436224222183228
          ],
          [
           0,
           -0.09045202285051346,
           -0.02125968597829342,
           0.00025143398670479655,
           0.08662453293800354,
           0.09387026727199554,
           0.11091437935829163,
           -0.004509099759161472,
           -0.03833295404911041,
           -0.061482079327106476,
           -0.08511639386415482,
           0.07674477994441986,
           0.05736696347594261,
           0.0040169269777834415,
           -0.1317811757326126,
           -0.23130881786346436,
           -0.17618097364902496
          ],
          [
           0,
           -0.09675601869821548,
           -0.02001800760626793,
           -0.013285691849887371,
           0.0924767330288887,
           0.10042332112789154,
           0.08773919194936752,
           -0.009649215266108513,
           -0.04340118542313576,
           -0.07041534781455994,
           -0.10613258183002472,
           0.0805215910077095,
           0.07229437679052353,
           0.006440735422074795,
           -0.1516108363866806,
           -0.2449043244123459,
           -0.17636972665786743
          ],
          [
           0,
           -0.09747257083654404,
           -0.01833098568022251,
           -0.01145033910870552,
           0.08722808957099915,
           0.09814240783452988,
           0.08170761913061142,
           -0.025707025080919266,
           -0.1123216301202774,
           -0.12956051528453827,
           -0.1677899956703186,
           0.03438623994588852,
           0.04577546939253807,
           -0.04556160047650337,
           -0.20263904333114624,
           -0.2922431230545044,
           -0.24121245741844177
          ],
          [
           0,
           -0.09695278108119965,
           -0.019286908209323883,
           -0.013068447820842266,
           0.08798966556787491,
           0.0946320965886116,
           0.07634329050779343,
           -0.025334972888231277,
           -0.11126084625720978,
           -0.12921561300754547,
           -0.16585715115070343,
           0.03544778376817703,
           0.04192493483424187,
           -0.04623973369598389,
           -0.202426478266716,
           -0.2895079255104065,
           -0.23995281755924225
          ],
          [
           0,
           -0.09729968756437302,
           -0.017485298216342926,
           -0.0124893169850111,
           0.09141170233488083,
           0.10025984793901443,
           0.08724804222583771,
           -0.009796958416700363,
           -0.04869994521141052,
           -0.07550076395273209,
           -0.11529899388551712,
           0.08366543054580688,
           0.09509608149528503,
           0.01605207845568657,
           -0.160649836063385,
           -0.24993857741355896,
           -0.17361950874328613
          ],
          [
           0,
           -0.09722896665334702,
           -0.01770547591149807,
           -0.012668763287365437,
           0.09135419875383377,
           0.10014685988426208,
           0.08685103803873062,
           -0.009703448973596096,
           -0.04807741194963455,
           -0.07510291039943695,
           -0.11503741145133972,
           0.08398570865392685,
           0.09567365795373917,
           0.016001757234334946,
           -0.16011856496334076,
           -0.25349876284599304,
           -0.174027681350708
          ],
          [
           0,
           -0.09973342716693878,
           -0.016966860741376877,
           -0.008479548618197441,
           0.0931859239935875,
           0.1023220643401146,
           0.08258392661809921,
           -0.010250547900795937,
           -0.047005899250507355,
           -0.0761675238609314,
           -0.11433417350053787,
           0.08588811010122299,
           0.10434265434741974,
           0.02085101045668125,
           -0.1614006757736206,
           -0.25622984766960144,
           -0.17924010753631592
          ],
          [
           0,
           -0.09618286788463593,
           -0.014285317622125149,
           -0.004744540434330702,
           0.09127233922481537,
           0.10022033751010895,
           0.08185890316963196,
           -0.007828567177057266,
           -0.03630523011088371,
           -0.06862269341945648,
           -0.09822031855583191,
           0.08992736041545868,
           0.08523708581924438,
           0.008889970369637012,
           -0.14655502140522003,
           -0.2554446756839752,
           -0.17992205917835236
          ],
          [
           0,
           -0.10169946402311325,
           -0.016330013051629066,
           -0.01609215885400772,
           0.09587802737951279,
           0.109300397336483,
           0.08281096816062927,
           -0.008458737283945084,
           -0.037196364253759384,
           -0.06882280856370926,
           -0.10575205832719803,
           0.09346765279769897,
           0.0909050852060318,
           0.017757872119545937,
           -0.1533578634262085,
           -0.254043847322464,
           -0.1723010241985321
          ],
          [
           0,
           -0.10072730481624603,
           -0.016977082937955856,
           -0.012185095809400082,
           0.09518594294786453,
           0.10400298982858658,
           0.07666842639446259,
           -0.008686141110956669,
           -0.039729274809360504,
           -0.07273779064416885,
           -0.10674925893545151,
           0.09193937480449677,
           0.10643474012613297,
           0.01971837319433689,
           -0.15426231920719147,
           -0.26851123571395874,
           -0.18282827734947205
          ],
          [
           0,
           -0.0979546532034874,
           -0.012608323246240616,
           -0.006411315873265266,
           0.09288030862808228,
           0.10296494513750076,
           0.07557513564825058,
           -0.007426705211400986,
           -0.03233581408858299,
           -0.0653047114610672,
           -0.09710218757390976,
           0.09457458555698395,
           0.09005246311426163,
           0.012634600512683392,
           -0.1448383331298828,
           -0.26086822152137756,
           -0.17973783612251282
          ],
          [
           0,
           -0.09771092236042023,
           -0.012768060900270939,
           -0.006859778892248869,
           0.09263946115970612,
           0.10222985595464706,
           0.07467484474182129,
           -0.007945990189909935,
           -0.03474351763725281,
           -0.06770193576812744,
           -0.09915771335363388,
           0.09277120977640152,
           0.0933474749326706,
           0.01291031762957573,
           -0.1471826285123825,
           -0.26539766788482666,
           -0.1828230917453766
          ],
          [
           0,
           -0.09771095961332321,
           -0.012768137268722057,
           -0.006859960965812206,
           0.0926395133137703,
           0.10222985595464706,
           0.07467489689588547,
           -0.007946016266942024,
           -0.034743573516607285,
           -0.06770195811986923,
           -0.09915779531002045,
           0.0927712544798851,
           0.09334755688905716,
           0.01291032787412405,
           -0.14718271791934967,
           -0.2653979957103729,
           -0.18282321095466614
          ],
          [
           0,
           -0.09773053228855133,
           -0.012819320894777775,
           -0.004383002407848835,
           0.0927712619304657,
           0.09979402273893356,
           0.07241165637969971,
           -0.007930462248623371,
           -0.034786101430654526,
           -0.06931643933057785,
           -0.10067954659461975,
           0.09231825172901154,
           0.09418829530477524,
           0.011822838336229324,
           -0.14604012668132782,
           -0.26522985100746155,
           -0.1829698085784912
          ],
          [
           0,
           -0.09631984680891037,
           -0.011160793714225292,
           -0.001099632354453206,
           0.09131503850221634,
           0.10065820068120956,
           0.0716252475976944,
           -0.00866212323307991,
           -0.03680504485964775,
           -0.0702851414680481,
           -0.1011427715420723,
           0.09019260108470917,
           0.08902736753225327,
           0.010130619630217552,
           -0.14762884378433228,
           -0.26557818055152893,
           -0.18595941364765167
          ],
          [
           0,
           -0.09602851420640945,
           -0.011024922132492065,
           -0.0006898114224895835,
           0.09092927724123001,
           0.09950148314237595,
           0.07629870623350143,
           -0.00835475418716669,
           -0.03413904458284378,
           -0.06914293766021729,
           -0.10008888691663742,
           0.09262550622224808,
           0.09356606006622314,
           0.013190584257245064,
           -0.14414066076278687,
           -0.2612813115119934,
           -0.17888934910297394
          ],
          [
           0,
           -0.09602858126163483,
           -0.011024964973330498,
           -0.0006897418643347919,
           0.09092934429645538,
           0.09950175881385803,
           0.07629893720149994,
           -0.008354785852134228,
           -0.03413913771510124,
           -0.06914294511079788,
           -0.10008911788463593,
           0.0926254540681839,
           0.0935659110546112,
           0.013190509751439095,
           -0.14414070546627045,
           -0.261281281709671,
           -0.17888949811458588
          ],
          [
           0,
           -0.09601438790559769,
           -0.01103241927921772,
           -0.0006968221277929842,
           0.09091299772262573,
           0.09945444017648697,
           0.07626808434724808,
           -0.00834459438920021,
           -0.034106962382793427,
           -0.06909913569688797,
           -0.10001673549413681,
           0.09267736971378326,
           0.09420207887887955,
           0.012971405871212482,
           -0.14418946206569672,
           -0.26175153255462646,
           -0.17919528484344482
          ],
          [
           0,
           -0.0959930568933487,
           -0.010923915542662144,
           -0.000554968137294054,
           0.0908944234251976,
           0.09970838576555252,
           0.0765376165509224,
           -0.0085326312109828,
           -0.034571629017591476,
           -0.06924276798963547,
           -0.10106110572814941,
           0.09244170039892197,
           0.09403617680072784,
           0.01267043687403202,
           -0.14437764883041382,
           -0.2619299590587616,
           -0.17925970256328583
          ],
          [
           0,
           -0.09599312394857407,
           -0.010923895053565502,
           -0.0005549932830035686,
           0.09089448302984238,
           0.0997086614370346,
           0.07653756439685822,
           -0.008532685227692127,
           -0.03457176685333252,
           -0.06924284994602203,
           -0.10106130689382553,
           0.0924416184425354,
           0.09403625130653381,
           0.012670512311160564,
           -0.14437784254550934,
           -0.26193007826805115,
           -0.17925995588302612
          ],
          [
           0,
           -0.09599307924509048,
           -0.010923860594630241,
           -0.0005548996850848198,
           0.0908944308757782,
           0.09970857203006744,
           0.07653764635324478,
           -0.008532618172466755,
           -0.03457174077630043,
           -0.06924281269311905,
           -0.10106121003627777,
           0.0924416333436966,
           0.09403626620769501,
           0.012670507654547691,
           -0.14437773823738098,
           -0.261929988861084,
           -0.17925991117954254
          ],
          [
           0,
           -0.09599307924509048,
           -0.010923860594630241,
           -0.0005548996850848198,
           0.0908944308757782,
           0.09970857203006744,
           0.07653764635324478,
           -0.008532618172466755,
           -0.03457174077630043,
           -0.06924281269311905,
           -0.10106121003627777,
           0.0924416333436966,
           0.09403626620769501,
           0.012670507654547691,
           -0.14437773823738098,
           -0.261929988861084,
           -0.17925991117954254
          ],
          [
           0,
           -0.09599307924509048,
           -0.010923860594630241,
           -0.0005548996850848198,
           0.0908944308757782,
           0.09970857203006744,
           0.07653764635324478,
           -0.008532618172466755,
           -0.03457174077630043,
           -0.06924281269311905,
           -0.10106121003627777,
           0.0924416333436966,
           0.09403626620769501,
           0.012670507654547691,
           -0.14437773823738098,
           -0.261929988861084,
           -0.17925991117954254
          ],
          [
           0,
           -0.09599307924509048,
           -0.010923860594630241,
           -0.0005548996850848198,
           0.0908944308757782,
           0.09970857203006744,
           0.07653764635324478,
           -0.008532618172466755,
           -0.03457174077630043,
           -0.06924281269311905,
           -0.10106121003627777,
           0.0924416333436966,
           0.09403626620769501,
           0.012670507654547691,
           -0.14437773823738098,
           -0.261929988861084,
           -0.17925991117954254
          ],
          [
           0,
           -0.09599307924509048,
           -0.010923860594630241,
           -0.0005548996850848198,
           0.0908944308757782,
           0.09970857203006744,
           0.07653764635324478,
           -0.008532618172466755,
           -0.03457174077630043,
           -0.06924281269311905,
           -0.10106121003627777,
           0.0924416333436966,
           0.09403626620769501,
           0.012670507654547691,
           -0.14437773823738098,
           -0.261929988861084,
           -0.17925991117954254
          ]
         ],
         "z": [
          [
           0.6717526912689209,
           0.6715698838233948,
           0.3233090937137604,
           0,
           0.6805495023727417,
           0.35492372512817383,
           0.0481228232383728,
           0.872978150844574,
           1.082015037536621,
           1.2257308959960938,
           1.2656984329223633,
           1.0989761352539062,
           0.8564248085021973,
           0.7142682671546936,
           1.078432559967041,
           0.8487743139266968,
           0.7122576832771301
          ],
          [
           0.6751559972763062,
           0.6747398972511292,
           0.32309409976005554,
           0,
           0.6837384700775146,
           0.3552740514278412,
           0.04820680618286133,
           0.8764605522155762,
           1.085864543914795,
           1.2226550579071045,
           1.2661223411560059,
           1.0989688634872437,
           0.8569110631942749,
           0.7145235538482666,
           1.0864900350570679,
           0.8541024923324585,
           0.716740608215332
          ],
          [
           0.6765562891960144,
           0.6746162176132202,
           0.3257655203342438,
           0,
           0.6863637566566467,
           0.35807910561561584,
           0.051535189151763916,
           0.8778769969940186,
           1.0872247219085693,
           1.2258354425430298,
           1.2673861980438232,
           1.102114200592041,
           0.8598815202713013,
           0.7173606753349304,
           1.0858279466629028,
           0.8605696558952332,
           0.7232893109321594
          ],
          [
           0.6735761761665344,
           0.6716593503952026,
           0.31991639733314514,
           0,
           0.6832167506217957,
           0.3523685336112976,
           0.048792362213134766,
           0.875809907913208,
           1.086119294166565,
           1.223272442817688,
           1.2667230367660522,
           1.0997555255889893,
           0.8535814881324768,
           0.7146286964416504,
           1.0871756076812744,
           0.8579138517379761,
           0.720443606376648
          ],
          [
           0.678354024887085,
           0.6777233481407166,
           0.32574978470802307,
           0,
           0.6869919300079346,
           0.3580501973628998,
           0.05157434940338135,
           0.8800470232963562,
           1.0894489288330078,
           1.226351261138916,
           1.2697268724441528,
           1.102574348449707,
           0.8566453456878662,
           0.7176628112792969,
           1.0901240110397339,
           0.8611188530921936,
           0.7234277129173279
          ],
          [
           0.6851649284362793,
           0.6841931939125061,
           0.32824355363845825,
           0,
           0.6935817003250122,
           0.36133021116256714,
           0.05533498525619507,
           0.8899825811386108,
           1.1036300659179688,
           1.2411377429962158,
           1.2848026752471924,
           1.1133577823638916,
           0.8672738075256348,
           0.7271294593811035,
           1.1094787120819092,
           0.8885141611099243,
           0.7489719390869141
          ],
          [
           0.6809208989143372,
           0.6811270117759705,
           0.328581303358078,
           0,
           0.68846195936203,
           0.3620966672897339,
           0.05315053462982178,
           0.8855699896812439,
           1.0989798307418823,
           1.2349112033843994,
           1.278548240661621,
           1.1069802045822144,
           0.8609370589256287,
           0.7209699153900146,
           1.1071877479553223,
           0.8898208737373352,
           0.7503905892372131
          ],
          [
           0.6837140917778015,
           0.6836849451065063,
           0.3285472095012665,
           0,
           0.6908707022666931,
           0.3619617819786072,
           0.05296605825424194,
           0.8860233426094055,
           1.095550775527954,
           1.2315568923950195,
           1.2747278213500977,
           1.1032737493515015,
           0.8572036623954773,
           0.7167823910713196,
           1.10306715965271,
           0.8979023694992065,
           0.7501850128173828
          ],
          [
           0.6943451166152954,
           0.6938263773918152,
           0.3349902629852295,
           0,
           0.7013180255889893,
           0.3668900430202484,
           0.05190807580947876,
           0.8938612341880798,
           1.0979584455490112,
           1.2334213256835938,
           1.2759641408920288,
           1.0999722480773926,
           0.8577581644058228,
           0.7172775864601135,
           1.10758638381958,
           0.9069827795028687,
           0.7546334266662598
          ],
          [
           0.6943304538726807,
           0.6938119530677795,
           0.33502453565597534,
           0,
           0.7013953328132629,
           0.3669014871120453,
           0.05206334590911865,
           0.8938987255096436,
           1.0979119539260864,
           1.2333725690841675,
           1.2759530544281006,
           1.0999354124069214,
           0.8543777465820312,
           0.7136043906211853,
           1.1075605154037476,
           0.9070112705230713,
           0.7546041011810303
          ],
          [
           0.7132605910301208,
           0.7129158973693848,
           0.3356325328350067,
           0,
           0.7182843685150146,
           0.36697298288345337,
           0.05271637439727783,
           0.9109548330307007,
           1.1095634698867798,
           1.2396801710128784,
           1.281398892402649,
           1.1041926145553589,
           0.8550416231155396,
           0.7130295634269714,
           1.1245484352111816,
           0.9408775568008423,
           0.7899172902107239
          ],
          [
           0.7039238214492798,
           0.702136754989624,
           0.3375012278556824,
           0,
           0.7105081081390381,
           0.3671671152114868,
           0.0523684024810791,
           0.9019558429718018,
           1.1023905277252197,
           1.2349096536636353,
           1.278989553451538,
           1.0920143127441406,
           0.8423203229904175,
           0.7032723426818848,
           1.1235954761505127,
           0.9522067308425903,
           0.804991602897644
          ],
          [
           0.706606924533844,
           0.7057003378868103,
           0.33755260705947876,
           0,
           0.7116747498512268,
           0.3655779957771301,
           0.05331200361251831,
           0.9033058881759644,
           1.1016414165496826,
           1.2259626388549805,
           1.2695949077606201,
           1.0862605571746826,
           0.8364208936691284,
           0.7010518908500671,
           1.1296395063400269,
           0.9709455370903015,
           0.8230482935905457
          ],
          [
           0.7063343524932861,
           0.7049463987350464,
           0.33760133385658264,
           0,
           0.7113182544708252,
           0.3658809959888458,
           0.05304431915283203,
           0.9027150273323059,
           1.0993716716766357,
           1.2261598110198975,
           1.2699415683746338,
           1.0789718627929688,
           0.8217918276786804,
           0.6962869763374329,
           1.1336321830749512,
           0.9870709776878357,
           0.8314934968948364
          ],
          [
           0.7041091322898865,
           0.7027876377105713,
           0.3354777991771698,
           0,
           0.7091291546821594,
           0.3635266125202179,
           0.05083376169204712,
           0.9005879163742065,
           1.0972996950149536,
           1.2238783836364746,
           1.2696434259414673,
           1.0766644477844238,
           0.8197157979011536,
           0.6941861510276794,
           1.1313199996948242,
           0.9847660064697266,
           0.8292132616043091
          ],
          [
           0.7265965342521667,
           0.7246309518814087,
           0.34827548265457153,
           0,
           0.7314149141311646,
           0.3915977478027344,
           0.07225155830383301,
           0.9182442426681519,
           1.104766607284546,
           1.2363770008087158,
           1.2795372009277344,
           1.0708249807357788,
           0.8189576268196106,
           0.7115219235420227,
           1.1445823907852173,
           1.0355584621429443,
           0.8412657380104065
          ],
          [
           0.7282664775848389,
           0.7254833579063416,
           0.35234546661376953,
           0,
           0.7341115474700928,
           0.41302940249443054,
           0.0808103084564209,
           0.9209180474281311,
           1.1078788042068481,
           1.227160930633545,
           1.272535800933838,
           1.0726432800292969,
           0.8196539282798767,
           0.7091034650802612,
           1.1498892307281494,
           1.0614384412765503,
           0.8518095016479492
          ],
          [
           0.723342776298523,
           0.7205268740653992,
           0.3520689606666565,
           0,
           0.7291352152824402,
           0.42419397830963135,
           0.08965051174163818,
           0.9179810881614685,
           1.1074424982070923,
           1.2075517177581787,
           1.2527239322662354,
           1.0679517984390259,
           0.8174157738685608,
           0.7194254994392395,
           1.1574046611785889,
           1.101624846458435,
           0.8772169351577759
          ],
          [
           0.7374409437179565,
           0.7382111549377441,
           0.36358046531677246,
           0,
           0.7395601272583008,
           0.43220704793930054,
           0.090953528881073,
           0.9314321279525757,
           1.1179008483886719,
           1.2231574058532715,
           1.268453598022461,
           1.0713822841644287,
           0.8225030303001404,
           0.7406313419342041,
           1.1729201078414917,
           1.139871597290039,
           0.9146857261657715
          ],
          [
           0.7374409437179565,
           0.7382111549377441,
           0.3635803461074829,
           0,
           0.7395601272583008,
           0.43220704793930054,
           0.090953528881073,
           0.9314321279525757,
           1.1179008483886719,
           1.2231571674346924,
           1.268453598022461,
           1.0713822841644287,
           0.8225030303001404,
           0.7406313419342041,
           1.1729201078414917,
           1.13987135887146,
           0.9146857261657715
          ],
          [
           0.7597448825836182,
           0.7653961777687073,
           0.37225624918937683,
           0,
           0.7559718489646912,
           0.42548608779907227,
           0.1011011004447937,
           0.9513891935348511,
           1.1306772232055664,
           1.2229626178741455,
           1.2656710147857666,
           1.0698869228363037,
           0.8211991190910339,
           0.7633393406867981,
           1.1979023218154907,
           1.1956300735473633,
           0.9704444408416748
          ],
          [
           0.7601581811904907,
           0.7683851718902588,
           0.3713228404521942,
           0,
           0.7536188364028931,
           0.4100877344608307,
           0.10363084077835083,
           0.9537568688392639,
           1.1347326040267944,
           1.2141623497009277,
           1.2606425285339355,
           1.0733683109283447,
           0.8176249861717224,
           0.7657715678215027,
           1.204549789428711,
           1.206206202507019,
           0.988037645816803
          ],
          [
           0.7516452670097351,
           0.7616599202156067,
           0.3708038330078125,
           0,
           0.7438358068466187,
           0.4078834354877472,
           0.10155224800109863,
           0.9421783089637756,
           1.1203465461730957,
           1.2038357257843018,
           1.2502849102020264,
           1.0619862079620361,
           0.8047688603401184,
           0.7562651634216309,
           1.185276985168457,
           1.1951725482940674,
           0.97005295753479
          ],
          [
           0.7460244297981262,
           0.7558143138885498,
           0.369558721780777,
           0,
           0.7387034893035889,
           0.4041069447994232,
           0.10122412443161011,
           0.9403645396232605,
           1.125104546546936,
           1.2269861698150635,
           1.2774710655212402,
           1.0631262063980103,
           0.8198234438896179,
           0.7463040351867676,
           1.1953688859939575,
           1.17487370967865,
           0.935492217540741
          ],
          [
           0.74769127368927,
           0.7593418955802917,
           0.3727424144744873,
           0,
           0.7386956810951233,
           0.4037756323814392,
           0.1010013222694397,
           0.9415217041969299,
           1.1252690553665161,
           1.2270290851593018,
           1.2774288654327393,
           1.0631210803985596,
           0.8197117447853088,
           0.7460852265357971,
           1.195322036743164,
           1.1750929355621338,
           0.9390687942504883
          ],
          [
           0.7328447103500366,
           0.7420209646224976,
           0.3807286322116852,
           0,
           0.7280380725860596,
           0.40163522958755493,
           0.09796798229217529,
           0.9220912456512451,
           1.1037278175354004,
           1.2157173156738281,
           1.2561922073364258,
           1.085635781288147,
           0.8462350368499756,
           0.7140951752662659,
           1.1346763372421265,
           1.0012171268463135,
           0.800908088684082
          ],
          [
           0.7340648174285889,
           0.7404916882514954,
           0.3695468604564667,
           0,
           0.7322964072227478,
           0.3996785879135132,
           0.09330713748931885,
           0.9262716770172119,
           1.1122970581054688,
           1.2259762287139893,
           1.2616801261901855,
           1.1303220987319946,
           0.9412738680839539,
           0.7615978717803955,
           1.1076130867004395,
           0.8810545802116394,
           0.7133848071098328
          ],
          [
           0.7334968447685242,
           0.7304979562759399,
           0.426320344209671,
           0.10299903154373169,
           0.73405921459198,
           0.36137086153030396,
           0,
           0.9359275698661804,
           1.1400443315505981,
           1.2238553762435913,
           1.2578060626983643,
           1.1450154781341553,
           0.9221911430358887,
           0.766716480255127,
           1.1440644264221191,
           0.9714577198028564,
           0.7523302435874939
          ],
          [
           0.7122676968574524,
           0.7066466212272644,
           0.3570433259010315,
           0,
           0.7203729748725891,
           0.41133251786231995,
           0.07201975584030151,
           0.9051629304885864,
           1.097349762916565,
           1.1868727207183838,
           1.2218928337097168,
           1.186888337135315,
           1.1235402822494507,
           0.8746575117111206,
           1.024373173713684,
           0.6873294115066528,
           0.7247119545936584
          ],
          [
           0.7123352289199829,
           0.7067480087280273,
           0.35704079270362854,
           0,
           0.7203845977783203,
           0.41095778346061707,
           0.06946802139282227,
           0.9059374332427979,
           1.0993309020996094,
           1.1870614290237427,
           1.2219173908233643,
           1.1908823251724243,
           1.1235525608062744,
           0.8745492100715637,
           1.0245572328567505,
           0.6901624202728271,
           0.7278861403465271
          ],
          [
           0.6701596975326538,
           0.6684852242469788,
           0.32232704758644104,
           0,
           0.6744375824928284,
           0.3605923056602478,
           0.02552872896194458,
           0.864648163318634,
           1.0630826950073242,
           1.130407691001892,
           1.1690692901611328,
           1.1143407821655273,
           1.1977581977844238,
           0.9420647621154785,
           1.020261526107788,
           0.7429591417312622,
           0.7955780029296875
          ],
          [
           0.6465851068496704,
           0.6468521952629089,
           0.2922031581401825,
           0.00782620906829834,
           0.6482849717140198,
           0.33133095502853394,
           0,
           0.8365817666053772,
           1.030815601348877,
           1.0699858665466309,
           1.1032136678695679,
           1.0874360799789429,
           1.2011947631835938,
           0.9733576774597168,
           0.9782313108444214,
           0.7688013911247253,
           0.8431435227394104
          ],
          [
           0.6704610586166382,
           0.6662342548370361,
           0.3072728216648102,
           0.03980553150177002,
           0.6752299666404724,
           0.337623655796051,
           0,
           0.8748147487640381,
           1.0842534303665161,
           1.1063549518585205,
           1.141540288925171,
           1.2015435695648193,
           1.2838739156723022,
           1.1341497898101807,
           0.9750967025756836,
           0.8429489135742188,
           0.9415793418884277
          ],
          [
           0.6667141318321228,
           0.6637638211250305,
           0.30315589904785156,
           0.050514936447143555,
           0.670581579208374,
           0.33565589785575867,
           0,
           0.8722911477088928,
           1.0848174095153809,
           1.116429328918457,
           1.1527683734893799,
           1.1876654624938965,
           1.3297622203826904,
           1.1861817836761475,
           0.9891036748886108,
           0.8797493577003479,
           1.0052070617675781
          ],
          [
           0.666804313659668,
           0.6638367176055908,
           0.3032618463039398,
           0.05054152011871338,
           0.6707022786140442,
           0.33575865626335144,
           0,
           0.872582197189331,
           1.0849969387054443,
           1.1166952848434448,
           1.1532673835754395,
           1.187741756439209,
           1.3299137353897095,
           1.1862528324127197,
           0.9891854524612427,
           0.8805994391441345,
           1.005638599395752
          ],
          [
           0.6326040029525757,
           0.6299747228622437,
           0.2806445360183716,
           0.0426449179649353,
           0.637121319770813,
           0.3286592960357666,
           0,
           0.8331324458122253,
           1.045215368270874,
           1.0938720703125,
           1.1344263553619385,
           1.1048060655593872,
           1.3406915664672852,
           1.2006499767303467,
           0.9921709299087524,
           0.87810218334198,
           1.0706502199172974
          ],
          [
           0.6127277612686157,
           0.6103956699371338,
           0.27087974548339844,
           0.03346008062362671,
           0.6179843544960022,
           0.3214881420135498,
           0,
           0.8061487078666687,
           1.0106256008148193,
           1.0763715505599976,
           1.110841989517212,
           1.0343416929244995,
           1.3231201171875,
           1.1028506755828857,
           0.9927663803100586,
           0.8677169680595398,
           1.0960311889648438
          ],
          [
           0.5958945155143738,
           0.5968146920204163,
           0.26533812284469604,
           0.03235924243927002,
           0.5991919636726379,
           0.3113865852355957,
           0,
           0.785561203956604,
           0.9829021692276001,
           1.0570305585861206,
           1.0932059288024902,
           0.9568969011306763,
           0.8283117413520813,
           1.0284531116485596,
           1.0132195949554443,
           1.3026742935180664,
           1.1568156480789185
          ],
          [
           0.6088054180145264,
           0.6101438403129578,
           0.26898303627967834,
           0.04020822048187256,
           0.6100637316703796,
           0.3141004741191864,
           0,
           0.8061036467552185,
           1.0145184993743896,
           1.0787897109985352,
           1.1150705814361572,
           0.9520726799964905,
           0.818870484828949,
           1.0086864233016968,
           1.081346035003662,
           1.338350772857666,
           1.1944243907928467
          ],
          [
           0.6086783409118652,
           0.6099834442138672,
           0.2688060402870178,
           0.040151357650756836,
           0.6099646091461182,
           0.3139871656894684,
           0,
           0.8060252666473389,
           1.0142948627471924,
           1.0785870552062988,
           1.114825963973999,
           0.9479516744613647,
           0.8187009692192078,
           1.00899338722229,
           1.084962248802185,
           1.3382749557495117,
           1.1943223476409912
          ],
          [
           0.6160576343536377,
           0.6165904998779297,
           0.2803327739238739,
           0.027309834957122803,
           0.6188441514968872,
           0.31832632422447205,
           0,
           0.8060001134872437,
           1.004768967628479,
           1.0881208181381226,
           1.1218301057815552,
           0.9738322496414185,
           0.8090811371803284,
           1.0056171417236328,
           1.0405163764953613,
           1.3201090097427368,
           1.1778156757354736
          ],
          [
           0.6124336123466492,
           0.6126635670661926,
           0.292380154132843,
           0.02362990379333496,
           0.6162954568862915,
           0.3186003565788269,
           0,
           0.8042002320289612,
           1.0080287456512451,
           1.0876407623291016,
           1.1289677619934082,
           1.0089985132217407,
           0.8050612211227417,
           1.0407044887542725,
           1.0138742923736572,
           0.8033841848373413,
           1.044503927230835
          ],
          [
           0.6253132224082947,
           0.6270415782928467,
           0.30574119091033936,
           0.024484634399414062,
           0.6270269751548767,
           0.32369640469551086,
           0,
           0.8176925182342529,
           1.019774079322815,
           1.0930497646331787,
           1.1285828351974487,
           1.0103673934936523,
           0.8027532696723938,
           1.0039665699005127,
           1.0357401371002197,
           0.8036777973175049,
           1.127859354019165
          ],
          [
           0.6197112798690796,
           0.6202554106712341,
           0.30292123556137085,
           0.00006872415542602539,
           0.6226157546043396,
           0.31762972474098206,
           0,
           0.8135207295417786,
           1.0196938514709473,
           1.0884203910827637,
           1.1239275932312012,
           1.021873950958252,
           0.7924574613571167,
           1.0171633958816528,
           1.0265156030654907,
           0.794401228427887,
           1.095814824104309
          ],
          [
           0.618377685546875,
           0.6174992918968201,
           0.3029698431491852,
           0,
           0.6224839687347412,
           0.31764256954193115,
           0.0005827546119689941,
           0.8138058185577393,
           1.0230282545089722,
           1.0883435010910034,
           1.1240959167480469,
           1.0301944017410278,
           0.7967578768730164,
           1.0210009813308716,
           1.0263304710388184,
           0.7936931848526001,
           1.0804343223571777
          ],
          [
           0.6253679394721985,
           0.6239598989486694,
           0.3226991295814514,
           0.011031270027160645,
           0.6289228796958923,
           0.32271596789360046,
           0,
           0.82538902759552,
           1.0400367975234985,
           1.1251704692840576,
           1.1594798564910889,
           1.0600850582122803,
           0.8239535093307495,
           1.0970118045806885,
           1.0286457538604736,
           0.798858642578125,
           1.0264209508895874
          ],
          [
           0.6304033398628235,
           0.6273083090782166,
           0.3247540593147278,
           0.018366575241088867,
           0.6342390775680542,
           0.32670801877975464,
           0,
           0.8314380645751953,
           1.048276662826538,
           1.1372231245040894,
           1.1665849685668945,
           1.0984909534454346,
           1.313258409500122,
           1.2091577053070068,
           1.0097277164459229,
           0.8034505844116211,
           1.008648157119751
          ],
          [
           0.6344525218009949,
           0.6315494179725647,
           0.3293834328651428,
           0.021322250366210938,
           0.6378146409988403,
           0.32596755027770996,
           0,
           0.8344843983650208,
           1.0495636463165283,
           1.138855218887329,
           1.1657226085662842,
           1.0959151983261108,
           1.314503788948059,
           1.2018861770629883,
           1.0155227184295654,
           0.8050582408905029,
           1.0131168365478516
          ],
          [
           0.6346552968025208,
           0.6314865350723267,
           0.32826748490333557,
           0.012489140033721924,
           0.639824390411377,
           0.32466140389442444,
           0,
           0.8337420225143433,
           1.0469205379486084,
           1.1479198932647705,
           1.1809422969818115,
           1.0737841129302979,
           0.850786030292511,
           1.110249400138855,
           1.0187876224517822,
           0.8007839918136597,
           0.9961069822311401
          ],
          [
           0.6347192525863647,
           0.6315703392028809,
           0.32826516032218933,
           0.012528836727142334,
           0.6398662328720093,
           0.3246261179447174,
           0,
           0.8337826728820801,
           1.0470116138458252,
           1.1479816436767578,
           1.1810259819030762,
           1.073835015296936,
           0.8509365916252136,
           1.1103425025939941,
           1.018843173980713,
           0.8045200109481812,
           0.9964801669120789
          ],
          [
           0.6417674422264099,
           0.6384158134460449,
           0.3283393383026123,
           0.01989036798477173,
           0.6463974714279175,
           0.32680100202560425,
           0,
           0.8407986760139465,
           1.0536580085754395,
           1.163201093673706,
           1.1968905925750732,
           1.0784287452697754,
           0.8601977825164795,
           1.0892481803894043,
           1.0269370079040527,
           0.8081732988357544,
           1.0076481103897095
          ],
          [
           0.6396210789680481,
           0.6361104846000671,
           0.33097323775291443,
           0.022453010082244873,
           0.6444199085235596,
           0.3272300958633423,
           0,
           0.8361456394195557,
           1.046520709991455,
           1.1674671173095703,
           1.2019761800765991,
           1.0558170080184937,
           0.8297489285469055,
           1.0340193510055542,
           1.0364229679107666,
           0.8127321600914001,
           1.0193504095077515
          ],
          [
           0.6397175192832947,
           0.6377241611480713,
           0.3307499885559082,
           0.0146065354347229,
           0.642642080783844,
           0.3253023624420166,
           0,
           0.8396939039230347,
           1.0536826848983765,
           1.1708087921142578,
           1.2050789594650269,
           1.0704474449157715,
           0.8487474322319031,
           1.0776840448379517,
           1.035685658454895,
           0.8133739233016968,
           1.0154894590377808
          ],
          [
           0.6433662176132202,
           0.6399449706077576,
           0.3308826982975006,
           0.022727549076080322,
           0.6471830606460571,
           0.32502880692481995,
           0,
           0.8395146131515503,
           1.0482540130615234,
           1.1728157997131348,
           1.211282730102539,
           1.0618207454681396,
           0.8461974859237671,
           1.0543156862258911,
           1.0295791625976562,
           0.8201569318771362,
           1.0148826837539673
          ],
          [
           0.6309738755226135,
           0.6275908946990967,
           0.33078062534332275,
           0.02713876962661743,
           0.6354889869689941,
           0.3251877427101135,
           0,
           0.8258628845214844,
           1.034879207611084,
           1.1619254350662231,
           1.196744441986084,
           1.0424847602844238,
           0.8245718479156494,
           1.0290659666061401,
           1.023322582244873,
           0.8113396167755127,
           1.0115513801574707
          ],
          [
           0.630767822265625,
           0.6274192929267883,
           0.3306948244571686,
           0.027136623859405518,
           0.6352636218070984,
           0.32507628202438354,
           0,
           0.8249204158782959,
           1.032986044883728,
           1.161689281463623,
           1.1965916156768799,
           1.0425256490707397,
           0.8281747102737427,
           1.0328277349472046,
           1.0191247463226318,
           0.8110583424568176,
           1.0113604068756104
          ],
          [
           0.6307679414749146,
           0.6274193525314331,
           0.33069494366645813,
           0.02713686227798462,
           0.6352636814117432,
           0.325076162815094,
           0,
           0.8249205946922302,
           1.032986044883728,
           1.161689281463623,
           1.196591854095459,
           1.0425256490707397,
           0.8281747102737427,
           1.0328278541564941,
           1.0191245079040527,
           0.8110584616661072,
           1.0113604068756104
          ],
          [
           0.6334166526794434,
           0.6300132870674133,
           0.32960158586502075,
           0.02916741371154785,
           0.6375767588615417,
           0.32456302642822266,
           0,
           0.8273226618766785,
           1.034787893295288,
           1.1614372730255127,
           1.1960594654083252,
           1.0420831441879272,
           0.8272725343704224,
           1.028795599937439,
           1.0223089456558228,
           0.814507246017456,
           1.0112826824188232
          ],
          [
           0.6324488520622253,
           0.6289923191070557,
           0.33291468024253845,
           0.03433436155319214,
           0.637199878692627,
           0.3268339931964874,
           0,
           0.8263193368911743,
           1.0343577861785889,
           1.1630768775939941,
           1.1979424953460693,
           1.0438252687454224,
           0.8298305869102478,
           1.0415507555007935,
           1.0203076601028442,
           0.8123159408569336,
           1.0127394199371338
          ],
          [
           0.6295440793037415,
           0.6259579658508301,
           0.3276239037513733,
           0.028997838497161865,
           0.6341536641120911,
           0.3230041563510895,
           0,
           0.8234202861785889,
           1.0319364070892334,
           1.1603806018829346,
           1.195169448852539,
           1.0369075536727905,
           0.8267433047294617,
           1.038779616355896,
           1.0215412378311157,
           0.8097095489501953,
           1.010102391242981
          ],
          [
           0.6295440793037415,
           0.6259579658508301,
           0.32762378454208374,
           0.028997719287872314,
           0.6341536641120911,
           0.32300427556037903,
           0,
           0.8234201669692993,
           1.0319364070892334,
           1.1603807210922241,
           1.195169448852539,
           1.0369075536727905,
           0.8267433047294617,
           1.0387794971466064,
           1.0215411186218262,
           0.809709370136261,
           1.0101022720336914
          ],
          [
           0.6295537352561951,
           0.6259592175483704,
           0.3276296555995941,
           0.029002249240875244,
           0.634166955947876,
           0.32301175594329834,
           0,
           0.8234266638755798,
           1.031955361366272,
           1.1603885889053345,
           1.1951857805252075,
           1.0369449853897095,
           0.8266494870185852,
           1.0352253913879395,
           1.0215445756912231,
           0.8098114728927612,
           1.0101476907730103
          ],
          [
           0.6296746730804443,
           0.6260459423065186,
           0.32765355706214905,
           0.029056012630462646,
           0.634314239025116,
           0.32293701171875,
           0,
           0.8235944509506226,
           1.0322198867797852,
           1.160558819770813,
           1.1953301429748535,
           1.037106990814209,
           0.8267430067062378,
           1.0353453159332275,
           1.0216374397277832,
           0.8098669052124023,
           1.0102828741073608
          ],
          [
           0.6296741962432861,
           0.6260455250740051,
           0.3276531994342804,
           0.029055774211883545,
           0.6343137621879578,
           0.32293689250946045,
           0,
           0.8235940933227539,
           1.032219409942627,
           1.1605584621429443,
           1.1953299045562744,
           1.037106990814209,
           0.8267428874969482,
           1.0353450775146484,
           1.021637201309204,
           0.8098665475845337,
           1.0102829933166504
          ],
          [
           0.6296744346618652,
           0.6260457634925842,
           0.32765355706214905,
           0.029055893421173096,
           0.6343140006065369,
           0.32293701171875,
           0,
           0.8235942125320435,
           1.032219648361206,
           1.1605585813522339,
           1.1953299045562744,
           1.037106990814209,
           0.8267431259155273,
           1.0353453159332275,
           1.021637201309204,
           0.8098666667938232,
           1.0102829933166504
          ],
          [
           0.6296744346618652,
           0.6260457634925842,
           0.32765355706214905,
           0.029055893421173096,
           0.6343140006065369,
           0.32293701171875,
           0,
           0.8235942125320435,
           1.032219648361206,
           1.1605585813522339,
           1.1953299045562744,
           1.037106990814209,
           0.8267431259155273,
           1.0353453159332275,
           1.021637201309204,
           0.8098666667938232,
           1.0102829933166504
          ],
          [
           0.6296744346618652,
           0.6260457634925842,
           0.32765355706214905,
           0.029055893421173096,
           0.6343140006065369,
           0.32293701171875,
           0,
           0.8235942125320435,
           1.032219648361206,
           1.1605585813522339,
           1.1953299045562744,
           1.037106990814209,
           0.8267431259155273,
           1.0353453159332275,
           1.021637201309204,
           0.8098666667938232,
           1.0102829933166504
          ],
          [
           0.6296744346618652,
           0.6260457634925842,
           0.32765355706214905,
           0.029055893421173096,
           0.6343140006065369,
           0.32293701171875,
           0,
           0.8235942125320435,
           1.032219648361206,
           1.1605585813522339,
           1.1953299045562744,
           1.037106990814209,
           0.8267431259155273,
           1.0353453159332275,
           1.021637201309204,
           0.8098666667938232,
           1.0102829933166504
          ],
          [
           0.6296744346618652,
           0.6260457634925842,
           0.32765355706214905,
           0.029055893421173096,
           0.6343140006065369,
           0.32293701171875,
           0,
           0.8235942125320435,
           1.032219648361206,
           1.1605585813522339,
           1.1953299045562744,
           1.037106990814209,
           0.8267431259155273,
           1.0353453159332275,
           1.021637201309204,
           0.8098666667938232,
           1.0102829933166504
          ]
         ]
        }
       ],
       "layout": {
        "legend": {
         "tracegroupgap": 0
        },
        "margin": {
         "t": 60
        },
        "scene": {
         "domain": {
          "x": [
           0,
           1
          ],
          "y": [
           0,
           1
          ]
         },
         "xaxis": {
          "title": {
           "text": "x"
          }
         },
         "yaxis": {
          "title": {
           "text": "y"
          }
         },
         "zaxis": {
          "title": {
           "text": "z"
          }
         }
        },
        "template": {
         "data": {
          "bar": [
           {
            "error_x": {
             "color": "#2a3f5f"
            },
            "error_y": {
             "color": "#2a3f5f"
            },
            "marker": {
             "line": {
              "color": "#E5ECF6",
              "width": 0.5
             },
             "pattern": {
              "fillmode": "overlay",
              "size": 10,
              "solidity": 0.2
             }
            },
            "type": "bar"
           }
          ],
          "barpolar": [
           {
            "marker": {
             "line": {
              "color": "#E5ECF6",
              "width": 0.5
             },
             "pattern": {
              "fillmode": "overlay",
              "size": 10,
              "solidity": 0.2
             }
            },
            "type": "barpolar"
           }
          ],
          "carpet": [
           {
            "aaxis": {
             "endlinecolor": "#2a3f5f",
             "gridcolor": "white",
             "linecolor": "white",
             "minorgridcolor": "white",
             "startlinecolor": "#2a3f5f"
            },
            "baxis": {
             "endlinecolor": "#2a3f5f",
             "gridcolor": "white",
             "linecolor": "white",
             "minorgridcolor": "white",
             "startlinecolor": "#2a3f5f"
            },
            "type": "carpet"
           }
          ],
          "choropleth": [
           {
            "colorbar": {
             "outlinewidth": 0,
             "ticks": ""
            },
            "type": "choropleth"
           }
          ],
          "contour": [
           {
            "colorbar": {
             "outlinewidth": 0,
             "ticks": ""
            },
            "colorscale": [
             [
              0,
              "#0d0887"
             ],
             [
              0.1111111111111111,
              "#46039f"
             ],
             [
              0.2222222222222222,
              "#7201a8"
             ],
             [
              0.3333333333333333,
              "#9c179e"
             ],
             [
              0.4444444444444444,
              "#bd3786"
             ],
             [
              0.5555555555555556,
              "#d8576b"
             ],
             [
              0.6666666666666666,
              "#ed7953"
             ],
             [
              0.7777777777777778,
              "#fb9f3a"
             ],
             [
              0.8888888888888888,
              "#fdca26"
             ],
             [
              1,
              "#f0f921"
             ]
            ],
            "type": "contour"
           }
          ],
          "contourcarpet": [
           {
            "colorbar": {
             "outlinewidth": 0,
             "ticks": ""
            },
            "type": "contourcarpet"
           }
          ],
          "heatmap": [
           {
            "colorbar": {
             "outlinewidth": 0,
             "ticks": ""
            },
            "colorscale": [
             [
              0,
              "#0d0887"
             ],
             [
              0.1111111111111111,
              "#46039f"
             ],
             [
              0.2222222222222222,
              "#7201a8"
             ],
             [
              0.3333333333333333,
              "#9c179e"
             ],
             [
              0.4444444444444444,
              "#bd3786"
             ],
             [
              0.5555555555555556,
              "#d8576b"
             ],
             [
              0.6666666666666666,
              "#ed7953"
             ],
             [
              0.7777777777777778,
              "#fb9f3a"
             ],
             [
              0.8888888888888888,
              "#fdca26"
             ],
             [
              1,
              "#f0f921"
             ]
            ],
            "type": "heatmap"
           }
          ],
          "heatmapgl": [
           {
            "colorbar": {
             "outlinewidth": 0,
             "ticks": ""
            },
            "colorscale": [
             [
              0,
              "#0d0887"
             ],
             [
              0.1111111111111111,
              "#46039f"
             ],
             [
              0.2222222222222222,
              "#7201a8"
             ],
             [
              0.3333333333333333,
              "#9c179e"
             ],
             [
              0.4444444444444444,
              "#bd3786"
             ],
             [
              0.5555555555555556,
              "#d8576b"
             ],
             [
              0.6666666666666666,
              "#ed7953"
             ],
             [
              0.7777777777777778,
              "#fb9f3a"
             ],
             [
              0.8888888888888888,
              "#fdca26"
             ],
             [
              1,
              "#f0f921"
             ]
            ],
            "type": "heatmapgl"
           }
          ],
          "histogram": [
           {
            "marker": {
             "pattern": {
              "fillmode": "overlay",
              "size": 10,
              "solidity": 0.2
             }
            },
            "type": "histogram"
           }
          ],
          "histogram2d": [
           {
            "colorbar": {
             "outlinewidth": 0,
             "ticks": ""
            },
            "colorscale": [
             [
              0,
              "#0d0887"
             ],
             [
              0.1111111111111111,
              "#46039f"
             ],
             [
              0.2222222222222222,
              "#7201a8"
             ],
             [
              0.3333333333333333,
              "#9c179e"
             ],
             [
              0.4444444444444444,
              "#bd3786"
             ],
             [
              0.5555555555555556,
              "#d8576b"
             ],
             [
              0.6666666666666666,
              "#ed7953"
             ],
             [
              0.7777777777777778,
              "#fb9f3a"
             ],
             [
              0.8888888888888888,
              "#fdca26"
             ],
             [
              1,
              "#f0f921"
             ]
            ],
            "type": "histogram2d"
           }
          ],
          "histogram2dcontour": [
           {
            "colorbar": {
             "outlinewidth": 0,
             "ticks": ""
            },
            "colorscale": [
             [
              0,
              "#0d0887"
             ],
             [
              0.1111111111111111,
              "#46039f"
             ],
             [
              0.2222222222222222,
              "#7201a8"
             ],
             [
              0.3333333333333333,
              "#9c179e"
             ],
             [
              0.4444444444444444,
              "#bd3786"
             ],
             [
              0.5555555555555556,
              "#d8576b"
             ],
             [
              0.6666666666666666,
              "#ed7953"
             ],
             [
              0.7777777777777778,
              "#fb9f3a"
             ],
             [
              0.8888888888888888,
              "#fdca26"
             ],
             [
              1,
              "#f0f921"
             ]
            ],
            "type": "histogram2dcontour"
           }
          ],
          "mesh3d": [
           {
            "colorbar": {
             "outlinewidth": 0,
             "ticks": ""
            },
            "type": "mesh3d"
           }
          ],
          "parcoords": [
           {
            "line": {
             "colorbar": {
              "outlinewidth": 0,
              "ticks": ""
             }
            },
            "type": "parcoords"
           }
          ],
          "pie": [
           {
            "automargin": true,
            "type": "pie"
           }
          ],
          "scatter": [
           {
            "fillpattern": {
             "fillmode": "overlay",
             "size": 10,
             "solidity": 0.2
            },
            "type": "scatter"
           }
          ],
          "scatter3d": [
           {
            "line": {
             "colorbar": {
              "outlinewidth": 0,
              "ticks": ""
             }
            },
            "marker": {
             "colorbar": {
              "outlinewidth": 0,
              "ticks": ""
             }
            },
            "type": "scatter3d"
           }
          ],
          "scattercarpet": [
           {
            "marker": {
             "colorbar": {
              "outlinewidth": 0,
              "ticks": ""
             }
            },
            "type": "scattercarpet"
           }
          ],
          "scattergeo": [
           {
            "marker": {
             "colorbar": {
              "outlinewidth": 0,
              "ticks": ""
             }
            },
            "type": "scattergeo"
           }
          ],
          "scattergl": [
           {
            "marker": {
             "colorbar": {
              "outlinewidth": 0,
              "ticks": ""
             }
            },
            "type": "scattergl"
           }
          ],
          "scattermapbox": [
           {
            "marker": {
             "colorbar": {
              "outlinewidth": 0,
              "ticks": ""
             }
            },
            "type": "scattermapbox"
           }
          ],
          "scatterpolar": [
           {
            "marker": {
             "colorbar": {
              "outlinewidth": 0,
              "ticks": ""
             }
            },
            "type": "scatterpolar"
           }
          ],
          "scatterpolargl": [
           {
            "marker": {
             "colorbar": {
              "outlinewidth": 0,
              "ticks": ""
             }
            },
            "type": "scatterpolargl"
           }
          ],
          "scatterternary": [
           {
            "marker": {
             "colorbar": {
              "outlinewidth": 0,
              "ticks": ""
             }
            },
            "type": "scatterternary"
           }
          ],
          "surface": [
           {
            "colorbar": {
             "outlinewidth": 0,
             "ticks": ""
            },
            "colorscale": [
             [
              0,
              "#0d0887"
             ],
             [
              0.1111111111111111,
              "#46039f"
             ],
             [
              0.2222222222222222,
              "#7201a8"
             ],
             [
              0.3333333333333333,
              "#9c179e"
             ],
             [
              0.4444444444444444,
              "#bd3786"
             ],
             [
              0.5555555555555556,
              "#d8576b"
             ],
             [
              0.6666666666666666,
              "#ed7953"
             ],
             [
              0.7777777777777778,
              "#fb9f3a"
             ],
             [
              0.8888888888888888,
              "#fdca26"
             ],
             [
              1,
              "#f0f921"
             ]
            ],
            "type": "surface"
           }
          ],
          "table": [
           {
            "cells": {
             "fill": {
              "color": "#EBF0F8"
             },
             "line": {
              "color": "white"
             }
            },
            "header": {
             "fill": {
              "color": "#C8D4E3"
             },
             "line": {
              "color": "white"
             }
            },
            "type": "table"
           }
          ]
         },
         "layout": {
          "annotationdefaults": {
           "arrowcolor": "#2a3f5f",
           "arrowhead": 0,
           "arrowwidth": 1
          },
          "autotypenumbers": "strict",
          "coloraxis": {
           "colorbar": {
            "outlinewidth": 0,
            "ticks": ""
           }
          },
          "colorscale": {
           "diverging": [
            [
             0,
             "#8e0152"
            ],
            [
             0.1,
             "#c51b7d"
            ],
            [
             0.2,
             "#de77ae"
            ],
            [
             0.3,
             "#f1b6da"
            ],
            [
             0.4,
             "#fde0ef"
            ],
            [
             0.5,
             "#f7f7f7"
            ],
            [
             0.6,
             "#e6f5d0"
            ],
            [
             0.7,
             "#b8e186"
            ],
            [
             0.8,
             "#7fbc41"
            ],
            [
             0.9,
             "#4d9221"
            ],
            [
             1,
             "#276419"
            ]
           ],
           "sequential": [
            [
             0,
             "#0d0887"
            ],
            [
             0.1111111111111111,
             "#46039f"
            ],
            [
             0.2222222222222222,
             "#7201a8"
            ],
            [
             0.3333333333333333,
             "#9c179e"
            ],
            [
             0.4444444444444444,
             "#bd3786"
            ],
            [
             0.5555555555555556,
             "#d8576b"
            ],
            [
             0.6666666666666666,
             "#ed7953"
            ],
            [
             0.7777777777777778,
             "#fb9f3a"
            ],
            [
             0.8888888888888888,
             "#fdca26"
            ],
            [
             1,
             "#f0f921"
            ]
           ],
           "sequentialminus": [
            [
             0,
             "#0d0887"
            ],
            [
             0.1111111111111111,
             "#46039f"
            ],
            [
             0.2222222222222222,
             "#7201a8"
            ],
            [
             0.3333333333333333,
             "#9c179e"
            ],
            [
             0.4444444444444444,
             "#bd3786"
            ],
            [
             0.5555555555555556,
             "#d8576b"
            ],
            [
             0.6666666666666666,
             "#ed7953"
            ],
            [
             0.7777777777777778,
             "#fb9f3a"
            ],
            [
             0.8888888888888888,
             "#fdca26"
            ],
            [
             1,
             "#f0f921"
            ]
           ]
          },
          "colorway": [
           "#636efa",
           "#EF553B",
           "#00cc96",
           "#ab63fa",
           "#FFA15A",
           "#19d3f3",
           "#FF6692",
           "#B6E880",
           "#FF97FF",
           "#FECB52"
          ],
          "font": {
           "color": "#2a3f5f"
          },
          "geo": {
           "bgcolor": "white",
           "lakecolor": "white",
           "landcolor": "#E5ECF6",
           "showlakes": true,
           "showland": true,
           "subunitcolor": "white"
          },
          "hoverlabel": {
           "align": "left"
          },
          "hovermode": "closest",
          "mapbox": {
           "style": "light"
          },
          "paper_bgcolor": "white",
          "plot_bgcolor": "#E5ECF6",
          "polar": {
           "angularaxis": {
            "gridcolor": "white",
            "linecolor": "white",
            "ticks": ""
           },
           "bgcolor": "#E5ECF6",
           "radialaxis": {
            "gridcolor": "white",
            "linecolor": "white",
            "ticks": ""
           }
          },
          "scene": {
           "xaxis": {
            "backgroundcolor": "#E5ECF6",
            "gridcolor": "white",
            "gridwidth": 2,
            "linecolor": "white",
            "showbackground": true,
            "ticks": "",
            "zerolinecolor": "white"
           },
           "yaxis": {
            "backgroundcolor": "#E5ECF6",
            "gridcolor": "white",
            "gridwidth": 2,
            "linecolor": "white",
            "showbackground": true,
            "ticks": "",
            "zerolinecolor": "white"
           },
           "zaxis": {
            "backgroundcolor": "#E5ECF6",
            "gridcolor": "white",
            "gridwidth": 2,
            "linecolor": "white",
            "showbackground": true,
            "ticks": "",
            "zerolinecolor": "white"
           }
          },
          "shapedefaults": {
           "line": {
            "color": "#2a3f5f"
           }
          },
          "ternary": {
           "aaxis": {
            "gridcolor": "white",
            "linecolor": "white",
            "ticks": ""
           },
           "baxis": {
            "gridcolor": "white",
            "linecolor": "white",
            "ticks": ""
           },
           "bgcolor": "#E5ECF6",
           "caxis": {
            "gridcolor": "white",
            "linecolor": "white",
            "ticks": ""
           }
          },
          "title": {
           "x": 0.05
          },
          "xaxis": {
           "automargin": true,
           "gridcolor": "white",
           "linecolor": "white",
           "ticks": "",
           "title": {
            "standoff": 15
           },
           "zerolinecolor": "white",
           "zerolinewidth": 2
          },
          "yaxis": {
           "automargin": true,
           "gridcolor": "white",
           "linecolor": "white",
           "ticks": "",
           "title": {
            "standoff": 15
           },
           "zerolinecolor": "white",
           "zerolinewidth": 2
          }
         }
        }
       }
      }
     },
     "metadata": {},
     "output_type": "display_data"
    }
   ],
   "source": [
    "px.scatter_3d(df, x=\"x\", y=\"y\", z=\"z\",  opacity=1)"
   ]
  },
  {
   "cell_type": "code",
   "execution_count": 119,
   "metadata": {},
   "outputs": [],
   "source": [
    "data = px.data.iris()"
   ]
  },
  {
   "cell_type": "code",
   "execution_count": 120,
   "metadata": {},
   "outputs": [
    {
     "data": {
      "text/html": [
       "<div>\n",
       "<style scoped>\n",
       "    .dataframe tbody tr th:only-of-type {\n",
       "        vertical-align: middle;\n",
       "    }\n",
       "\n",
       "    .dataframe tbody tr th {\n",
       "        vertical-align: top;\n",
       "    }\n",
       "\n",
       "    .dataframe thead th {\n",
       "        text-align: right;\n",
       "    }\n",
       "</style>\n",
       "<table border=\"1\" class=\"dataframe\">\n",
       "  <thead>\n",
       "    <tr style=\"text-align: right;\">\n",
       "      <th></th>\n",
       "      <th>sepal_length</th>\n",
       "      <th>sepal_width</th>\n",
       "      <th>petal_length</th>\n",
       "      <th>petal_width</th>\n",
       "      <th>species</th>\n",
       "      <th>species_id</th>\n",
       "    </tr>\n",
       "  </thead>\n",
       "  <tbody>\n",
       "    <tr>\n",
       "      <th>0</th>\n",
       "      <td>5.1</td>\n",
       "      <td>3.5</td>\n",
       "      <td>1.4</td>\n",
       "      <td>0.2</td>\n",
       "      <td>setosa</td>\n",
       "      <td>1</td>\n",
       "    </tr>\n",
       "    <tr>\n",
       "      <th>1</th>\n",
       "      <td>4.9</td>\n",
       "      <td>3.0</td>\n",
       "      <td>1.4</td>\n",
       "      <td>0.2</td>\n",
       "      <td>setosa</td>\n",
       "      <td>1</td>\n",
       "    </tr>\n",
       "    <tr>\n",
       "      <th>2</th>\n",
       "      <td>4.7</td>\n",
       "      <td>3.2</td>\n",
       "      <td>1.3</td>\n",
       "      <td>0.2</td>\n",
       "      <td>setosa</td>\n",
       "      <td>1</td>\n",
       "    </tr>\n",
       "    <tr>\n",
       "      <th>3</th>\n",
       "      <td>4.6</td>\n",
       "      <td>3.1</td>\n",
       "      <td>1.5</td>\n",
       "      <td>0.2</td>\n",
       "      <td>setosa</td>\n",
       "      <td>1</td>\n",
       "    </tr>\n",
       "    <tr>\n",
       "      <th>4</th>\n",
       "      <td>5.0</td>\n",
       "      <td>3.6</td>\n",
       "      <td>1.4</td>\n",
       "      <td>0.2</td>\n",
       "      <td>setosa</td>\n",
       "      <td>1</td>\n",
       "    </tr>\n",
       "    <tr>\n",
       "      <th>...</th>\n",
       "      <td>...</td>\n",
       "      <td>...</td>\n",
       "      <td>...</td>\n",
       "      <td>...</td>\n",
       "      <td>...</td>\n",
       "      <td>...</td>\n",
       "    </tr>\n",
       "    <tr>\n",
       "      <th>145</th>\n",
       "      <td>6.7</td>\n",
       "      <td>3.0</td>\n",
       "      <td>5.2</td>\n",
       "      <td>2.3</td>\n",
       "      <td>virginica</td>\n",
       "      <td>3</td>\n",
       "    </tr>\n",
       "    <tr>\n",
       "      <th>146</th>\n",
       "      <td>6.3</td>\n",
       "      <td>2.5</td>\n",
       "      <td>5.0</td>\n",
       "      <td>1.9</td>\n",
       "      <td>virginica</td>\n",
       "      <td>3</td>\n",
       "    </tr>\n",
       "    <tr>\n",
       "      <th>147</th>\n",
       "      <td>6.5</td>\n",
       "      <td>3.0</td>\n",
       "      <td>5.2</td>\n",
       "      <td>2.0</td>\n",
       "      <td>virginica</td>\n",
       "      <td>3</td>\n",
       "    </tr>\n",
       "    <tr>\n",
       "      <th>148</th>\n",
       "      <td>6.2</td>\n",
       "      <td>3.4</td>\n",
       "      <td>5.4</td>\n",
       "      <td>2.3</td>\n",
       "      <td>virginica</td>\n",
       "      <td>3</td>\n",
       "    </tr>\n",
       "    <tr>\n",
       "      <th>149</th>\n",
       "      <td>5.9</td>\n",
       "      <td>3.0</td>\n",
       "      <td>5.1</td>\n",
       "      <td>1.8</td>\n",
       "      <td>virginica</td>\n",
       "      <td>3</td>\n",
       "    </tr>\n",
       "  </tbody>\n",
       "</table>\n",
       "<p>150 rows × 6 columns</p>\n",
       "</div>"
      ],
      "text/plain": [
       "     sepal_length  sepal_width  petal_length  petal_width    species  \\\n",
       "0             5.1          3.5           1.4          0.2     setosa   \n",
       "1             4.9          3.0           1.4          0.2     setosa   \n",
       "2             4.7          3.2           1.3          0.2     setosa   \n",
       "3             4.6          3.1           1.5          0.2     setosa   \n",
       "4             5.0          3.6           1.4          0.2     setosa   \n",
       "..            ...          ...           ...          ...        ...   \n",
       "145           6.7          3.0           5.2          2.3  virginica   \n",
       "146           6.3          2.5           5.0          1.9  virginica   \n",
       "147           6.5          3.0           5.2          2.0  virginica   \n",
       "148           6.2          3.4           5.4          2.3  virginica   \n",
       "149           5.9          3.0           5.1          1.8  virginica   \n",
       "\n",
       "     species_id  \n",
       "0             1  \n",
       "1             1  \n",
       "2             1  \n",
       "3             1  \n",
       "4             1  \n",
       "..          ...  \n",
       "145           3  \n",
       "146           3  \n",
       "147           3  \n",
       "148           3  \n",
       "149           3  \n",
       "\n",
       "[150 rows x 6 columns]"
      ]
     },
     "execution_count": 120,
     "metadata": {},
     "output_type": "execute_result"
    }
   ],
   "source": [
    "data"
   ]
  },
  {
   "cell_type": "code",
   "execution_count": null,
   "metadata": {},
   "outputs": [],
   "source": []
  }
 ],
 "metadata": {
  "kernelspec": {
   "display_name": "mmpose",
   "language": "python",
   "name": "python3"
  },
  "language_info": {
   "codemirror_mode": {
    "name": "ipython",
    "version": 3
   },
   "file_extension": ".py",
   "mimetype": "text/x-python",
   "name": "python",
   "nbconvert_exporter": "python",
   "pygments_lexer": "ipython3",
   "version": "3.10.13"
  }
 },
 "nbformat": 4,
 "nbformat_minor": 2
}
